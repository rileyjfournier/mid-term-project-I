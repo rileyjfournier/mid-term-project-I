{
 "cells": [
  {
   "cell_type": "markdown",
   "id": "f164fe66-9c42-446c-8e7a-c2c14debc7b0",
   "metadata": {},
   "source": [
    "## ML Modelling"
   ]
  },
  {
   "cell_type": "markdown",
   "id": "9b6cd2fe-cecc-4da8-9d1e-5eb1a871cbe8",
   "metadata": {},
   "source": [
    "### Setup"
   ]
  },
  {
   "cell_type": "code",
   "execution_count": 2,
   "id": "66365279-53e5-4b74-87ca-5d8cc05b4202",
   "metadata": {},
   "outputs": [],
   "source": [
    "import pandas as pd\n",
    "import numpy as np \n",
    "import matplotlib.pyplot as plt  \n",
    "import seaborn as seabornInstance \n",
    "from sklearn.linear_model import LinearRegression\n",
    "from sklearn import metrics"
   ]
  },
  {
   "cell_type": "code",
   "execution_count": 31,
   "id": "50edf30b-492a-40c7-8ee9-4571261320ca",
   "metadata": {},
   "outputs": [],
   "source": [
    "df = pd.read_csv('../final_training.csv')"
   ]
  },
  {
   "cell_type": "code",
   "execution_count": 32,
   "id": "ce43f8a3-c58e-4966-9d5d-66ec0c2dcf1e",
   "metadata": {},
   "outputs": [],
   "source": [
    "# set X & y\n",
    "X = df.drop(columns=['arr_delay'])\n",
    "y = df['arr_delay']"
   ]
  },
  {
   "cell_type": "code",
   "execution_count": 33,
   "id": "5a489eb6-96ef-47b1-88b1-29d231c304eb",
   "metadata": {},
   "outputs": [],
   "source": [
    "from sklearn.model_selection import train_test_split\n",
    "X_train, X_test, y_train, y_test = train_test_split(X, y, test_size = 0.30, random_state = 101)"
   ]
  },
  {
   "cell_type": "code",
   "execution_count": 34,
   "id": "f23c1aa1-4145-45de-9a9c-8c5f4b6921b2",
   "metadata": {},
   "outputs": [],
   "source": [
    "import category_encoders as ce\n",
    "\n",
    "encoder = ce.OrdinalEncoder(cols=['mkt_unique_carrier', 'tail_num', 'branded_code_share'])\n",
    "\n",
    "X_train = encoder.fit_transform(X_train)\n",
    "\n",
    "X_test = encoder.transform(X_test)"
   ]
  },
  {
   "cell_type": "code",
   "execution_count": 8,
   "id": "e3a83574-1d8b-4031-ac07-6adc045d8718",
   "metadata": {},
   "outputs": [
    {
     "name": "stdout",
     "output_type": "stream",
     "text": [
      "<class 'pandas.core.frame.DataFrame'>\n",
      "Int64Index: 109718 entries, 95770 to 136767\n",
      "Data columns (total 24 columns):\n",
      " #   Column                   Non-Null Count   Dtype  \n",
      "---  ------                   --------------   -----  \n",
      " 0   mkt_carrier_fl_num       109718 non-null  int64  \n",
      " 1   origin_airport_id        109718 non-null  int64  \n",
      " 2   dest_airport_id          109718 non-null  int64  \n",
      " 3   crs_dep_time             109718 non-null  int64  \n",
      " 4   crs_arr_time             109718 non-null  int64  \n",
      " 5   crs_elapsed_time         109718 non-null  float64\n",
      " 6   distance                 109718 non-null  float64\n",
      " 7   mkt_unique_carrier       109718 non-null  int64  \n",
      " 8   tail_num                 109718 non-null  int64  \n",
      " 9   branded_code_share       109718 non-null  int64  \n",
      " 10  year                     109718 non-null  int64  \n",
      " 11  month                    109718 non-null  int64  \n",
      " 12  week                     109718 non-null  int64  \n",
      " 13  day                      109718 non-null  int64  \n",
      " 14  day_of_week              109718 non-null  int64  \n",
      " 15  mean_taxi_out/time       109718 non-null  float64\n",
      " 16  mean_taxi_in/time        109718 non-null  float64\n",
      " 17  mean_dep_delay/time      109718 non-null  float64\n",
      " 18  mean_arr_delay/time      109718 non-null  float64\n",
      " 19  mean_dep_delay/distance  109718 non-null  float64\n",
      " 20  mean_arr_delay/distance  109718 non-null  float64\n",
      " 21  mean_dep_delay/carrier   109718 non-null  float64\n",
      " 22  mean_arr_delay/carrier   109718 non-null  float64\n",
      " 23  avg_monthly_pas          109718 non-null  float64\n",
      "dtypes: float64(11), int64(13)\n",
      "memory usage: 20.9 MB\n"
     ]
    }
   ],
   "source": [
    "X_train.info()"
   ]
  },
  {
   "cell_type": "markdown",
   "id": "34c6e612-c17c-43bd-984d-d72228a9dbbf",
   "metadata": {
    "tags": []
   },
   "source": [
    "### Feature Selection / Dimensionality Reduction"
   ]
  },
  {
   "cell_type": "markdown",
   "id": "72e48109-bfdc-47bc-9dc9-8510cc136bdf",
   "metadata": {},
   "source": [
    "We need to apply different selection techniques to find out which one will be the best for our problems.\n",
    "\n",
    "- Original Features vs. PCA conponents?"
   ]
  },
  {
   "cell_type": "code",
   "execution_count": 11,
   "id": "3c9451ac-f634-4324-817a-8368b92e54ad",
   "metadata": {
    "collapsed": true,
    "jupyter": {
     "outputs_hidden": true
    },
    "tags": []
   },
   "outputs": [
    {
     "name": "stdout",
     "output_type": "stream",
     "text": [
      "                              PC0       PC1       PC2       PC3       PC4  \\\n",
      "mkt_carrier_fl_num       0.369200 -0.142755 -0.029148 -0.045325 -0.032557   \n",
      "origin_airport_id       -0.060014  0.026604 -0.022833  0.145050  0.018461   \n",
      "dest_airport_id         -0.092879  0.037042  0.018536 -0.029231  0.057927   \n",
      "crs_dep_time             0.010334  0.008435  0.008475 -0.484692  0.493572   \n",
      "crs_arr_time             0.000849  0.014435  0.011341 -0.497413  0.467652   \n",
      "crs_elapsed_time        -0.549281  0.222595  0.077663 -0.121026 -0.159545   \n",
      "distance                -0.555784  0.224422  0.084193 -0.116740 -0.155497   \n",
      "mkt_unique_carrier      -0.262676  0.068252 -0.055209  0.408011  0.459634   \n",
      "tail_num                -0.103169  0.041364  0.022030 -0.034823 -0.032214   \n",
      "branded_code_share      -0.123152  0.001671 -0.069012  0.420953  0.486471   \n",
      "year                    -0.015714  0.000436  0.011995  0.007767  0.005998   \n",
      "month                    0.057115 -0.045769  0.692357  0.081371  0.054380   \n",
      "week                     0.056840 -0.047013  0.694529  0.078818  0.055335   \n",
      "day                      0.009525  0.012379  0.067010 -0.007575 -0.008185   \n",
      "day_of_week             -0.015853 -0.014880 -0.020763  0.018906  0.039497   \n",
      "mean_taxi_out/time       0.013454  0.022421  0.001428  0.008653 -0.000954   \n",
      "mean_taxi_in/time        0.023585  0.041185  0.010969  0.007551  0.002709   \n",
      "mean_dep_delay/time      0.014817  0.051266 -0.012485  0.021583  0.005025   \n",
      "mean_arr_delay/time      0.023260  0.058272 -0.010145  0.020446  0.000659   \n",
      "mean_dep_delay/distance  0.179687  0.500007  0.021076  0.064317  0.084434   \n",
      "mean_arr_delay/distance  0.177840  0.490865  0.021715  0.066866  0.090381   \n",
      "mean_dep_delay/carrier   0.176936  0.422779  0.001558 -0.020530 -0.072004   \n",
      "mean_arr_delay/carrier   0.187472  0.431138 -0.000520 -0.017868 -0.062717   \n",
      "avg_monthly_pas         -0.083632  0.049958  0.092604 -0.311240 -0.047026   \n",
      "\n",
      "                              PC5       PC6       PC7       PC8       PC9  \\\n",
      "mkt_carrier_fl_num       0.001131  0.008980 -0.157621  0.254172  0.109323   \n",
      "origin_airport_id        0.000513 -0.051973 -0.715540  0.028925 -0.011168   \n",
      "dest_airport_id          0.002724 -0.021760  0.143095  0.273884  0.075577   \n",
      "crs_dep_time             0.013805 -0.040813 -0.110185 -0.026296 -0.004644   \n",
      "crs_arr_time             0.012781 -0.036310 -0.172950 -0.022167 -0.005885   \n",
      "crs_elapsed_time         0.003067  0.013309 -0.115066  0.062817  0.034920   \n",
      "distance                 0.003509  0.012645 -0.121223  0.056359  0.031234   \n",
      "mkt_unique_carrier      -0.009270 -0.108522  0.168715 -0.031098 -0.019316   \n",
      "tail_num                -0.010527 -0.015153 -0.038929 -0.003877  0.038985   \n",
      "branded_code_share      -0.009114 -0.106863  0.108911  0.054126  0.015481   \n",
      "year                    -0.002864  0.016875  0.011196 -0.526815 -0.008238   \n",
      "month                    0.010691 -0.027163 -0.022816  0.001356 -0.003531   \n",
      "week                     0.011003 -0.025874 -0.023586  0.007526 -0.007474   \n",
      "day                      0.007107  0.005094 -0.045683  0.123862 -0.044780   \n",
      "day_of_week             -0.001034  0.017708  0.032596  0.695824  0.218088   \n",
      "mean_taxi_out/time       0.111546  0.018849  0.024742 -0.248366  0.578789   \n",
      "mean_taxi_in/time        0.005553 -0.093654 -0.018248 -0.076248  0.757765   \n",
      "mean_dep_delay/time      0.702078  0.034642  0.002801  0.011435 -0.101452   \n",
      "mean_arr_delay/time      0.696362  0.009872 -0.006015  0.026668  0.002207   \n",
      "mean_dep_delay/distance -0.059682  0.445961 -0.014054  0.006654 -0.003367   \n",
      "mean_arr_delay/distance -0.064220  0.460051 -0.016072  0.007094  0.014380   \n",
      "mean_dep_delay/carrier  -0.021997 -0.525803  0.028150  0.018104 -0.090990   \n",
      "mean_arr_delay/carrier  -0.020758 -0.517964  0.026176  0.002643 -0.010945   \n",
      "avg_monthly_pas          0.011536  0.047518  0.568840  0.038136  0.002300   \n",
      "\n",
      "                         ...      PC14      PC15      PC16      PC17  \\\n",
      "mkt_carrier_fl_num       ... -0.002082  0.661350  0.369612 -0.005439   \n",
      "origin_airport_id        ... -0.028104 -0.428383  0.484505  0.001533   \n",
      "dest_airport_id          ... -0.033263 -0.062359 -0.213737 -0.005130   \n",
      "crs_dep_time             ... -0.003268 -0.008220 -0.059806 -0.001643   \n",
      "crs_arr_time             ... -0.003380  0.026407 -0.067469  0.003553   \n",
      "crs_elapsed_time         ...  0.018407  0.283285  0.029539 -0.000594   \n",
      "distance                 ...  0.016807  0.238618  0.034435  0.000030   \n",
      "mkt_unique_carrier       ... -0.006100 -0.085372 -0.006312  0.004483   \n",
      "tail_num                 ... -0.191634 -0.001462 -0.008452 -0.001188   \n",
      "branded_code_share       ... -0.014498  0.297591  0.261520  0.000983   \n",
      "year                     ...  0.370169 -0.020000  0.056738 -0.000773   \n",
      "month                    ... -0.002744  0.003974 -0.019333  0.000169   \n",
      "week                     ... -0.003503  0.001630 -0.020455  0.000379   \n",
      "day                      ... -0.044174 -0.039377 -0.001974 -0.005318   \n",
      "day_of_week              ...  0.096404 -0.280635 -0.096053  0.001554   \n",
      "mean_taxi_out/time       ... -0.716096 -0.035127  0.003162  0.082864   \n",
      "mean_taxi_in/time        ...  0.518823 -0.020913 -0.011724 -0.157198   \n",
      "mean_dep_delay/time      ... -0.045962  0.001636 -0.000641 -0.698774   \n",
      "mean_arr_delay/time      ...  0.157098  0.008402 -0.005534  0.692460   \n",
      "mean_dep_delay/distance  ...  0.009857  0.002173 -0.001735  0.014298   \n",
      "mean_arr_delay/distance  ...  0.023152  0.007452  0.002796 -0.013395   \n",
      "mean_dep_delay/carrier   ... -0.052072 -0.004076 -0.011416  0.006095   \n",
      "mean_arr_delay/carrier   ... -0.006776  0.007735  0.004936 -0.008972   \n",
      "avg_monthly_pas          ...  0.006406 -0.242497  0.700487  0.002484   \n",
      "\n",
      "                             PC18      PC19      PC20      PC21      PC22  \\\n",
      "mkt_carrier_fl_num       0.036901 -0.352430 -0.022229 -0.000502  0.000212   \n",
      "origin_airport_id        0.016474 -0.009928 -0.000963 -0.000343 -0.001184   \n",
      "dest_airport_id         -0.010538  0.001255  0.005575 -0.000702 -0.000446   \n",
      "crs_dep_time             0.707398  0.035873  0.002535 -0.000141  0.001736   \n",
      "crs_arr_time            -0.702691 -0.029995 -0.005477 -0.000048  0.000337   \n",
      "crs_elapsed_time         0.006263  0.005780  0.002950 -0.001176  0.016208   \n",
      "distance                 0.037284 -0.035868 -0.002228  0.001094 -0.016862   \n",
      "mkt_unique_carrier       0.012210 -0.699718 -0.018191  0.000202  0.003660   \n",
      "tail_num                 0.003170  0.000355  0.000580 -0.000488 -0.000732   \n",
      "branded_code_share      -0.039407  0.614916  0.006968 -0.002039 -0.003198   \n",
      "year                     0.000751 -0.008976 -0.006108  0.004110  0.000486   \n",
      "month                   -0.000138  0.003337  0.000680  0.004608  0.705300   \n",
      "week                     0.000750 -0.002751  0.002063 -0.006494 -0.707153   \n",
      "day                      0.000550 -0.007696 -0.001069  0.003294  0.042895   \n",
      "day_of_week             -0.004650  0.049433  0.005026 -0.000064 -0.000881   \n",
      "mean_taxi_out/time      -0.001744  0.001078 -0.006824  0.005701 -0.001304   \n",
      "mean_taxi_in/time       -0.003356  0.008366 -0.069945  0.000359 -0.000058   \n",
      "mean_dep_delay/time     -0.002817 -0.001047 -0.003408 -0.008968 -0.000325   \n",
      "mean_arr_delay/time      0.002061  0.001299  0.003985  0.013412  0.000193   \n",
      "mean_dep_delay/distance  0.001861  0.005043 -0.200741 -0.679967  0.004650   \n",
      "mean_arr_delay/distance  0.000043 -0.003067  0.183434  0.680338 -0.005748   \n",
      "mean_dep_delay/carrier   0.002440  0.022990 -0.671298  0.200874 -0.003427   \n",
      "mean_arr_delay/carrier  -0.003784 -0.011858  0.685120 -0.184503  0.001047   \n",
      "avg_monthly_pas         -0.029245 -0.032848 -0.005837  0.000882  0.000869   \n",
      "\n",
      "                             PC23  \n",
      "mkt_carrier_fl_num       0.013590  \n",
      "origin_airport_id       -0.018181  \n",
      "dest_airport_id          0.009875  \n",
      "crs_dep_time            -0.015392  \n",
      "crs_arr_time             0.014467  \n",
      "crs_elapsed_time        -0.701527  \n",
      "distance                 0.710434  \n",
      "mkt_unique_carrier      -0.027540  \n",
      "tail_num                 0.000770  \n",
      "branded_code_share       0.025618  \n",
      "year                     0.003522  \n",
      "month                    0.013217  \n",
      "week                    -0.020039  \n",
      "day                      0.000679  \n",
      "day_of_week             -0.002679  \n",
      "mean_taxi_out/time      -0.000517  \n",
      "mean_taxi_in/time       -0.000446  \n",
      "mean_dep_delay/time      0.000083  \n",
      "mean_arr_delay/time     -0.000248  \n",
      "mean_dep_delay/distance  0.000509  \n",
      "mean_arr_delay/distance -0.000585  \n",
      "mean_dep_delay/carrier  -0.001950  \n",
      "mean_arr_delay/carrier   0.003228  \n",
      "avg_monthly_pas         -0.007576  \n",
      "\n",
      "[24 rows x 24 columns]\n"
     ]
    },
    {
     "data": {
      "image/png": "[encoded data removed]",
      "text/plain": [
       "<Figure size 432x288 with 1 Axes>"
      ]
     },
     "metadata": {
      "needs_background": "light"
     },
     "output_type": "display_data"
    }
   ],
   "source": [
    "from sklearn.decomposition import PCA\n",
    "\n",
    "# You must normalize the data before applying the fit method\n",
    "df_normalized=(X_train - X_train.mean()) / X_train.std()\n",
    "pca = PCA(n_components=X_train.shape[1])\n",
    "pca.fit(df_normalized)\n",
    "\n",
    "# Reformat and view results\n",
    "loadings = pd.DataFrame(pca.components_.T,\n",
    "columns=['PC%s' % _ for _ in range(len(df_normalized.columns))],\n",
    "index=X_train.columns)\n",
    "print(loadings)\n",
    "\n",
    "plt.plot(pca.explained_variance_ratio_)\n",
    "plt.ylabel('Explained Variance')\n",
    "plt.xlabel('Components')\n",
    "plt.show()"
   ]
  },
  {
   "cell_type": "code",
   "execution_count": 13,
   "id": "41223c3d-7449-4b49-a4e8-cab3c255f676",
   "metadata": {},
   "outputs": [
    {
     "data": {
      "text/plain": [
       "PCA(n_components=24)"
      ]
     },
     "execution_count": 13,
     "metadata": {},
     "output_type": "execute_result"
    }
   ],
   "source": [
    "pca"
   ]
  },
  {
   "cell_type": "markdown",
   "id": "53c388e9-14a5-4dd3-8337-a49e621ab880",
   "metadata": {},
   "source": [
    "### Modeling"
   ]
  },
  {
   "cell_type": "markdown",
   "id": "35189f88-c176-45b1-998d-3522cb1915d2",
   "metadata": {},
   "source": [
    "I will be using the following models.\n",
    "\n",
    "- Linear regression\n",
    "- Polynomial Regression\n",
    "- Random Forest"
   ]
  },
  {
   "cell_type": "markdown",
   "id": "5434290b-e4fb-4f0d-9b92-7ced864777fe",
   "metadata": {
    "tags": []
   },
   "source": [
    "#### Linear Regression Models Without Scaling"
   ]
  },
  {
   "cell_type": "markdown",
   "id": "935fce4c-2274-45c4-9c55-25d48f7538f7",
   "metadata": {},
   "source": [
    "##### Default Linear Regression"
   ]
  },
  {
   "cell_type": "code",
   "execution_count": 8,
   "id": "cff1e9dd-7f09-486e-a854-d886b625480b",
   "metadata": {},
   "outputs": [],
   "source": [
    "from sklearn.model_selection import cross_val_score\n",
    "\n",
    "# function to get cross validation scores\n",
    "def get_cv_scores(model):\n",
    "    scores = cross_val_score(model,\n",
    "                             X_train,\n",
    "                             y_train,\n",
    "                             cv=5,\n",
    "                             scoring='r2')\n",
    "    \n",
    "    print('CV Mean: ', np.mean(scores))\n",
    "    print('STD: ', np.std(scores))\n",
    "    print('\\n')"
   ]
  },
  {
   "cell_type": "code",
   "execution_count": 10,
   "id": "384ff6d9-901c-4998-b5b6-67eb50adfea7",
   "metadata": {},
   "outputs": [
    {
     "name": "stdout",
     "output_type": "stream",
     "text": [
      "CV Mean:  0.00989977201895933\n",
      "STD:  0.0007983099573922842\n",
      "\n",
      "\n",
      "Mean Absolute Error (MAE): 24.197861503360745\n",
      "Mean Squared Error (MSE): 2472.6383279632582\n",
      "Root Mean Squared Error (RMSE): 49.7256304933709\n",
      "Mean Absolute Percentage Error (MAPE): 516061693570598.56\n",
      "Explained Variance Score: 0.00981433120962294\n",
      "Max Error: 1595.7072694316316\n",
      "Median Absolute Error: 16.196187224145092\n",
      "R^2: 0.009811203780386912\n"
     ]
    }
   ],
   "source": [
    "from sklearn.linear_model import LinearRegression\n",
    "\n",
    "# Train model\n",
    "lr = LinearRegression().fit(X_train, y_train)\n",
    "\n",
    "# predict on test\n",
    "y_pred = lr.predict(X_test)\n",
    "\n",
    "# get cross val scores\n",
    "get_cv_scores(lr)\n",
    "\n",
    "# other metric scores:\n",
    "print('Mean Absolute Error (MAE):', metrics.mean_absolute_error(y_test, y_pred))\n",
    "print('Mean Squared Error (MSE):', metrics.mean_squared_error(y_test, y_pred))\n",
    "print('Root Mean Squared Error (RMSE):', metrics.mean_squared_error(y_test, y_pred, squared=False))\n",
    "print('Mean Absolute Percentage Error (MAPE):', metrics.mean_absolute_percentage_error(y_test, y_pred))\n",
    "print('Explained Variance Score:', metrics.explained_variance_score(y_test, y_pred))\n",
    "print('Max Error:', metrics.max_error(y_test, y_pred))\n",
    "print('Median Absolute Error:', metrics.median_absolute_error(y_test, y_pred))\n",
    "print('R^2:', metrics.r2_score(y_test, y_pred))"
   ]
  },
  {
   "cell_type": "markdown",
   "id": "ed34e5c3-01c8-4387-88e9-fef280afca2f",
   "metadata": {},
   "source": [
    "***"
   ]
  },
  {
   "cell_type": "markdown",
   "id": "49ae6e5b-ac92-4716-8041-43ebad12bbe8",
   "metadata": {},
   "source": [
    "##### Ridge Regression"
   ]
  },
  {
   "cell_type": "code",
   "execution_count": 11,
   "id": "7de41625-49be-4d89-9b8d-136416c10f2f",
   "metadata": {},
   "outputs": [
    {
     "name": "stdout",
     "output_type": "stream",
     "text": [
      "CV Mean:  0.009899774529834282\n",
      "STD:  0.0007983093310328803\n",
      "\n",
      "\n",
      "Mean Absolute Error (MAE): 24.197861437150014\n",
      "Mean Squared Error (MSE): 2472.638320507312\n",
      "Root Mean Squared Error (RMSE): 49.725630418400044\n",
      "Mean Absolute Percentage Error (MAPE): 516061600552009.7\n",
      "Explained Variance Score: 0.00981433419216804\n",
      "Max Error: 1595.7072782735654\n",
      "Median Absolute Error: 16.196176186682806\n",
      "R^2: 0.0098112067661833\n"
     ]
    }
   ],
   "source": [
    "from sklearn.linear_model import Ridge\n",
    "\n",
    "# Train model with default alpha = 1\n",
    "ridge = Ridge(alpha=1).fit(X_train, y_train)\n",
    "\n",
    "# predict on test\n",
    "y_pred = ridge.predict(X_test)\n",
    "\n",
    "# get cross val scores\n",
    "get_cv_scores(ridge)\n",
    "\n",
    "# other metric scores:\n",
    "print('Mean Absolute Error (MAE):', metrics.mean_absolute_error(y_test, y_pred))\n",
    "print('Mean Squared Error (MSE):', metrics.mean_squared_error(y_test, y_pred))\n",
    "print('Root Mean Squared Error (RMSE):', metrics.mean_squared_error(y_test, y_pred, squared=False))\n",
    "print('Mean Absolute Percentage Error (MAPE):', metrics.mean_absolute_percentage_error(y_test, y_pred))\n",
    "print('Explained Variance Score:', metrics.explained_variance_score(y_test, y_pred))\n",
    "print('Max Error:', metrics.max_error(y_test, y_pred))\n",
    "print('Median Absolute Error:', metrics.median_absolute_error(y_test, y_pred))\n",
    "print('R^2:', metrics.r2_score(y_test, y_pred))"
   ]
  },
  {
   "cell_type": "code",
   "execution_count": 28,
   "id": "98a84720-5165-4a48-b7e3-7b66549b3526",
   "metadata": {},
   "outputs": [
    {
     "name": "stdout",
     "output_type": "stream",
     "text": [
      "Fitting 5 folds for each of 7 candidates, totalling 35 fits\n",
      "Best Score:  0.009902146347977325\n",
      "Best Params:  {'alpha': 1000}\n"
     ]
    }
   ],
   "source": [
    "from sklearn.model_selection import GridSearchCV\n",
    "\n",
    "# find optimal alpha with grid search\n",
    "alpha = [0.001, 0.01, 0.1, 1, 10, 100, 1000]\n",
    "param_grid = dict(alpha=alpha)\n",
    "grid = GridSearchCV(estimator=ridge, param_grid=param_grid, scoring='r2', verbose=1, n_jobs=-1)\n",
    "grid_result = grid.fit(X_train, y_train)\n",
    "print('Best Score: ', grid_result.best_score_)\n",
    "print('Best Params: ', grid_result.best_params_)"
   ]
  },
  {
   "cell_type": "code",
   "execution_count": 12,
   "id": "9f97260c-ed3e-46c3-89c7-467c3fb34729",
   "metadata": {},
   "outputs": [
    {
     "name": "stdout",
     "output_type": "stream",
     "text": [
      "CV Mean:  0.009902146347977325\n",
      "STD:  0.0007976584126194733\n",
      "\n",
      "\n",
      "Mean Absolute Error (MAE): 24.19779770259745\n",
      "Mean Squared Error (MSE): 2472.631042659081\n",
      "Root Mean Squared Error (RMSE): 49.72555723829629\n",
      "Mean Absolute Percentage Error (MAPE): 515969773254632.9\n",
      "Explained Variance Score: 0.009817245535657326\n",
      "Max Error: 1595.715847250788\n",
      "Median Absolute Error: 16.19721638745341\n",
      "R^2: 0.009814121241663809\n"
     ]
    }
   ],
   "source": [
    "from sklearn.linear_model import Ridge\n",
    "\n",
    "# Train model with default alpha = 1\n",
    "ridge = Ridge(alpha=1000).fit(X_train, y_train)\n",
    "\n",
    "# predict on test\n",
    "y_pred = ridge.predict(X_test)\n",
    "\n",
    "# get cross val scores\n",
    "get_cv_scores(ridge)\n",
    "\n",
    "# other metric scores:\n",
    "print('Mean Absolute Error (MAE):', metrics.mean_absolute_error(y_test, y_pred))\n",
    "print('Mean Squared Error (MSE):', metrics.mean_squared_error(y_test, y_pred))\n",
    "print('Root Mean Squared Error (RMSE):', metrics.mean_squared_error(y_test, y_pred, squared=False))\n",
    "print('Mean Absolute Percentage Error (MAPE):', metrics.mean_absolute_percentage_error(y_test, y_pred))\n",
    "print('Explained Variance Score:', metrics.explained_variance_score(y_test, y_pred))\n",
    "print('Max Error:', metrics.max_error(y_test, y_pred))\n",
    "print('Median Absolute Error:', metrics.median_absolute_error(y_test, y_pred))\n",
    "print('R^2:', metrics.r2_score(y_test, y_pred))"
   ]
  },
  {
   "cell_type": "markdown",
   "id": "9338f792-4ca3-4a50-83b5-4482c876d9e3",
   "metadata": {},
   "source": [
    "***"
   ]
  },
  {
   "cell_type": "markdown",
   "id": "7cb3b328-d721-4651-914b-87d4dc5b3da1",
   "metadata": {},
   "source": [
    "##### Lasso Regression"
   ]
  },
  {
   "cell_type": "code",
   "execution_count": 14,
   "id": "58697e6d-aecd-432b-850b-f619a12bd6db",
   "metadata": {},
   "outputs": [
    {
     "name": "stdout",
     "output_type": "stream",
     "text": [
      "CV Mean:  0.009941882962259752\n",
      "STD:  0.000771111608103567\n",
      "\n",
      "\n",
      "Mean Absolute Error (MAE): 24.196049235705235\n",
      "Mean Squared Error (MSE): 2472.4509446380503\n",
      "Root Mean Squared Error (RMSE): 49.723746285231265\n",
      "Mean Absolute Percentage Error (MAPE): 514468388704360.6\n",
      "Explained Variance Score: 0.009889289553741132\n",
      "Max Error: 1596.1178524952336\n",
      "Median Absolute Error: 16.224097190835728\n",
      "R^2: 0.009886243007564244\n"
     ]
    }
   ],
   "source": [
    "from sklearn.linear_model import Lasso\n",
    "\n",
    "# Train model with default alpha=1\n",
    "lasso = Lasso(alpha=0.1).fit(X_train, y_train)\n",
    "\n",
    "# predict on test\n",
    "y_pred = lasso.predict(X_test)\n",
    "\n",
    "# get cross val scores\n",
    "get_cv_scores(lasso)\n",
    "\n",
    "# other metric scores:\n",
    "print('Mean Absolute Error (MAE):', metrics.mean_absolute_error(y_test, y_pred))\n",
    "print('Mean Squared Error (MSE):', metrics.mean_squared_error(y_test, y_pred))\n",
    "print('Root Mean Squared Error (RMSE):', metrics.mean_squared_error(y_test, y_pred, squared=False))\n",
    "print('Mean Absolute Percentage Error (MAPE):', metrics.mean_absolute_percentage_error(y_test, y_pred))\n",
    "print('Explained Variance Score:', metrics.explained_variance_score(y_test, y_pred))\n",
    "print('Max Error:', metrics.max_error(y_test, y_pred))\n",
    "print('Median Absolute Error:', metrics.median_absolute_error(y_test, y_pred))\n",
    "print('R^2:', metrics.r2_score(y_test, y_pred))"
   ]
  },
  {
   "cell_type": "code",
   "execution_count": 30,
   "id": "d637e892-07a1-4566-813c-78cdb77eb4c5",
   "metadata": {},
   "outputs": [
    {
     "name": "stdout",
     "output_type": "stream",
     "text": [
      "Fitting 5 folds for each of 7 candidates, totalling 35 fits\n",
      "Best Score:  0.009941882962259752\n",
      "Best Params:  {'alpha': 0.1}\n"
     ]
    }
   ],
   "source": [
    "# find optimal alpha with grid search\n",
    "alpha = [0.001, 0.01, 0.1, 1, 10, 100, 1000]\n",
    "param_grid = dict(alpha=alpha)\n",
    "grid = GridSearchCV(estimator=lasso, param_grid=param_grid, scoring='r2', verbose=1, n_jobs=-1)\n",
    "grid_result = grid.fit(X_train, y_train)\n",
    "print('Best Score: ', grid_result.best_score_)\n",
    "print('Best Params: ', grid_result.best_params_)"
   ]
  },
  {
   "cell_type": "markdown",
   "id": "c652a081-4a06-4255-b3a3-bce42f4bd2dd",
   "metadata": {},
   "source": [
    "***"
   ]
  },
  {
   "cell_type": "markdown",
   "id": "71ace4e4-835a-40d7-9d2b-73d700d63ef8",
   "metadata": {},
   "source": [
    "##### Elastic Net"
   ]
  },
  {
   "cell_type": "code",
   "execution_count": 37,
   "id": "8a966b8a-5628-4ba1-bf43-f3feb8eed866",
   "metadata": {
    "tags": []
   },
   "outputs": [
    {
     "name": "stdout",
     "output_type": "stream",
     "text": [
      "Test - Root Mean Squared Error (RMSE): 49.723746285231265\n",
      "Test - R^2: 0.009886243007564244\n",
      "Train - Root Mean Squared Error (RMSE): 47.37090680919174\n",
      "Train - R^2: 0.010430007765523275\n"
     ]
    }
   ],
   "source": [
    "from sklearn.linear_model import ElasticNet\n",
    "\n",
    "# Train model with default alpha=1 and l1_ratio=0.5\n",
    "elastic_net = ElasticNet(alpha=0.1, l1_ratio=1).fit(X_train, y_train)\n",
    "\n",
    "# predict on train\n",
    "y_pred_train = elastic_net.predict(X_train)\n",
    "\n",
    "# predict on test\n",
    "y_pred_test = elastic_net.predict(X_test)\n",
    "\n",
    "# other metric scores:\n",
    "print('Test - Root Mean Squared Error (RMSE):', metrics.mean_squared_error(y_test, y_pred_test, squared=False))\n",
    "print('Test - R^2:', metrics.r2_score(y_test, y_pred_test))\n",
    "print('Train - Root Mean Squared Error (RMSE):', metrics.mean_squared_error(y_train, y_pred_train, squared=False))\n",
    "print('Train - R^2:', metrics.r2_score(y_train, y_pred_train))"
   ]
  },
  {
   "cell_type": "code",
   "execution_count": 33,
   "id": "5ff7e09e-1133-4084-9197-70b1c9eb9239",
   "metadata": {},
   "outputs": [
    {
     "name": "stdout",
     "output_type": "stream",
     "text": [
      "Fitting 5 folds for each of 77 candidates, totalling 385 fits\n",
      "Best Score:  0.009941882962259752\n",
      "Best Params:  {'alpha': 0.1, 'l1_ratio': 1}\n"
     ]
    }
   ],
   "source": [
    "# find optimal alpha with grid search\n",
    "alpha = [0.001, 0.01, 0.1, 1, 10, 100, 1000]\n",
    "l1_ratio = [0, 0.1, 0.2, 0.3, 0.4, 0.5, 0.6, 0.7, 0.8, 0.9, 1]\n",
    "param_grid = dict(alpha=alpha, l1_ratio=l1_ratio)\n",
    "grid = GridSearchCV(estimator=elastic_net, param_grid=param_grid, scoring='r2', verbose=1, n_jobs=-1)\n",
    "grid_result = grid.fit(X_train, y_train)\n",
    "print('Best Score: ', grid_result.best_score_)\n",
    "print('Best Params: ', grid_result.best_params_)"
   ]
  },
  {
   "cell_type": "markdown",
   "id": "60010544-960a-4bc2-b9e8-eb433c25063a",
   "metadata": {},
   "source": [
    "***"
   ]
  },
  {
   "cell_type": "markdown",
   "id": "7121a10e-a1f0-42b5-8c20-7eb0af585228",
   "metadata": {
    "tags": []
   },
   "source": [
    "#### Linear Regression Models With Scaling"
   ]
  },
  {
   "cell_type": "code",
   "execution_count": 2,
   "id": "c131fa95-6381-4142-b74f-fe3a4f88a6d8",
   "metadata": {},
   "outputs": [],
   "source": [
    "df = pd.read_csv('../final_training.csv')"
   ]
  },
  {
   "cell_type": "code",
   "execution_count": 3,
   "id": "4db1ff04-1af9-428d-aec2-32c5dc6577ea",
   "metadata": {},
   "outputs": [],
   "source": [
    "# set X & y\n",
    "X = df.drop(columns=['arr_delay'])\n",
    "y = df['arr_delay']"
   ]
  },
  {
   "cell_type": "code",
   "execution_count": 4,
   "id": "da91bb0d-a63c-47bf-bc5c-828c9ba0f593",
   "metadata": {},
   "outputs": [],
   "source": [
    "from sklearn.model_selection import train_test_split\n",
    "X_train, X_test, y_train, y_test = train_test_split(X, y, test_size = 0.30, random_state = 101)"
   ]
  },
  {
   "cell_type": "code",
   "execution_count": 5,
   "id": "761b2554-5128-48ff-86c0-09c1b2ad8187",
   "metadata": {},
   "outputs": [],
   "source": [
    "import category_encoders as ce\n",
    "\n",
    "encoder = ce.OrdinalEncoder(cols=['mkt_unique_carrier', 'tail_num', 'branded_code_share'])\n",
    "\n",
    "X_train = encoder.fit_transform(X_train)\n",
    "\n",
    "X_test = encoder.transform(X_test)"
   ]
  },
  {
   "cell_type": "code",
   "execution_count": 6,
   "id": "fa9eb578-9853-4951-8dc6-584b59606c8d",
   "metadata": {},
   "outputs": [],
   "source": [
    "from sklearn.preprocessing import StandardScaler\n",
    "scaler = StandardScaler()\n",
    "X_train = scaler.fit_transform(X_train)\n",
    "X_test = scaler.fit_transform(X_test)"
   ]
  },
  {
   "cell_type": "markdown",
   "id": "a42c8129-b842-4af5-a818-936b70ee9562",
   "metadata": {},
   "source": [
    "##### Default Linear Regression"
   ]
  },
  {
   "cell_type": "code",
   "execution_count": 7,
   "id": "2121466a-be1c-49fe-932e-187ce60be9ba",
   "metadata": {},
   "outputs": [],
   "source": [
    "from sklearn.model_selection import cross_val_score\n",
    "\n",
    "# function to get cross validation scores\n",
    "def get_cv_scores(model):\n",
    "    scores = cross_val_score(model,\n",
    "                             X_train,\n",
    "                             y_train,\n",
    "                             cv=5,\n",
    "                             scoring='r2')\n",
    "    \n",
    "    print('CV Mean: ', np.mean(scores))\n",
    "    print('STD: ', np.std(scores))\n",
    "    print('\\n')"
   ]
  },
  {
   "cell_type": "code",
   "execution_count": 8,
   "id": "e404c8d6-0a43-46d5-98f9-fb9d75c20ca5",
   "metadata": {},
   "outputs": [
    {
     "name": "stdout",
     "output_type": "stream",
     "text": [
      "CV Mean:  0.00989977201895933\n",
      "STD:  0.0007983099573922737\n",
      "\n",
      "\n"
     ]
    }
   ],
   "source": [
    "from sklearn.linear_model import LinearRegression\n",
    "\n",
    "# Train model\n",
    "lr = LinearRegression().fit(X_train, y_train)\n",
    "\n",
    "# get cross val scores\n",
    "get_cv_scores(lr)"
   ]
  },
  {
   "cell_type": "markdown",
   "id": "927a433d-9cc6-4d63-8515-401001e60a6d",
   "metadata": {},
   "source": [
    "***"
   ]
  },
  {
   "cell_type": "markdown",
   "id": "a9a32d11-645a-44f1-9e9c-2db479dd7dea",
   "metadata": {},
   "source": [
    "##### Ridge Regression"
   ]
  },
  {
   "cell_type": "code",
   "execution_count": 9,
   "id": "5d6d6df6-a332-47a4-96a9-d1b6e1e96c6f",
   "metadata": {},
   "outputs": [
    {
     "name": "stdout",
     "output_type": "stream",
     "text": [
      "CV Mean:  0.009899835372126686\n",
      "STD:  0.000798289985513629\n",
      "\n",
      "\n"
     ]
    }
   ],
   "source": [
    "from sklearn.linear_model import Ridge\n",
    "\n",
    "# Train model with default alpha = 1\n",
    "ridge = Ridge(alpha=1).fit(X_train, y_train)\n",
    "\n",
    "# get cross val scores\n",
    "get_cv_scores(ridge)"
   ]
  },
  {
   "cell_type": "code",
   "execution_count": 10,
   "id": "d32beb78-aefd-449c-89b4-427ee0e30596",
   "metadata": {},
   "outputs": [
    {
     "name": "stdout",
     "output_type": "stream",
     "text": [
      "Fitting 5 folds for each of 7 candidates, totalling 35 fits\n",
      "Best Score:  0.009939153849484428\n",
      "Best Params:  {'alpha': 1000}\n"
     ]
    }
   ],
   "source": [
    "from sklearn.model_selection import GridSearchCV\n",
    "\n",
    "# find optimal alpha with grid search\n",
    "alpha = [0.001, 0.01, 0.1, 1, 10, 100, 1000]\n",
    "param_grid = dict(alpha=alpha)\n",
    "grid = GridSearchCV(estimator=ridge, param_grid=param_grid, scoring='r2', verbose=1, n_jobs=-1)\n",
    "grid_result = grid.fit(X_train, y_train)\n",
    "print('Best Score: ', grid_result.best_score_)\n",
    "print('Best Params: ', grid_result.best_params_)"
   ]
  },
  {
   "cell_type": "markdown",
   "id": "ed7cf9cb-3737-481a-bed9-38be3a480f3e",
   "metadata": {},
   "source": [
    "***"
   ]
  },
  {
   "cell_type": "markdown",
   "id": "6a675424-9a16-4d15-b470-a29467e9566e",
   "metadata": {},
   "source": [
    "##### Lasso Regression"
   ]
  },
  {
   "cell_type": "code",
   "execution_count": 47,
   "id": "3417b176-4c15-4cd5-b4fc-4e8b2396a701",
   "metadata": {},
   "outputs": [
    {
     "name": "stdout",
     "output_type": "stream",
     "text": [
      "CV Mean:  0.008578163906967196\n",
      "STD:  0.000473566269171454\n",
      "\n",
      "\n"
     ]
    }
   ],
   "source": [
    "from sklearn.linear_model import Lasso\n",
    "\n",
    "# Train model with default alpha=1\n",
    "lasso = Lasso(alpha=1).fit(X_train, y_train)\n",
    "\n",
    "# get cross val scores\n",
    "get_cv_scores(lasso)"
   ]
  },
  {
   "cell_type": "code",
   "execution_count": 48,
   "id": "8ffac51e-30b0-4d35-a66a-7c7a53edb521",
   "metadata": {},
   "outputs": [
    {
     "name": "stdout",
     "output_type": "stream",
     "text": [
      "Fitting 5 folds for each of 7 candidates, totalling 35 fits\n",
      "Best Score:  0.009959448394709436\n",
      "Best Params:  {'alpha': 0.01}\n"
     ]
    }
   ],
   "source": [
    "# find optimal alpha with grid search\n",
    "alpha = [0.001, 0.01, 0.1, 1, 10, 100, 1000]\n",
    "param_grid = dict(alpha=alpha)\n",
    "grid = GridSearchCV(estimator=lasso, param_grid=param_grid, scoring='r2', verbose=1, n_jobs=-1)\n",
    "grid_result = grid.fit(X_train, y_train)\n",
    "print('Best Score: ', grid_result.best_score_)\n",
    "print('Best Params: ', grid_result.best_params_)"
   ]
  },
  {
   "cell_type": "code",
   "execution_count": 38,
   "id": "0de87e85-27d5-45dd-bd0c-d8969e4897c2",
   "metadata": {},
   "outputs": [
    {
     "name": "stdout",
     "output_type": "stream",
     "text": [
      "Test - Root Mean Squared Error (RMSE): 49.72535530918459\n",
      "Test - R^2: 0.009822163261101635\n",
      "Train - Root Mean Squared Error (RMSE): 47.370118942950334\n",
      "Train - R^2: 0.010462924268896279\n"
     ]
    }
   ],
   "source": [
    "from sklearn.linear_model import Lasso\n",
    "\n",
    "# Train model with default alpha=1\n",
    "lasso = Lasso(alpha=0.01).fit(X_train, y_train)\n",
    "\n",
    "# predict on train\n",
    "y_pred_train = lasso.predict(X_train)\n",
    "\n",
    "# predict on test\n",
    "y_pred_test = lasso.predict(X_test)\n",
    "\n",
    "# other metric scores:\n",
    "print('Test - Root Mean Squared Error (RMSE):', metrics.mean_squared_error(y_test, y_pred_test, squared=False))\n",
    "print('Test - R^2:', metrics.r2_score(y_test, y_pred_test))\n",
    "print('Train - Root Mean Squared Error (RMSE):', metrics.mean_squared_error(y_train, y_pred_train, squared=False))\n",
    "print('Train - R^2:', metrics.r2_score(y_train, y_pred_train))"
   ]
  },
  {
   "cell_type": "markdown",
   "id": "a8e42797-9ce0-48cc-b40f-1ace5ea3e299",
   "metadata": {},
   "source": [
    "***"
   ]
  },
  {
   "cell_type": "markdown",
   "id": "78cf25fe-7503-4670-831b-fffee8be4d37",
   "metadata": {},
   "source": [
    "##### Elastic Net"
   ]
  },
  {
   "cell_type": "code",
   "execution_count": 49,
   "id": "2b38092c-8725-4e1d-bd4e-7c98f54d1525",
   "metadata": {},
   "outputs": [
    {
     "name": "stdout",
     "output_type": "stream",
     "text": [
      "CV Mean:  0.008409071527911548\n",
      "STD:  0.00041436269477327834\n",
      "\n",
      "\n"
     ]
    }
   ],
   "source": [
    "from sklearn.linear_model import ElasticNet\n",
    "\n",
    "# Train model with default alpha=1 and l1_ratio=0.5\n",
    "elastic_net = ElasticNet(alpha=1, l1_ratio=0.5).fit(X_train, y_train)\n",
    "\n",
    "# get cross val scores\n",
    "get_cv_scores(elastic_net)"
   ]
  },
  {
   "cell_type": "code",
   "execution_count": 50,
   "id": "2e120bf3-6a68-41ec-b7f1-8f64d304d01d",
   "metadata": {
    "collapsed": true,
    "jupyter": {
     "outputs_hidden": true
    },
    "tags": []
   },
   "outputs": [
    {
     "name": "stdout",
     "output_type": "stream",
     "text": [
      "Fitting 5 folds for each of 77 candidates, totalling 385 fits\n",
      "Best Score:  0.009959448394709436\n",
      "Best Params:  {'alpha': 0.01, 'l1_ratio': 1}\n"
     ]
    },
    {
     "name": "stderr",
     "output_type": "stream",
     "text": [
      "/opt/homebrew/Caskroom/miniforge/base/envs/base_env/lib/python3.8/site-packages/sklearn/linear_model/_coordinate_descent.py:647: ConvergenceWarning: Objective did not converge. You might want to increase the number of iterations, check the scale of the features or consider increasing regularisation. Duality gap: 9.877e+07, tolerance: 1.988e+04 Linear regression models with null weight for the l1 regularization term are more efficiently fitted using one of the solvers implemented in sklearn.linear_model.Ridge/RidgeCV instead.\n",
      "  model = cd_fast.enet_coordinate_descent(\n",
      "/opt/homebrew/Caskroom/miniforge/base/envs/base_env/lib/python3.8/site-packages/sklearn/linear_model/_coordinate_descent.py:647: ConvergenceWarning: Objective did not converge. You might want to increase the number of iterations, check the scale of the features or consider increasing regularisation. Duality gap: 1.016e+08, tolerance: 2.032e+04 Linear regression models with null weight for the l1 regularization term are more efficiently fitted using one of the solvers implemented in sklearn.linear_model.Ridge/RidgeCV instead.\n",
      "  model = cd_fast.enet_coordinate_descent(\n",
      "/opt/homebrew/Caskroom/miniforge/base/envs/base_env/lib/python3.8/site-packages/sklearn/linear_model/_coordinate_descent.py:647: ConvergenceWarning: Objective did not converge. You might want to increase the number of iterations, check the scale of the features or consider increasing regularisation. Duality gap: 1.005e+08, tolerance: 2.032e+04 Linear regression models with null weight for the l1 regularization term are more efficiently fitted using one of the solvers implemented in sklearn.linear_model.Ridge/RidgeCV instead.\n",
      "  model = cd_fast.enet_coordinate_descent(\n",
      "/opt/homebrew/Caskroom/miniforge/base/envs/base_env/lib/python3.8/site-packages/sklearn/linear_model/_coordinate_descent.py:647: ConvergenceWarning: Objective did not converge. You might want to increase the number of iterations, check the scale of the features or consider increasing regularisation. Duality gap: 9.970e+07, tolerance: 2.015e+04 Linear regression models with null weight for the l1 regularization term are more efficiently fitted using one of the solvers implemented in sklearn.linear_model.Ridge/RidgeCV instead.\n",
      "  model = cd_fast.enet_coordinate_descent(\n",
      "/opt/homebrew/Caskroom/miniforge/base/envs/base_env/lib/python3.8/site-packages/sklearn/linear_model/_coordinate_descent.py:647: ConvergenceWarning: Objective did not converge. You might want to increase the number of iterations, check the scale of the features or consider increasing regularisation. Duality gap: 1.006e+08, tolerance: 2.032e+04 Linear regression models with null weight for the l1 regularization term are more efficiently fitted using one of the solvers implemented in sklearn.linear_model.Ridge/RidgeCV instead.\n",
      "  model = cd_fast.enet_coordinate_descent(\n",
      "/opt/homebrew/Caskroom/miniforge/base/envs/base_env/lib/python3.8/site-packages/sklearn/linear_model/_coordinate_descent.py:647: ConvergenceWarning: Objective did not converge. You might want to increase the number of iterations, check the scale of the features or consider increasing regularisation. Duality gap: 9.750e+07, tolerance: 1.953e+04 Linear regression models with null weight for the l1 regularization term are more efficiently fitted using one of the solvers implemented in sklearn.linear_model.Ridge/RidgeCV instead.\n",
      "  model = cd_fast.enet_coordinate_descent(\n",
      "/opt/homebrew/Caskroom/miniforge/base/envs/base_env/lib/python3.8/site-packages/sklearn/linear_model/_coordinate_descent.py:647: ConvergenceWarning: Objective did not converge. You might want to increase the number of iterations, check the scale of the features or consider increasing regularisation. Duality gap: 1.007e+08, tolerance: 2.015e+04 Linear regression models with null weight for the l1 regularization term are more efficiently fitted using one of the solvers implemented in sklearn.linear_model.Ridge/RidgeCV instead.\n",
      "  model = cd_fast.enet_coordinate_descent(\n",
      "/opt/homebrew/Caskroom/miniforge/base/envs/base_env/lib/python3.8/site-packages/sklearn/linear_model/_coordinate_descent.py:647: ConvergenceWarning: Objective did not converge. You might want to increase the number of iterations, check the scale of the features or consider increasing regularisation. Duality gap: 9.716e+07, tolerance: 1.964e+04 Linear regression models with null weight for the l1 regularization term are more efficiently fitted using one of the solvers implemented in sklearn.linear_model.Ridge/RidgeCV instead.\n",
      "  model = cd_fast.enet_coordinate_descent(\n",
      "/opt/homebrew/Caskroom/miniforge/base/envs/base_env/lib/python3.8/site-packages/sklearn/linear_model/_coordinate_descent.py:647: ConvergenceWarning: Objective did not converge. You might want to increase the number of iterations, check the scale of the features or consider increasing regularisation. Duality gap: 9.837e+07, tolerance: 1.988e+04 Linear regression models with null weight for the l1 regularization term are more efficiently fitted using one of the solvers implemented in sklearn.linear_model.Ridge/RidgeCV instead.\n",
      "  model = cd_fast.enet_coordinate_descent(\n",
      "/opt/homebrew/Caskroom/miniforge/base/envs/base_env/lib/python3.8/site-packages/sklearn/linear_model/_coordinate_descent.py:647: ConvergenceWarning: Objective did not converge. You might want to increase the number of iterations, check the scale of the features or consider increasing regularisation. Duality gap: 9.723e+07, tolerance: 1.964e+04 Linear regression models with null weight for the l1 regularization term are more efficiently fitted using one of the solvers implemented in sklearn.linear_model.Ridge/RidgeCV instead.\n",
      "  model = cd_fast.enet_coordinate_descent(\n",
      "/opt/homebrew/Caskroom/miniforge/base/envs/base_env/lib/python3.8/site-packages/sklearn/linear_model/_coordinate_descent.py:647: ConvergenceWarning: Objective did not converge. You might want to increase the number of iterations, check the scale of the features or consider increasing regularisation. Duality gap: 1.015e+08, tolerance: 2.032e+04 Linear regression models with null weight for the l1 regularization term are more efficiently fitted using one of the solvers implemented in sklearn.linear_model.Ridge/RidgeCV instead.\n",
      "  model = cd_fast.enet_coordinate_descent(\n",
      "/opt/homebrew/Caskroom/miniforge/base/envs/base_env/lib/python3.8/site-packages/sklearn/linear_model/_coordinate_descent.py:647: ConvergenceWarning: Objective did not converge. You might want to increase the number of iterations, check the scale of the features or consider increasing regularisation. Duality gap: 9.819e+07, tolerance: 1.964e+04 Linear regression models with null weight for the l1 regularization term are more efficiently fitted using one of the solvers implemented in sklearn.linear_model.Ridge/RidgeCV instead.\n",
      "  model = cd_fast.enet_coordinate_descent(\n",
      "/opt/homebrew/Caskroom/miniforge/base/envs/base_env/lib/python3.8/site-packages/sklearn/linear_model/_coordinate_descent.py:647: ConvergenceWarning: Objective did not converge. You might want to increase the number of iterations, check the scale of the features or consider increasing regularisation. Duality gap: 9.969e+07, tolerance: 2.015e+04 Linear regression models with null weight for the l1 regularization term are more efficiently fitted using one of the solvers implemented in sklearn.linear_model.Ridge/RidgeCV instead.\n",
      "  model = cd_fast.enet_coordinate_descent(\n",
      "/opt/homebrew/Caskroom/miniforge/base/envs/base_env/lib/python3.8/site-packages/sklearn/linear_model/_coordinate_descent.py:647: ConvergenceWarning: Objective did not converge. You might want to increase the number of iterations, check the scale of the features or consider increasing regularisation. Duality gap: 1.005e+08, tolerance: 2.032e+04 Linear regression models with null weight for the l1 regularization term are more efficiently fitted using one of the solvers implemented in sklearn.linear_model.Ridge/RidgeCV instead.\n",
      "  model = cd_fast.enet_coordinate_descent(\n",
      "/opt/homebrew/Caskroom/miniforge/base/envs/base_env/lib/python3.8/site-packages/sklearn/linear_model/_coordinate_descent.py:647: ConvergenceWarning: Objective did not converge. You might want to increase the number of iterations, check the scale of the features or consider increasing regularisation. Duality gap: 9.703e+07, tolerance: 1.953e+04 Linear regression models with null weight for the l1 regularization term are more efficiently fitted using one of the solvers implemented in sklearn.linear_model.Ridge/RidgeCV instead.\n",
      "  model = cd_fast.enet_coordinate_descent(\n",
      "/opt/homebrew/Caskroom/miniforge/base/envs/base_env/lib/python3.8/site-packages/sklearn/linear_model/_coordinate_descent.py:647: ConvergenceWarning: Objective did not converge. You might want to increase the number of iterations, check the scale of the features or consider increasing regularisation. Duality gap: 1.006e+08, tolerance: 2.015e+04 Linear regression models with null weight for the l1 regularization term are more efficiently fitted using one of the solvers implemented in sklearn.linear_model.Ridge/RidgeCV instead.\n",
      "  model = cd_fast.enet_coordinate_descent(\n",
      "/opt/homebrew/Caskroom/miniforge/base/envs/base_env/lib/python3.8/site-packages/sklearn/linear_model/_coordinate_descent.py:647: ConvergenceWarning: Objective did not converge. You might want to increase the number of iterations, check the scale of the features or consider increasing regularisation. Duality gap: 9.764e+07, tolerance: 1.953e+04 Linear regression models with null weight for the l1 regularization term are more efficiently fitted using one of the solvers implemented in sklearn.linear_model.Ridge/RidgeCV instead.\n",
      "  model = cd_fast.enet_coordinate_descent(\n",
      "/opt/homebrew/Caskroom/miniforge/base/envs/base_env/lib/python3.8/site-packages/sklearn/linear_model/_coordinate_descent.py:647: ConvergenceWarning: Objective did not converge. You might want to increase the number of iterations, check the scale of the features or consider increasing regularisation. Duality gap: 9.663e+07, tolerance: 1.953e+04 Linear regression models with null weight for the l1 regularization term are more efficiently fitted using one of the solvers implemented in sklearn.linear_model.Ridge/RidgeCV instead.\n",
      "  model = cd_fast.enet_coordinate_descent(\n",
      "/opt/homebrew/Caskroom/miniforge/base/envs/base_env/lib/python3.8/site-packages/sklearn/linear_model/_coordinate_descent.py:647: ConvergenceWarning: Objective did not converge. You might want to increase the number of iterations, check the scale of the features or consider increasing regularisation. Duality gap: 9.664e+07, tolerance: 1.953e+04 Linear regression models with null weight for the l1 regularization term are more efficiently fitted using one of the solvers implemented in sklearn.linear_model.Ridge/RidgeCV instead.\n",
      "  model = cd_fast.enet_coordinate_descent(\n",
      "/opt/homebrew/Caskroom/miniforge/base/envs/base_env/lib/python3.8/site-packages/sklearn/linear_model/_coordinate_descent.py:647: ConvergenceWarning: Objective did not converge. You might want to increase the number of iterations, check the scale of the features or consider increasing regularisation. Duality gap: 9.976e+07, tolerance: 2.015e+04 Linear regression models with null weight for the l1 regularization term are more efficiently fitted using one of the solvers implemented in sklearn.linear_model.Ridge/RidgeCV instead.\n",
      "  model = cd_fast.enet_coordinate_descent(\n",
      "/opt/homebrew/Caskroom/miniforge/base/envs/base_env/lib/python3.8/site-packages/sklearn/linear_model/_coordinate_descent.py:647: ConvergenceWarning: Objective did not converge. You might want to increase the number of iterations, check the scale of the features or consider increasing regularisation. Duality gap: 9.924e+07, tolerance: 1.988e+04 Linear regression models with null weight for the l1 regularization term are more efficiently fitted using one of the solvers implemented in sklearn.linear_model.Ridge/RidgeCV instead.\n",
      "  model = cd_fast.enet_coordinate_descent(\n",
      "/opt/homebrew/Caskroom/miniforge/base/envs/base_env/lib/python3.8/site-packages/sklearn/linear_model/_coordinate_descent.py:647: ConvergenceWarning: Objective did not converge. You might want to increase the number of iterations, check the scale of the features or consider increasing regularisation. Duality gap: 9.938e+07, tolerance: 1.988e+04 Linear regression models with null weight for the l1 regularization term are more efficiently fitted using one of the solvers implemented in sklearn.linear_model.Ridge/RidgeCV instead.\n",
      "  model = cd_fast.enet_coordinate_descent(\n",
      "/opt/homebrew/Caskroom/miniforge/base/envs/base_env/lib/python3.8/site-packages/sklearn/linear_model/_coordinate_descent.py:647: ConvergenceWarning: Objective did not converge. You might want to increase the number of iterations, check the scale of the features or consider increasing regularisation. Duality gap: 1.010e+08, tolerance: 2.032e+04 Linear regression models with null weight for the l1 regularization term are more efficiently fitted using one of the solvers implemented in sklearn.linear_model.Ridge/RidgeCV instead.\n",
      "  model = cd_fast.enet_coordinate_descent(\n",
      "/opt/homebrew/Caskroom/miniforge/base/envs/base_env/lib/python3.8/site-packages/sklearn/linear_model/_coordinate_descent.py:647: ConvergenceWarning: Objective did not converge. You might want to increase the number of iterations, check the scale of the features or consider increasing regularisation. Duality gap: 9.807e+07, tolerance: 1.964e+04 Linear regression models with null weight for the l1 regularization term are more efficiently fitted using one of the solvers implemented in sklearn.linear_model.Ridge/RidgeCV instead.\n",
      "  model = cd_fast.enet_coordinate_descent(\n",
      "/opt/homebrew/Caskroom/miniforge/base/envs/base_env/lib/python3.8/site-packages/sklearn/linear_model/_coordinate_descent.py:647: ConvergenceWarning: Objective did not converge. You might want to increase the number of iterations, check the scale of the features or consider increasing regularisation. Duality gap: 1.016e+08, tolerance: 2.032e+04 Linear regression models with null weight for the l1 regularization term are more efficiently fitted using one of the solvers implemented in sklearn.linear_model.Ridge/RidgeCV instead.\n",
      "  model = cd_fast.enet_coordinate_descent(\n",
      "/opt/homebrew/Caskroom/miniforge/base/envs/base_env/lib/python3.8/site-packages/sklearn/linear_model/_coordinate_descent.py:647: ConvergenceWarning: Objective did not converge. You might want to increase the number of iterations, check the scale of the features or consider increasing regularisation. Duality gap: 9.836e+07, tolerance: 1.988e+04 Linear regression models with null weight for the l1 regularization term are more efficiently fitted using one of the solvers implemented in sklearn.linear_model.Ridge/RidgeCV instead.\n",
      "  model = cd_fast.enet_coordinate_descent(\n",
      "/opt/homebrew/Caskroom/miniforge/base/envs/base_env/lib/python3.8/site-packages/sklearn/linear_model/_coordinate_descent.py:647: ConvergenceWarning: Objective did not converge. You might want to increase the number of iterations, check the scale of the features or consider increasing regularisation. Duality gap: 9.716e+07, tolerance: 1.964e+04 Linear regression models with null weight for the l1 regularization term are more efficiently fitted using one of the solvers implemented in sklearn.linear_model.Ridge/RidgeCV instead.\n",
      "  model = cd_fast.enet_coordinate_descent(\n",
      "/opt/homebrew/Caskroom/miniforge/base/envs/base_env/lib/python3.8/site-packages/sklearn/linear_model/_coordinate_descent.py:647: ConvergenceWarning: Objective did not converge. You might want to increase the number of iterations, check the scale of the features or consider increasing regularisation. Duality gap: 9.843e+07, tolerance: 1.988e+04 Linear regression models with null weight for the l1 regularization term are more efficiently fitted using one of the solvers implemented in sklearn.linear_model.Ridge/RidgeCV instead.\n",
      "  model = cd_fast.enet_coordinate_descent(\n",
      "/opt/homebrew/Caskroom/miniforge/base/envs/base_env/lib/python3.8/site-packages/sklearn/linear_model/_coordinate_descent.py:647: ConvergenceWarning: Objective did not converge. You might want to increase the number of iterations, check the scale of the features or consider increasing regularisation. Duality gap: 9.757e+07, tolerance: 1.964e+04 Linear regression models with null weight for the l1 regularization term are more efficiently fitted using one of the solvers implemented in sklearn.linear_model.Ridge/RidgeCV instead.\n",
      "  model = cd_fast.enet_coordinate_descent(\n",
      "/opt/homebrew/Caskroom/miniforge/base/envs/base_env/lib/python3.8/site-packages/sklearn/linear_model/_coordinate_descent.py:647: ConvergenceWarning: Objective did not converge. You might want to increase the number of iterations, check the scale of the features or consider increasing regularisation. Duality gap: 9.937e+07, tolerance: 1.988e+04 Linear regression models with null weight for the l1 regularization term are more efficiently fitted using one of the solvers implemented in sklearn.linear_model.Ridge/RidgeCV instead.\n",
      "  model = cd_fast.enet_coordinate_descent(\n",
      "/opt/homebrew/Caskroom/miniforge/base/envs/base_env/lib/python3.8/site-packages/sklearn/linear_model/_coordinate_descent.py:647: ConvergenceWarning: Objective did not converge. You might want to increase the number of iterations, check the scale of the features or consider increasing regularisation. Duality gap: 9.821e+07, tolerance: 1.964e+04 Linear regression models with null weight for the l1 regularization term are more efficiently fitted using one of the solvers implemented in sklearn.linear_model.Ridge/RidgeCV instead.\n",
      "  model = cd_fast.enet_coordinate_descent(\n",
      "/opt/homebrew/Caskroom/miniforge/base/envs/base_env/lib/python3.8/site-packages/sklearn/linear_model/_coordinate_descent.py:647: ConvergenceWarning: Objective did not converge. You might want to increase the number of iterations, check the scale of the features or consider increasing regularisation. Duality gap: 9.670e+07, tolerance: 1.953e+04 Linear regression models with null weight for the l1 regularization term are more efficiently fitted using one of the solvers implemented in sklearn.linear_model.Ridge/RidgeCV instead.\n",
      "  model = cd_fast.enet_coordinate_descent(\n",
      "/opt/homebrew/Caskroom/miniforge/base/envs/base_env/lib/python3.8/site-packages/sklearn/linear_model/_coordinate_descent.py:647: ConvergenceWarning: Objective did not converge. You might want to increase the number of iterations, check the scale of the features or consider increasing regularisation. Duality gap: 1.001e+08, tolerance: 2.015e+04 Linear regression models with null weight for the l1 regularization term are more efficiently fitted using one of the solvers implemented in sklearn.linear_model.Ridge/RidgeCV instead.\n",
      "  model = cd_fast.enet_coordinate_descent(\n",
      "/opt/homebrew/Caskroom/miniforge/base/envs/base_env/lib/python3.8/site-packages/sklearn/linear_model/_coordinate_descent.py:647: ConvergenceWarning: Objective did not converge. You might want to increase the number of iterations, check the scale of the features or consider increasing regularisation. Duality gap: 9.763e+07, tolerance: 1.953e+04 Linear regression models with null weight for the l1 regularization term are more efficiently fitted using one of the solvers implemented in sklearn.linear_model.Ridge/RidgeCV instead.\n",
      "  model = cd_fast.enet_coordinate_descent(\n",
      "/opt/homebrew/Caskroom/miniforge/base/envs/base_env/lib/python3.8/site-packages/sklearn/linear_model/_coordinate_descent.py:647: ConvergenceWarning: Objective did not converge. You might want to increase the number of iterations, check the scale of the features or consider increasing regularisation. Duality gap: 1.007e+08, tolerance: 2.015e+04 Linear regression models with null weight for the l1 regularization term are more efficiently fitted using one of the solvers implemented in sklearn.linear_model.Ridge/RidgeCV instead.\n",
      "  model = cd_fast.enet_coordinate_descent(\n"
     ]
    }
   ],
   "source": [
    "# find optimal alpha with grid search\n",
    "alpha = [0.001, 0.01, 0.1, 1, 10, 100, 1000]\n",
    "l1_ratio = [0, 0.1, 0.2, 0.3, 0.4, 0.5, 0.6, 0.7, 0.8, 0.9, 1]\n",
    "param_grid = dict(alpha=alpha, l1_ratio=l1_ratio)\n",
    "grid = GridSearchCV(estimator=elastic_net, param_grid=param_grid, scoring='r2', verbose=1, n_jobs=-1)\n",
    "grid_result = grid.fit(X_train, y_train)\n",
    "print('Best Score: ', grid_result.best_score_)\n",
    "print('Best Params: ', grid_result.best_params_)"
   ]
  },
  {
   "cell_type": "markdown",
   "id": "9ac60981-a038-4e6a-8ab7-490d1dc12897",
   "metadata": {},
   "source": [
    "***"
   ]
  },
  {
   "cell_type": "markdown",
   "id": "217c6a9c-9c2b-4e62-9589-17e1de523bc5",
   "metadata": {},
   "source": [
    "#### Polynomial Regression With Scaling"
   ]
  },
  {
   "cell_type": "code",
   "execution_count": 11,
   "id": "3d7a2069-9a32-40f6-a136-a95490c9093c",
   "metadata": {},
   "outputs": [],
   "source": [
    "df = pd.read_csv('../final_training.csv')"
   ]
  },
  {
   "cell_type": "code",
   "execution_count": 12,
   "id": "eb0d3cdc-1827-4f4d-8d23-c98056cfa88e",
   "metadata": {},
   "outputs": [],
   "source": [
    "# set X & y\n",
    "X = df.drop(columns=['arr_delay'])\n",
    "y = df['arr_delay']"
   ]
  },
  {
   "cell_type": "code",
   "execution_count": 13,
   "id": "d3aa3154-236b-4413-ab04-aa67a2978d44",
   "metadata": {},
   "outputs": [],
   "source": [
    "from sklearn.model_selection import train_test_split\n",
    "X_train, X_test, y_train, y_test = train_test_split(X, y, test_size = 0.30, random_state = 101)"
   ]
  },
  {
   "cell_type": "code",
   "execution_count": 14,
   "id": "7a32c047-dfd6-45ac-bce5-07400b9ee5df",
   "metadata": {},
   "outputs": [],
   "source": [
    "import category_encoders as ce\n",
    "\n",
    "encoder = ce.OrdinalEncoder(cols=['mkt_unique_carrier', 'tail_num', 'branded_code_share'])\n",
    "\n",
    "X_train = encoder.fit_transform(X_train)\n",
    "\n",
    "X_test = encoder.transform(X_test)"
   ]
  },
  {
   "cell_type": "code",
   "execution_count": 15,
   "id": "25a315f7-85ce-4a58-8894-554c649dddf5",
   "metadata": {},
   "outputs": [],
   "source": [
    "from sklearn.preprocessing import StandardScaler\n",
    "scaler = StandardScaler()\n",
    "X_train = scaler.fit_transform(X_train)\n",
    "X_test = scaler.fit_transform(X_test)"
   ]
  },
  {
   "cell_type": "code",
   "execution_count": 16,
   "id": "c67933f0-dba1-4e80-8c53-8eb9d769c54a",
   "metadata": {},
   "outputs": [],
   "source": [
    "from sklearn.preprocessing import PolynomialFeatures\n",
    "from sklearn.metrics import mean_squared_error, r2_score\n",
    "\n",
    "def create_polynomial_regression_model(degree):\n",
    "    \n",
    "    \"Creates a polynomial regression model for the given degree\"\n",
    "  \n",
    "    poly_features = PolynomialFeatures(degree=degree)\n",
    "    \n",
    "    \n",
    "    # transforms the existing features to higher degree features.\n",
    "    X_train_poly = poly_features.fit_transform(X_train)\n",
    "    \n",
    "    \n",
    "    # fit the transformed features to Linear Regression\n",
    "    poly_model = LinearRegression()\n",
    "    poly_model.fit(X_train_poly, y_train)\n",
    "    \n",
    "    \n",
    "    # predicting on training data-set\n",
    "    y_train_predicted = poly_model.predict(X_train_poly)\n",
    "    \n",
    "    \n",
    "    # predicting on test data-set\n",
    "    y_test_predict = poly_model.predict(poly_features.fit_transform(X_test))\n",
    "    \n",
    "    \n",
    "    # evaluating the model on training dataset\n",
    "    rmse_train = np.sqrt(mean_squared_error(y_train, y_train_predicted))\n",
    "    r2_train = r2_score(y_train, y_train_predicted)\n",
    "    \n",
    "    \n",
    "    # evaluating the model on test dataset\n",
    "    rmse_test = np.sqrt(mean_squared_error(y_test, y_test_predict))\n",
    "    r2_test = r2_score(y_test, y_test_predict)\n",
    "    \n",
    "    \n",
    "    print(\"The model performance for the training set\")\n",
    "    print(\"-------------------------------------------\")\n",
    "    print(\"RMSE of training set is {}\".format(rmse_train))\n",
    "    print(\"R2 score of training set is {}\".format(r2_train))\n",
    "    \n",
    "    print(\"\\n\")\n",
    "    \n",
    "    print(\"The model performance for the test set\")\n",
    "    print(\"-------------------------------------------\")\n",
    "    print(\"RMSE of test set is {}\".format(rmse_test))\n",
    "    print(\"R2 score of test set is {}\".format(r2_test))"
   ]
  },
  {
   "cell_type": "code",
   "execution_count": 17,
   "id": "484a7a95-4371-474d-8d07-355fd03a4df7",
   "metadata": {},
   "outputs": [
    {
     "name": "stdout",
     "output_type": "stream",
     "text": [
      "The model performance for the training set\n",
      "-------------------------------------------\n",
      "RMSE of training set is 47.150909319039535\n",
      "R2 score of training set is 0.019600083113504585\n",
      "\n",
      "\n",
      "The model performance for the test set\n",
      "-------------------------------------------\n",
      "RMSE of test set is 191880.29149298512\n",
      "R2 score of test set is -14744095.011314606\n"
     ]
    }
   ],
   "source": [
    "create_polynomial_regression_model(2)"
   ]
  },
  {
   "cell_type": "code",
   "execution_count": 18,
   "id": "3dcea551-961c-42b7-9e61-52658e3a89b8",
   "metadata": {},
   "outputs": [
    {
     "name": "stdout",
     "output_type": "stream",
     "text": [
      "The model performance for the training set\n",
      "-------------------------------------------\n",
      "RMSE of training set is 46.327855162599576\n",
      "R2 score of training set is 0.05352857037302883\n",
      "\n",
      "\n",
      "The model performance for the test set\n",
      "-------------------------------------------\n",
      "RMSE of test set is 80005990.53295365\n",
      "R2 score of test set is -2563317627587.0947\n"
     ]
    }
   ],
   "source": [
    "create_polynomial_regression_model(3)"
   ]
  },
  {
   "cell_type": "markdown",
   "id": "0fd87690-b43f-436b-829a-054150133dff",
   "metadata": {},
   "source": [
    "***"
   ]
  },
  {
   "cell_type": "markdown",
   "id": "d01a7e36-5a12-49ea-a857-0ea2f35a0216",
   "metadata": {
    "tags": []
   },
   "source": [
    "#### Random Forest"
   ]
  },
  {
   "cell_type": "markdown",
   "id": "d3b1ed56-ebc9-4900-b2a8-e4077417aef4",
   "metadata": {},
   "source": [
    "##### Random Forest Grid Search without Feature Selection"
   ]
  },
  {
   "cell_type": "code",
   "execution_count": 17,
   "id": "df046c57-e4f1-4ac8-baa5-9af357e2f267",
   "metadata": {},
   "outputs": [],
   "source": [
    "from sklearn.model_selection import train_test_split\n",
    "from sklearn.model_selection import cross_val_score\n",
    "from sklearn.model_selection import GridSearchCV\n",
    "from sklearn.ensemble import RandomForestClassifier\n",
    "from sklearn.metrics import accuracy_score"
   ]
  },
  {
   "cell_type": "code",
   "execution_count": 18,
   "id": "8863b090-6f54-4d2b-930a-8b2f97a2cd5d",
   "metadata": {},
   "outputs": [],
   "source": [
    "df = pd.read_csv('../final_training.csv')"
   ]
  },
  {
   "cell_type": "code",
   "execution_count": 19,
   "id": "413ebc4a-b3b4-493d-83a6-c9d5100e9786",
   "metadata": {},
   "outputs": [],
   "source": [
    "# set X & y\n",
    "X = df.drop(columns=['arr_delay'])\n",
    "y = df['arr_delay']"
   ]
  },
  {
   "cell_type": "code",
   "execution_count": 20,
   "id": "5ca2b970-1c8a-4be2-b03b-4a861b76bf23",
   "metadata": {},
   "outputs": [],
   "source": [
    "from sklearn.model_selection import train_test_split\n",
    "X_train, X_test, y_train, y_test = train_test_split(X, y, test_size = 0.30, random_state = 101)"
   ]
  },
  {
   "cell_type": "code",
   "execution_count": 21,
   "id": "c2455eb8-0d11-47cb-8892-068cd001fe3a",
   "metadata": {},
   "outputs": [],
   "source": [
    "import category_encoders as ce\n",
    "\n",
    "encoder = ce.OrdinalEncoder(cols=['mkt_unique_carrier', 'tail_num', 'branded_code_share'])\n",
    "\n",
    "X_train = encoder.fit_transform(X_train)\n",
    "\n",
    "X_test = encoder.transform(X_test)"
   ]
  },
  {
   "cell_type": "code",
   "execution_count": 25,
   "id": "08f30c7b-8cb9-499e-924b-3d19911af414",
   "metadata": {},
   "outputs": [],
   "source": [
    "rfc=RandomForestClassifier(random_state=42)"
   ]
  },
  {
   "cell_type": "code",
   "execution_count": 26,
   "id": "68167f74-462e-4b65-b3dd-381875f6ba4e",
   "metadata": {},
   "outputs": [],
   "source": [
    "param_grid = { \n",
    "    'n_estimators': [200, 500],\n",
    "    'max_features': ['auto', 'sqrt', 'log2'],\n",
    "    'max_depth' : [4,5,6,7,8],\n",
    "    'criterion' :['gini', 'entropy']\n",
    "}"
   ]
  },
  {
   "cell_type": "code",
   "execution_count": 27,
   "id": "349dec7d-e0cb-4983-9ef2-d8fe2b82b671",
   "metadata": {},
   "outputs": [
    {
     "name": "stderr",
     "output_type": "stream",
     "text": [
      "/opt/homebrew/Caskroom/miniforge/base/envs/base_env/lib/python3.8/site-packages/sklearn/model_selection/_split.py:676: UserWarning: The least populated class in y has only 1 members, which is less than n_splits=5.\n",
      "  warnings.warn(\n"
     ]
    },
    {
     "data": {
      "text/plain": [
       "GridSearchCV(cv=5, estimator=RandomForestClassifier(random_state=42),\n",
       "             param_grid={'criterion': ['gini', 'entropy'],\n",
       "                         'max_depth': [4, 5, 6, 7, 8],\n",
       "                         'max_features': ['auto', 'sqrt', 'log2'],\n",
       "                         'n_estimators': [200, 500]})"
      ]
     },
     "execution_count": 27,
     "metadata": {},
     "output_type": "execute_result"
    }
   ],
   "source": [
    "CV_rfc = GridSearchCV(estimator=rfc, param_grid=param_grid, cv= 5)\n",
    "CV_rfc.fit(X_train, y_train)"
   ]
  },
  {
   "cell_type": "code",
   "execution_count": 28,
   "id": "94792ef5-bdc2-46ea-aef5-bd26f720f1c0",
   "metadata": {},
   "outputs": [
    {
     "data": {
      "text/plain": [
       "{'criterion': 'gini',\n",
       " 'max_depth': 7,\n",
       " 'max_features': 'auto',\n",
       " 'n_estimators': 200}"
      ]
     },
     "execution_count": 28,
     "metadata": {},
     "output_type": "execute_result"
    }
   ],
   "source": [
    "CV_rfc.best_params_"
   ]
  },
  {
   "cell_type": "code",
   "execution_count": 22,
   "id": "3dcd4bce-7d48-4a4d-af12-cd94b078024f",
   "metadata": {},
   "outputs": [],
   "source": [
    "rfc1=RandomForestClassifier(random_state=42, max_features='auto', n_estimators= 200, max_depth=7, criterion='gini')"
   ]
  },
  {
   "cell_type": "code",
   "execution_count": 23,
   "id": "565a3eff-aa07-40b6-94dc-b0701ec15eba",
   "metadata": {},
   "outputs": [
    {
     "data": {
      "text/plain": [
       "RandomForestClassifier(max_depth=7, n_estimators=200, random_state=42)"
      ]
     },
     "execution_count": 23,
     "metadata": {},
     "output_type": "execute_result"
    }
   ],
   "source": [
    "rfc1.fit(X_train, y_train)"
   ]
  },
  {
   "cell_type": "code",
   "execution_count": 24,
   "id": "41e18115-2347-481d-b826-1607c2fce407",
   "metadata": {},
   "outputs": [],
   "source": [
    "y_pred=rfc1.predict(X_test)"
   ]
  },
  {
   "cell_type": "code",
   "execution_count": 26,
   "id": "e404590a-a2b7-4377-9e0a-9f6be0c0007b",
   "metadata": {},
   "outputs": [
    {
     "name": "stdout",
     "output_type": "stream",
     "text": [
      "Accuracy for Random Forest on CV data:  0.02987899538523701\n"
     ]
    }
   ],
   "source": [
    "print(\"Accuracy for Random Forest on CV data: \",accuracy_score(y_test,y_pred))"
   ]
  },
  {
   "cell_type": "code",
   "execution_count": 27,
   "id": "28e94103-6e08-4412-89ed-7d534198d6a8",
   "metadata": {},
   "outputs": [
    {
     "name": "stdout",
     "output_type": "stream",
     "text": [
      "Mean Absolute Error (MAE): 22.010569295876486\n",
      "Mean Squared Error (MSE): 2734.0004465899665\n",
      "Root Mean Squared Error (RMSE): 52.287670120114996\n",
      "Mean Absolute Percentage Error (MAPE): 893670929608790.6\n",
      "Explained Variance Score: -0.00024320443902325906\n",
      "Max Error: 1605.0\n",
      "Median Absolute Error: 10.0\n",
      "R^2: -0.09485345287142621\n"
     ]
    }
   ],
   "source": [
    "from sklearn import metrics\n",
    "\n",
    "print('Mean Absolute Error (MAE):', metrics.mean_absolute_error(y_test, y_pred))\n",
    "print('Mean Squared Error (MSE):', metrics.mean_squared_error(y_test, y_pred))\n",
    "print('Root Mean Squared Error (RMSE):', metrics.mean_squared_error(y_test, y_pred, squared=False))\n",
    "print('Mean Absolute Percentage Error (MAPE):', metrics.mean_absolute_percentage_error(y_test, y_pred))\n",
    "print('Explained Variance Score:', metrics.explained_variance_score(y_test, y_pred))\n",
    "print('Max Error:', metrics.max_error(y_test, y_pred))\n",
    "print('Median Absolute Error:', metrics.median_absolute_error(y_test, y_pred))\n",
    "print('R^2:', metrics.r2_score(y_test, y_pred))\n"
   ]
  },
  {
   "cell_type": "markdown",
   "id": "387c1fb1-d480-42ea-b778-393c03a261a1",
   "metadata": {
    "tags": []
   },
   "source": [
    "##### Random Forest With Scaling, No Feature Selection"
   ]
  },
  {
   "cell_type": "code",
   "execution_count": 150,
   "id": "3162225c-05ac-4550-989a-377c21c2acf7",
   "metadata": {
    "tags": []
   },
   "outputs": [],
   "source": [
    "df = pd.read_csv('../final_training.csv')"
   ]
  },
  {
   "cell_type": "code",
   "execution_count": 151,
   "id": "421b530d-57d1-4055-ab38-82ac0037869b",
   "metadata": {},
   "outputs": [],
   "source": [
    "# set X & y\n",
    "X = df.drop(columns=['arr_delay'])\n",
    "y = df['arr_delay']"
   ]
  },
  {
   "cell_type": "code",
   "execution_count": 152,
   "id": "c2e79837-c943-4695-a604-333717c69353",
   "metadata": {},
   "outputs": [],
   "source": [
    "from sklearn.model_selection import train_test_split\n",
    "X_train, X_test, y_train, y_test = train_test_split(X, y, test_size = 0.30, random_state = 101)"
   ]
  },
  {
   "cell_type": "code",
   "execution_count": 153,
   "id": "9121a70a-fb20-4ce0-91b2-8b33e5e861bf",
   "metadata": {},
   "outputs": [],
   "source": [
    "import category_encoders as ce\n",
    "\n",
    "encoder = ce.OrdinalEncoder(cols=['mkt_unique_carrier', 'tail_num', 'branded_code_share'])\n",
    "\n",
    "X_train = encoder.fit_transform(X_train)\n",
    "\n",
    "X_test = encoder.transform(X_test)"
   ]
  },
  {
   "cell_type": "code",
   "execution_count": 154,
   "id": "e1047c65-bcab-4c0b-ae66-4dfab61a103a",
   "metadata": {},
   "outputs": [],
   "source": [
    "from sklearn.preprocessing import StandardScaler\n",
    "scaler = StandardScaler()\n",
    "X_train = scaler.fit_transform(X_train)\n",
    "X_test = scaler.fit_transform(X_test)"
   ]
  },
  {
   "cell_type": "code",
   "execution_count": 155,
   "id": "d241fda9-b5a8-4bf3-820d-abe2c94eb42c",
   "metadata": {},
   "outputs": [],
   "source": [
    "rfc1 = RandomForestClassifier(random_state=42, \n",
    "                              max_features='auto', \n",
    "                              n_estimators= 200, \n",
    "                              max_depth=7, \n",
    "                              criterion='gini')"
   ]
  },
  {
   "cell_type": "code",
   "execution_count": 156,
   "id": "b8a9400d-0405-4bb8-9eca-7cf350549df7",
   "metadata": {
    "tags": []
   },
   "outputs": [
    {
     "data": {
      "text/plain": [
       "RandomForestClassifier(max_depth=7, n_estimators=200, random_state=42)"
      ]
     },
     "execution_count": 156,
     "metadata": {},
     "output_type": "execute_result"
    }
   ],
   "source": [
    "rfc1.fit(X_train, y_train)"
   ]
  },
  {
   "cell_type": "code",
   "execution_count": 141,
   "id": "100e4c1d-fdea-4313-8b3e-754c799e08f9",
   "metadata": {},
   "outputs": [
    {
     "name": "stdout",
     "output_type": "stream",
     "text": [
      "Accuracy for Random Forest on CV data:  0.03070837675180231\n"
     ]
    }
   ],
   "source": [
    "y_pred = rfc1.predict(X_test)"
   ]
  },
  {
   "cell_type": "code",
   "execution_count": 157,
   "id": "83e7ca0b-bf76-4562-b74b-dcf433445f9e",
   "metadata": {},
   "outputs": [
    {
     "name": "stdout",
     "output_type": "stream",
     "text": [
      "Accuracy Score: 0.03070837675180231\n",
      "Mean Absolute Error (MAE): 22.0533568679157\n",
      "Mean Squared Error (MSE): 2739.6970631393147\n",
      "Root Mean Squared Error (RMSE): 52.34211557760457\n",
      "Mean Absolute Percentage Error (MAPE): 903631467244554.8\n",
      "Explained Variance Score: -0.00024635286041063686\n",
      "Max Error: 1605.0\n",
      "Median Absolute Error: 10.0\n",
      "R^2: -0.09713471083775826\n"
     ]
    }
   ],
   "source": [
    "print(\"Accuracy Score:\", accuracy_score(y_test, y_pred))\n",
    "print('Mean Absolute Error (MAE):', metrics.mean_absolute_error(y_test, y_pred))\n",
    "print('Mean Squared Error (MSE):', metrics.mean_squared_error(y_test, y_pred))\n",
    "print('Root Mean Squared Error (RMSE):', metrics.mean_squared_error(y_test, y_pred, squared=False))\n",
    "print('Mean Absolute Percentage Error (MAPE):', metrics.mean_absolute_percentage_error(y_test, y_pred))\n",
    "print('Explained Variance Score:', metrics.explained_variance_score(y_test, y_pred))\n",
    "print('Max Error:', metrics.max_error(y_test, y_pred))\n",
    "print('Median Absolute Error:', metrics.median_absolute_error(y_test, y_pred))\n",
    "print('R^2:', metrics.r2_score(y_test, y_pred))"
   ]
  },
  {
   "cell_type": "markdown",
   "id": "8f826f53-39e0-4f2e-af25-38ea43d12162",
   "metadata": {},
   "source": [
    "***"
   ]
  },
  {
   "cell_type": "markdown",
   "id": "1cdae148-301d-4155-b371-5ad08bb056ba",
   "metadata": {},
   "source": [
    "##### Random Forest with Feature Selection"
   ]
  },
  {
   "cell_type": "code",
   "execution_count": 158,
   "id": "0e5874de-214f-4f49-bf92-da748d5acc78",
   "metadata": {},
   "outputs": [],
   "source": [
    "df = pd.read_csv('../final_training.csv')"
   ]
  },
  {
   "cell_type": "code",
   "execution_count": 159,
   "id": "09a1dc08-3812-4670-8df8-a9bbb6b6dfa0",
   "metadata": {},
   "outputs": [],
   "source": [
    "# set X & y\n",
    "X = df.drop(columns=['arr_delay'])\n",
    "y = df['arr_delay']"
   ]
  },
  {
   "cell_type": "code",
   "execution_count": 160,
   "id": "f3e67abd-26cf-41ef-ac80-69a93167718d",
   "metadata": {},
   "outputs": [
    {
     "data": {
      "text/plain": [
       "(156741, 24)"
      ]
     },
     "execution_count": 160,
     "metadata": {},
     "output_type": "execute_result"
    }
   ],
   "source": [
    "X.shape"
   ]
  },
  {
   "cell_type": "code",
   "execution_count": 135,
   "id": "22cb9d2c-03a7-4abf-98c3-085775725001",
   "metadata": {},
   "outputs": [],
   "source": [
    "from sklearn.model_selection import train_test_split\n",
    "X_train, X_test, y_train, y_test = train_test_split(X, y, test_size = 0.30, random_state = 101)"
   ]
  },
  {
   "cell_type": "code",
   "execution_count": 136,
   "id": "ff11bf4f-c332-4d94-969a-d536a5e6b8c2",
   "metadata": {},
   "outputs": [],
   "source": [
    "import category_encoders as ce\n",
    "\n",
    "encoder = ce.OrdinalEncoder(cols=['mkt_unique_carrier', 'tail_num', 'branded_code_share'])\n",
    "\n",
    "X_train = encoder.fit_transform(X_train)\n",
    "\n",
    "X_test = encoder.transform(X_test)"
   ]
  },
  {
   "cell_type": "code",
   "execution_count": 138,
   "id": "748eb3e9-0455-4ec9-9caa-12b48fb82fcb",
   "metadata": {},
   "outputs": [],
   "source": [
    "from sklearn.feature_selection import f_regression, SelectKBest\n",
    "skb = SelectKBest(f_regression, k=12)\n",
    "X_train_selected = skb.fit_transform(X_train, y_train)"
   ]
  },
  {
   "cell_type": "code",
   "execution_count": 139,
   "id": "dac79a4f-e8ed-41a4-9277-14c6eef717e5",
   "metadata": {},
   "outputs": [],
   "source": [
    "rfc1 = RandomForestClassifier(random_state=42, \n",
    "                              max_features='auto', \n",
    "                              n_estimators= 200, \n",
    "                              max_depth=7, \n",
    "                              criterion='gini')"
   ]
  },
  {
   "cell_type": "code",
   "execution_count": 140,
   "id": "89322e36-670f-44a6-b330-05a7460499e0",
   "metadata": {},
   "outputs": [
    {
     "data": {
      "text/plain": [
       "RandomForestClassifier(max_depth=7, n_estimators=200, random_state=42)"
      ]
     },
     "execution_count": 140,
     "metadata": {},
     "output_type": "execute_result"
    }
   ],
   "source": [
    "rfc1.fit(X_train_selected, y_train)"
   ]
  },
  {
   "cell_type": "code",
   "execution_count": 141,
   "id": "b35923f0-bb3b-42e9-8cb9-67f86ef4abda",
   "metadata": {},
   "outputs": [
    {
     "name": "stdout",
     "output_type": "stream",
     "text": [
      "Accuracy for Random Forest on CV data:  0.03070837675180231\n"
     ]
    }
   ],
   "source": [
    "X_test_selected = skb.transform(X_test)\n",
    "y_pred = rfc1.predict(X_test_selected)\n",
    "\n",
    "print(\"Accuracy for Random Forest on CV data: \", accuracy_score(y_test, y_pred))"
   ]
  },
  {
   "cell_type": "code",
   "execution_count": 142,
   "id": "1136ac61-de86-4b42-899b-d99d32bb0fe3",
   "metadata": {},
   "outputs": [
    {
     "name": "stdout",
     "output_type": "stream",
     "text": [
      "Mean Absolute Error (MAE): 22.0533568679157\n",
      "Mean Squared Error (MSE): 2739.6970631393147\n",
      "Root Mean Squared Error (RMSE): 52.34211557760457\n",
      "Mean Absolute Percentage Error (MAPE): 903631467244554.8\n",
      "Explained Variance Score: -0.00024635286041063686\n",
      "Max Error: 1605.0\n",
      "Median Absolute Error: 10.0\n",
      "R^2: -0.09713471083775826\n"
     ]
    }
   ],
   "source": [
    "print('Mean Absolute Error (MAE):', metrics.mean_absolute_error(y_test, y_pred))\n",
    "print('Mean Squared Error (MSE):', metrics.mean_squared_error(y_test, y_pred))\n",
    "print('Root Mean Squared Error (RMSE):', metrics.mean_squared_error(y_test, y_pred, squared=False))\n",
    "print('Mean Absolute Percentage Error (MAPE):', metrics.mean_absolute_percentage_error(y_test, y_pred))\n",
    "print('Explained Variance Score:', metrics.explained_variance_score(y_test, y_pred))\n",
    "print('Max Error:', metrics.max_error(y_test, y_pred))\n",
    "print('Median Absolute Error:', metrics.median_absolute_error(y_test, y_pred))\n",
    "print('R^2:', metrics.r2_score(y_test, y_pred))"
   ]
  },
  {
   "cell_type": "code",
   "execution_count": null,
   "id": "fb1d3217-9ea7-4952-b98d-31e40467fbf2",
   "metadata": {},
   "outputs": [],
   "source": [
    "# k=10 0.030453182485166833\n",
    "# k=12 0.03070837675180231\n",
    "# k=14 0.03070837675180231\n",
    "# k=16 0.02941113922973863"
   ]
  },
  {
   "cell_type": "markdown",
   "id": "557b78fe-f2af-468c-8ecc-756ee87c07ee",
   "metadata": {},
   "source": [
    "***"
   ]
  },
  {
   "cell_type": "markdown",
   "id": "81ed29c2-e2eb-440a-9ae1-f60501172303",
   "metadata": {},
   "source": [
    "#### AdaBoost Regressor"
   ]
  },
  {
   "cell_type": "code",
   "execution_count": 161,
   "id": "722612f0-008d-4b45-abf7-0b67989ab70a",
   "metadata": {},
   "outputs": [],
   "source": [
    "from sklearn.model_selection import train_test_split\n",
    "from sklearn.model_selection import cross_val_score\n",
    "from sklearn.model_selection import GridSearchCV\n",
    "from sklearn.ensemble import AdaBoostRegressor\n",
    "from sklearn.metrics import accuracy_score"
   ]
  },
  {
   "cell_type": "code",
   "execution_count": 162,
   "id": "e52b0cf7-ef5d-47ed-ba14-0bd87032d7c1",
   "metadata": {},
   "outputs": [],
   "source": [
    "df = pd.read_csv('../final_training.csv')"
   ]
  },
  {
   "cell_type": "code",
   "execution_count": 163,
   "id": "ee3c80be-b7fc-457c-9119-a18cbfba8ded",
   "metadata": {},
   "outputs": [],
   "source": [
    "# set X & y\n",
    "X = df.drop(columns=['arr_delay'])\n",
    "y = df['arr_delay']"
   ]
  },
  {
   "cell_type": "code",
   "execution_count": 164,
   "id": "ab402654-a84b-4166-9fd6-77c418cb2399",
   "metadata": {},
   "outputs": [],
   "source": [
    "from sklearn.model_selection import train_test_split\n",
    "X_train, X_test, y_train, y_test = train_test_split(X, y, test_size = 0.30, random_state = 101)"
   ]
  },
  {
   "cell_type": "code",
   "execution_count": 165,
   "id": "8fd1beaf-4135-4f88-b8cd-7efb2664ae92",
   "metadata": {},
   "outputs": [],
   "source": [
    "import category_encoders as ce\n",
    "\n",
    "encoder = ce.OrdinalEncoder(cols=['mkt_unique_carrier', 'tail_num', 'branded_code_share'])\n",
    "\n",
    "X_train = encoder.fit_transform(X_train)\n",
    "\n",
    "X_test = encoder.transform(X_test)"
   ]
  },
  {
   "cell_type": "code",
   "execution_count": 178,
   "id": "c1678150-0812-42f7-bc64-387a6674ad78",
   "metadata": {},
   "outputs": [],
   "source": [
    "ada = AdaBoostRegressor()"
   ]
  },
  {
   "cell_type": "code",
   "execution_count": 182,
   "id": "c07e1615-4587-466a-b638-d4867fb7555d",
   "metadata": {},
   "outputs": [],
   "source": [
    "search_grid = { \n",
    "    'n_estimators': [500, 600, 700],\n",
    "    'learning_rate': [0.00001, 0.00001],\n",
    "    'random_state' : [1]\n",
    "}"
   ]
  },
  {
   "cell_type": "code",
   "execution_count": 183,
   "id": "95db7a67-cfe0-40a5-b1c4-87d4ba0356fe",
   "metadata": {},
   "outputs": [
    {
     "data": {
      "text/plain": [
       "GridSearchCV(estimator=AdaBoostRegressor(), n_jobs=-1,\n",
       "             param_grid={'learning_rate': [1e-05, 1e-05],\n",
       "                         'n_estimators': [500, 600, 700], 'random_state': [1]},\n",
       "             scoring='r2')"
      ]
     },
     "execution_count": 183,
     "metadata": {},
     "output_type": "execute_result"
    }
   ],
   "source": [
    "# GridSearch with AdaBoostRegressor\n",
    "CV_ada = GridSearchCV(estimator=ada, \n",
    "                      param_grid=search_grid, \n",
    "                      scoring='r2', \n",
    "                      n_jobs=-1)\n",
    "\n",
    "CV_ada.fit(X_train, y_train)"
   ]
  },
  {
   "cell_type": "code",
   "execution_count": 184,
   "id": "80acc081-2fc1-45d2-97eb-12935d1c9120",
   "metadata": {},
   "outputs": [
    {
     "name": "stdout",
     "output_type": "stream",
     "text": [
      "CV_ada.best_score_: 0.014649709015664824\n",
      "CV_ada.best_params_: {'learning_rate': 1e-05, 'n_estimators': 500, 'random_state': 1}\n"
     ]
    }
   ],
   "source": [
    "print('CV_ada.best_score_:', CV_ada.best_score_)\n",
    "print('CV_ada.best_params_:', CV_ada.best_params_)"
   ]
  },
  {
   "cell_type": "code",
   "execution_count": 173,
   "id": "253e7319-2ae5-431b-910f-c09b6738cd1a",
   "metadata": {},
   "outputs": [
    {
     "name": "stdout",
     "output_type": "stream",
     "text": [
      "CV_rfc.best_estimator_: AdaBoostRegressor(learning_rate=0.001, n_estimators=200, random_state=1)\n",
      "CV_rfc.best_params_: {'learning_rate': 0.001, 'n_estimators': 200, 'random_state': 1}\n"
     ]
    }
   ],
   "source": [
    "# CV_ada.best_score_: 0.01454473903607847"
   ]
  },
  {
   "cell_type": "markdown",
   "id": "b941122e-a6b5-4c29-b42f-361d466bfca9",
   "metadata": {},
   "source": [
    "### Evaluation"
   ]
  },
  {
   "cell_type": "markdown",
   "id": "eef8b177-e2e6-493b-ab3b-c2b7589441b0",
   "metadata": {},
   "source": [
    "You have data from 2018 and 2019 to develop models. Use different evaluation metrics for each problem and compare the performance of different models.\n",
    "\n",
    "You are required to predict delays on **out of sample** data from **first 7 days (1st-7th) of January 2020** and to share the file with LighthouseLabs. Sample submission can be found in the file **_sample_submission.csv_**"
   ]
  },
  {
   "cell_type": "code",
   "execution_count": null,
   "id": "ab8ce32f-4b26-40e3-96e1-8c8256f4d088",
   "metadata": {},
   "outputs": [],
   "source": []
  }
 ],
 "metadata": {
  "kernelspec": {
   "display_name": "ds_env",
   "language": "python",
   "name": "ds_env"
  },
  "language_info": {
   "codemirror_mode": {
    "name": "ipython",
    "version": 3
   },
   "file_extension": ".py",
   "mimetype": "text/x-python",
   "name": "python",
   "nbconvert_exporter": "python",
   "pygments_lexer": "ipython3",
   "version": "3.8.12"
  }
 },
 "nbformat": 4,
 "nbformat_minor": 5
}
