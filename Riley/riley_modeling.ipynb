{
 "cells": [
  {
   "cell_type": "markdown",
   "id": "f164fe66-9c42-446c-8e7a-c2c14debc7b0",
   "metadata": {},
   "source": [
    "## ML Modeling\n",
    "Here is the main working notebook for all of my modeling.\n",
    "\n",
    "Open table of contents for easier navigation."
   ]
  },
  {
   "cell_type": "markdown",
   "id": "9b6cd2fe-cecc-4da8-9d1e-5eb1a871cbe8",
   "metadata": {},
   "source": [
    "### Setup"
   ]
  },
  {
   "cell_type": "code",
   "execution_count": 70,
   "id": "66365279-53e5-4b74-87ca-5d8cc05b4202",
   "metadata": {},
   "outputs": [],
   "source": [
    "# import working libraries\n",
    "import pandas as pd\n",
    "import numpy as np \n",
    "import matplotlib.pyplot as plt  \n",
    "import seaborn as seabornInstance \n",
    "import category_encoders as ce\n",
    "\n",
    "from sklearn.feature_selection import f_regression, SelectKBest\n",
    "\n",
    "# scaling tools\n",
    "from sklearn.preprocessing import StandardScaler\n",
    "from sklearn.preprocessing import PolynomialFeatures\n",
    "\n",
    "from sklearn.decomposition import PCA\n",
    "\n",
    "# model selection tools\n",
    "from sklearn.model_selection import train_test_split\n",
    "from sklearn.model_selection import cross_val_score\n",
    "from sklearn.model_selection import GridSearchCV\n",
    "\n",
    "# models\n",
    "from sklearn.linear_model import LinearRegression\n",
    "from sklearn.linear_model import Ridge\n",
    "from sklearn.linear_model import Lasso\n",
    "from sklearn.linear_model import ElasticNet\n",
    "from sklearn.ensemble import AdaBoostRegressor\n",
    "from sklearn.ensemble import RandomForestClassifier\n",
    "\n",
    "# metrics\n",
    "from sklearn import metrics\n",
    "from sklearn.metrics import mean_squared_error, r2_score\n",
    "from sklearn.metrics import accuracy_score"
   ]
  },
  {
   "cell_type": "code",
   "execution_count": 12,
   "id": "50edf30b-492a-40c7-8ee9-4571261320ca",
   "metadata": {},
   "outputs": [],
   "source": [
    "# bring in training data from csv\n",
    "df = pd.read_csv('../final_training.csv')"
   ]
  },
  {
   "cell_type": "code",
   "execution_count": 13,
   "id": "ce43f8a3-c58e-4966-9d5d-66ec0c2dcf1e",
   "metadata": {},
   "outputs": [],
   "source": [
    "# set X & y\n",
    "X = df.drop(columns=['arr_delay'])\n",
    "y = df['arr_delay']"
   ]
  },
  {
   "cell_type": "code",
   "execution_count": 14,
   "id": "5a489eb6-96ef-47b1-88b1-29d231c304eb",
   "metadata": {},
   "outputs": [],
   "source": [
    "# split into training and testing data\n",
    "X_train, X_test, y_train, y_test = train_test_split(X, y, test_size = 0.30, random_state = 101)"
   ]
  },
  {
   "cell_type": "code",
   "execution_count": 15,
   "id": "f23c1aa1-4145-45de-9a9c-8c5f4b6921b2",
   "metadata": {},
   "outputs": [],
   "source": [
    "# encode categorical variables\n",
    "encoder = ce.OrdinalEncoder(cols=['mkt_unique_carrier', 'tail_num', 'branded_code_share'])\n",
    "\n",
    "# fit onto training and testing DataFrames\n",
    "X_train = encoder.fit_transform(X_train)\n",
    "X_test = encoder.transform(X_test)"
   ]
  },
  {
   "cell_type": "code",
   "execution_count": 16,
   "id": "e3a83574-1d8b-4031-ac07-6adc045d8718",
   "metadata": {},
   "outputs": [
    {
     "name": "stdout",
     "output_type": "stream",
     "text": [
      "<class 'pandas.core.frame.DataFrame'>\n",
      "Int64Index: 109718 entries, 95770 to 136767\n",
      "Data columns (total 24 columns):\n",
      " #   Column                   Non-Null Count   Dtype  \n",
      "---  ------                   --------------   -----  \n",
      " 0   mkt_carrier_fl_num       109718 non-null  int64  \n",
      " 1   origin_airport_id        109718 non-null  int64  \n",
      " 2   dest_airport_id          109718 non-null  int64  \n",
      " 3   crs_dep_time             109718 non-null  int64  \n",
      " 4   crs_arr_time             109718 non-null  int64  \n",
      " 5   crs_elapsed_time         109718 non-null  float64\n",
      " 6   distance                 109718 non-null  float64\n",
      " 7   mkt_unique_carrier       109718 non-null  int64  \n",
      " 8   tail_num                 109718 non-null  int64  \n",
      " 9   branded_code_share       109718 non-null  int64  \n",
      " 10  year                     109718 non-null  int64  \n",
      " 11  month                    109718 non-null  int64  \n",
      " 12  week                     109718 non-null  int64  \n",
      " 13  day                      109718 non-null  int64  \n",
      " 14  day_of_week              109718 non-null  int64  \n",
      " 15  mean_taxi_out/time       109718 non-null  float64\n",
      " 16  mean_taxi_in/time        109718 non-null  float64\n",
      " 17  mean_dep_delay/time      109718 non-null  float64\n",
      " 18  mean_arr_delay/time      109718 non-null  float64\n",
      " 19  mean_dep_delay/distance  109718 non-null  float64\n",
      " 20  mean_arr_delay/distance  109718 non-null  float64\n",
      " 21  mean_dep_delay/carrier   109718 non-null  float64\n",
      " 22  mean_arr_delay/carrier   109718 non-null  float64\n",
      " 23  avg_monthly_pas          109718 non-null  float64\n",
      "dtypes: float64(11), int64(13)\n",
      "memory usage: 20.9 MB\n"
     ]
    }
   ],
   "source": [
    "X_train.info()"
   ]
  },
  {
   "cell_type": "markdown",
   "id": "489ab0bf-b254-496c-addc-5eb9d2dc2e00",
   "metadata": {},
   "source": [
    "***"
   ]
  },
  {
   "cell_type": "markdown",
   "id": "2a4b41c6-c676-4786-a974-7d2906fd0b47",
   "metadata": {},
   "source": [
    "### Helper Functions"
   ]
  },
  {
   "cell_type": "code",
   "execution_count": 20,
   "id": "2745df8d-0040-47f9-a07d-e0dc97f52f5a",
   "metadata": {},
   "outputs": [],
   "source": [
    "# helper function to get cross validation scores\n",
    "def get_cv_scores(model):\n",
    "    scores = cross_val_score(model,\n",
    "                             X_train,\n",
    "                             y_train,\n",
    "                             cv=5,\n",
    "                             scoring='r2')\n",
    "    \n",
    "    print('CV Mean: ', np.mean(scores))\n",
    "    print('STD: ', np.std(scores))\n",
    "    print('\\n')"
   ]
  },
  {
   "cell_type": "code",
   "execution_count": 26,
   "id": "d2a11f3b-9769-4571-a3b9-df269ae9ea1e",
   "metadata": {},
   "outputs": [],
   "source": [
    "def prediction_scores(model, X_train, X_test, y_train, y_test):\n",
    "    \n",
    "    '''\n",
    "    This function takes in a model and train test split data,\n",
    "    fits the model, predicts on train and test data,\n",
    "    and prints RMSE and R^2 scores for training and test sets.\n",
    "    \n",
    "    Arguments:\n",
    "    model -- Must be an sklearn.linear_model with attached parenthesis(). \n",
    "                - ie. LinearRegression()\n",
    "    X_train\n",
    "    X_test\n",
    "    y_train\n",
    "    y_test\n",
    "            \n",
    "    Returns:\n",
    "    Prints RMSE and R^2 metric scores on y_train and y_test data sets\n",
    "    '''\n",
    "    \n",
    "    mdl = model.fit(X_train, y_train)\n",
    "    \n",
    "    # predict on train\n",
    "    y_pred_train = mdl.predict(X_train)\n",
    "\n",
    "    # predict on test\n",
    "    y_pred_test = mdl.predict(X_test)\n",
    "    \n",
    "    # print metric scores\n",
    "    print('Test  - RMSE:', metrics.mean_squared_error(y_test, y_pred_test, squared=False))\n",
    "    print('Test  -   R2:', metrics.r2_score(y_test, y_pred_test))\n",
    "    print()\n",
    "    print('Train - RMSE:', metrics.mean_squared_error(y_train, y_pred_train, squared=False))\n",
    "    print('Train -   R2:', metrics.r2_score(y_train, y_pred_train))"
   ]
  },
  {
   "cell_type": "code",
   "execution_count": 16,
   "id": "dcaae78c-2d04-4beb-8a10-a42e059ce6dd",
   "metadata": {},
   "outputs": [],
   "source": [
    "def create_polynomial_regression_model(degree):\n",
    "    \n",
    "    \"Creates a polynomial regression model for the given degree\"\n",
    "  \n",
    "    poly_features = PolynomialFeatures(degree=degree)\n",
    "    \n",
    "    \n",
    "    # transforms the existing features to higher degree features.\n",
    "    X_train_poly = poly_features.fit_transform(X_train)\n",
    "    \n",
    "    \n",
    "    # fit the transformed features to Linear Regression\n",
    "    poly_model = LinearRegression()\n",
    "    poly_model.fit(X_train_poly, y_train)\n",
    "    \n",
    "    \n",
    "    # predicting on training data-set\n",
    "    y_train_predicted = poly_model.predict(X_train_poly)\n",
    "    \n",
    "    \n",
    "    # predicting on test data-set\n",
    "    y_test_predict = poly_model.predict(poly_features.fit_transform(X_test))\n",
    "    \n",
    "    \n",
    "    # evaluating the model on training dataset\n",
    "    rmse_train = np.sqrt(mean_squared_error(y_train, y_train_predicted))\n",
    "    r2_train = r2_score(y_train, y_train_predicted)\n",
    "    \n",
    "    \n",
    "    # evaluating the model on test dataset\n",
    "    rmse_test = np.sqrt(mean_squared_error(y_test, y_test_predict))\n",
    "    r2_test = r2_score(y_test, y_test_predict)\n",
    "    \n",
    "    \n",
    "    print(\"The model performance for the training set\")\n",
    "    print(\"-------------------------------------------\")\n",
    "    print(\"RMSE of training set is {}\".format(rmse_train))\n",
    "    print(\"R2 score of training set is {}\".format(r2_train))\n",
    "    \n",
    "    print(\"\\n\")\n",
    "    \n",
    "    print(\"The model performance for the test set\")\n",
    "    print(\"-------------------------------------------\")\n",
    "    print(\"RMSE of test set is {}\".format(rmse_test))\n",
    "    print(\"R2 score of test set is {}\".format(r2_test))"
   ]
  },
  {
   "cell_type": "markdown",
   "id": "48ce99d5-3209-4351-9830-2608b943af03",
   "metadata": {},
   "source": [
    "***"
   ]
  },
  {
   "cell_type": "markdown",
   "id": "34c6e612-c17c-43bd-984d-d72228a9dbbf",
   "metadata": {
    "jp-MarkdownHeadingCollapsed": true,
    "tags": []
   },
   "source": [
    "### Feature Selection / Dimensionality Reduction"
   ]
  },
  {
   "cell_type": "markdown",
   "id": "72e48109-bfdc-47bc-9dc9-8510cc136bdf",
   "metadata": {},
   "source": [
    "We need to apply different selection techniques to find out which one will be the best for our problems.\n",
    "\n",
    "- Original Features vs. PCA conponents?"
   ]
  },
  {
   "cell_type": "code",
   "execution_count": 17,
   "id": "3c9451ac-f634-4324-817a-8368b92e54ad",
   "metadata": {
    "tags": []
   },
   "outputs": [
    {
     "data": {
      "image/png": "[encoded data removed]",
      "text/plain": [
       "<Figure size 432x288 with 1 Axes>"
      ]
     },
     "metadata": {
      "needs_background": "light"
     },
     "output_type": "display_data"
    }
   ],
   "source": [
    "# You must normalize the data before applying the fit method\n",
    "df_normalized=(X_train - X_train.mean()) / X_train.std()\n",
    "pca = PCA(n_components=X_train.shape[1])\n",
    "pca.fit(df_normalized)\n",
    "\n",
    "# Reformat and view results\n",
    "loadings = pd.DataFrame(pca.components_.T,\n",
    "columns=['PC%s' % _ for _ in range(len(df_normalized.columns))],\n",
    "index=X_train.columns)\n",
    "\n",
    "# plot pca components\n",
    "plt.plot(pca.explained_variance_ratio_)\n",
    "plt.ylabel('Explained Variance')\n",
    "plt.xlabel('Components')\n",
    "plt.show()"
   ]
  },
  {
   "cell_type": "markdown",
   "id": "53c388e9-14a5-4dd3-8337-a49e621ab880",
   "metadata": {},
   "source": [
    "### Modeling"
   ]
  },
  {
   "cell_type": "markdown",
   "id": "35189f88-c176-45b1-998d-3522cb1915d2",
   "metadata": {},
   "source": [
    "I will be using the following models.\n",
    "\n",
    "- Linear Regression\n",
    "- Ridge Regression\n",
    "- Lasso Regression\n",
    "- Elastic Net\n",
    "- Polynomial Regression\n",
    "- Random Forest\n",
    "- AdaBoostRegressor"
   ]
  },
  {
   "cell_type": "markdown",
   "id": "5434290b-e4fb-4f0d-9b92-7ced864777fe",
   "metadata": {
    "tags": []
   },
   "source": [
    "#### Regression Models Without Scaling"
   ]
  },
  {
   "cell_type": "markdown",
   "id": "935fce4c-2274-45c4-9c55-25d48f7538f7",
   "metadata": {},
   "source": [
    "##### Linear Regression"
   ]
  },
  {
   "cell_type": "code",
   "execution_count": 29,
   "id": "7f0ebf95-bb79-403c-86d5-f79c714f03f8",
   "metadata": {},
   "outputs": [
    {
     "name": "stdout",
     "output_type": "stream",
     "text": [
      "Test  - RMSE: 49.7256304933709\n",
      "Test  -   R2: 0.009811203780386912\n",
      "\n",
      "Train - RMSE: 47.370105492022034\n",
      "Train -   R2: 0.010463486234568498\n"
     ]
    }
   ],
   "source": [
    "# using helper function\n",
    "prediction_scores(LinearRegression(), X_train, X_test, y_train, y_test)"
   ]
  },
  {
   "cell_type": "code",
   "execution_count": 30,
   "id": "384ff6d9-901c-4998-b5b6-67eb50adfea7",
   "metadata": {},
   "outputs": [
    {
     "name": "stdout",
     "output_type": "stream",
     "text": [
      "Test  - RMSE: 49.7256304933709\n",
      "Test  -   R2: 0.009811203780386912\n",
      "\n",
      "Train - RMSE: 47.370105492022034\n",
      "Train -   R2: 0.010463486234568498\n"
     ]
    }
   ],
   "source": [
    "# train LR model without helper function\n",
    "lr = LinearRegression().fit(X_train, y_train)\n",
    "\n",
    "# predict on train\n",
    "y_pred_train = lr.predict(X_train)\n",
    "\n",
    "# predict on test\n",
    "y_pred_test = lr.predict(X_test)\n",
    "\n",
    "# print metric scores\n",
    "print('Test  - RMSE:', metrics.mean_squared_error(y_test, y_pred_test, squared=False))\n",
    "print('Test  -   R2:', metrics.r2_score(y_test, y_pred_test))\n",
    "print()\n",
    "print('Train - RMSE:', metrics.mean_squared_error(y_train, y_pred_train, squared=False))\n",
    "print('Train -   R2:', metrics.r2_score(y_train, y_pred_train))"
   ]
  },
  {
   "cell_type": "markdown",
   "id": "ed34e5c3-01c8-4387-88e9-fef280afca2f",
   "metadata": {},
   "source": [
    "***"
   ]
  },
  {
   "cell_type": "markdown",
   "id": "49ae6e5b-ac92-4716-8041-43ebad12bbe8",
   "metadata": {},
   "source": [
    "##### Ridge Regression"
   ]
  },
  {
   "cell_type": "code",
   "execution_count": 35,
   "id": "7de41625-49be-4d89-9b8d-136416c10f2f",
   "metadata": {},
   "outputs": [
    {
     "name": "stdout",
     "output_type": "stream",
     "text": [
      "Test  - RMSE: 49.725630418400044\n",
      "Test  -   R2: 0.0098112067661833\n",
      "\n",
      "Train - RMSE: 47.37010549202303\n",
      "Train -   R2: 0.010463486234526975\n"
     ]
    }
   ],
   "source": [
    "# Train model with default alpha = 1\n",
    "ridge = Ridge().fit(X_train, y_train)\n",
    "\n",
    "# predict on train\n",
    "y_pred_train = ridge.predict(X_train)\n",
    "\n",
    "# predict on test\n",
    "y_pred_test = ridge.predict(X_test)\n",
    "\n",
    "# print metric scores\n",
    "print('Test  - RMSE:', metrics.mean_squared_error(y_test, y_pred_test, squared=False))\n",
    "print('Test  -   R2:', metrics.r2_score(y_test, y_pred_test))\n",
    "print()\n",
    "print('Train - RMSE:', metrics.mean_squared_error(y_train, y_pred_train, squared=False))\n",
    "print('Train -   R2:', metrics.r2_score(y_train, y_pred_train))"
   ]
  },
  {
   "cell_type": "code",
   "execution_count": 34,
   "id": "98a84720-5165-4a48-b7e3-7b66549b3526",
   "metadata": {},
   "outputs": [
    {
     "name": "stdout",
     "output_type": "stream",
     "text": [
      "Fitting 5 folds for each of 7 candidates, totalling 35 fits\n",
      "Best Score:  0.009902146347977325\n",
      "Best Params:  {'alpha': 1000}\n"
     ]
    }
   ],
   "source": [
    "# find optimal alpha with grid search\n",
    "alpha = [0.001, 0.01, 0.1, 1, 10, 100, 1000]\n",
    "param_grid = dict(alpha=alpha)\n",
    "\n",
    "# create model\n",
    "grid = GridSearchCV(estimator=ridge, param_grid=param_grid, scoring='r2', verbose=1, n_jobs=-1)\n",
    "\n",
    "# fit model\n",
    "grid_result = grid.fit(X_train, y_train)\n",
    "\n",
    "# print best score and parameters\n",
    "print('Best Score: ', grid_result.best_score_)\n",
    "print('Best Params: ', grid_result.best_params_)"
   ]
  },
  {
   "cell_type": "code",
   "execution_count": 36,
   "id": "9f97260c-ed3e-46c3-89c7-467c3fb34729",
   "metadata": {},
   "outputs": [
    {
     "name": "stdout",
     "output_type": "stream",
     "text": [
      "Test  - RMSE: 49.72555723829629\n",
      "Test  -   R2: 0.009814121241663809\n",
      "\n",
      "Train - RMSE: 47.37010643921397\n",
      "Train -   R2: 0.010463446661888143\n"
     ]
    }
   ],
   "source": [
    "# Train model with new alpha\n",
    "ridge = Ridge(alpha=1000).fit(X_train, y_train)\n",
    "\n",
    "# predict on train\n",
    "y_pred_train = ridge.predict(X_train)\n",
    "\n",
    "# predict on test\n",
    "y_pred_test = ridge.predict(X_test)\n",
    "\n",
    "# print metric scores\n",
    "print('Test  - RMSE:', metrics.mean_squared_error(y_test, y_pred_test, squared=False))\n",
    "print('Test  -   R2:', metrics.r2_score(y_test, y_pred_test))\n",
    "print()\n",
    "print('Train - RMSE:', metrics.mean_squared_error(y_train, y_pred_train, squared=False))\n",
    "print('Train -   R2:', metrics.r2_score(y_train, y_pred_train))"
   ]
  },
  {
   "cell_type": "markdown",
   "id": "9338f792-4ca3-4a50-83b5-4482c876d9e3",
   "metadata": {},
   "source": [
    "***"
   ]
  },
  {
   "cell_type": "markdown",
   "id": "7cb3b328-d721-4651-914b-87d4dc5b3da1",
   "metadata": {},
   "source": [
    "##### Lasso Regression"
   ]
  },
  {
   "cell_type": "code",
   "execution_count": 39,
   "id": "58697e6d-aecd-432b-850b-f619a12bd6db",
   "metadata": {},
   "outputs": [
    {
     "name": "stdout",
     "output_type": "stream",
     "text": [
      "Test  - RMSE: 49.72290068722188\n",
      "Test  -   R2: 0.009919918310232645\n",
      "\n",
      "Train - RMSE: 47.378551027936325\n",
      "Train -   R2: 0.010110609200785103\n"
     ]
    }
   ],
   "source": [
    "# Train model with default parameters\n",
    "lasso = Lasso().fit(X_train, y_train)\n",
    "\n",
    "# predict on train\n",
    "y_pred_train = lasso.predict(X_train)\n",
    "\n",
    "# predict on test\n",
    "y_pred_test = lasso.predict(X_test)\n",
    "\n",
    "# print metric scores\n",
    "print('Test  - RMSE:', metrics.mean_squared_error(y_test, y_pred_test, squared=False))\n",
    "print('Test  -   R2:', metrics.r2_score(y_test, y_pred_test))\n",
    "print()\n",
    "print('Train - RMSE:', metrics.mean_squared_error(y_train, y_pred_train, squared=False))\n",
    "print('Train -   R2:', metrics.r2_score(y_train, y_pred_train))"
   ]
  },
  {
   "cell_type": "code",
   "execution_count": 40,
   "id": "d637e892-07a1-4566-813c-78cdb77eb4c5",
   "metadata": {},
   "outputs": [
    {
     "name": "stdout",
     "output_type": "stream",
     "text": [
      "Fitting 5 folds for each of 7 candidates, totalling 35 fits\n",
      "Best Score:  0.009941882962259752\n",
      "Best Params:  {'alpha': 0.1}\n"
     ]
    }
   ],
   "source": [
    "# find optimal alpha with grid search\n",
    "alpha = [0.001, 0.01, 0.1, 1, 10, 100, 1000]\n",
    "param_grid = dict(alpha=alpha)\n",
    "\n",
    "# create model\n",
    "grid = GridSearchCV(estimator=lasso, param_grid=param_grid, scoring='r2', verbose=1, n_jobs=-1)\n",
    "\n",
    "# fit model\n",
    "grid_result = grid.fit(X_train, y_train)\n",
    "\n",
    "# print best score and parameters\n",
    "print('Best Score: ', grid_result.best_score_)\n",
    "print('Best Params: ', grid_result.best_params_)"
   ]
  },
  {
   "cell_type": "code",
   "execution_count": 41,
   "id": "688dd719-e79c-46b2-b067-7777d538fafc",
   "metadata": {},
   "outputs": [
    {
     "name": "stdout",
     "output_type": "stream",
     "text": [
      "Test  - RMSE: 49.723746285231265\n",
      "Test  -   R2: 0.009886243007564244\n",
      "\n",
      "Train - RMSE: 47.37090680919174\n",
      "Train -   R2: 0.010430007765523275\n"
     ]
    }
   ],
   "source": [
    "# Train model with new alpha\n",
    "lasso = Lasso(alpha=0.1).fit(X_train, y_train)\n",
    "\n",
    "# predict on train\n",
    "y_pred_train = lasso.predict(X_train)\n",
    "\n",
    "# predict on test\n",
    "y_pred_test = lasso.predict(X_test)\n",
    "\n",
    "# print metric scores\n",
    "print('Test  - RMSE:', metrics.mean_squared_error(y_test, y_pred_test, squared=False))\n",
    "print('Test  -   R2:', metrics.r2_score(y_test, y_pred_test))\n",
    "print()\n",
    "print('Train - RMSE:', metrics.mean_squared_error(y_train, y_pred_train, squared=False))\n",
    "print('Train -   R2:', metrics.r2_score(y_train, y_pred_train))"
   ]
  },
  {
   "cell_type": "markdown",
   "id": "c652a081-4a06-4255-b3a3-bce42f4bd2dd",
   "metadata": {},
   "source": [
    "***"
   ]
  },
  {
   "cell_type": "markdown",
   "id": "71ace4e4-835a-40d7-9d2b-73d700d63ef8",
   "metadata": {},
   "source": [
    "##### Elastic Net"
   ]
  },
  {
   "cell_type": "code",
   "execution_count": 44,
   "id": "8a966b8a-5628-4ba1-bf43-f3feb8eed866",
   "metadata": {
    "tags": []
   },
   "outputs": [
    {
     "name": "stdout",
     "output_type": "stream",
     "text": [
      "Test  - RMSE: 49.721818502645846\n",
      "Test  -   R2: 0.009963014658955216\n",
      "\n",
      "Train - RMSE: 47.37576624371249\n",
      "Train -   R2: 0.010226971870618495\n"
     ]
    }
   ],
   "source": [
    "# train model with default parameters\n",
    "elastic_net = ElasticNet().fit(X_train, y_train)\n",
    "\n",
    "# predict on train\n",
    "y_pred_train = elastic_net.predict(X_train)\n",
    "\n",
    "# predict on test\n",
    "y_pred_test = elastic_net.predict(X_test)\n",
    "\n",
    "# print metric scores\n",
    "print('Test  - RMSE:', metrics.mean_squared_error(y_test, y_pred_test, squared=False))\n",
    "print('Test  -   R2:', metrics.r2_score(y_test, y_pred_test))\n",
    "print()\n",
    "print('Train - RMSE:', metrics.mean_squared_error(y_train, y_pred_train, squared=False))\n",
    "print('Train -   R2:', metrics.r2_score(y_train, y_pred_train))"
   ]
  },
  {
   "cell_type": "code",
   "execution_count": 45,
   "id": "5ff7e09e-1133-4084-9197-70b1c9eb9239",
   "metadata": {},
   "outputs": [
    {
     "name": "stdout",
     "output_type": "stream",
     "text": [
      "Fitting 5 folds for each of 77 candidates, totalling 385 fits\n",
      "Best Score:  0.009941882962259752\n",
      "Best Params:  {'alpha': 0.1, 'l1_ratio': 1}\n"
     ]
    }
   ],
   "source": [
    "# find optimal alpha with grid search\n",
    "alpha = [0.001, 0.01, 0.1, 1, 10, 100, 1000]\n",
    "l1_ratio = [0, 0.1, 0.2, 0.3, 0.4, 0.5, 0.6, 0.7, 0.8, 0.9, 1]\n",
    "param_grid = dict(alpha=alpha, l1_ratio=l1_ratio)\n",
    "\n",
    "# creat model\n",
    "grid = GridSearchCV(estimator=elastic_net, param_grid=param_grid, scoring='r2', verbose=1, n_jobs=-1)\n",
    "\n",
    "# fit model\n",
    "grid_result = grid.fit(X_train, y_train)\n",
    "\n",
    "# print best score and parameters\n",
    "print('Best Score: ', grid_result.best_score_)\n",
    "print('Best Params: ', grid_result.best_params_)"
   ]
  },
  {
   "cell_type": "code",
   "execution_count": 56,
   "id": "1ffbd917-9c60-45ae-941a-6b000a9b28ba",
   "metadata": {},
   "outputs": [
    {
     "name": "stdout",
     "output_type": "stream",
     "text": [
      "Test  - RMSE: 49.72243105899726\n",
      "Test  -   R2: 0.009938620652564678\n",
      "\n",
      "Train - RMSE: 47.37295492191873\n",
      "Train -   R2: 0.010344436479439612\n"
     ]
    }
   ],
   "source": [
    "# Train model with new alpha\n",
    "elastic_net = ElasticNet(alpha=0.1, l1_ratio=1).fit(X_train, y_train)\n",
    "\n",
    "# predict on train\n",
    "y_pred_train = elastic_net.predict(X_train)\n",
    "\n",
    "# predict on test\n",
    "y_pred_test = elastic_net.predict(X_test)\n",
    "\n",
    "# print metric scores\n",
    "print('Test  - RMSE:', metrics.mean_squared_error(y_test, y_pred_test, squared=False))\n",
    "print('Test  -   R2:', metrics.r2_score(y_test, y_pred_test))\n",
    "print()\n",
    "print('Train - RMSE:', metrics.mean_squared_error(y_train, y_pred_train, squared=False))\n",
    "print('Train -   R2:', metrics.r2_score(y_train, y_pred_train))"
   ]
  },
  {
   "cell_type": "markdown",
   "id": "60010544-960a-4bc2-b9e8-eb433c25063a",
   "metadata": {},
   "source": [
    "***"
   ]
  },
  {
   "cell_type": "markdown",
   "id": "7121a10e-a1f0-42b5-8c20-7eb0af585228",
   "metadata": {
    "tags": []
   },
   "source": [
    "#### Regression Models With Scaling"
   ]
  },
  {
   "cell_type": "code",
   "execution_count": 48,
   "id": "fa9eb578-9853-4951-8dc6-584b59606c8d",
   "metadata": {},
   "outputs": [],
   "source": [
    "# scale training and test data\n",
    "scaler = StandardScaler()\n",
    "X_train = scaler.fit_transform(X_train)\n",
    "X_test = scaler.fit_transform(X_test)"
   ]
  },
  {
   "cell_type": "markdown",
   "id": "a42c8129-b842-4af5-a818-936b70ee9562",
   "metadata": {},
   "source": [
    "##### Linear Regression"
   ]
  },
  {
   "cell_type": "code",
   "execution_count": 49,
   "id": "e404c8d6-0a43-46d5-98f9-fb9d75c20ca5",
   "metadata": {
    "collapsed": true,
    "jupyter": {
     "outputs_hidden": true
    },
    "tags": []
   },
   "outputs": [
    {
     "name": "stdout",
     "output_type": "stream",
     "text": [
      "Test  - RMSE: 49.725629292117574\n",
      "Test  -   R2: 0.009811251621613448\n",
      "\n",
      "Train - RMSE: 47.37010549202203\n",
      "Train -   R2: 0.010463486234568609\n"
     ]
    },
    {
     "name": "stderr",
     "output_type": "stream",
     "text": [
      "/opt/homebrew/Caskroom/miniforge/base/envs/base_env/lib/python3.8/site-packages/sklearn/linear_model/_coordinate_descent.py:647: ConvergenceWarning: Objective did not converge. You might want to increase the number of iterations, check the scale of the features or consider increasing regularisation. Duality gap: 9.969e+07, tolerance: 2.015e+04 Linear regression models with null weight for the l1 regularization term are more efficiently fitted using one of the solvers implemented in sklearn.linear_model.Ridge/RidgeCV instead.\n",
      "  model = cd_fast.enet_coordinate_descent(\n",
      "/opt/homebrew/Caskroom/miniforge/base/envs/base_env/lib/python3.8/site-packages/sklearn/linear_model/_coordinate_descent.py:647: ConvergenceWarning: Objective did not converge. You might want to increase the number of iterations, check the scale of the features or consider increasing regularisation. Duality gap: 9.716e+07, tolerance: 1.964e+04 Linear regression models with null weight for the l1 regularization term are more efficiently fitted using one of the solvers implemented in sklearn.linear_model.Ridge/RidgeCV instead.\n",
      "  model = cd_fast.enet_coordinate_descent(\n",
      "/opt/homebrew/Caskroom/miniforge/base/envs/base_env/lib/python3.8/site-packages/sklearn/linear_model/_coordinate_descent.py:647: ConvergenceWarning: Objective did not converge. You might want to increase the number of iterations, check the scale of the features or consider increasing regularisation. Duality gap: 9.665e+07, tolerance: 1.953e+04 Linear regression models with null weight for the l1 regularization term are more efficiently fitted using one of the solvers implemented in sklearn.linear_model.Ridge/RidgeCV instead.\n",
      "  model = cd_fast.enet_coordinate_descent(\n",
      "/opt/homebrew/Caskroom/miniforge/base/envs/base_env/lib/python3.8/site-packages/sklearn/linear_model/_coordinate_descent.py:647: ConvergenceWarning: Objective did not converge. You might want to increase the number of iterations, check the scale of the features or consider increasing regularisation. Duality gap: 9.840e+07, tolerance: 1.988e+04 Linear regression models with null weight for the l1 regularization term are more efficiently fitted using one of the solvers implemented in sklearn.linear_model.Ridge/RidgeCV instead.\n",
      "  model = cd_fast.enet_coordinate_descent(\n",
      "/opt/homebrew/Caskroom/miniforge/base/envs/base_env/lib/python3.8/site-packages/sklearn/linear_model/_coordinate_descent.py:647: ConvergenceWarning: Objective did not converge. You might want to increase the number of iterations, check the scale of the features or consider increasing regularisation. Duality gap: 9.723e+07, tolerance: 1.964e+04 Linear regression models with null weight for the l1 regularization term are more efficiently fitted using one of the solvers implemented in sklearn.linear_model.Ridge/RidgeCV instead.\n",
      "  model = cd_fast.enet_coordinate_descent(\n",
      "/opt/homebrew/Caskroom/miniforge/base/envs/base_env/lib/python3.8/site-packages/sklearn/linear_model/_coordinate_descent.py:647: ConvergenceWarning: Objective did not converge. You might want to increase the number of iterations, check the scale of the features or consider increasing regularisation. Duality gap: 9.715e+07, tolerance: 1.964e+04 Linear regression models with null weight for the l1 regularization term are more efficiently fitted using one of the solvers implemented in sklearn.linear_model.Ridge/RidgeCV instead.\n",
      "  model = cd_fast.enet_coordinate_descent(\n",
      "/opt/homebrew/Caskroom/miniforge/base/envs/base_env/lib/python3.8/site-packages/sklearn/linear_model/_coordinate_descent.py:647: ConvergenceWarning: Objective did not converge. You might want to increase the number of iterations, check the scale of the features or consider increasing regularisation. Duality gap: 1.005e+08, tolerance: 2.032e+04 Linear regression models with null weight for the l1 regularization term are more efficiently fitted using one of the solvers implemented in sklearn.linear_model.Ridge/RidgeCV instead.\n",
      "  model = cd_fast.enet_coordinate_descent(\n",
      "/opt/homebrew/Caskroom/miniforge/base/envs/base_env/lib/python3.8/site-packages/sklearn/linear_model/_coordinate_descent.py:647: ConvergenceWarning: Objective did not converge. You might want to increase the number of iterations, check the scale of the features or consider increasing regularisation. Duality gap: 9.664e+07, tolerance: 1.953e+04 Linear regression models with null weight for the l1 regularization term are more efficiently fitted using one of the solvers implemented in sklearn.linear_model.Ridge/RidgeCV instead.\n",
      "  model = cd_fast.enet_coordinate_descent(\n",
      "/opt/homebrew/Caskroom/miniforge/base/envs/base_env/lib/python3.8/site-packages/sklearn/linear_model/_coordinate_descent.py:647: ConvergenceWarning: Objective did not converge. You might want to increase the number of iterations, check the scale of the features or consider increasing regularisation. Duality gap: 9.842e+07, tolerance: 1.988e+04 Linear regression models with null weight for the l1 regularization term are more efficiently fitted using one of the solvers implemented in sklearn.linear_model.Ridge/RidgeCV instead.\n",
      "  model = cd_fast.enet_coordinate_descent(\n",
      "/opt/homebrew/Caskroom/miniforge/base/envs/base_env/lib/python3.8/site-packages/sklearn/linear_model/_coordinate_descent.py:647: ConvergenceWarning: Objective did not converge. You might want to increase the number of iterations, check the scale of the features or consider increasing regularisation. Duality gap: 9.718e+07, tolerance: 1.964e+04 Linear regression models with null weight for the l1 regularization term are more efficiently fitted using one of the solvers implemented in sklearn.linear_model.Ridge/RidgeCV instead.\n",
      "  model = cd_fast.enet_coordinate_descent(\n",
      "/opt/homebrew/Caskroom/miniforge/base/envs/base_env/lib/python3.8/site-packages/sklearn/linear_model/_coordinate_descent.py:647: ConvergenceWarning: Objective did not converge. You might want to increase the number of iterations, check the scale of the features or consider increasing regularisation. Duality gap: 9.668e+07, tolerance: 1.953e+04 Linear regression models with null weight for the l1 regularization term are more efficiently fitted using one of the solvers implemented in sklearn.linear_model.Ridge/RidgeCV instead.\n",
      "  model = cd_fast.enet_coordinate_descent(\n",
      "/opt/homebrew/Caskroom/miniforge/base/envs/base_env/lib/python3.8/site-packages/sklearn/linear_model/_coordinate_descent.py:647: ConvergenceWarning: Objective did not converge. You might want to increase the number of iterations, check the scale of the features or consider increasing regularisation. Duality gap: 9.975e+07, tolerance: 2.015e+04 Linear regression models with null weight for the l1 regularization term are more efficiently fitted using one of the solvers implemented in sklearn.linear_model.Ridge/RidgeCV instead.\n",
      "  model = cd_fast.enet_coordinate_descent(\n",
      "/opt/homebrew/Caskroom/miniforge/base/envs/base_env/lib/python3.8/site-packages/sklearn/linear_model/_coordinate_descent.py:647: ConvergenceWarning: Objective did not converge. You might want to increase the number of iterations, check the scale of the features or consider increasing regularisation. Duality gap: 9.969e+07, tolerance: 2.015e+04 Linear regression models with null weight for the l1 regularization term are more efficiently fitted using one of the solvers implemented in sklearn.linear_model.Ridge/RidgeCV instead.\n",
      "  model = cd_fast.enet_coordinate_descent(\n",
      "/opt/homebrew/Caskroom/miniforge/base/envs/base_env/lib/python3.8/site-packages/sklearn/linear_model/_coordinate_descent.py:647: ConvergenceWarning: Objective did not converge. You might want to increase the number of iterations, check the scale of the features or consider increasing regularisation. Duality gap: 9.971e+07, tolerance: 2.015e+04 Linear regression models with null weight for the l1 regularization term are more efficiently fitted using one of the solvers implemented in sklearn.linear_model.Ridge/RidgeCV instead.\n",
      "  model = cd_fast.enet_coordinate_descent(\n",
      "/opt/homebrew/Caskroom/miniforge/base/envs/base_env/lib/python3.8/site-packages/sklearn/linear_model/_coordinate_descent.py:647: ConvergenceWarning: Objective did not converge. You might want to increase the number of iterations, check the scale of the features or consider increasing regularisation. Duality gap: 1.006e+08, tolerance: 2.032e+04 Linear regression models with null weight for the l1 regularization term are more efficiently fitted using one of the solvers implemented in sklearn.linear_model.Ridge/RidgeCV instead.\n",
      "  model = cd_fast.enet_coordinate_descent(\n",
      "/opt/homebrew/Caskroom/miniforge/base/envs/base_env/lib/python3.8/site-packages/sklearn/linear_model/_coordinate_descent.py:647: ConvergenceWarning: Objective did not converge. You might want to increase the number of iterations, check the scale of the features or consider increasing regularisation. Duality gap: 9.670e+07, tolerance: 1.953e+04 Linear regression models with null weight for the l1 regularization term are more efficiently fitted using one of the solvers implemented in sklearn.linear_model.Ridge/RidgeCV instead.\n",
      "  model = cd_fast.enet_coordinate_descent(\n",
      "/opt/homebrew/Caskroom/miniforge/base/envs/base_env/lib/python3.8/site-packages/sklearn/linear_model/_coordinate_descent.py:647: ConvergenceWarning: Objective did not converge. You might want to increase the number of iterations, check the scale of the features or consider increasing regularisation. Duality gap: 9.969e+07, tolerance: 2.015e+04 Linear regression models with null weight for the l1 regularization term are more efficiently fitted using one of the solvers implemented in sklearn.linear_model.Ridge/RidgeCV instead.\n",
      "  model = cd_fast.enet_coordinate_descent(\n",
      "/opt/homebrew/Caskroom/miniforge/base/envs/base_env/lib/python3.8/site-packages/sklearn/linear_model/_coordinate_descent.py:647: ConvergenceWarning: Objective did not converge. You might want to increase the number of iterations, check the scale of the features or consider increasing regularisation. Duality gap: 9.973e+07, tolerance: 2.015e+04 Linear regression models with null weight for the l1 regularization term are more efficiently fitted using one of the solvers implemented in sklearn.linear_model.Ridge/RidgeCV instead.\n",
      "  model = cd_fast.enet_coordinate_descent(\n",
      "/opt/homebrew/Caskroom/miniforge/base/envs/base_env/lib/python3.8/site-packages/sklearn/linear_model/_coordinate_descent.py:647: ConvergenceWarning: Objective did not converge. You might want to increase the number of iterations, check the scale of the features or consider increasing regularisation. Duality gap: 1.006e+08, tolerance: 2.032e+04 Linear regression models with null weight for the l1 regularization term are more efficiently fitted using one of the solvers implemented in sklearn.linear_model.Ridge/RidgeCV instead.\n",
      "  model = cd_fast.enet_coordinate_descent(\n",
      "/opt/homebrew/Caskroom/miniforge/base/envs/base_env/lib/python3.8/site-packages/sklearn/linear_model/_coordinate_descent.py:647: ConvergenceWarning: Objective did not converge. You might want to increase the number of iterations, check the scale of the features or consider increasing regularisation. Duality gap: 9.836e+07, tolerance: 1.988e+04 Linear regression models with null weight for the l1 regularization term are more efficiently fitted using one of the solvers implemented in sklearn.linear_model.Ridge/RidgeCV instead.\n",
      "  model = cd_fast.enet_coordinate_descent(\n",
      "/opt/homebrew/Caskroom/miniforge/base/envs/base_env/lib/python3.8/site-packages/sklearn/linear_model/_coordinate_descent.py:647: ConvergenceWarning: Objective did not converge. You might want to increase the number of iterations, check the scale of the features or consider increasing regularisation. Duality gap: 9.716e+07, tolerance: 1.964e+04 Linear regression models with null weight for the l1 regularization term are more efficiently fitted using one of the solvers implemented in sklearn.linear_model.Ridge/RidgeCV instead.\n",
      "  model = cd_fast.enet_coordinate_descent(\n",
      "/opt/homebrew/Caskroom/miniforge/base/envs/base_env/lib/python3.8/site-packages/sklearn/linear_model/_coordinate_descent.py:647: ConvergenceWarning: Objective did not converge. You might want to increase the number of iterations, check the scale of the features or consider increasing regularisation. Duality gap: 1.005e+08, tolerance: 2.032e+04 Linear regression models with null weight for the l1 regularization term are more efficiently fitted using one of the solvers implemented in sklearn.linear_model.Ridge/RidgeCV instead.\n",
      "  model = cd_fast.enet_coordinate_descent(\n",
      "/opt/homebrew/Caskroom/miniforge/base/envs/base_env/lib/python3.8/site-packages/sklearn/linear_model/_coordinate_descent.py:647: ConvergenceWarning: Objective did not converge. You might want to increase the number of iterations, check the scale of the features or consider increasing regularisation. Duality gap: 1.006e+08, tolerance: 2.032e+04 Linear regression models with null weight for the l1 regularization term are more efficiently fitted using one of the solvers implemented in sklearn.linear_model.Ridge/RidgeCV instead.\n",
      "  model = cd_fast.enet_coordinate_descent(\n",
      "/opt/homebrew/Caskroom/miniforge/base/envs/base_env/lib/python3.8/site-packages/sklearn/linear_model/_coordinate_descent.py:647: ConvergenceWarning: Objective did not converge. You might want to increase the number of iterations, check the scale of the features or consider increasing regularisation. Duality gap: 9.721e+07, tolerance: 1.964e+04 Linear regression models with null weight for the l1 regularization term are more efficiently fitted using one of the solvers implemented in sklearn.linear_model.Ridge/RidgeCV instead.\n",
      "  model = cd_fast.enet_coordinate_descent(\n",
      "/opt/homebrew/Caskroom/miniforge/base/envs/base_env/lib/python3.8/site-packages/sklearn/linear_model/_coordinate_descent.py:647: ConvergenceWarning: Objective did not converge. You might want to increase the number of iterations, check the scale of the features or consider increasing regularisation. Duality gap: 9.843e+07, tolerance: 1.988e+04 Linear regression models with null weight for the l1 regularization term are more efficiently fitted using one of the solvers implemented in sklearn.linear_model.Ridge/RidgeCV instead.\n",
      "  model = cd_fast.enet_coordinate_descent(\n",
      "/opt/homebrew/Caskroom/miniforge/base/envs/base_env/lib/python3.8/site-packages/sklearn/linear_model/_coordinate_descent.py:647: ConvergenceWarning: Objective did not converge. You might want to increase the number of iterations, check the scale of the features or consider increasing regularisation. Duality gap: 1.005e+08, tolerance: 2.032e+04 Linear regression models with null weight for the l1 regularization term are more efficiently fitted using one of the solvers implemented in sklearn.linear_model.Ridge/RidgeCV instead.\n",
      "  model = cd_fast.enet_coordinate_descent(\n",
      "/opt/homebrew/Caskroom/miniforge/base/envs/base_env/lib/python3.8/site-packages/sklearn/linear_model/_coordinate_descent.py:647: ConvergenceWarning: Objective did not converge. You might want to increase the number of iterations, check the scale of the features or consider increasing regularisation. Duality gap: 9.836e+07, tolerance: 1.988e+04 Linear regression models with null weight for the l1 regularization term are more efficiently fitted using one of the solvers implemented in sklearn.linear_model.Ridge/RidgeCV instead.\n",
      "  model = cd_fast.enet_coordinate_descent(\n",
      "/opt/homebrew/Caskroom/miniforge/base/envs/base_env/lib/python3.8/site-packages/sklearn/linear_model/_coordinate_descent.py:647: ConvergenceWarning: Objective did not converge. You might want to increase the number of iterations, check the scale of the features or consider increasing regularisation. Duality gap: 9.837e+07, tolerance: 1.988e+04 Linear regression models with null weight for the l1 regularization term are more efficiently fitted using one of the solvers implemented in sklearn.linear_model.Ridge/RidgeCV instead.\n",
      "  model = cd_fast.enet_coordinate_descent(\n",
      "/opt/homebrew/Caskroom/miniforge/base/envs/base_env/lib/python3.8/site-packages/sklearn/linear_model/_coordinate_descent.py:647: ConvergenceWarning: Objective did not converge. You might want to increase the number of iterations, check the scale of the features or consider increasing regularisation. Duality gap: 9.838e+07, tolerance: 1.988e+04 Linear regression models with null weight for the l1 regularization term are more efficiently fitted using one of the solvers implemented in sklearn.linear_model.Ridge/RidgeCV instead.\n",
      "  model = cd_fast.enet_coordinate_descent(\n",
      "/opt/homebrew/Caskroom/miniforge/base/envs/base_env/lib/python3.8/site-packages/sklearn/linear_model/_coordinate_descent.py:647: ConvergenceWarning: Objective did not converge. You might want to increase the number of iterations, check the scale of the features or consider increasing regularisation. Duality gap: 9.669e+07, tolerance: 1.953e+04 Linear regression models with null weight for the l1 regularization term are more efficiently fitted using one of the solvers implemented in sklearn.linear_model.Ridge/RidgeCV instead.\n",
      "  model = cd_fast.enet_coordinate_descent(\n",
      "/opt/homebrew/Caskroom/miniforge/base/envs/base_env/lib/python3.8/site-packages/sklearn/linear_model/_coordinate_descent.py:647: ConvergenceWarning: Objective did not converge. You might want to increase the number of iterations, check the scale of the features or consider increasing regularisation. Duality gap: 9.976e+07, tolerance: 2.015e+04 Linear regression models with null weight for the l1 regularization term are more efficiently fitted using one of the solvers implemented in sklearn.linear_model.Ridge/RidgeCV instead.\n",
      "  model = cd_fast.enet_coordinate_descent(\n",
      "/opt/homebrew/Caskroom/miniforge/base/envs/base_env/lib/python3.8/site-packages/sklearn/linear_model/_coordinate_descent.py:647: ConvergenceWarning: Objective did not converge. You might want to increase the number of iterations, check the scale of the features or consider increasing regularisation. Duality gap: 9.663e+07, tolerance: 1.953e+04 Linear regression models with null weight for the l1 regularization term are more efficiently fitted using one of the solvers implemented in sklearn.linear_model.Ridge/RidgeCV instead.\n",
      "  model = cd_fast.enet_coordinate_descent(\n",
      "/opt/homebrew/Caskroom/miniforge/base/envs/base_env/lib/python3.8/site-packages/sklearn/linear_model/_coordinate_descent.py:647: ConvergenceWarning: Objective did not converge. You might want to increase the number of iterations, check the scale of the features or consider increasing regularisation. Duality gap: 9.663e+07, tolerance: 1.953e+04 Linear regression models with null weight for the l1 regularization term are more efficiently fitted using one of the solvers implemented in sklearn.linear_model.Ridge/RidgeCV instead.\n",
      "  model = cd_fast.enet_coordinate_descent(\n",
      "/opt/homebrew/Caskroom/miniforge/base/envs/base_env/lib/python3.8/site-packages/sklearn/linear_model/_coordinate_descent.py:647: ConvergenceWarning: Objective did not converge. You might want to increase the number of iterations, check the scale of the features or consider increasing regularisation. Duality gap: 1.006e+08, tolerance: 2.032e+04 Linear regression models with null weight for the l1 regularization term are more efficiently fitted using one of the solvers implemented in sklearn.linear_model.Ridge/RidgeCV instead.\n",
      "  model = cd_fast.enet_coordinate_descent(\n",
      "/opt/homebrew/Caskroom/miniforge/base/envs/base_env/lib/python3.8/site-packages/sklearn/linear_model/_coordinate_descent.py:647: ConvergenceWarning: Objective did not converge. You might want to increase the number of iterations, check the scale of the features or consider increasing regularisation. Duality gap: 9.723e+07, tolerance: 1.964e+04 Linear regression models with null weight for the l1 regularization term are more efficiently fitted using one of the solvers implemented in sklearn.linear_model.Ridge/RidgeCV instead.\n",
      "  model = cd_fast.enet_coordinate_descent(\n"
     ]
    }
   ],
   "source": [
    "# train LR model without helper function\n",
    "lr = LinearRegression().fit(X_train, y_train)\n",
    "\n",
    "# predict on train\n",
    "y_pred_train = lr.predict(X_train)\n",
    "\n",
    "# predict on test\n",
    "y_pred_test = lr.predict(X_test)\n",
    "\n",
    "# print metric scores\n",
    "print('Test  - RMSE:', metrics.mean_squared_error(y_test, y_pred_test, squared=False))\n",
    "print('Test  -   R2:', metrics.r2_score(y_test, y_pred_test))\n",
    "print()\n",
    "print('Train - RMSE:', metrics.mean_squared_error(y_train, y_pred_train, squared=False))\n",
    "print('Train -   R2:', metrics.r2_score(y_train, y_pred_train))"
   ]
  },
  {
   "cell_type": "markdown",
   "id": "927a433d-9cc6-4d63-8515-401001e60a6d",
   "metadata": {},
   "source": [
    "***"
   ]
  },
  {
   "cell_type": "markdown",
   "id": "a9a32d11-645a-44f1-9e9c-2db479dd7dea",
   "metadata": {},
   "source": [
    "##### Ridge Regression"
   ]
  },
  {
   "cell_type": "code",
   "execution_count": 50,
   "id": "c48bf4bc-c8a1-4387-9238-e98f5284379b",
   "metadata": {},
   "outputs": [
    {
     "name": "stdout",
     "output_type": "stream",
     "text": [
      "Test  - RMSE: 49.72562896298813\n",
      "Test  -   R2: 0.00981126472955296\n",
      "\n",
      "Train - RMSE: 47.37010549206762\n",
      "Train -   R2: 0.010463486232663799\n"
     ]
    }
   ],
   "source": [
    "# Train model with default alpha = 1\n",
    "ridge = Ridge().fit(X_train, y_train)\n",
    "\n",
    "# predict on train\n",
    "y_pred_train = ridge.predict(X_train)\n",
    "\n",
    "# predict on test\n",
    "y_pred_test = ridge.predict(X_test)\n",
    "\n",
    "# print metric scores\n",
    "print('Test  - RMSE:', metrics.mean_squared_error(y_test, y_pred_test, squared=False))\n",
    "print('Test  -   R2:', metrics.r2_score(y_test, y_pred_test))\n",
    "print()\n",
    "print('Train - RMSE:', metrics.mean_squared_error(y_train, y_pred_train, squared=False))\n",
    "print('Train -   R2:', metrics.r2_score(y_train, y_pred_train))"
   ]
  },
  {
   "cell_type": "code",
   "execution_count": 51,
   "id": "a702d9e3-435f-4fd0-a018-79015dd36815",
   "metadata": {},
   "outputs": [
    {
     "name": "stdout",
     "output_type": "stream",
     "text": [
      "Fitting 5 folds for each of 7 candidates, totalling 35 fits\n",
      "Best Score:  0.009939153849484428\n",
      "Best Params:  {'alpha': 1000}\n"
     ]
    }
   ],
   "source": [
    "# find optimal alpha with grid search\n",
    "alpha = [0.001, 0.01, 0.1, 1, 10, 100, 1000]\n",
    "param_grid = dict(alpha=alpha)\n",
    "\n",
    "# create model\n",
    "grid = GridSearchCV(estimator=ridge, param_grid=param_grid, scoring='r2', verbose=1, n_jobs=-1)\n",
    "\n",
    "# fit model\n",
    "grid_result = grid.fit(X_train, y_train)\n",
    "\n",
    "# print best score and parameters\n",
    "print('Best Score: ', grid_result.best_score_)\n",
    "print('Best Params: ', grid_result.best_params_)"
   ]
  },
  {
   "cell_type": "code",
   "execution_count": 52,
   "id": "b4a1307f-453e-4788-a8cf-cc076e2339ca",
   "metadata": {},
   "outputs": [
    {
     "name": "stdout",
     "output_type": "stream",
     "text": [
      "Test  - RMSE: 49.72538733017534\n",
      "Test  -   R2: 0.009820887996788152\n",
      "\n",
      "Train - RMSE: 47.370138194457624\n",
      "Train -   R2: 0.01046211996084212\n"
     ]
    }
   ],
   "source": [
    "# Train model with new alpha\n",
    "ridge = Ridge(alpha=1000).fit(X_train, y_train)\n",
    "\n",
    "# predict on train\n",
    "y_pred_train = ridge.predict(X_train)\n",
    "\n",
    "# predict on test\n",
    "y_pred_test = ridge.predict(X_test)\n",
    "\n",
    "# print metric scores\n",
    "print('Test  - RMSE:', metrics.mean_squared_error(y_test, y_pred_test, squared=False))\n",
    "print('Test  -   R2:', metrics.r2_score(y_test, y_pred_test))\n",
    "print()\n",
    "print('Train - RMSE:', metrics.mean_squared_error(y_train, y_pred_train, squared=False))\n",
    "print('Train -   R2:', metrics.r2_score(y_train, y_pred_train))"
   ]
  },
  {
   "cell_type": "markdown",
   "id": "ed7cf9cb-3737-481a-bed9-38be3a480f3e",
   "metadata": {},
   "source": [
    "***"
   ]
  },
  {
   "cell_type": "markdown",
   "id": "6a675424-9a16-4d15-b470-a29467e9566e",
   "metadata": {},
   "source": [
    "##### Lasso Regression"
   ]
  },
  {
   "cell_type": "code",
   "execution_count": 53,
   "id": "4a76f45e-21a5-453c-8d87-67775115737c",
   "metadata": {},
   "outputs": [
    {
     "name": "stdout",
     "output_type": "stream",
     "text": [
      "Test  - RMSE: 49.76062575899115\n",
      "Test  -   R2: 0.008416988642818701\n",
      "\n",
      "Train - RMSE: 47.41196623959991\n",
      "Train -   R2: 0.00871381562123874\n"
     ]
    }
   ],
   "source": [
    "# Train model with default parameters\n",
    "lasso = Lasso().fit(X_train, y_train)\n",
    "\n",
    "# predict on train\n",
    "y_pred_train = lasso.predict(X_train)\n",
    "\n",
    "# predict on test\n",
    "y_pred_test = lasso.predict(X_test)\n",
    "\n",
    "# print metric scores\n",
    "print('Test  - RMSE:', metrics.mean_squared_error(y_test, y_pred_test, squared=False))\n",
    "print('Test  -   R2:', metrics.r2_score(y_test, y_pred_test))\n",
    "print()\n",
    "print('Train - RMSE:', metrics.mean_squared_error(y_train, y_pred_train, squared=False))\n",
    "print('Train -   R2:', metrics.r2_score(y_train, y_pred_train))"
   ]
  },
  {
   "cell_type": "code",
   "execution_count": 54,
   "id": "51f0da37-c0c0-4e1e-80db-f49209deeb9e",
   "metadata": {},
   "outputs": [
    {
     "name": "stdout",
     "output_type": "stream",
     "text": [
      "Fitting 5 folds for each of 7 candidates, totalling 35 fits\n",
      "Best Score:  0.009959448394709436\n",
      "Best Params:  {'alpha': 0.01}\n"
     ]
    }
   ],
   "source": [
    "# find optimal alpha with grid search\n",
    "alpha = [0.001, 0.01, 0.1, 1, 10, 100, 1000]\n",
    "param_grid = dict(alpha=alpha)\n",
    "\n",
    "# create model\n",
    "grid = GridSearchCV(estimator=lasso, param_grid=param_grid, scoring='r2', verbose=1, n_jobs=-1)\n",
    "\n",
    "# fit model\n",
    "grid_result = grid.fit(X_train, y_train)\n",
    "\n",
    "# print best score and parameters\n",
    "print('Best Score: ', grid_result.best_score_)\n",
    "print('Best Params: ', grid_result.best_params_)"
   ]
  },
  {
   "cell_type": "code",
   "execution_count": 55,
   "id": "079a3908-3ef5-4d38-b6d3-a8b049273558",
   "metadata": {},
   "outputs": [
    {
     "name": "stdout",
     "output_type": "stream",
     "text": [
      "Test  - RMSE: 49.72243105899726\n",
      "Test  -   R2: 0.009938620652564678\n",
      "\n",
      "Train - RMSE: 47.37295492191873\n",
      "Train -   R2: 0.010344436479439612\n"
     ]
    }
   ],
   "source": [
    "# Train model with new alpha\n",
    "lasso = Lasso(alpha=0.1).fit(X_train, y_train)\n",
    "\n",
    "# predict on train\n",
    "y_pred_train = lasso.predict(X_train)\n",
    "\n",
    "# predict on test\n",
    "y_pred_test = lasso.predict(X_test)\n",
    "\n",
    "# print metric scores\n",
    "print('Test  - RMSE:', metrics.mean_squared_error(y_test, y_pred_test, squared=False))\n",
    "print('Test  -   R2:', metrics.r2_score(y_test, y_pred_test))\n",
    "print()\n",
    "print('Train - RMSE:', metrics.mean_squared_error(y_train, y_pred_train, squared=False))\n",
    "print('Train -   R2:', metrics.r2_score(y_train, y_pred_train))"
   ]
  },
  {
   "cell_type": "markdown",
   "id": "a8e42797-9ce0-48cc-b40f-1ace5ea3e299",
   "metadata": {},
   "source": [
    "***"
   ]
  },
  {
   "cell_type": "markdown",
   "id": "78cf25fe-7503-4670-831b-fffee8be4d37",
   "metadata": {},
   "source": [
    "##### Elastic Net"
   ]
  },
  {
   "cell_type": "code",
   "execution_count": 57,
   "id": "3404f7dd-d0fa-49b8-b295-0448f726bb8e",
   "metadata": {
    "tags": []
   },
   "outputs": [
    {
     "name": "stdout",
     "output_type": "stream",
     "text": [
      "Test  - RMSE: 49.76271822288391\n",
      "Test  -   R2: 0.008333593579325504\n",
      "\n",
      "Train - RMSE: 47.41626995251868\n",
      "Train -   R2: 0.008533843975931488\n"
     ]
    }
   ],
   "source": [
    "# train model with default parameters\n",
    "elastic_net = ElasticNet().fit(X_train, y_train)\n",
    "\n",
    "# predict on train\n",
    "y_pred_train = elastic_net.predict(X_train)\n",
    "\n",
    "# predict on test\n",
    "y_pred_test = elastic_net.predict(X_test)\n",
    "\n",
    "# print metric scores\n",
    "print('Test  - RMSE:', metrics.mean_squared_error(y_test, y_pred_test, squared=False))\n",
    "print('Test  -   R2:', metrics.r2_score(y_test, y_pred_test))\n",
    "print()\n",
    "print('Train - RMSE:', metrics.mean_squared_error(y_train, y_pred_train, squared=False))\n",
    "print('Train -   R2:', metrics.r2_score(y_train, y_pred_train))"
   ]
  },
  {
   "cell_type": "code",
   "execution_count": 58,
   "id": "66bb04a2-5f2e-4316-8bf5-2b7207836dec",
   "metadata": {},
   "outputs": [
    {
     "name": "stdout",
     "output_type": "stream",
     "text": [
      "Fitting 5 folds for each of 77 candidates, totalling 385 fits\n",
      "Best Score:  0.009959448394709436\n",
      "Best Params:  {'alpha': 0.01, 'l1_ratio': 1}\n"
     ]
    }
   ],
   "source": [
    "# find optimal alpha with grid search\n",
    "alpha = [0.001, 0.01, 0.1, 1, 10, 100, 1000]\n",
    "l1_ratio = [0, 0.1, 0.2, 0.3, 0.4, 0.5, 0.6, 0.7, 0.8, 0.9, 1]\n",
    "param_grid = dict(alpha=alpha, l1_ratio=l1_ratio)\n",
    "\n",
    "# creat model\n",
    "grid = GridSearchCV(estimator=elastic_net, param_grid=param_grid, scoring='r2', verbose=1, n_jobs=-1)\n",
    "\n",
    "# fit model\n",
    "grid_result = grid.fit(X_train, y_train)\n",
    "\n",
    "# print best score and parameters\n",
    "print('Best Score: ', grid_result.best_score_)\n",
    "print('Best Params: ', grid_result.best_params_)"
   ]
  },
  {
   "cell_type": "code",
   "execution_count": 59,
   "id": "e0aad3c9-df1d-4e45-a63a-7e2b60e51b42",
   "metadata": {},
   "outputs": [
    {
     "name": "stdout",
     "output_type": "stream",
     "text": [
      "Test  - RMSE: 49.72243105899726\n",
      "Test  -   R2: 0.009938620652564678\n",
      "\n",
      "Train - RMSE: 47.37295492191873\n",
      "Train -   R2: 0.010344436479439612\n"
     ]
    }
   ],
   "source": [
    "# Train model with new alpha\n",
    "elastic_net = ElasticNet(alpha=0.1, l1_ratio=1).fit(X_train, y_train)\n",
    "\n",
    "# predict on train\n",
    "y_pred_train = elastic_net.predict(X_train)\n",
    "\n",
    "# predict on test\n",
    "y_pred_test = elastic_net.predict(X_test)\n",
    "\n",
    "# print metric scores\n",
    "print('Test  - RMSE:', metrics.mean_squared_error(y_test, y_pred_test, squared=False))\n",
    "print('Test  -   R2:', metrics.r2_score(y_test, y_pred_test))\n",
    "print()\n",
    "print('Train - RMSE:', metrics.mean_squared_error(y_train, y_pred_train, squared=False))\n",
    "print('Train -   R2:', metrics.r2_score(y_train, y_pred_train))"
   ]
  },
  {
   "cell_type": "markdown",
   "id": "9ac60981-a038-4e6a-8ab7-490d1dc12897",
   "metadata": {},
   "source": [
    "***"
   ]
  },
  {
   "cell_type": "markdown",
   "id": "217c6a9c-9c2b-4e62-9589-17e1de523bc5",
   "metadata": {},
   "source": [
    "#### Polynomial Regression With Scaling"
   ]
  },
  {
   "cell_type": "code",
   "execution_count": 17,
   "id": "484a7a95-4371-474d-8d07-355fd03a4df7",
   "metadata": {},
   "outputs": [
    {
     "name": "stdout",
     "output_type": "stream",
     "text": [
      "The model performance for the training set\n",
      "-------------------------------------------\n",
      "RMSE of training set is 47.150909319039535\n",
      "R2 score of training set is 0.019600083113504585\n",
      "\n",
      "\n",
      "The model performance for the test set\n",
      "-------------------------------------------\n",
      "RMSE of test set is 191880.29149298512\n",
      "R2 score of test set is -14744095.011314606\n"
     ]
    }
   ],
   "source": [
    "create_polynomial_regression_model(2)"
   ]
  },
  {
   "cell_type": "code",
   "execution_count": 18,
   "id": "3dcea551-961c-42b7-9e61-52658e3a89b8",
   "metadata": {},
   "outputs": [
    {
     "name": "stdout",
     "output_type": "stream",
     "text": [
      "The model performance for the training set\n",
      "-------------------------------------------\n",
      "RMSE of training set is 46.327855162599576\n",
      "R2 score of training set is 0.05352857037302883\n",
      "\n",
      "\n",
      "The model performance for the test set\n",
      "-------------------------------------------\n",
      "RMSE of test set is 80005990.53295365\n",
      "R2 score of test set is -2563317627587.0947\n"
     ]
    }
   ],
   "source": [
    "create_polynomial_regression_model(3)"
   ]
  },
  {
   "cell_type": "markdown",
   "id": "0fd87690-b43f-436b-829a-054150133dff",
   "metadata": {},
   "source": [
    "***"
   ]
  },
  {
   "cell_type": "markdown",
   "id": "d01a7e36-5a12-49ea-a857-0ea2f35a0216",
   "metadata": {
    "tags": []
   },
   "source": [
    "#### Random Forest"
   ]
  },
  {
   "cell_type": "markdown",
   "id": "d3b1ed56-ebc9-4900-b2a8-e4077417aef4",
   "metadata": {
    "tags": []
   },
   "source": [
    "##### Random Forest Grid Search without Feature Selection"
   ]
  },
  {
   "cell_type": "code",
   "execution_count": 62,
   "id": "58cfde62-120f-4f2b-9541-8277462683e1",
   "metadata": {
    "collapsed": true,
    "jupyter": {
     "outputs_hidden": true
    },
    "tags": []
   },
   "outputs": [
    {
     "name": "stderr",
     "output_type": "stream",
     "text": [
      "/opt/homebrew/Caskroom/miniforge/base/envs/base_env/lib/python3.8/site-packages/sklearn/linear_model/_coordinate_descent.py:647: ConvergenceWarning: Objective did not converge. You might want to increase the number of iterations, check the scale of the features or consider increasing regularisation. Duality gap: 9.969e+07, tolerance: 2.015e+04 Linear regression models with null weight for the l1 regularization term are more efficiently fitted using one of the solvers implemented in sklearn.linear_model.Ridge/RidgeCV instead.\n",
      "  model = cd_fast.enet_coordinate_descent(\n",
      "/opt/homebrew/Caskroom/miniforge/base/envs/base_env/lib/python3.8/site-packages/sklearn/linear_model/_coordinate_descent.py:647: ConvergenceWarning: Objective did not converge. You might want to increase the number of iterations, check the scale of the features or consider increasing regularisation. Duality gap: 1.005e+08, tolerance: 2.032e+04 Linear regression models with null weight for the l1 regularization term are more efficiently fitted using one of the solvers implemented in sklearn.linear_model.Ridge/RidgeCV instead.\n",
      "  model = cd_fast.enet_coordinate_descent(\n",
      "/opt/homebrew/Caskroom/miniforge/base/envs/base_env/lib/python3.8/site-packages/sklearn/linear_model/_coordinate_descent.py:647: ConvergenceWarning: Objective did not converge. You might want to increase the number of iterations, check the scale of the features or consider increasing regularisation. Duality gap: 1.006e+08, tolerance: 2.032e+04 Linear regression models with null weight for the l1 regularization term are more efficiently fitted using one of the solvers implemented in sklearn.linear_model.Ridge/RidgeCV instead.\n",
      "  model = cd_fast.enet_coordinate_descent(\n",
      "/opt/homebrew/Caskroom/miniforge/base/envs/base_env/lib/python3.8/site-packages/sklearn/linear_model/_coordinate_descent.py:647: ConvergenceWarning: Objective did not converge. You might want to increase the number of iterations, check the scale of the features or consider increasing regularisation. Duality gap: 1.015e+08, tolerance: 2.032e+04 Linear regression models with null weight for the l1 regularization term are more efficiently fitted using one of the solvers implemented in sklearn.linear_model.Ridge/RidgeCV instead.\n",
      "  model = cd_fast.enet_coordinate_descent(\n",
      "/opt/homebrew/Caskroom/miniforge/base/envs/base_env/lib/python3.8/site-packages/sklearn/linear_model/_coordinate_descent.py:647: ConvergenceWarning: Objective did not converge. You might want to increase the number of iterations, check the scale of the features or consider increasing regularisation. Duality gap: 9.819e+07, tolerance: 1.964e+04 Linear regression models with null weight for the l1 regularization term are more efficiently fitted using one of the solvers implemented in sklearn.linear_model.Ridge/RidgeCV instead.\n",
      "  model = cd_fast.enet_coordinate_descent(\n",
      "/opt/homebrew/Caskroom/miniforge/base/envs/base_env/lib/python3.8/site-packages/sklearn/linear_model/_coordinate_descent.py:647: ConvergenceWarning: Objective did not converge. You might want to increase the number of iterations, check the scale of the features or consider increasing regularisation. Duality gap: 1.005e+08, tolerance: 2.032e+04 Linear regression models with null weight for the l1 regularization term are more efficiently fitted using one of the solvers implemented in sklearn.linear_model.Ridge/RidgeCV instead.\n",
      "  model = cd_fast.enet_coordinate_descent(\n",
      "/opt/homebrew/Caskroom/miniforge/base/envs/base_env/lib/python3.8/site-packages/sklearn/linear_model/_coordinate_descent.py:647: ConvergenceWarning: Objective did not converge. You might want to increase the number of iterations, check the scale of the features or consider increasing regularisation. Duality gap: 1.010e+08, tolerance: 2.032e+04 Linear regression models with null weight for the l1 regularization term are more efficiently fitted using one of the solvers implemented in sklearn.linear_model.Ridge/RidgeCV instead.\n",
      "  model = cd_fast.enet_coordinate_descent(\n",
      "/opt/homebrew/Caskroom/miniforge/base/envs/base_env/lib/python3.8/site-packages/sklearn/linear_model/_coordinate_descent.py:647: ConvergenceWarning: Objective did not converge. You might want to increase the number of iterations, check the scale of the features or consider increasing regularisation. Duality gap: 9.937e+07, tolerance: 1.988e+04 Linear regression models with null weight for the l1 regularization term are more efficiently fitted using one of the solvers implemented in sklearn.linear_model.Ridge/RidgeCV instead.\n",
      "  model = cd_fast.enet_coordinate_descent(\n",
      "/opt/homebrew/Caskroom/miniforge/base/envs/base_env/lib/python3.8/site-packages/sklearn/linear_model/_coordinate_descent.py:647: ConvergenceWarning: Objective did not converge. You might want to increase the number of iterations, check the scale of the features or consider increasing regularisation. Duality gap: 9.716e+07, tolerance: 1.964e+04 Linear regression models with null weight for the l1 regularization term are more efficiently fitted using one of the solvers implemented in sklearn.linear_model.Ridge/RidgeCV instead.\n",
      "  model = cd_fast.enet_coordinate_descent(\n",
      "/opt/homebrew/Caskroom/miniforge/base/envs/base_env/lib/python3.8/site-packages/sklearn/linear_model/_coordinate_descent.py:647: ConvergenceWarning: Objective did not converge. You might want to increase the number of iterations, check the scale of the features or consider increasing regularisation. Duality gap: 9.723e+07, tolerance: 1.964e+04 Linear regression models with null weight for the l1 regularization term are more efficiently fitted using one of the solvers implemented in sklearn.linear_model.Ridge/RidgeCV instead.\n",
      "  model = cd_fast.enet_coordinate_descent(\n",
      "/opt/homebrew/Caskroom/miniforge/base/envs/base_env/lib/python3.8/site-packages/sklearn/linear_model/_coordinate_descent.py:647: ConvergenceWarning: Objective did not converge. You might want to increase the number of iterations, check the scale of the features or consider increasing regularisation. Duality gap: 9.924e+07, tolerance: 1.988e+04 Linear regression models with null weight for the l1 regularization term are more efficiently fitted using one of the solvers implemented in sklearn.linear_model.Ridge/RidgeCV instead.\n",
      "  model = cd_fast.enet_coordinate_descent(\n",
      "/opt/homebrew/Caskroom/miniforge/base/envs/base_env/lib/python3.8/site-packages/sklearn/linear_model/_coordinate_descent.py:647: ConvergenceWarning: Objective did not converge. You might want to increase the number of iterations, check the scale of the features or consider increasing regularisation. Duality gap: 1.007e+08, tolerance: 2.015e+04 Linear regression models with null weight for the l1 regularization term are more efficiently fitted using one of the solvers implemented in sklearn.linear_model.Ridge/RidgeCV instead.\n",
      "  model = cd_fast.enet_coordinate_descent(\n",
      "/opt/homebrew/Caskroom/miniforge/base/envs/base_env/lib/python3.8/site-packages/sklearn/linear_model/_coordinate_descent.py:647: ConvergenceWarning: Objective did not converge. You might want to increase the number of iterations, check the scale of the features or consider increasing regularisation. Duality gap: 9.836e+07, tolerance: 1.988e+04 Linear regression models with null weight for the l1 regularization term are more efficiently fitted using one of the solvers implemented in sklearn.linear_model.Ridge/RidgeCV instead.\n",
      "  model = cd_fast.enet_coordinate_descent(\n",
      "/opt/homebrew/Caskroom/miniforge/base/envs/base_env/lib/python3.8/site-packages/sklearn/linear_model/_coordinate_descent.py:647: ConvergenceWarning: Objective did not converge. You might want to increase the number of iterations, check the scale of the features or consider increasing regularisation. Duality gap: 9.976e+07, tolerance: 2.015e+04 Linear regression models with null weight for the l1 regularization term are more efficiently fitted using one of the solvers implemented in sklearn.linear_model.Ridge/RidgeCV instead.\n",
      "  model = cd_fast.enet_coordinate_descent(\n",
      "/opt/homebrew/Caskroom/miniforge/base/envs/base_env/lib/python3.8/site-packages/sklearn/linear_model/_coordinate_descent.py:647: ConvergenceWarning: Objective did not converge. You might want to increase the number of iterations, check the scale of the features or consider increasing regularisation. Duality gap: 9.750e+07, tolerance: 1.953e+04 Linear regression models with null weight for the l1 regularization term are more efficiently fitted using one of the solvers implemented in sklearn.linear_model.Ridge/RidgeCV instead.\n",
      "  model = cd_fast.enet_coordinate_descent(\n",
      "/opt/homebrew/Caskroom/miniforge/base/envs/base_env/lib/python3.8/site-packages/sklearn/linear_model/_coordinate_descent.py:647: ConvergenceWarning: Objective did not converge. You might want to increase the number of iterations, check the scale of the features or consider increasing regularisation. Duality gap: 9.764e+07, tolerance: 1.953e+04 Linear regression models with null weight for the l1 regularization term are more efficiently fitted using one of the solvers implemented in sklearn.linear_model.Ridge/RidgeCV instead.\n",
      "  model = cd_fast.enet_coordinate_descent(\n",
      "/opt/homebrew/Caskroom/miniforge/base/envs/base_env/lib/python3.8/site-packages/sklearn/linear_model/_coordinate_descent.py:647: ConvergenceWarning: Objective did not converge. You might want to increase the number of iterations, check the scale of the features or consider increasing regularisation. Duality gap: 9.663e+07, tolerance: 1.953e+04 Linear regression models with null weight for the l1 regularization term are more efficiently fitted using one of the solvers implemented in sklearn.linear_model.Ridge/RidgeCV instead.\n",
      "  model = cd_fast.enet_coordinate_descent(\n",
      "/opt/homebrew/Caskroom/miniforge/base/envs/base_env/lib/python3.8/site-packages/sklearn/linear_model/_coordinate_descent.py:647: ConvergenceWarning: Objective did not converge. You might want to increase the number of iterations, check the scale of the features or consider increasing regularisation. Duality gap: 9.877e+07, tolerance: 1.988e+04 Linear regression models with null weight for the l1 regularization term are more efficiently fitted using one of the solvers implemented in sklearn.linear_model.Ridge/RidgeCV instead.\n",
      "  model = cd_fast.enet_coordinate_descent(\n",
      "/opt/homebrew/Caskroom/miniforge/base/envs/base_env/lib/python3.8/site-packages/sklearn/linear_model/_coordinate_descent.py:647: ConvergenceWarning: Objective did not converge. You might want to increase the number of iterations, check the scale of the features or consider increasing regularisation. Duality gap: 9.807e+07, tolerance: 1.964e+04 Linear regression models with null weight for the l1 regularization term are more efficiently fitted using one of the solvers implemented in sklearn.linear_model.Ridge/RidgeCV instead.\n",
      "  model = cd_fast.enet_coordinate_descent(\n",
      "/opt/homebrew/Caskroom/miniforge/base/envs/base_env/lib/python3.8/site-packages/sklearn/linear_model/_coordinate_descent.py:647: ConvergenceWarning: Objective did not converge. You might want to increase the number of iterations, check the scale of the features or consider increasing regularisation. Duality gap: 1.016e+08, tolerance: 2.032e+04 Linear regression models with null weight for the l1 regularization term are more efficiently fitted using one of the solvers implemented in sklearn.linear_model.Ridge/RidgeCV instead.\n",
      "  model = cd_fast.enet_coordinate_descent(\n",
      "/opt/homebrew/Caskroom/miniforge/base/envs/base_env/lib/python3.8/site-packages/sklearn/linear_model/_coordinate_descent.py:647: ConvergenceWarning: Objective did not converge. You might want to increase the number of iterations, check the scale of the features or consider increasing regularisation. Duality gap: 9.664e+07, tolerance: 1.953e+04 Linear regression models with null weight for the l1 regularization term are more efficiently fitted using one of the solvers implemented in sklearn.linear_model.Ridge/RidgeCV instead.\n",
      "  model = cd_fast.enet_coordinate_descent(\n",
      "/opt/homebrew/Caskroom/miniforge/base/envs/base_env/lib/python3.8/site-packages/sklearn/linear_model/_coordinate_descent.py:647: ConvergenceWarning: Objective did not converge. You might want to increase the number of iterations, check the scale of the features or consider increasing regularisation. Duality gap: 9.703e+07, tolerance: 1.953e+04 Linear regression models with null weight for the l1 regularization term are more efficiently fitted using one of the solvers implemented in sklearn.linear_model.Ridge/RidgeCV instead.\n",
      "  model = cd_fast.enet_coordinate_descent(\n",
      "/opt/homebrew/Caskroom/miniforge/base/envs/base_env/lib/python3.8/site-packages/sklearn/linear_model/_coordinate_descent.py:647: ConvergenceWarning: Objective did not converge. You might want to increase the number of iterations, check the scale of the features or consider increasing regularisation. Duality gap: 1.006e+08, tolerance: 2.015e+04 Linear regression models with null weight for the l1 regularization term are more efficiently fitted using one of the solvers implemented in sklearn.linear_model.Ridge/RidgeCV instead.\n",
      "  model = cd_fast.enet_coordinate_descent(\n",
      "/opt/homebrew/Caskroom/miniforge/base/envs/base_env/lib/python3.8/site-packages/sklearn/linear_model/_coordinate_descent.py:647: ConvergenceWarning: Objective did not converge. You might want to increase the number of iterations, check the scale of the features or consider increasing regularisation. Duality gap: 9.938e+07, tolerance: 1.988e+04 Linear regression models with null weight for the l1 regularization term are more efficiently fitted using one of the solvers implemented in sklearn.linear_model.Ridge/RidgeCV instead.\n",
      "  model = cd_fast.enet_coordinate_descent(\n",
      "/opt/homebrew/Caskroom/miniforge/base/envs/base_env/lib/python3.8/site-packages/sklearn/linear_model/_coordinate_descent.py:647: ConvergenceWarning: Objective did not converge. You might want to increase the number of iterations, check the scale of the features or consider increasing regularisation. Duality gap: 9.716e+07, tolerance: 1.964e+04 Linear regression models with null weight for the l1 regularization term are more efficiently fitted using one of the solvers implemented in sklearn.linear_model.Ridge/RidgeCV instead.\n",
      "  model = cd_fast.enet_coordinate_descent(\n",
      "/opt/homebrew/Caskroom/miniforge/base/envs/base_env/lib/python3.8/site-packages/sklearn/linear_model/_coordinate_descent.py:647: ConvergenceWarning: Objective did not converge. You might want to increase the number of iterations, check the scale of the features or consider increasing regularisation. Duality gap: 9.837e+07, tolerance: 1.988e+04 Linear regression models with null weight for the l1 regularization term are more efficiently fitted using one of the solvers implemented in sklearn.linear_model.Ridge/RidgeCV instead.\n",
      "  model = cd_fast.enet_coordinate_descent(\n",
      "/opt/homebrew/Caskroom/miniforge/base/envs/base_env/lib/python3.8/site-packages/sklearn/linear_model/_coordinate_descent.py:647: ConvergenceWarning: Objective did not converge. You might want to increase the number of iterations, check the scale of the features or consider increasing regularisation. Duality gap: 9.843e+07, tolerance: 1.988e+04 Linear regression models with null weight for the l1 regularization term are more efficiently fitted using one of the solvers implemented in sklearn.linear_model.Ridge/RidgeCV instead.\n",
      "  model = cd_fast.enet_coordinate_descent(\n",
      "/opt/homebrew/Caskroom/miniforge/base/envs/base_env/lib/python3.8/site-packages/sklearn/linear_model/_coordinate_descent.py:647: ConvergenceWarning: Objective did not converge. You might want to increase the number of iterations, check the scale of the features or consider increasing regularisation. Duality gap: 9.757e+07, tolerance: 1.964e+04 Linear regression models with null weight for the l1 regularization term are more efficiently fitted using one of the solvers implemented in sklearn.linear_model.Ridge/RidgeCV instead.\n",
      "  model = cd_fast.enet_coordinate_descent(\n",
      "/opt/homebrew/Caskroom/miniforge/base/envs/base_env/lib/python3.8/site-packages/sklearn/linear_model/_coordinate_descent.py:647: ConvergenceWarning: Objective did not converge. You might want to increase the number of iterations, check the scale of the features or consider increasing regularisation. Duality gap: 1.016e+08, tolerance: 2.032e+04 Linear regression models with null weight for the l1 regularization term are more efficiently fitted using one of the solvers implemented in sklearn.linear_model.Ridge/RidgeCV instead.\n",
      "  model = cd_fast.enet_coordinate_descent(\n",
      "/opt/homebrew/Caskroom/miniforge/base/envs/base_env/lib/python3.8/site-packages/sklearn/linear_model/_coordinate_descent.py:647: ConvergenceWarning: Objective did not converge. You might want to increase the number of iterations, check the scale of the features or consider increasing regularisation. Duality gap: 1.007e+08, tolerance: 2.015e+04 Linear regression models with null weight for the l1 regularization term are more efficiently fitted using one of the solvers implemented in sklearn.linear_model.Ridge/RidgeCV instead.\n",
      "  model = cd_fast.enet_coordinate_descent(\n",
      "/opt/homebrew/Caskroom/miniforge/base/envs/base_env/lib/python3.8/site-packages/sklearn/linear_model/_coordinate_descent.py:647: ConvergenceWarning: Objective did not converge. You might want to increase the number of iterations, check the scale of the features or consider increasing regularisation. Duality gap: 9.970e+07, tolerance: 2.015e+04 Linear regression models with null weight for the l1 regularization term are more efficiently fitted using one of the solvers implemented in sklearn.linear_model.Ridge/RidgeCV instead.\n",
      "  model = cd_fast.enet_coordinate_descent(\n",
      "/opt/homebrew/Caskroom/miniforge/base/envs/base_env/lib/python3.8/site-packages/sklearn/linear_model/_coordinate_descent.py:647: ConvergenceWarning: Objective did not converge. You might want to increase the number of iterations, check the scale of the features or consider increasing regularisation. Duality gap: 9.670e+07, tolerance: 1.953e+04 Linear regression models with null weight for the l1 regularization term are more efficiently fitted using one of the solvers implemented in sklearn.linear_model.Ridge/RidgeCV instead.\n",
      "  model = cd_fast.enet_coordinate_descent(\n",
      "/opt/homebrew/Caskroom/miniforge/base/envs/base_env/lib/python3.8/site-packages/sklearn/linear_model/_coordinate_descent.py:647: ConvergenceWarning: Objective did not converge. You might want to increase the number of iterations, check the scale of the features or consider increasing regularisation. Duality gap: 1.001e+08, tolerance: 2.015e+04 Linear regression models with null weight for the l1 regularization term are more efficiently fitted using one of the solvers implemented in sklearn.linear_model.Ridge/RidgeCV instead.\n",
      "  model = cd_fast.enet_coordinate_descent(\n",
      "/opt/homebrew/Caskroom/miniforge/base/envs/base_env/lib/python3.8/site-packages/sklearn/linear_model/_coordinate_descent.py:647: ConvergenceWarning: Objective did not converge. You might want to increase the number of iterations, check the scale of the features or consider increasing regularisation. Duality gap: 9.763e+07, tolerance: 1.953e+04 Linear regression models with null weight for the l1 regularization term are more efficiently fitted using one of the solvers implemented in sklearn.linear_model.Ridge/RidgeCV instead.\n",
      "  model = cd_fast.enet_coordinate_descent(\n",
      "/opt/homebrew/Caskroom/miniforge/base/envs/base_env/lib/python3.8/site-packages/sklearn/linear_model/_coordinate_descent.py:647: ConvergenceWarning: Objective did not converge. You might want to increase the number of iterations, check the scale of the features or consider increasing regularisation. Duality gap: 9.821e+07, tolerance: 1.964e+04 Linear regression models with null weight for the l1 regularization term are more efficiently fitted using one of the solvers implemented in sklearn.linear_model.Ridge/RidgeCV instead.\n",
      "  model = cd_fast.enet_coordinate_descent(\n"
     ]
    }
   ],
   "source": [
    "### RUN THE FOLLOWING TO GET VALUES BEFORE SCALING\n",
    "\n",
    "# bring in training data from csv\n",
    "df = pd.read_csv('../final_training.csv')\n",
    "\n",
    "# set X & y\n",
    "X = df.drop(columns=['arr_delay'])\n",
    "y = df['arr_delay']\n",
    "\n",
    "# split into training and testing data\n",
    "X_train, X_test, y_train, y_test = train_test_split(X, y, test_size = 0.30, random_state = 101)\n",
    "\n",
    "# encode categorical variables\n",
    "encoder = ce.OrdinalEncoder(cols=['mkt_unique_carrier', 'tail_num', 'branded_code_share'])\n",
    "\n",
    "# fit onto training and testing DataFrames\n",
    "X_train = encoder.fit_transform(X_train)\n",
    "X_test = encoder.transform(X_test)"
   ]
  },
  {
   "cell_type": "code",
   "execution_count": 25,
   "id": "08f30c7b-8cb9-499e-924b-3d19911af414",
   "metadata": {},
   "outputs": [],
   "source": [
    "# create model\n",
    "rfc = RandomForestClassifier(random_state=42)"
   ]
  },
  {
   "cell_type": "code",
   "execution_count": 26,
   "id": "68167f74-462e-4b65-b3dd-381875f6ba4e",
   "metadata": {},
   "outputs": [],
   "source": [
    "# set up parameters for grid search\n",
    "param_grid = { \n",
    "    'n_estimators': [200, 500],\n",
    "    'max_features': ['auto', 'sqrt', 'log2'],\n",
    "    'max_depth' : [4,5,6,7,8],\n",
    "    'criterion' :['gini', 'entropy']\n",
    "}"
   ]
  },
  {
   "cell_type": "code",
   "execution_count": 27,
   "id": "349dec7d-e0cb-4983-9ef2-d8fe2b82b671",
   "metadata": {},
   "outputs": [
    {
     "name": "stderr",
     "output_type": "stream",
     "text": [
      "/opt/homebrew/Caskroom/miniforge/base/envs/base_env/lib/python3.8/site-packages/sklearn/model_selection/_split.py:676: UserWarning: The least populated class in y has only 1 members, which is less than n_splits=5.\n",
      "  warnings.warn(\n"
     ]
    },
    {
     "data": {
      "text/plain": [
       "GridSearchCV(cv=5, estimator=RandomForestClassifier(random_state=42),\n",
       "             param_grid={'criterion': ['gini', 'entropy'],\n",
       "                         'max_depth': [4, 5, 6, 7, 8],\n",
       "                         'max_features': ['auto', 'sqrt', 'log2'],\n",
       "                         'n_estimators': [200, 500]})"
      ]
     },
     "execution_count": 27,
     "metadata": {},
     "output_type": "execute_result"
    }
   ],
   "source": [
    "# create and fit GridSearch\n",
    "CV_rfc = GridSearchCV(estimator=rfc, param_grid=param_grid, cv= 5)\n",
    "CV_rfc.fit(X_train, y_train)"
   ]
  },
  {
   "cell_type": "code",
   "execution_count": 28,
   "id": "94792ef5-bdc2-46ea-aef5-bd26f720f1c0",
   "metadata": {},
   "outputs": [
    {
     "data": {
      "text/plain": [
       "{'criterion': 'gini',\n",
       " 'max_depth': 7,\n",
       " 'max_features': 'auto',\n",
       " 'n_estimators': 200}"
      ]
     },
     "execution_count": 28,
     "metadata": {},
     "output_type": "execute_result"
    }
   ],
   "source": [
    "# find the best parameters\n",
    "CV_rfc.best_params_"
   ]
  },
  {
   "cell_type": "code",
   "execution_count": 63,
   "id": "28e94103-6e08-4412-89ed-7d534198d6a8",
   "metadata": {},
   "outputs": [
    {
     "name": "stdout",
     "output_type": "stream",
     "text": [
      "Test  - RMSE: 52.287670120114996\n",
      "Test  -   R2: -0.09485345287142621\n",
      "\n",
      "Train - RMSE: 49.98695850627074\n",
      "Train -   R2: -0.10188569669692105\n"
     ]
    }
   ],
   "source": [
    "# create new model with optimized parameters\n",
    "rfc1 = RandomForestClassifier(random_state=42, \n",
    "                              max_features='auto', \n",
    "                              n_estimators= 200, \n",
    "                              max_depth=7, \n",
    "                              criterion='gini', \n",
    "                              n_jobs=-1)\n",
    "\n",
    "# fit new model\n",
    "rfc1.fit(X_train, y_train)\n",
    "\n",
    "# predict on train\n",
    "y_pred_train = rfc1.predict(X_train)\n",
    "\n",
    "# predict on test\n",
    "y_pred_test = rfc1.predict(X_test)\n",
    "\n",
    "# print metric scores\n",
    "print('Test  - RMSE:', metrics.mean_squared_error(y_test, y_pred_test, squared=False))\n",
    "print('Test  -   R2:', metrics.r2_score(y_test, y_pred_test))\n",
    "print()\n",
    "print('Train - RMSE:', metrics.mean_squared_error(y_train, y_pred_train, squared=False))\n",
    "print('Train -   R2:', metrics.r2_score(y_train, y_pred_train))"
   ]
  },
  {
   "cell_type": "markdown",
   "id": "387c1fb1-d480-42ea-b778-393c03a261a1",
   "metadata": {
    "tags": []
   },
   "source": [
    "##### Random Forest With Scaling, No Feature Selection"
   ]
  },
  {
   "cell_type": "code",
   "execution_count": 154,
   "id": "e1047c65-bcab-4c0b-ae66-4dfab61a103a",
   "metadata": {},
   "outputs": [],
   "source": [
    "scaler = StandardScaler()\n",
    "X_train = scaler.fit_transform(X_train)\n",
    "X_test = scaler.fit_transform(X_test)"
   ]
  },
  {
   "cell_type": "code",
   "execution_count": null,
   "id": "dd781d48-3640-4a01-b033-efafb350d1e2",
   "metadata": {},
   "outputs": [],
   "source": [
    "# create new model with optimized parameters\n",
    "rfc1 = RandomForestClassifier(random_state=42, \n",
    "                              max_features='auto', \n",
    "                              n_estimators= 200, \n",
    "                              max_depth=7, \n",
    "                              criterion='gini', \n",
    "                              n_jobs=-1)\n",
    "\n",
    "# fit new model\n",
    "rfc1.fit(X_train, y_train)\n",
    "\n",
    "# predict on train\n",
    "y_pred_train = rfc1.predict(X_train)\n",
    "\n",
    "# predict on test\n",
    "y_pred_test = rfc1.predict(X_test)\n",
    "\n",
    "# print metric scores\n",
    "print('Test  - RMSE:', metrics.mean_squared_error(y_test, y_pred_test, squared=False))\n",
    "print('Test  -   R2:', metrics.r2_score(y_test, y_pred_test))\n",
    "print()\n",
    "print('Train - RMSE:', metrics.mean_squared_error(y_train, y_pred_train, squared=False))\n",
    "print('Train -   R2:', metrics.r2_score(y_train, y_pred_train))"
   ]
  },
  {
   "cell_type": "markdown",
   "id": "8f826f53-39e0-4f2e-af25-38ea43d12162",
   "metadata": {},
   "source": [
    "***"
   ]
  },
  {
   "cell_type": "markdown",
   "id": "1cdae148-301d-4155-b371-5ad08bb056ba",
   "metadata": {},
   "source": [
    "##### Random Forest with Feature Selection"
   ]
  },
  {
   "cell_type": "code",
   "execution_count": 62,
   "id": "f287c1d9-3c7a-466b-baed-0422d57fae32",
   "metadata": {
    "collapsed": true,
    "jupyter": {
     "outputs_hidden": true
    },
    "tags": []
   },
   "outputs": [
    {
     "name": "stderr",
     "output_type": "stream",
     "text": [
      "/opt/homebrew/Caskroom/miniforge/base/envs/base_env/lib/python3.8/site-packages/sklearn/linear_model/_coordinate_descent.py:647: ConvergenceWarning: Objective did not converge. You might want to increase the number of iterations, check the scale of the features or consider increasing regularisation. Duality gap: 9.969e+07, tolerance: 2.015e+04 Linear regression models with null weight for the l1 regularization term are more efficiently fitted using one of the solvers implemented in sklearn.linear_model.Ridge/RidgeCV instead.\n",
      "  model = cd_fast.enet_coordinate_descent(\n",
      "/opt/homebrew/Caskroom/miniforge/base/envs/base_env/lib/python3.8/site-packages/sklearn/linear_model/_coordinate_descent.py:647: ConvergenceWarning: Objective did not converge. You might want to increase the number of iterations, check the scale of the features or consider increasing regularisation. Duality gap: 1.005e+08, tolerance: 2.032e+04 Linear regression models with null weight for the l1 regularization term are more efficiently fitted using one of the solvers implemented in sklearn.linear_model.Ridge/RidgeCV instead.\n",
      "  model = cd_fast.enet_coordinate_descent(\n",
      "/opt/homebrew/Caskroom/miniforge/base/envs/base_env/lib/python3.8/site-packages/sklearn/linear_model/_coordinate_descent.py:647: ConvergenceWarning: Objective did not converge. You might want to increase the number of iterations, check the scale of the features or consider increasing regularisation. Duality gap: 1.006e+08, tolerance: 2.032e+04 Linear regression models with null weight for the l1 regularization term are more efficiently fitted using one of the solvers implemented in sklearn.linear_model.Ridge/RidgeCV instead.\n",
      "  model = cd_fast.enet_coordinate_descent(\n",
      "/opt/homebrew/Caskroom/miniforge/base/envs/base_env/lib/python3.8/site-packages/sklearn/linear_model/_coordinate_descent.py:647: ConvergenceWarning: Objective did not converge. You might want to increase the number of iterations, check the scale of the features or consider increasing regularisation. Duality gap: 1.015e+08, tolerance: 2.032e+04 Linear regression models with null weight for the l1 regularization term are more efficiently fitted using one of the solvers implemented in sklearn.linear_model.Ridge/RidgeCV instead.\n",
      "  model = cd_fast.enet_coordinate_descent(\n",
      "/opt/homebrew/Caskroom/miniforge/base/envs/base_env/lib/python3.8/site-packages/sklearn/linear_model/_coordinate_descent.py:647: ConvergenceWarning: Objective did not converge. You might want to increase the number of iterations, check the scale of the features or consider increasing regularisation. Duality gap: 9.819e+07, tolerance: 1.964e+04 Linear regression models with null weight for the l1 regularization term are more efficiently fitted using one of the solvers implemented in sklearn.linear_model.Ridge/RidgeCV instead.\n",
      "  model = cd_fast.enet_coordinate_descent(\n",
      "/opt/homebrew/Caskroom/miniforge/base/envs/base_env/lib/python3.8/site-packages/sklearn/linear_model/_coordinate_descent.py:647: ConvergenceWarning: Objective did not converge. You might want to increase the number of iterations, check the scale of the features or consider increasing regularisation. Duality gap: 1.005e+08, tolerance: 2.032e+04 Linear regression models with null weight for the l1 regularization term are more efficiently fitted using one of the solvers implemented in sklearn.linear_model.Ridge/RidgeCV instead.\n",
      "  model = cd_fast.enet_coordinate_descent(\n",
      "/opt/homebrew/Caskroom/miniforge/base/envs/base_env/lib/python3.8/site-packages/sklearn/linear_model/_coordinate_descent.py:647: ConvergenceWarning: Objective did not converge. You might want to increase the number of iterations, check the scale of the features or consider increasing regularisation. Duality gap: 1.010e+08, tolerance: 2.032e+04 Linear regression models with null weight for the l1 regularization term are more efficiently fitted using one of the solvers implemented in sklearn.linear_model.Ridge/RidgeCV instead.\n",
      "  model = cd_fast.enet_coordinate_descent(\n",
      "/opt/homebrew/Caskroom/miniforge/base/envs/base_env/lib/python3.8/site-packages/sklearn/linear_model/_coordinate_descent.py:647: ConvergenceWarning: Objective did not converge. You might want to increase the number of iterations, check the scale of the features or consider increasing regularisation. Duality gap: 9.937e+07, tolerance: 1.988e+04 Linear regression models with null weight for the l1 regularization term are more efficiently fitted using one of the solvers implemented in sklearn.linear_model.Ridge/RidgeCV instead.\n",
      "  model = cd_fast.enet_coordinate_descent(\n",
      "/opt/homebrew/Caskroom/miniforge/base/envs/base_env/lib/python3.8/site-packages/sklearn/linear_model/_coordinate_descent.py:647: ConvergenceWarning: Objective did not converge. You might want to increase the number of iterations, check the scale of the features or consider increasing regularisation. Duality gap: 9.716e+07, tolerance: 1.964e+04 Linear regression models with null weight for the l1 regularization term are more efficiently fitted using one of the solvers implemented in sklearn.linear_model.Ridge/RidgeCV instead.\n",
      "  model = cd_fast.enet_coordinate_descent(\n",
      "/opt/homebrew/Caskroom/miniforge/base/envs/base_env/lib/python3.8/site-packages/sklearn/linear_model/_coordinate_descent.py:647: ConvergenceWarning: Objective did not converge. You might want to increase the number of iterations, check the scale of the features or consider increasing regularisation. Duality gap: 9.723e+07, tolerance: 1.964e+04 Linear regression models with null weight for the l1 regularization term are more efficiently fitted using one of the solvers implemented in sklearn.linear_model.Ridge/RidgeCV instead.\n",
      "  model = cd_fast.enet_coordinate_descent(\n",
      "/opt/homebrew/Caskroom/miniforge/base/envs/base_env/lib/python3.8/site-packages/sklearn/linear_model/_coordinate_descent.py:647: ConvergenceWarning: Objective did not converge. You might want to increase the number of iterations, check the scale of the features or consider increasing regularisation. Duality gap: 9.924e+07, tolerance: 1.988e+04 Linear regression models with null weight for the l1 regularization term are more efficiently fitted using one of the solvers implemented in sklearn.linear_model.Ridge/RidgeCV instead.\n",
      "  model = cd_fast.enet_coordinate_descent(\n",
      "/opt/homebrew/Caskroom/miniforge/base/envs/base_env/lib/python3.8/site-packages/sklearn/linear_model/_coordinate_descent.py:647: ConvergenceWarning: Objective did not converge. You might want to increase the number of iterations, check the scale of the features or consider increasing regularisation. Duality gap: 1.007e+08, tolerance: 2.015e+04 Linear regression models with null weight for the l1 regularization term are more efficiently fitted using one of the solvers implemented in sklearn.linear_model.Ridge/RidgeCV instead.\n",
      "  model = cd_fast.enet_coordinate_descent(\n",
      "/opt/homebrew/Caskroom/miniforge/base/envs/base_env/lib/python3.8/site-packages/sklearn/linear_model/_coordinate_descent.py:647: ConvergenceWarning: Objective did not converge. You might want to increase the number of iterations, check the scale of the features or consider increasing regularisation. Duality gap: 9.836e+07, tolerance: 1.988e+04 Linear regression models with null weight for the l1 regularization term are more efficiently fitted using one of the solvers implemented in sklearn.linear_model.Ridge/RidgeCV instead.\n",
      "  model = cd_fast.enet_coordinate_descent(\n",
      "/opt/homebrew/Caskroom/miniforge/base/envs/base_env/lib/python3.8/site-packages/sklearn/linear_model/_coordinate_descent.py:647: ConvergenceWarning: Objective did not converge. You might want to increase the number of iterations, check the scale of the features or consider increasing regularisation. Duality gap: 9.976e+07, tolerance: 2.015e+04 Linear regression models with null weight for the l1 regularization term are more efficiently fitted using one of the solvers implemented in sklearn.linear_model.Ridge/RidgeCV instead.\n",
      "  model = cd_fast.enet_coordinate_descent(\n",
      "/opt/homebrew/Caskroom/miniforge/base/envs/base_env/lib/python3.8/site-packages/sklearn/linear_model/_coordinate_descent.py:647: ConvergenceWarning: Objective did not converge. You might want to increase the number of iterations, check the scale of the features or consider increasing regularisation. Duality gap: 9.750e+07, tolerance: 1.953e+04 Linear regression models with null weight for the l1 regularization term are more efficiently fitted using one of the solvers implemented in sklearn.linear_model.Ridge/RidgeCV instead.\n",
      "  model = cd_fast.enet_coordinate_descent(\n",
      "/opt/homebrew/Caskroom/miniforge/base/envs/base_env/lib/python3.8/site-packages/sklearn/linear_model/_coordinate_descent.py:647: ConvergenceWarning: Objective did not converge. You might want to increase the number of iterations, check the scale of the features or consider increasing regularisation. Duality gap: 9.764e+07, tolerance: 1.953e+04 Linear regression models with null weight for the l1 regularization term are more efficiently fitted using one of the solvers implemented in sklearn.linear_model.Ridge/RidgeCV instead.\n",
      "  model = cd_fast.enet_coordinate_descent(\n",
      "/opt/homebrew/Caskroom/miniforge/base/envs/base_env/lib/python3.8/site-packages/sklearn/linear_model/_coordinate_descent.py:647: ConvergenceWarning: Objective did not converge. You might want to increase the number of iterations, check the scale of the features or consider increasing regularisation. Duality gap: 9.663e+07, tolerance: 1.953e+04 Linear regression models with null weight for the l1 regularization term are more efficiently fitted using one of the solvers implemented in sklearn.linear_model.Ridge/RidgeCV instead.\n",
      "  model = cd_fast.enet_coordinate_descent(\n",
      "/opt/homebrew/Caskroom/miniforge/base/envs/base_env/lib/python3.8/site-packages/sklearn/linear_model/_coordinate_descent.py:647: ConvergenceWarning: Objective did not converge. You might want to increase the number of iterations, check the scale of the features or consider increasing regularisation. Duality gap: 9.877e+07, tolerance: 1.988e+04 Linear regression models with null weight for the l1 regularization term are more efficiently fitted using one of the solvers implemented in sklearn.linear_model.Ridge/RidgeCV instead.\n",
      "  model = cd_fast.enet_coordinate_descent(\n",
      "/opt/homebrew/Caskroom/miniforge/base/envs/base_env/lib/python3.8/site-packages/sklearn/linear_model/_coordinate_descent.py:647: ConvergenceWarning: Objective did not converge. You might want to increase the number of iterations, check the scale of the features or consider increasing regularisation. Duality gap: 9.807e+07, tolerance: 1.964e+04 Linear regression models with null weight for the l1 regularization term are more efficiently fitted using one of the solvers implemented in sklearn.linear_model.Ridge/RidgeCV instead.\n",
      "  model = cd_fast.enet_coordinate_descent(\n",
      "/opt/homebrew/Caskroom/miniforge/base/envs/base_env/lib/python3.8/site-packages/sklearn/linear_model/_coordinate_descent.py:647: ConvergenceWarning: Objective did not converge. You might want to increase the number of iterations, check the scale of the features or consider increasing regularisation. Duality gap: 1.016e+08, tolerance: 2.032e+04 Linear regression models with null weight for the l1 regularization term are more efficiently fitted using one of the solvers implemented in sklearn.linear_model.Ridge/RidgeCV instead.\n",
      "  model = cd_fast.enet_coordinate_descent(\n",
      "/opt/homebrew/Caskroom/miniforge/base/envs/base_env/lib/python3.8/site-packages/sklearn/linear_model/_coordinate_descent.py:647: ConvergenceWarning: Objective did not converge. You might want to increase the number of iterations, check the scale of the features or consider increasing regularisation. Duality gap: 9.664e+07, tolerance: 1.953e+04 Linear regression models with null weight for the l1 regularization term are more efficiently fitted using one of the solvers implemented in sklearn.linear_model.Ridge/RidgeCV instead.\n",
      "  model = cd_fast.enet_coordinate_descent(\n",
      "/opt/homebrew/Caskroom/miniforge/base/envs/base_env/lib/python3.8/site-packages/sklearn/linear_model/_coordinate_descent.py:647: ConvergenceWarning: Objective did not converge. You might want to increase the number of iterations, check the scale of the features or consider increasing regularisation. Duality gap: 9.703e+07, tolerance: 1.953e+04 Linear regression models with null weight for the l1 regularization term are more efficiently fitted using one of the solvers implemented in sklearn.linear_model.Ridge/RidgeCV instead.\n",
      "  model = cd_fast.enet_coordinate_descent(\n",
      "/opt/homebrew/Caskroom/miniforge/base/envs/base_env/lib/python3.8/site-packages/sklearn/linear_model/_coordinate_descent.py:647: ConvergenceWarning: Objective did not converge. You might want to increase the number of iterations, check the scale of the features or consider increasing regularisation. Duality gap: 1.006e+08, tolerance: 2.015e+04 Linear regression models with null weight for the l1 regularization term are more efficiently fitted using one of the solvers implemented in sklearn.linear_model.Ridge/RidgeCV instead.\n",
      "  model = cd_fast.enet_coordinate_descent(\n",
      "/opt/homebrew/Caskroom/miniforge/base/envs/base_env/lib/python3.8/site-packages/sklearn/linear_model/_coordinate_descent.py:647: ConvergenceWarning: Objective did not converge. You might want to increase the number of iterations, check the scale of the features or consider increasing regularisation. Duality gap: 9.938e+07, tolerance: 1.988e+04 Linear regression models with null weight for the l1 regularization term are more efficiently fitted using one of the solvers implemented in sklearn.linear_model.Ridge/RidgeCV instead.\n",
      "  model = cd_fast.enet_coordinate_descent(\n",
      "/opt/homebrew/Caskroom/miniforge/base/envs/base_env/lib/python3.8/site-packages/sklearn/linear_model/_coordinate_descent.py:647: ConvergenceWarning: Objective did not converge. You might want to increase the number of iterations, check the scale of the features or consider increasing regularisation. Duality gap: 9.716e+07, tolerance: 1.964e+04 Linear regression models with null weight for the l1 regularization term are more efficiently fitted using one of the solvers implemented in sklearn.linear_model.Ridge/RidgeCV instead.\n",
      "  model = cd_fast.enet_coordinate_descent(\n",
      "/opt/homebrew/Caskroom/miniforge/base/envs/base_env/lib/python3.8/site-packages/sklearn/linear_model/_coordinate_descent.py:647: ConvergenceWarning: Objective did not converge. You might want to increase the number of iterations, check the scale of the features or consider increasing regularisation. Duality gap: 9.837e+07, tolerance: 1.988e+04 Linear regression models with null weight for the l1 regularization term are more efficiently fitted using one of the solvers implemented in sklearn.linear_model.Ridge/RidgeCV instead.\n",
      "  model = cd_fast.enet_coordinate_descent(\n",
      "/opt/homebrew/Caskroom/miniforge/base/envs/base_env/lib/python3.8/site-packages/sklearn/linear_model/_coordinate_descent.py:647: ConvergenceWarning: Objective did not converge. You might want to increase the number of iterations, check the scale of the features or consider increasing regularisation. Duality gap: 9.843e+07, tolerance: 1.988e+04 Linear regression models with null weight for the l1 regularization term are more efficiently fitted using one of the solvers implemented in sklearn.linear_model.Ridge/RidgeCV instead.\n",
      "  model = cd_fast.enet_coordinate_descent(\n",
      "/opt/homebrew/Caskroom/miniforge/base/envs/base_env/lib/python3.8/site-packages/sklearn/linear_model/_coordinate_descent.py:647: ConvergenceWarning: Objective did not converge. You might want to increase the number of iterations, check the scale of the features or consider increasing regularisation. Duality gap: 9.757e+07, tolerance: 1.964e+04 Linear regression models with null weight for the l1 regularization term are more efficiently fitted using one of the solvers implemented in sklearn.linear_model.Ridge/RidgeCV instead.\n",
      "  model = cd_fast.enet_coordinate_descent(\n",
      "/opt/homebrew/Caskroom/miniforge/base/envs/base_env/lib/python3.8/site-packages/sklearn/linear_model/_coordinate_descent.py:647: ConvergenceWarning: Objective did not converge. You might want to increase the number of iterations, check the scale of the features or consider increasing regularisation. Duality gap: 1.016e+08, tolerance: 2.032e+04 Linear regression models with null weight for the l1 regularization term are more efficiently fitted using one of the solvers implemented in sklearn.linear_model.Ridge/RidgeCV instead.\n",
      "  model = cd_fast.enet_coordinate_descent(\n",
      "/opt/homebrew/Caskroom/miniforge/base/envs/base_env/lib/python3.8/site-packages/sklearn/linear_model/_coordinate_descent.py:647: ConvergenceWarning: Objective did not converge. You might want to increase the number of iterations, check the scale of the features or consider increasing regularisation. Duality gap: 1.007e+08, tolerance: 2.015e+04 Linear regression models with null weight for the l1 regularization term are more efficiently fitted using one of the solvers implemented in sklearn.linear_model.Ridge/RidgeCV instead.\n",
      "  model = cd_fast.enet_coordinate_descent(\n",
      "/opt/homebrew/Caskroom/miniforge/base/envs/base_env/lib/python3.8/site-packages/sklearn/linear_model/_coordinate_descent.py:647: ConvergenceWarning: Objective did not converge. You might want to increase the number of iterations, check the scale of the features or consider increasing regularisation. Duality gap: 9.970e+07, tolerance: 2.015e+04 Linear regression models with null weight for the l1 regularization term are more efficiently fitted using one of the solvers implemented in sklearn.linear_model.Ridge/RidgeCV instead.\n",
      "  model = cd_fast.enet_coordinate_descent(\n",
      "/opt/homebrew/Caskroom/miniforge/base/envs/base_env/lib/python3.8/site-packages/sklearn/linear_model/_coordinate_descent.py:647: ConvergenceWarning: Objective did not converge. You might want to increase the number of iterations, check the scale of the features or consider increasing regularisation. Duality gap: 9.670e+07, tolerance: 1.953e+04 Linear regression models with null weight for the l1 regularization term are more efficiently fitted using one of the solvers implemented in sklearn.linear_model.Ridge/RidgeCV instead.\n",
      "  model = cd_fast.enet_coordinate_descent(\n",
      "/opt/homebrew/Caskroom/miniforge/base/envs/base_env/lib/python3.8/site-packages/sklearn/linear_model/_coordinate_descent.py:647: ConvergenceWarning: Objective did not converge. You might want to increase the number of iterations, check the scale of the features or consider increasing regularisation. Duality gap: 1.001e+08, tolerance: 2.015e+04 Linear regression models with null weight for the l1 regularization term are more efficiently fitted using one of the solvers implemented in sklearn.linear_model.Ridge/RidgeCV instead.\n",
      "  model = cd_fast.enet_coordinate_descent(\n",
      "/opt/homebrew/Caskroom/miniforge/base/envs/base_env/lib/python3.8/site-packages/sklearn/linear_model/_coordinate_descent.py:647: ConvergenceWarning: Objective did not converge. You might want to increase the number of iterations, check the scale of the features or consider increasing regularisation. Duality gap: 9.763e+07, tolerance: 1.953e+04 Linear regression models with null weight for the l1 regularization term are more efficiently fitted using one of the solvers implemented in sklearn.linear_model.Ridge/RidgeCV instead.\n",
      "  model = cd_fast.enet_coordinate_descent(\n",
      "/opt/homebrew/Caskroom/miniforge/base/envs/base_env/lib/python3.8/site-packages/sklearn/linear_model/_coordinate_descent.py:647: ConvergenceWarning: Objective did not converge. You might want to increase the number of iterations, check the scale of the features or consider increasing regularisation. Duality gap: 9.821e+07, tolerance: 1.964e+04 Linear regression models with null weight for the l1 regularization term are more efficiently fitted using one of the solvers implemented in sklearn.linear_model.Ridge/RidgeCV instead.\n",
      "  model = cd_fast.enet_coordinate_descent(\n"
     ]
    }
   ],
   "source": [
    "### RUN THE FOLLOWING TO GET VALUES BEFORE SCALING\n",
    "\n",
    "# bring in training data from csv\n",
    "df = pd.read_csv('../final_training.csv')\n",
    "\n",
    "# set X & y\n",
    "X = df.drop(columns=['arr_delay'])\n",
    "y = df['arr_delay']\n",
    "\n",
    "# split into training and testing data\n",
    "X_train, X_test, y_train, y_test = train_test_split(X, y, test_size = 0.30, random_state = 101)\n",
    "\n",
    "# encode categorical variables\n",
    "encoder = ce.OrdinalEncoder(cols=['mkt_unique_carrier', 'tail_num', 'branded_code_share'])\n",
    "\n",
    "# fit onto training and testing DataFrames\n",
    "X_train = encoder.fit_transform(X_train)\n",
    "X_test = encoder.transform(X_test)"
   ]
  },
  {
   "cell_type": "code",
   "execution_count": 67,
   "id": "748eb3e9-0455-4ec9-9caa-12b48fb82fcb",
   "metadata": {},
   "outputs": [],
   "source": [
    "skb = SelectKBest(f_regression, k=12)\n",
    "X_train_selected = skb.fit_transform(X_train, y_train)\n",
    "X_test_selected = skb.fit_transform(X_test, y_test)"
   ]
  },
  {
   "cell_type": "code",
   "execution_count": 69,
   "id": "bcec88f1-bdb4-47d5-9c9a-208402dd66f3",
   "metadata": {},
   "outputs": [
    {
     "name": "stdout",
     "output_type": "stream",
     "text": [
      "Test  - RMSE: 51.388794500770636\n",
      "Test  -   R2: -0.057533834719314836\n",
      "\n",
      "Train - RMSE: 50.06038780262382\n",
      "Train -   R2: -0.10512534645523464\n"
     ]
    }
   ],
   "source": [
    "# create new model with optimized parameters\n",
    "rfc1 = RandomForestClassifier(random_state=42, \n",
    "                              max_features='auto', \n",
    "                              n_estimators= 200, \n",
    "                              max_depth=7, \n",
    "                              criterion='gini', \n",
    "                              n_jobs=-1)\n",
    "\n",
    "# fit new model\n",
    "rfc1.fit(X_train_selected, y_train)\n",
    "\n",
    "# predict on train\n",
    "y_pred_train = rfc1.predict(X_train_selected)\n",
    "\n",
    "# predict on test\n",
    "y_pred_test = rfc1.predict(X_test_selected)\n",
    "\n",
    "# print metric scores\n",
    "print('Test  - RMSE:', metrics.mean_squared_error(y_test, y_pred_test, squared=False))\n",
    "print('Test  -   R2:', metrics.r2_score(y_test, y_pred_test))\n",
    "print()\n",
    "print('Train - RMSE:', metrics.mean_squared_error(y_train, y_pred_train, squared=False))\n",
    "print('Train -   R2:', metrics.r2_score(y_train, y_pred_train))"
   ]
  },
  {
   "cell_type": "markdown",
   "id": "557b78fe-f2af-468c-8ecc-756ee87c07ee",
   "metadata": {},
   "source": [
    "***"
   ]
  },
  {
   "cell_type": "markdown",
   "id": "81ed29c2-e2eb-440a-9ae1-f60501172303",
   "metadata": {},
   "source": [
    "#### AdaBoost Regressor"
   ]
  },
  {
   "cell_type": "code",
   "execution_count": 71,
   "id": "92d609f4-ea17-453c-bc5d-76dc0f47d0bf",
   "metadata": {
    "tags": []
   },
   "outputs": [],
   "source": [
    "### RUN THE FOLLOWING TO GET VALUES BEFORE SCALING\n",
    "\n",
    "# bring in training data from csv\n",
    "df = pd.read_csv('../final_training.csv')\n",
    "\n",
    "# set X & y\n",
    "X = df.drop(columns=['arr_delay'])\n",
    "y = df['arr_delay']\n",
    "\n",
    "# split into training and testing data\n",
    "X_train, X_test, y_train, y_test = train_test_split(X, y, test_size = 0.30, random_state = 101)\n",
    "\n",
    "# encode categorical variables\n",
    "encoder = ce.OrdinalEncoder(cols=['mkt_unique_carrier', 'tail_num', 'branded_code_share'])\n",
    "\n",
    "# fit onto training and testing DataFrames\n",
    "X_train = encoder.fit_transform(X_train)\n",
    "X_test = encoder.transform(X_test)"
   ]
  },
  {
   "cell_type": "code",
   "execution_count": 178,
   "id": "c1678150-0812-42f7-bc64-387a6674ad78",
   "metadata": {},
   "outputs": [],
   "source": [
    "ada = AdaBoostRegressor()"
   ]
  },
  {
   "cell_type": "code",
   "execution_count": 182,
   "id": "c07e1615-4587-466a-b638-d4867fb7555d",
   "metadata": {},
   "outputs": [],
   "source": [
    "search_grid = { \n",
    "    'n_estimators': [500, 600, 700],\n",
    "    'learning_rate': [0.00001, 0.00001],\n",
    "    'random_state' : [1]\n",
    "}"
   ]
  },
  {
   "cell_type": "code",
   "execution_count": 183,
   "id": "95db7a67-cfe0-40a5-b1c4-87d4ba0356fe",
   "metadata": {},
   "outputs": [
    {
     "data": {
      "text/plain": [
       "GridSearchCV(estimator=AdaBoostRegressor(), n_jobs=-1,\n",
       "             param_grid={'learning_rate': [1e-05, 1e-05],\n",
       "                         'n_estimators': [500, 600, 700], 'random_state': [1]},\n",
       "             scoring='r2')"
      ]
     },
     "execution_count": 183,
     "metadata": {},
     "output_type": "execute_result"
    }
   ],
   "source": [
    "# GridSearch with AdaBoostRegressor\n",
    "CV_ada = GridSearchCV(estimator=ada, \n",
    "                      param_grid=search_grid, \n",
    "                      scoring='r2', \n",
    "                      n_jobs=-1)\n",
    "\n",
    "CV_ada.fit(X_train, y_train)"
   ]
  },
  {
   "cell_type": "code",
   "execution_count": 184,
   "id": "80acc081-2fc1-45d2-97eb-12935d1c9120",
   "metadata": {},
   "outputs": [
    {
     "name": "stdout",
     "output_type": "stream",
     "text": [
      "CV_ada.best_score_: 0.014649709015664824\n",
      "CV_ada.best_params_: {'learning_rate': 1e-05, 'n_estimators': 500, 'random_state': 1}\n"
     ]
    }
   ],
   "source": [
    "print('CV_ada.best_score_:', CV_ada.best_score_)\n",
    "print('CV_ada.best_params_:', CV_ada.best_params_)"
   ]
  },
  {
   "cell_type": "code",
   "execution_count": 72,
   "id": "253e7319-2ae5-431b-910f-c09b6738cd1a",
   "metadata": {},
   "outputs": [
    {
     "name": "stdout",
     "output_type": "stream",
     "text": [
      "Test  - RMSE: 49.59527971464768\n",
      "Test  -   R2: 0.014995761718137879\n",
      "\n",
      "Train - RMSE: 47.24604944724254\n",
      "Train -   R2: 0.015639630189483666\n"
     ]
    }
   ],
   "source": [
    "# Train model with new parameters\n",
    "ada = AdaBoostRegressor(learning_rate=0.00001, \n",
    "                        n_estimators=500, \n",
    "                        random_state=1).fit(X_train, y_train)\n",
    "\n",
    "\n",
    "# predict on train\n",
    "y_pred_train = ada.predict(X_train)\n",
    "\n",
    "# predict on test\n",
    "y_pred_test = ada.predict(X_test)\n",
    "\n",
    "# print metric scores\n",
    "print('Test  - RMSE:', metrics.mean_squared_error(y_test, y_pred_test, squared=False))\n",
    "print('Test  -   R2:', metrics.r2_score(y_test, y_pred_test))\n",
    "print()\n",
    "print('Train - RMSE:', metrics.mean_squared_error(y_train, y_pred_train, squared=False))\n",
    "print('Train -   R2:', metrics.r2_score(y_train, y_pred_train))"
   ]
  }
 ],
 "metadata": {
  "kernelspec": {
   "display_name": "ds_env",
   "language": "python",
   "name": "ds_env"
  },
  "language_info": {
   "codemirror_mode": {
    "name": "ipython",
    "version": 3
   },
   "file_extension": ".py",
   "mimetype": "text/x-python",
   "name": "python",
   "nbconvert_exporter": "python",
   "pygments_lexer": "ipython3",
   "version": "3.8.12"
  }
 },
 "nbformat": 4,
 "nbformat_minor": 5
}
