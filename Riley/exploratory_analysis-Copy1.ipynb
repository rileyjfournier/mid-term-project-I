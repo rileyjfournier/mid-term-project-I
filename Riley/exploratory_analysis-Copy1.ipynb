{
 "cells": [
  {
   "cell_type": "markdown",
   "metadata": {},
   "source": [
    "## Exploratory Data Analysis\n",
    "\n",
    "Use this notebook to get familiar with the datasets we have. There is 10 questions we need to answer during the EDA.\n",
    "\n",
    "\n",
    "We shouldn't limit our EDA to these 10 questions. Let's be creative :)."
   ]
  },
  {
   "cell_type": "code",
   "execution_count": null,
   "metadata": {},
   "outputs": [],
   "source": []
  },
  {
   "cell_type": "code",
   "execution_count": null,
   "metadata": {},
   "outputs": [],
   "source": []
  },
  {
   "cell_type": "code",
   "execution_count": null,
   "metadata": {},
   "outputs": [],
   "source": []
  },
  {
   "cell_type": "markdown",
   "metadata": {
    "jp-MarkdownHeadingCollapsed": true,
    "tags": []
   },
   "source": [
    "### James"
   ]
  },
  {
   "cell_type": "markdown",
   "metadata": {},
   "source": [
    "#### **Task 1**: Test the hypothesis that the delay is from Normal distribution. and that **mean** of the delay is 0. Be careful about the outliers."
   ]
  },
  {
   "cell_type": "code",
   "execution_count": null,
   "metadata": {},
   "outputs": [],
   "source": []
  },
  {
   "cell_type": "code",
   "execution_count": null,
   "metadata": {},
   "outputs": [],
   "source": []
  },
  {
   "cell_type": "markdown",
   "metadata": {},
   "source": [
    "#### **Task 2**: Is average/median monthly delay different during the year? If yes, which are months with the biggest delays and what could be the reason?"
   ]
  },
  {
   "cell_type": "code",
   "execution_count": null,
   "metadata": {},
   "outputs": [],
   "source": []
  },
  {
   "cell_type": "code",
   "execution_count": null,
   "metadata": {},
   "outputs": [],
   "source": []
  },
  {
   "cell_type": "markdown",
   "metadata": {},
   "source": [
    "#### **Task 3**: Does the weather affect the delay? \n",
    "Use the API to pull the weather information for flights. There is no need to get weather for ALL flights. We can choose the right representative sample. Let's focus on four weather types:\n",
    "- sunny\n",
    "- cloudy\n",
    "- rainy\n",
    "- snow.\n",
    "Test the hypothesis that these 4 delays are from the same distribution. If they are not, which ones are significantly different?"
   ]
  },
  {
   "cell_type": "code",
   "execution_count": null,
   "metadata": {},
   "outputs": [],
   "source": []
  },
  {
   "cell_type": "code",
   "execution_count": null,
   "metadata": {},
   "outputs": [],
   "source": []
  },
  {
   "cell_type": "markdown",
   "metadata": {},
   "source": [
    "#### **Task 4**: How taxi times changing during the day? Does higher traffic lead to bigger taxi times?"
   ]
  },
  {
   "cell_type": "code",
   "execution_count": null,
   "metadata": {},
   "outputs": [],
   "source": []
  },
  {
   "cell_type": "code",
   "execution_count": null,
   "metadata": {},
   "outputs": [],
   "source": []
  },
  {
   "cell_type": "markdown",
   "metadata": {},
   "source": [
    "#### **Task 5**: What is the average percentage of delays that is already created before departure? (aka are arrival delays caused by departure delays?) Are airlines able to lower the delay during the flights?"
   ]
  },
  {
   "cell_type": "code",
   "execution_count": null,
   "metadata": {},
   "outputs": [],
   "source": []
  },
  {
   "cell_type": "code",
   "execution_count": null,
   "metadata": {},
   "outputs": [],
   "source": []
  },
  {
   "cell_type": "markdown",
   "metadata": {},
   "source": [
    "### Riley"
   ]
  },
  {
   "cell_type": "code",
   "execution_count": 1,
   "metadata": {},
   "outputs": [],
   "source": [
    "import pandas as pd\n",
    "import numpy as np\n",
    "import geocoder\n",
    "import matplotlib.pyplot as plt\n",
    "import seaborn as sns"
   ]
  },
  {
   "cell_type": "code",
   "execution_count": 2,
   "metadata": {},
   "outputs": [],
   "source": [
    "df = pd.read_csv('../DB/midterm.csv', index_col='Unnamed: 0')"
   ]
  },
  {
   "cell_type": "code",
   "execution_count": 3,
   "metadata": {},
   "outputs": [],
   "source": [
    "df = df.drop('no_name', axis=1)"
   ]
  },
  {
   "cell_type": "code",
   "execution_count": 4,
   "metadata": {},
   "outputs": [
    {
     "data": {
      "text/plain": [
       "(165072, 41)"
      ]
     },
     "execution_count": 4,
     "metadata": {},
     "output_type": "execute_result"
    }
   ],
   "source": [
    "df.shape"
   ]
  },
  {
   "cell_type": "code",
   "execution_count": 5,
   "metadata": {},
   "outputs": [
    {
     "name": "stdout",
     "output_type": "stream",
     "text": [
      "<class 'pandas.core.frame.DataFrame'>\n",
      "Int64Index: 165072 entries, 0 to 165071\n",
      "Data columns (total 41 columns):\n",
      " #   Column               Non-Null Count   Dtype  \n",
      "---  ------               --------------   -----  \n",
      " 0   fl_date              165072 non-null  object \n",
      " 1   mkt_unique_carrier   165072 non-null  object \n",
      " 2   branded_code_share   165072 non-null  object \n",
      " 3   mkt_carrier          165072 non-null  object \n",
      " 4   mkt_carrier_fl_num   165072 non-null  int64  \n",
      " 5   op_unique_carrier    165072 non-null  object \n",
      " 6   tail_num             164593 non-null  object \n",
      " 7   op_carrier_fl_num    165072 non-null  int64  \n",
      " 8   origin_airport_id    165072 non-null  int64  \n",
      " 9   origin               165072 non-null  object \n",
      " 10  origin_city_name     165072 non-null  object \n",
      " 11  dest_airport_id      165072 non-null  int64  \n",
      " 12  dest                 165072 non-null  object \n",
      " 13  dest_city_name       165072 non-null  object \n",
      " 14  crs_dep_time         165072 non-null  int64  \n",
      " 15  dep_time             162619 non-null  float64\n",
      " 16  dep_delay            162544 non-null  float64\n",
      " 17  taxi_out             162480 non-null  float64\n",
      " 18  wheels_off           162480 non-null  float64\n",
      " 19  wheels_on            162379 non-null  float64\n",
      " 20  taxi_in              162379 non-null  float64\n",
      " 21  crs_arr_time         165072 non-null  int64  \n",
      " 22  arr_time             162415 non-null  float64\n",
      " 23  arr_delay            162002 non-null  float64\n",
      " 24  cancelled            165072 non-null  float64\n",
      " 25  cancellation_code    2583 non-null    object \n",
      " 26  diverted             165072 non-null  float64\n",
      " 27  dup                  165072 non-null  object \n",
      " 28  crs_elapsed_time     165072 non-null  float64\n",
      " 29  actual_elapsed_time  162029 non-null  float64\n",
      " 30  air_time             161993 non-null  float64\n",
      " 31  flights              165072 non-null  float64\n",
      " 32  distance             165072 non-null  float64\n",
      " 33  carrier_delay        30885 non-null   float64\n",
      " 34  weather_delay        30885 non-null   float64\n",
      " 35  nas_delay            30885 non-null   float64\n",
      " 36  security_delay       30885 non-null   float64\n",
      " 37  late_aircraft_delay  30885 non-null   float64\n",
      " 38  first_dep_time       1111 non-null    float64\n",
      " 39  total_add_gtime      1111 non-null    float64\n",
      " 40  longest_add_gtime    1111 non-null    float64\n",
      "dtypes: float64(23), int64(6), object(12)\n",
      "memory usage: 52.9+ MB\n"
     ]
    }
   ],
   "source": [
    "df.info()"
   ]
  },
  {
   "cell_type": "markdown",
   "metadata": {
    "jp-MarkdownHeadingCollapsed": true,
    "tags": []
   },
   "source": [
    "#### **Task 6**: How many states cover 50% of US air traffic? "
   ]
  },
  {
   "cell_type": "code",
   "execution_count": 6,
   "metadata": {},
   "outputs": [
    {
     "data": {
      "text/html": [
       "<div>\n",
       "<style scoped>\n",
       "    .dataframe tbody tr th:only-of-type {\n",
       "        vertical-align: middle;\n",
       "    }\n",
       "\n",
       "    .dataframe tbody tr th {\n",
       "        vertical-align: top;\n",
       "    }\n",
       "\n",
       "    .dataframe thead th {\n",
       "        text-align: right;\n",
       "    }\n",
       "</style>\n",
       "<table border=\"1\" class=\"dataframe\">\n",
       "  <thead>\n",
       "    <tr style=\"text-align: right;\">\n",
       "      <th></th>\n",
       "      <th>origin_city_name</th>\n",
       "    </tr>\n",
       "  </thead>\n",
       "  <tbody>\n",
       "    <tr>\n",
       "      <th>0</th>\n",
       "      <td>New York, NY</td>\n",
       "    </tr>\n",
       "    <tr>\n",
       "      <th>1</th>\n",
       "      <td>Detroit, MI</td>\n",
       "    </tr>\n",
       "    <tr>\n",
       "      <th>2</th>\n",
       "      <td>Newark, NJ</td>\n",
       "    </tr>\n",
       "    <tr>\n",
       "      <th>3</th>\n",
       "      <td>Newark, NJ</td>\n",
       "    </tr>\n",
       "    <tr>\n",
       "      <th>4</th>\n",
       "      <td>Houston, TX</td>\n",
       "    </tr>\n",
       "  </tbody>\n",
       "</table>\n",
       "</div>"
      ],
      "text/plain": [
       "  origin_city_name\n",
       "0     New York, NY\n",
       "1      Detroit, MI\n",
       "2       Newark, NJ\n",
       "3       Newark, NJ\n",
       "4      Houston, TX"
      ]
     },
     "execution_count": 6,
     "metadata": {},
     "output_type": "execute_result"
    }
   ],
   "source": [
    "# Separate desired column\n",
    "states_df = df[['origin_city_name']]\n",
    "states_df.head()"
   ]
  },
  {
   "cell_type": "code",
   "execution_count": 7,
   "metadata": {},
   "outputs": [
    {
     "name": "stdout",
     "output_type": "stream",
     "text": [
      "Air Traffic For Top 7 States: 49.04 \n",
      "\n",
      "  state  count  percentage\n",
      "0    CA  17642       10.69\n",
      "1    TX  16008        9.70\n",
      "2    FL  12071        7.31\n",
      "3    IL  10420        6.31\n",
      "4    GA   8722        5.28\n",
      "5    NY   8653        5.24\n",
      "6    NC   7443        4.51\n"
     ]
    }
   ],
   "source": [
    "# Remove city name\n",
    "states_df = states_df.replace(to_replace='.*, ', value='', regex = True)\n",
    "\n",
    "# Find state counts\n",
    "state_counts = pd.DataFrame(states_df.value_counts())\n",
    "state_counts = state_counts.reset_index()\n",
    "state_counts.columns = ['state', 'count']\n",
    "\n",
    "# calculate total flights\n",
    "total = state_counts['count'].sum()\n",
    "\n",
    "# create percentage feature\n",
    "state_counts['percentage'] = round(state_counts['count'] / total, 4) * 100\n",
    "\n",
    "# find number of states that add up to ~50% of US air traffic\n",
    "print('Air Traffic For Top 7 States:', state_counts.percentage.head(7).sum(), '\\n')\n",
    "print(state_counts.iloc[:7])"
   ]
  },
  {
   "cell_type": "code",
   "execution_count": 8,
   "metadata": {},
   "outputs": [
    {
     "data": {
      "image/png": "[encoded data removed]",
      "text/plain": [
       "<Figure size 720x288 with 1 Axes>"
      ]
     },
     "metadata": {},
     "output_type": "display_data"
    }
   ],
   "source": [
    "# plot state percentages\n",
    "barplot = state_counts.iloc[:7]\n",
    "\n",
    "# plot\n",
    "sns.set_style('darkgrid')\n",
    "plt.figure(figsize=(10,4), tight_layout=True)\n",
    "ax = sns.barplot(x=barplot['state'], y=barplot['percentage'], palette='muted')\n",
    "ax.set(title='Air Traffic % Based On State', xlabel='State', ylabel='Percent')\n",
    "plt.show()"
   ]
  },
  {
   "cell_type": "markdown",
   "metadata": {
    "tags": []
   },
   "source": [
    "#### **Task 7**: Test the hypothesis whether planes fly faster when there is the departure delay? "
   ]
  },
  {
   "cell_type": "code",
   "execution_count": 9,
   "metadata": {},
   "outputs": [
    {
     "name": "stdout",
     "output_type": "stream",
     "text": [
      "  origin dest  flight_count\n",
      "0    SFO  LAX           358\n",
      "1    ORD  LGA           324\n",
      "2    LAX  SFO           314\n",
      "3    LGA  ORD           307\n",
      "4    JFK  LAX           284\n"
     ]
    }
   ],
   "source": [
    "# find the most popular flights\n",
    "test_df = df[['origin','dest','air_time']]\n",
    "test_df = test_df.groupby(['origin','dest']).count()\n",
    "test_df = test_df.sort_values(by='air_time',ascending=False).reset_index()\n",
    "test_df = test_df.rename(columns={'air_time':'flight_count'})\n",
    "print(test_df.head())\n",
    "\n",
    "# set origin and destination variables for most popular flight\n",
    "ori = test_df.iloc[0,0]\n",
    "des = test_df.iloc[0,1]"
   ]
  },
  {
   "cell_type": "code",
   "execution_count": 10,
   "metadata": {},
   "outputs": [
    {
     "data": {
      "text/plain": [
       "Index(['fl_date', 'mkt_unique_carrier', 'branded_code_share', 'mkt_carrier',\n",
       "       'mkt_carrier_fl_num', 'op_unique_carrier', 'tail_num',\n",
       "       'op_carrier_fl_num', 'origin_airport_id', 'origin', 'origin_city_name',\n",
       "       'dest_airport_id', 'dest', 'dest_city_name', 'crs_dep_time', 'dep_time',\n",
       "       'dep_delay', 'taxi_out', 'wheels_off', 'wheels_on', 'taxi_in',\n",
       "       'crs_arr_time', 'arr_time', 'arr_delay', 'cancelled',\n",
       "       'cancellation_code', 'diverted', 'dup', 'crs_elapsed_time',\n",
       "       'actual_elapsed_time', 'air_time', 'flights', 'distance',\n",
       "       'carrier_delay', 'weather_delay', 'nas_delay', 'security_delay',\n",
       "       'late_aircraft_delay', 'first_dep_time', 'total_add_gtime',\n",
       "       'longest_add_gtime'],\n",
       "      dtype='object')"
      ]
     },
     "execution_count": 10,
     "metadata": {},
     "output_type": "execute_result"
    }
   ],
   "source": [
    "df.columns"
   ]
  },
  {
   "cell_type": "code",
   "execution_count": 11,
   "metadata": {},
   "outputs": [
    {
     "data": {
      "text/html": [
       "<div>\n",
       "<style scoped>\n",
       "    .dataframe tbody tr th:only-of-type {\n",
       "        vertical-align: middle;\n",
       "    }\n",
       "\n",
       "    .dataframe tbody tr th {\n",
       "        vertical-align: top;\n",
       "    }\n",
       "\n",
       "    .dataframe thead th {\n",
       "        text-align: right;\n",
       "    }\n",
       "</style>\n",
       "<table border=\"1\" class=\"dataframe\">\n",
       "  <thead>\n",
       "    <tr style=\"text-align: right;\">\n",
       "      <th></th>\n",
       "      <th>dep_delay</th>\n",
       "      <th>air_time</th>\n",
       "    </tr>\n",
       "  </thead>\n",
       "  <tbody>\n",
       "    <tr>\n",
       "      <th>count</th>\n",
       "      <td>358.000000</td>\n",
       "      <td>358.000000</td>\n",
       "    </tr>\n",
       "    <tr>\n",
       "      <th>mean</th>\n",
       "      <td>7.567039</td>\n",
       "      <td>56.237430</td>\n",
       "    </tr>\n",
       "    <tr>\n",
       "      <th>std</th>\n",
       "      <td>27.721297</td>\n",
       "      <td>3.543574</td>\n",
       "    </tr>\n",
       "    <tr>\n",
       "      <th>min</th>\n",
       "      <td>-16.000000</td>\n",
       "      <td>50.000000</td>\n",
       "    </tr>\n",
       "    <tr>\n",
       "      <th>25%</th>\n",
       "      <td>-5.000000</td>\n",
       "      <td>54.000000</td>\n",
       "    </tr>\n",
       "    <tr>\n",
       "      <th>50%</th>\n",
       "      <td>-2.500000</td>\n",
       "      <td>56.000000</td>\n",
       "    </tr>\n",
       "    <tr>\n",
       "      <th>75%</th>\n",
       "      <td>6.750000</td>\n",
       "      <td>58.000000</td>\n",
       "    </tr>\n",
       "    <tr>\n",
       "      <th>max</th>\n",
       "      <td>163.000000</td>\n",
       "      <td>83.000000</td>\n",
       "    </tr>\n",
       "  </tbody>\n",
       "</table>\n",
       "</div>"
      ],
      "text/plain": [
       "        dep_delay    air_time\n",
       "count  358.000000  358.000000\n",
       "mean     7.567039   56.237430\n",
       "std     27.721297    3.543574\n",
       "min    -16.000000   50.000000\n",
       "25%     -5.000000   54.000000\n",
       "50%     -2.500000   56.000000\n",
       "75%      6.750000   58.000000\n",
       "max    163.000000   83.000000"
      ]
     },
     "execution_count": 11,
     "metadata": {},
     "output_type": "execute_result"
    }
   ],
   "source": [
    "# information on most popular flight\n",
    "df_7 = df[['origin','dest','dep_delay','air_time']]\n",
    "df_7 = df_7.loc[(df_7['origin'] == ori) & (df_7['dest'] == des)]\n",
    "df_7.describe()"
   ]
  },
  {
   "cell_type": "code",
   "execution_count": 12,
   "metadata": {},
   "outputs": [
    {
     "data": {
      "image/png": "[encoded data removed]",
      "text/plain": [
       "<Figure size 442.25x360 with 1 Axes>"
      ]
     },
     "metadata": {},
     "output_type": "display_data"
    }
   ],
   "source": [
    "# visualizing initial distribution\n",
    "x1 = df_7.iloc[:,2:]\n",
    "sns.displot(x1)\n",
    "plt.show()"
   ]
  },
  {
   "cell_type": "code",
   "execution_count": 13,
   "metadata": {},
   "outputs": [
    {
     "data": {
      "text/plain": [
       "(365, 4)"
      ]
     },
     "execution_count": 13,
     "metadata": {},
     "output_type": "execute_result"
    }
   ],
   "source": [
    "df_7.shape"
   ]
  },
  {
   "cell_type": "code",
   "execution_count": 14,
   "metadata": {},
   "outputs": [
    {
     "data": {
      "text/plain": [
       "origin       0\n",
       "dest         0\n",
       "dep_delay    7\n",
       "air_time     7\n",
       "dtype: int64"
      ]
     },
     "execution_count": 14,
     "metadata": {},
     "output_type": "execute_result"
    }
   ],
   "source": [
    "df_7.isnull().sum()"
   ]
  },
  {
   "cell_type": "code",
   "execution_count": 15,
   "metadata": {},
   "outputs": [
    {
     "data": {
      "text/html": [
       "<div>\n",
       "<style scoped>\n",
       "    .dataframe tbody tr th:only-of-type {\n",
       "        vertical-align: middle;\n",
       "    }\n",
       "\n",
       "    .dataframe tbody tr th {\n",
       "        vertical-align: top;\n",
       "    }\n",
       "\n",
       "    .dataframe thead th {\n",
       "        text-align: right;\n",
       "    }\n",
       "</style>\n",
       "<table border=\"1\" class=\"dataframe\">\n",
       "  <thead>\n",
       "    <tr style=\"text-align: right;\">\n",
       "      <th></th>\n",
       "      <th>origin</th>\n",
       "      <th>dest</th>\n",
       "      <th>dep_delay</th>\n",
       "      <th>air_time</th>\n",
       "    </tr>\n",
       "  </thead>\n",
       "  <tbody>\n",
       "    <tr>\n",
       "      <th>6551</th>\n",
       "      <td>SFO</td>\n",
       "      <td>LAX</td>\n",
       "      <td>163.0</td>\n",
       "      <td>54.0</td>\n",
       "    </tr>\n",
       "    <tr>\n",
       "      <th>24656</th>\n",
       "      <td>SFO</td>\n",
       "      <td>LAX</td>\n",
       "      <td>NaN</td>\n",
       "      <td>NaN</td>\n",
       "    </tr>\n",
       "    <tr>\n",
       "      <th>31485</th>\n",
       "      <td>SFO</td>\n",
       "      <td>LAX</td>\n",
       "      <td>NaN</td>\n",
       "      <td>NaN</td>\n",
       "    </tr>\n",
       "    <tr>\n",
       "      <th>39461</th>\n",
       "      <td>SFO</td>\n",
       "      <td>LAX</td>\n",
       "      <td>NaN</td>\n",
       "      <td>NaN</td>\n",
       "    </tr>\n",
       "    <tr>\n",
       "      <th>67528</th>\n",
       "      <td>SFO</td>\n",
       "      <td>LAX</td>\n",
       "      <td>NaN</td>\n",
       "      <td>NaN</td>\n",
       "    </tr>\n",
       "    <tr>\n",
       "      <th>81228</th>\n",
       "      <td>SFO</td>\n",
       "      <td>LAX</td>\n",
       "      <td>NaN</td>\n",
       "      <td>NaN</td>\n",
       "    </tr>\n",
       "    <tr>\n",
       "      <th>81233</th>\n",
       "      <td>SFO</td>\n",
       "      <td>LAX</td>\n",
       "      <td>NaN</td>\n",
       "      <td>NaN</td>\n",
       "    </tr>\n",
       "    <tr>\n",
       "      <th>106857</th>\n",
       "      <td>SFO</td>\n",
       "      <td>LAX</td>\n",
       "      <td>NaN</td>\n",
       "      <td>NaN</td>\n",
       "    </tr>\n",
       "  </tbody>\n",
       "</table>\n",
       "</div>"
      ],
      "text/plain": [
       "       origin dest  dep_delay  air_time\n",
       "6551      SFO  LAX      163.0      54.0\n",
       "24656     SFO  LAX        NaN       NaN\n",
       "31485     SFO  LAX        NaN       NaN\n",
       "39461     SFO  LAX        NaN       NaN\n",
       "67528     SFO  LAX        NaN       NaN\n",
       "81228     SFO  LAX        NaN       NaN\n",
       "81233     SFO  LAX        NaN       NaN\n",
       "106857    SFO  LAX        NaN       NaN"
      ]
     },
     "execution_count": 15,
     "metadata": {},
     "output_type": "execute_result"
    }
   ],
   "source": [
    "df_7.sort_values(by='dep_delay').tail(8)"
   ]
  },
  {
   "cell_type": "code",
   "execution_count": 16,
   "metadata": {},
   "outputs": [
    {
     "data": {
      "text/plain": [
       "(358, 4)"
      ]
     },
     "execution_count": 16,
     "metadata": {},
     "output_type": "execute_result"
    }
   ],
   "source": [
    "df_7 = df_7.dropna()\n",
    "df_7.shape"
   ]
  },
  {
   "cell_type": "code",
   "execution_count": 17,
   "metadata": {},
   "outputs": [],
   "source": [
    "df_7 = df_7.sort_values(by='dep_delay')"
   ]
  },
  {
   "cell_type": "code",
   "execution_count": 18,
   "metadata": {},
   "outputs": [
    {
     "data": {
      "text/html": [
       "<div>\n",
       "<style scoped>\n",
       "    .dataframe tbody tr th:only-of-type {\n",
       "        vertical-align: middle;\n",
       "    }\n",
       "\n",
       "    .dataframe tbody tr th {\n",
       "        vertical-align: top;\n",
       "    }\n",
       "\n",
       "    .dataframe thead th {\n",
       "        text-align: right;\n",
       "    }\n",
       "</style>\n",
       "<table border=\"1\" class=\"dataframe\">\n",
       "  <thead>\n",
       "    <tr style=\"text-align: right;\">\n",
       "      <th></th>\n",
       "      <th>dep_delay</th>\n",
       "      <th>air_time</th>\n",
       "    </tr>\n",
       "  </thead>\n",
       "  <tbody>\n",
       "    <tr>\n",
       "      <th>count</th>\n",
       "      <td>358.000000</td>\n",
       "      <td>358.000000</td>\n",
       "    </tr>\n",
       "    <tr>\n",
       "      <th>mean</th>\n",
       "      <td>7.567039</td>\n",
       "      <td>56.237430</td>\n",
       "    </tr>\n",
       "    <tr>\n",
       "      <th>std</th>\n",
       "      <td>27.721297</td>\n",
       "      <td>3.543574</td>\n",
       "    </tr>\n",
       "    <tr>\n",
       "      <th>min</th>\n",
       "      <td>-16.000000</td>\n",
       "      <td>50.000000</td>\n",
       "    </tr>\n",
       "    <tr>\n",
       "      <th>25%</th>\n",
       "      <td>-5.000000</td>\n",
       "      <td>54.000000</td>\n",
       "    </tr>\n",
       "    <tr>\n",
       "      <th>50%</th>\n",
       "      <td>-2.500000</td>\n",
       "      <td>56.000000</td>\n",
       "    </tr>\n",
       "    <tr>\n",
       "      <th>75%</th>\n",
       "      <td>6.750000</td>\n",
       "      <td>58.000000</td>\n",
       "    </tr>\n",
       "    <tr>\n",
       "      <th>max</th>\n",
       "      <td>163.000000</td>\n",
       "      <td>83.000000</td>\n",
       "    </tr>\n",
       "  </tbody>\n",
       "</table>\n",
       "</div>"
      ],
      "text/plain": [
       "        dep_delay    air_time\n",
       "count  358.000000  358.000000\n",
       "mean     7.567039   56.237430\n",
       "std     27.721297    3.543574\n",
       "min    -16.000000   50.000000\n",
       "25%     -5.000000   54.000000\n",
       "50%     -2.500000   56.000000\n",
       "75%      6.750000   58.000000\n",
       "max    163.000000   83.000000"
      ]
     },
     "execution_count": 18,
     "metadata": {},
     "output_type": "execute_result"
    }
   ],
   "source": [
    "df_7.describe()"
   ]
  },
  {
   "cell_type": "code",
   "execution_count": 19,
   "metadata": {},
   "outputs": [
    {
     "data": {
      "image/png": "[encoded data removed]",
      "text/plain": [
       "<Figure size 720x288 with 1 Axes>"
      ]
     },
     "metadata": {},
     "output_type": "display_data"
    }
   ],
   "source": [
    "plt.figure(figsize=(10,4), tight_layout=True)\n",
    "plt.scatter(x=df_7['dep_delay'], y=df_7['air_time'])\n",
    "plt.show()"
   ]
  },
  {
   "cell_type": "code",
   "execution_count": 20,
   "metadata": {},
   "outputs": [
    {
     "data": {
      "text/plain": [
       "(358, 4)"
      ]
     },
     "execution_count": 20,
     "metadata": {},
     "output_type": "execute_result"
    }
   ],
   "source": [
    "df_7.shape"
   ]
  },
  {
   "cell_type": "code",
   "execution_count": 21,
   "metadata": {},
   "outputs": [
    {
     "data": {
      "text/plain": [
       "89.5"
      ]
     },
     "execution_count": 21,
     "metadata": {},
     "output_type": "execute_result"
    }
   ],
   "source": [
    "358 / 4"
   ]
  },
  {
   "cell_type": "code",
   "execution_count": 22,
   "metadata": {},
   "outputs": [
    {
     "data": {
      "text/html": [
       "<div>\n",
       "<style scoped>\n",
       "    .dataframe tbody tr th:only-of-type {\n",
       "        vertical-align: middle;\n",
       "    }\n",
       "\n",
       "    .dataframe tbody tr th {\n",
       "        vertical-align: top;\n",
       "    }\n",
       "\n",
       "    .dataframe thead th {\n",
       "        text-align: right;\n",
       "    }\n",
       "</style>\n",
       "<table border=\"1\" class=\"dataframe\">\n",
       "  <thead>\n",
       "    <tr style=\"text-align: right;\">\n",
       "      <th></th>\n",
       "      <th>dep_delay</th>\n",
       "      <th>air_time</th>\n",
       "    </tr>\n",
       "  </thead>\n",
       "  <tbody>\n",
       "    <tr>\n",
       "      <th>1</th>\n",
       "      <td>-7.722222</td>\n",
       "      <td>56.255556</td>\n",
       "    </tr>\n",
       "    <tr>\n",
       "      <th>2</th>\n",
       "      <td>-4.022222</td>\n",
       "      <td>56.288889</td>\n",
       "    </tr>\n",
       "    <tr>\n",
       "      <th>3</th>\n",
       "      <td>0.811111</td>\n",
       "      <td>56.100000</td>\n",
       "    </tr>\n",
       "    <tr>\n",
       "      <th>4</th>\n",
       "      <td>41.965909</td>\n",
       "      <td>56.306818</td>\n",
       "    </tr>\n",
       "  </tbody>\n",
       "</table>\n",
       "</div>"
      ],
      "text/plain": [
       "   dep_delay   air_time\n",
       "1  -7.722222  56.255556\n",
       "2  -4.022222  56.288889\n",
       "3   0.811111  56.100000\n",
       "4  41.965909  56.306818"
      ]
     },
     "execution_count": 22,
     "metadata": {},
     "output_type": "execute_result"
    }
   ],
   "source": [
    "# splitting data into quarters\n",
    "q1 = df_7.iloc[:90,:]\n",
    "q2 = df_7.iloc[90:180,:]\n",
    "q3 = df_7.iloc[180:270,:]\n",
    "q4 = df_7.iloc[270:358,:]\n",
    "\n",
    "# finding mean values of groupings\n",
    "q1_mean = q1.describe().iloc[1:2,:]\n",
    "q2_mean = q2.describe().iloc[1:2,:]\n",
    "q3_mean = q3.describe().iloc[1:2,:]\n",
    "q4_mean = q4.describe().iloc[1:2,:]\n",
    "\n",
    "# create mean df\n",
    "frames = [q1_mean, q2_mean, q3_mean, q4_mean]\n",
    "mean_df = pd.concat(frames)\n",
    "mean_df = mean_df.set_index(pd.Index([1, 2, 3, 4]))\n",
    "mean_df"
   ]
  },
  {
   "cell_type": "code",
   "execution_count": 23,
   "metadata": {},
   "outputs": [
    {
     "data": {
      "image/png": "[encoded data removed]",
      "text/plain": [
       "<Figure size 720x288 with 1 Axes>"
      ]
     },
     "metadata": {},
     "output_type": "display_data"
    }
   ],
   "source": [
    "# round to nearest hundredth for visual\n",
    "rounded_df = mean_df.round(2)\n",
    "\n",
    "# plot\n",
    "sns.set_style('darkgrid')\n",
    "plt.figure(figsize=(10,4), tight_layout=True)\n",
    "plt.ylim(55, 57)\n",
    "ax = sns.barplot(x=rounded_df['dep_delay'], y=rounded_df['air_time'], palette='muted')\n",
    "ax.set(title='Affect of Departure Delay on Total Air Time ', xlabel='Delay in Minutes (negative values = early)', ylabel='Air Time in Minutes')\n",
    "plt.show()"
   ]
  },
  {
   "cell_type": "markdown",
   "metadata": {},
   "source": [
    "#### **Task 8**: When (which hour) do most 'LONG', 'SHORT', 'MEDIUM' haul flights take off?"
   ]
  },
  {
   "cell_type": "code",
   "execution_count": 24,
   "metadata": {},
   "outputs": [
    {
     "name": "stderr",
     "output_type": "stream",
     "text": [
      "/var/folders/yl/ftfrcz0s4nd_pncmmknzn7440000gn/T/ipykernel_52125/3320309509.py:5: SettingWithCopyWarning: \n",
      "A value is trying to be set on a copy of a slice from a DataFrame.\n",
      "Try using .loc[row_indexer,col_indexer] = value instead\n",
      "\n",
      "See the caveats in the documentation: https://pandas.pydata.org/pandas-docs/stable/user_guide/indexing.html#returning-a-view-versus-a-copy\n",
      "  df_8['dist_quant'] = pd.qcut(df_8.distance, 3, labels=['short', 'medium', 'long'])\n"
     ]
    }
   ],
   "source": [
    "# create new dataframe with desired features\n",
    "df_8 = df[['distance', 'dep_time']]\n",
    "\n",
    "# quantile binning to separate short, med, and long flights\n",
    "df_8['dist_quant'] = pd.qcut(df_8.distance, 3, labels=['short', 'medium', 'long'])"
   ]
  },
  {
   "cell_type": "code",
   "execution_count": 25,
   "metadata": {},
   "outputs": [
    {
     "data": {
      "text/html": [
       "<div>\n",
       "<style scoped>\n",
       "    .dataframe tbody tr th:only-of-type {\n",
       "        vertical-align: middle;\n",
       "    }\n",
       "\n",
       "    .dataframe tbody tr th {\n",
       "        vertical-align: top;\n",
       "    }\n",
       "\n",
       "    .dataframe thead th {\n",
       "        text-align: right;\n",
       "    }\n",
       "</style>\n",
       "<table border=\"1\" class=\"dataframe\">\n",
       "  <thead>\n",
       "    <tr style=\"text-align: right;\">\n",
       "      <th></th>\n",
       "      <th>distance</th>\n",
       "      <th>dist_quant</th>\n",
       "    </tr>\n",
       "  </thead>\n",
       "  <tbody>\n",
       "    <tr>\n",
       "      <th>0</th>\n",
       "      <td>733.0</td>\n",
       "      <td>medium</td>\n",
       "    </tr>\n",
       "    <tr>\n",
       "      <th>1</th>\n",
       "      <td>1075.0</td>\n",
       "      <td>long</td>\n",
       "    </tr>\n",
       "    <tr>\n",
       "      <th>2</th>\n",
       "      <td>488.0</td>\n",
       "      <td>medium</td>\n",
       "    </tr>\n",
       "    <tr>\n",
       "      <th>3</th>\n",
       "      <td>199.0</td>\n",
       "      <td>short</td>\n",
       "    </tr>\n",
       "    <tr>\n",
       "      <th>4</th>\n",
       "      <td>224.0</td>\n",
       "      <td>short</td>\n",
       "    </tr>\n",
       "  </tbody>\n",
       "</table>\n",
       "</div>"
      ],
      "text/plain": [
       "   distance dist_quant\n",
       "0     733.0     medium\n",
       "1    1075.0       long\n",
       "2     488.0     medium\n",
       "3     199.0      short\n",
       "4     224.0      short"
      ]
     },
     "execution_count": 25,
     "metadata": {},
     "output_type": "execute_result"
    }
   ],
   "source": [
    "df_8[['distance','dist_quant']].head()"
   ]
  },
  {
   "cell_type": "code",
   "execution_count": 26,
   "metadata": {},
   "outputs": [],
   "source": [
    "# drop original distance column\n",
    "df_8 = df_8.drop(columns=['distance'])"
   ]
  },
  {
   "cell_type": "code",
   "execution_count": 27,
   "metadata": {},
   "outputs": [],
   "source": [
    "# separate dataframes into distance quantiles\n",
    "short_flights = df_8.loc[(df_8.dist_quant == 'short')]\n",
    "med_flights = df_8.loc[(df_8.dist_quant == 'medium')]\n",
    "long_flights = df_8.loc[(df_8.dist_quant == 'long')]"
   ]
  },
  {
   "cell_type": "code",
   "execution_count": 28,
   "metadata": {},
   "outputs": [
    {
     "data": {
      "image/png": "[encoded data removed]",
      "text/plain": [
       "<Figure size 720x576 with 3 Axes>"
      ]
     },
     "metadata": {},
     "output_type": "display_data"
    }
   ],
   "source": [
    "# histograms to visualize peak hours\n",
    "\n",
    "plt.figure(figsize=(10,8), tight_layout=True)\n",
    "\n",
    "plt.subplot(3, 1, 1)\n",
    "plt.hist(short_flights.dep_time, bins=40)\n",
    "plt.title('Short Flight - Time Distribution')\n",
    "plt.xticks(np.arange(0, 2500, 100), rotation=45)\n",
    "\n",
    "plt.subplot(3, 1, 2)\n",
    "plt.hist(med_flights.dep_time, bins=40)\n",
    "plt.title('Medium Flight - Time Distribution')\n",
    "plt.xticks(np.arange(0, 2500, 100), rotation=45)\n",
    "\n",
    "plt.subplot(3, 1, 3)\n",
    "plt.hist(long_flights.dep_time, bins=40)\n",
    "plt.title('Long Flight - Time Distribution')\n",
    "plt.xticks(np.arange(0, 2500, 100), rotation=45)\n",
    "\n",
    "plt.show()"
   ]
  },
  {
   "cell_type": "markdown",
   "metadata": {},
   "source": [
    "#### **Task 9**: Find the top 10 the bussiest airports. Does the biggest number of flights mean that the biggest number of passengers went through the particular airport? How much traffic do these 10 airports cover?"
   ]
  },
  {
   "cell_type": "code",
   "execution_count": 225,
   "metadata": {
    "collapsed": true,
    "jupyter": {
     "outputs_hidden": true
    },
    "tags": []
   },
   "outputs": [
    {
     "name": "stdout",
     "output_type": "stream",
     "text": [
      "<class 'pandas.core.frame.DataFrame'>\n",
      "Int64Index: 165928 entries, 0 to 165927\n",
      "Data columns (total 38 columns):\n",
      " #   Column                 Non-Null Count   Dtype  \n",
      "---  ------                 --------------   -----  \n",
      " 0   departures_scheduled   165928 non-null  float64\n",
      " 1   departures_performed   165928 non-null  float64\n",
      " 2   payload                165928 non-null  float64\n",
      " 3   seats                  165928 non-null  float64\n",
      " 4   passengers             165928 non-null  float64\n",
      " 5   freight                165928 non-null  float64\n",
      " 6   mail                   165928 non-null  float64\n",
      " 7   distance               165928 non-null  float64\n",
      " 8   ramp_to_ramp           165928 non-null  float64\n",
      " 9   air_time               165928 non-null  float64\n",
      " 10  unique_carrier         165928 non-null  object \n",
      " 11  airline_id             165928 non-null  int64  \n",
      " 12  unique_carrier_name    165928 non-null  object \n",
      " 13  region                 165928 non-null  object \n",
      " 14  carrier                165928 non-null  object \n",
      " 15  carrier_name           165928 non-null  object \n",
      " 16  carrier_group          165928 non-null  int64  \n",
      " 17  carrier_group_new      165928 non-null  int64  \n",
      " 18  origin_airport_id      165928 non-null  int64  \n",
      " 19  origin_city_market_id  165928 non-null  int64  \n",
      " 20  origin                 165928 non-null  object \n",
      " 21  origin_city_name       165928 non-null  object \n",
      " 22  origin_country         165928 non-null  object \n",
      " 23  origin_country_name    165928 non-null  object \n",
      " 24  dest_airport_id        165928 non-null  int64  \n",
      " 25  dest_city_market_id    165928 non-null  int64  \n",
      " 26  dest                   165928 non-null  object \n",
      " 27  dest_city_name         165928 non-null  object \n",
      " 28  dest_country           165928 non-null  object \n",
      " 29  dest_country_name      165928 non-null  object \n",
      " 30  aircraft_group         165928 non-null  int64  \n",
      " 31  aircraft_type          165928 non-null  int64  \n",
      " 32  aircraft_config        165928 non-null  int64  \n",
      " 33  year                   165928 non-null  int64  \n",
      " 34  month                  165928 non-null  int64  \n",
      " 35  distance_group         165928 non-null  int64  \n",
      " 36  class                  165928 non-null  object \n",
      " 37  data_source            165928 non-null  object \n",
      "dtypes: float64(10), int64(13), object(15)\n",
      "memory usage: 49.4+ MB\n"
     ]
    }
   ],
   "source": [
    "# create new DataFrame from 'passengers_data.csv'\n",
    "pas_df = pd.read_csv('../DB/passengers_data.csv', index_col='Unnamed: 0')\n",
    "pas_df.info()"
   ]
  },
  {
   "cell_type": "code",
   "execution_count": 226,
   "metadata": {},
   "outputs": [
    {
     "name": "stdout",
     "output_type": "stream",
     "text": [
      "<class 'pandas.core.frame.DataFrame'>\n",
      "RangeIndex: 10 entries, 0 to 9\n",
      "Data columns (total 2 columns):\n",
      " #   Column        Non-Null Count  Dtype \n",
      "---  ------        --------------  ----- \n",
      " 0   origin        10 non-null     object\n",
      " 1   flight_count  10 non-null     int64 \n",
      "dtypes: int64(1), object(1)\n",
      "memory usage: 288.0+ bytes\n"
     ]
    }
   ],
   "source": [
    "# create working dataframe\n",
    "pas = pas_df[['passengers', 'origin', 'dest']]\n",
    "\n",
    "\n",
    "# create flight count feature\n",
    "busiest_aps = pd.DataFrame(pas[['origin']].value_counts().head(10))\n",
    "busiest_aps = busiest_aps.reset_index()\n",
    "busiest_aps = busiest_aps.rename(columns={0:'flight_count'})\n",
    "busiest_aps.info()"
   ]
  },
  {
   "cell_type": "code",
   "execution_count": 227,
   "metadata": {},
   "outputs": [],
   "source": [
    "# helper function\n",
    "\n",
    "def pass_sum(df):\n",
    "    \n",
    "    '''\n",
    "    Returns a new DataFrame with the total passenger count for \n",
    "    the top 10 busiest airports based on total flights.\n",
    "    \n",
    "    Arguments:\n",
    "    df -- DataFrame from passengers table\n",
    "            - must include 'origin' and 'passengers' features\n",
    "            \n",
    "    Returns:\n",
    "    New DataFrame\n",
    "        - Columns: 'origin', 'total_pass'\n",
    "        - Row: 10 ordered rows for 10 busiest airports based on flight count\n",
    "    '''\n",
    "    \n",
    "    # find the ten busiest airports\n",
    "    \n",
    "    busiest_ap = df[['origin']].value_counts().head(10).index.tolist()\n",
    "    \n",
    "    \n",
    "    # split ten airports into list\n",
    "    \n",
    "    ap_list = []\n",
    "    pas_list = []\n",
    "    for port in busiest_ap:\n",
    "        ap_list.append(port[0])\n",
    "        pas_list.append(df.loc[(df.origin == port[0])].groupby(by='origin').sum()['passengers'][0])\n",
    "        \n",
    "        \n",
    "    # create DataFrame from new lists\n",
    "    \n",
    "    X = {'origin': ap_list,\n",
    "         'total_pass': pas_list}\n",
    "    X = pd.DataFrame(X)\n",
    "    \n",
    "    \n",
    "    return X"
   ]
  },
  {
   "cell_type": "code",
   "execution_count": 228,
   "metadata": {},
   "outputs": [
    {
     "name": "stdout",
     "output_type": "stream",
     "text": [
      "<class 'pandas.core.frame.DataFrame'>\n",
      "RangeIndex: 10 entries, 0 to 9\n",
      "Data columns (total 2 columns):\n",
      " #   Column      Non-Null Count  Dtype  \n",
      "---  ------      --------------  -----  \n",
      " 0   origin      10 non-null     object \n",
      " 1   total_pass  10 non-null     float64\n",
      "dtypes: float64(1), object(1)\n",
      "memory usage: 288.0+ bytes\n"
     ]
    }
   ],
   "source": [
    "# use helper function to create total passengers DataFrame\n",
    "total_pas_df = pass_sum(pas)\n",
    "total_pas_df.info()"
   ]
  },
  {
   "cell_type": "code",
   "execution_count": 229,
   "metadata": {},
   "outputs": [
    {
     "name": "stdout",
     "output_type": "stream",
     "text": [
      "  origin  flight_count  total_pass\n",
      "0    ORD          5331  13534818.0\n",
      "1    ATL          4827  18842804.0\n",
      "2    DEN          4017  10415222.0\n",
      "3    LAX          3820  14827542.0\n",
      "4    IAH          3327   7338538.0\n",
      "5    DTW          3203   6099075.0\n",
      "6    MSP          3151   6938827.0\n",
      "7    DFW          3050  12307578.0\n",
      "8    EWR          3010   7632355.0\n",
      "9    MIA          2812   7118168.0\n"
     ]
    }
   ],
   "source": [
    "# merge the total flight and passengers DataFrames\n",
    "X = pd.merge(busiest_aps, total_pas_df, how='left', on='origin')\n",
    "print(X)"
   ]
  },
  {
   "cell_type": "code",
   "execution_count": 230,
   "metadata": {},
   "outputs": [],
   "source": [
    "from sklearn.preprocessing import StandardScaler, MinMaxScaler"
   ]
  },
  {
   "cell_type": "code",
   "execution_count": 231,
   "metadata": {},
   "outputs": [
    {
     "name": "stdout",
     "output_type": "stream",
     "text": [
      "  origin  flight_count  total_pass\n",
      "0    ORD      1.000000    0.583483\n",
      "1    ATL      0.799921    1.000000\n",
      "2    DEN      0.478364    0.338688\n",
      "3    LAX      0.400159    0.684923\n",
      "4    IAH      0.204446    0.097261\n",
      "5    DTW      0.155220    0.000000\n",
      "6    MSP      0.134577    0.065895\n",
      "7    DFW      0.094482    0.487181\n",
      "8    EWR      0.078603    0.120316\n",
      "9    MIA      0.000000    0.079968\n"
     ]
    }
   ],
   "source": [
    "# scale values for plotting\n",
    "scaler = MinMaxScaler()\n",
    "\n",
    "\n",
    "# apply scaler\n",
    "X[['flight_count','total_pass']] = scaler.fit_transform(X[['flight_count','total_pass']])\n",
    "\n",
    "\n",
    "# print values to check\n",
    "print(X)"
   ]
  },
  {
   "cell_type": "code",
   "execution_count": 232,
   "metadata": {},
   "outputs": [
    {
     "data": {
      "image/png": "[encoded data removed]",
      "text/plain": [
       "<Figure size 864x288 with 1 Axes>"
      ]
     },
     "metadata": {},
     "output_type": "display_data"
    }
   ],
   "source": [
    "# plot stacked bar plot using scaled values\n",
    "X.plot(kind='bar', \n",
    "       x='origin', \n",
    "       stacked=True, \n",
    "       cmap='Dark2', \n",
    "       figsize=(12,4), \n",
    "       title='Ten Busiest Airport - Total Flights & Passengers',\n",
    "       xlabel='Airports'\n",
    "      );"
   ]
  },
  {
   "cell_type": "markdown",
   "metadata": {
    "jp-MarkdownHeadingCollapsed": true,
    "tags": []
   },
   "source": [
    "#### **Task 10**: Do bigger delays lead to bigger fuel comsumption per passenger? \n",
    "We need to do four things to answer this as accurate as possible:\n",
    "- Find out average monthly delay per air carrier (monthly delay is sum of all delays in 1 month)\n",
    "- Find out distance covered monthly by different air carriers\n",
    "- Find out number of passengers that were carried by different air carriers\n",
    "- Find out total fuel comsumption per air carrier.\n",
    "\n",
    "Use this information to get the average fuel comsumption per passenger per km. Is this higher for the airlines with bigger average delays?"
   ]
  },
  {
   "cell_type": "code",
   "execution_count": null,
   "metadata": {},
   "outputs": [],
   "source": []
  },
  {
   "cell_type": "code",
   "execution_count": null,
   "metadata": {},
   "outputs": [],
   "source": []
  }
 ],
 "metadata": {
  "kernelspec": {
   "display_name": "Python 3 (ipykernel)",
   "language": "python",
   "name": "python3"
  },
  "language_info": {
   "codemirror_mode": {
    "name": "ipython",
    "version": 3
   },
   "file_extension": ".py",
   "mimetype": "text/x-python",
   "name": "python",
   "nbconvert_exporter": "python",
   "pygments_lexer": "ipython3",
   "version": "3.8.12"
  },
  "toc": {
   "base_numbering": 1,
   "nav_menu": {},
   "number_sections": true,
   "sideBar": true,
   "skip_h1_title": false,
   "title_cell": "Table of Contents",
   "title_sidebar": "Contents",
   "toc_cell": false,
   "toc_position": {},
   "toc_section_display": true,
   "toc_window_display": false
  },
  "varInspector": {
   "cols": {
    "lenName": 16,
    "lenType": 16,
    "lenVar": 40
   },
   "kernels_config": {
    "python": {
     "delete_cmd_postfix": "",
     "delete_cmd_prefix": "del ",
     "library": "var_list.py",
     "varRefreshCmd": "print(var_dic_list())"
    },
    "r": {
     "delete_cmd_postfix": ") ",
     "delete_cmd_prefix": "rm(",
     "library": "var_list.r",
     "varRefreshCmd": "cat(var_dic_list()) "
    }
   },
   "types_to_exclude": [
    "module",
    "function",
    "builtin_function_or_method",
    "instance",
    "_Feature"
   ],
   "window_display": false
  }
 },
 "nbformat": 4,
 "nbformat_minor": 4
}
