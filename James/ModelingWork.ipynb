{
 "cells": [
  {
   "cell_type": "markdown",
   "id": "827a2dc7-8d08-4705-b53f-831949164400",
   "metadata": {},
   "source": [
    "## PreProcessing and Modeling"
   ]
  },
  {
   "cell_type": "code",
   "execution_count": 20,
   "id": "41ee4000-42a1-4d43-9fde-7925df916e2a",
   "metadata": {},
   "outputs": [],
   "source": [
    "import pandas as pd\n",
    "import numpy as np\n",
    "import matplotlib.pyplot as plt\n",
    "import seaborn as sns"
   ]
  },
  {
   "cell_type": "code",
   "execution_count": 2,
   "id": "0ea73c47-97a1-4d47-b812-f2e9ba38784f",
   "metadata": {},
   "outputs": [],
   "source": [
    "# bring in testing data\n",
    "test_df = pd.read_csv('DB/test_sample.csv', index_col='Unnamed: 0')\n",
    "test_df = test_df.dropna()\n",
    "\n",
    "# bring in flights data\n",
    "flights_df = pd.read_csv('DB/flights_data.csv', index_col='Unnamed: 0')"
   ]
  },
  {
   "cell_type": "code",
   "execution_count": 3,
   "id": "84028283-6b67-455f-899c-1dd7b3b8fc41",
   "metadata": {},
   "outputs": [],
   "source": [
    "# find testing data features\n",
    "feature_cols = list(test_df.columns)\n",
    "feature_cols.append('arr_delay')\n",
    "\n",
    "# create base training features from existing testing features\n",
    "X = flights_df[feature_cols]\n",
    "X = X.dropna()"
   ]
  },
  {
   "cell_type": "code",
   "execution_count": 4,
   "id": "793f4449-949f-4d92-8d9f-e3320034014d",
   "metadata": {},
   "outputs": [],
   "source": [
    "# find numeric and categorical features\n",
    "cols = X.columns\n",
    "num_cols = X._get_numeric_data().columns\n",
    "cat_cols = list(set(cols) - set(num_cols))\n",
    "\n",
    "# remove redundant numeric columns\n",
    "final_num_cols = list(num_cols)\n",
    "final_num_cols.remove('op_carrier_fl_num')\n",
    "final_num_cols.remove('flights')\n",
    "\n",
    "# remove redundant categorical columns\n",
    "final_cat_cols = ['mkt_unique_carrier', 'fl_date', 'tail_num', 'branded_code_share']\n",
    "\n",
    "# combine final features\n",
    "final_features = final_num_cols + final_cat_cols\n",
    "\n",
    "X = X[final_features]\n",
    "\n",
    "# convert fl_date feature into datetime\n",
    "X['fl_date'] = pd.to_datetime(X['fl_date'])\n",
    "\n",
    "# separate datetime into date features\n",
    "X['year'] = X['fl_date'].dt.year\n",
    "X['month'] = X['fl_date'].dt.month\n",
    "X['week'] = X['fl_date'].dt.isocalendar().week\n",
    "X['day'] = X['fl_date'].dt.day\n",
    "X['day_of_week'] = X['fl_date'].dt.dayofweek\n",
    "\n",
    "# reset index for collaborative data sorting structure\n",
    "X = X.reset_index()\n",
    "X.index.name = 'order'\n",
    "X = X.drop(columns=['index'])\n",
    "\n",
    "# drop original fl_date and arr_delay columns\n",
    "X = X.drop(columns=['fl_date'])"
   ]
  },
  {
   "cell_type": "markdown",
   "id": "634056c2-9c14-4613-a4ff-ac5087dec952",
   "metadata": {},
   "source": [
    "***"
   ]
  },
  {
   "cell_type": "markdown",
   "id": "193cf30f-018c-4cf1-ae5a-2ae7d01460ce",
   "metadata": {
    "tags": []
   },
   "source": [
    "## Join New Features"
   ]
  },
  {
   "cell_type": "code",
   "execution_count": 5,
   "id": "e1e1605b-4a47-4f27-8560-71fbcaa48a8f",
   "metadata": {},
   "outputs": [],
   "source": [
    "# bring in feature data\n",
    "taxi_and_delay = pd.read_csv('James/features_created.csv')\n",
    "avg_monthly_pas = pd.read_csv('Riley/avg_monthly_pas.csv')\n"
   ]
  },
  {
   "cell_type": "code",
   "execution_count": 6,
   "id": "25745fbe-ea33-45d2-8103-a9e69573de54",
   "metadata": {},
   "outputs": [
    {
     "data": {
      "text/html": [
       "<div>\n",
       "<style scoped>\n",
       "    .dataframe tbody tr th:only-of-type {\n",
       "        vertical-align: middle;\n",
       "    }\n",
       "\n",
       "    .dataframe tbody tr th {\n",
       "        vertical-align: top;\n",
       "    }\n",
       "\n",
       "    .dataframe thead th {\n",
       "        text-align: right;\n",
       "    }\n",
       "</style>\n",
       "<table border=\"1\" class=\"dataframe\">\n",
       "  <thead>\n",
       "    <tr style=\"text-align: right;\">\n",
       "      <th></th>\n",
       "      <th>Unnamed: 0</th>\n",
       "      <th>order</th>\n",
       "      <th>distance</th>\n",
       "      <th>crs_dep_time</th>\n",
       "      <th>crs_arr_time</th>\n",
       "      <th>mkt_unique_carrier</th>\n",
       "      <th>mean_taxi_out/time</th>\n",
       "      <th>mean_taxi_in/time</th>\n",
       "      <th>mean_dep_delay/time</th>\n",
       "      <th>mean_arr_delay/time</th>\n",
       "      <th>mean_dep_delay/distance</th>\n",
       "      <th>mean_arr_delay/distance</th>\n",
       "      <th>mean_dep_delay/carrier</th>\n",
       "      <th>mean_arr_delay/carrier</th>\n",
       "    </tr>\n",
       "  </thead>\n",
       "  <tbody>\n",
       "    <tr>\n",
       "      <th>0</th>\n",
       "      <td>0</td>\n",
       "      <td>0</td>\n",
       "      <td>733.0</td>\n",
       "      <td>1300</td>\n",
       "      <td>1444</td>\n",
       "      <td>UA</td>\n",
       "      <td>17.372642</td>\n",
       "      <td>8.398230</td>\n",
       "      <td>9.557783</td>\n",
       "      <td>16.203540</td>\n",
       "      <td>17.384397</td>\n",
       "      <td>13.644793</td>\n",
       "      <td>12.628894</td>\n",
       "      <td>8.687159</td>\n",
       "    </tr>\n",
       "    <tr>\n",
       "      <th>1</th>\n",
       "      <td>1</td>\n",
       "      <td>1</td>\n",
       "      <td>1075.0</td>\n",
       "      <td>630</td>\n",
       "      <td>854</td>\n",
       "      <td>UA</td>\n",
       "      <td>16.813246</td>\n",
       "      <td>9.232143</td>\n",
       "      <td>4.561346</td>\n",
       "      <td>5.321429</td>\n",
       "      <td>8.236994</td>\n",
       "      <td>0.011561</td>\n",
       "      <td>12.628894</td>\n",
       "      <td>8.687159</td>\n",
       "    </tr>\n",
       "    <tr>\n",
       "      <th>2</th>\n",
       "      <td>2</td>\n",
       "      <td>2</td>\n",
       "      <td>488.0</td>\n",
       "      <td>1500</td>\n",
       "      <td>1709</td>\n",
       "      <td>UA</td>\n",
       "      <td>18.789406</td>\n",
       "      <td>8.639053</td>\n",
       "      <td>14.756792</td>\n",
       "      <td>10.242604</td>\n",
       "      <td>13.277929</td>\n",
       "      <td>7.323288</td>\n",
       "      <td>12.628894</td>\n",
       "      <td>8.687159</td>\n",
       "    </tr>\n",
       "    <tr>\n",
       "      <th>3</th>\n",
       "      <td>3</td>\n",
       "      <td>3</td>\n",
       "      <td>199.0</td>\n",
       "      <td>2041</td>\n",
       "      <td>2159</td>\n",
       "      <td>UA</td>\n",
       "      <td>21.924528</td>\n",
       "      <td>7.333333</td>\n",
       "      <td>11.867925</td>\n",
       "      <td>18.743961</td>\n",
       "      <td>14.227513</td>\n",
       "      <td>6.284946</td>\n",
       "      <td>12.628894</td>\n",
       "      <td>8.687159</td>\n",
       "    </tr>\n",
       "    <tr>\n",
       "      <th>4</th>\n",
       "      <td>4</td>\n",
       "      <td>4</td>\n",
       "      <td>224.0</td>\n",
       "      <td>2140</td>\n",
       "      <td>2257</td>\n",
       "      <td>UA</td>\n",
       "      <td>17.312977</td>\n",
       "      <td>8.170455</td>\n",
       "      <td>14.675573</td>\n",
       "      <td>3.227273</td>\n",
       "      <td>10.140485</td>\n",
       "      <td>8.314578</td>\n",
       "      <td>12.628894</td>\n",
       "      <td>8.687159</td>\n",
       "    </tr>\n",
       "  </tbody>\n",
       "</table>\n",
       "</div>"
      ],
      "text/plain": [
       "   Unnamed: 0  order  distance  crs_dep_time  crs_arr_time mkt_unique_carrier  \\\n",
       "0           0      0     733.0          1300          1444                 UA   \n",
       "1           1      1    1075.0           630           854                 UA   \n",
       "2           2      2     488.0          1500          1709                 UA   \n",
       "3           3      3     199.0          2041          2159                 UA   \n",
       "4           4      4     224.0          2140          2257                 UA   \n",
       "\n",
       "   mean_taxi_out/time  mean_taxi_in/time  mean_dep_delay/time  \\\n",
       "0           17.372642           8.398230             9.557783   \n",
       "1           16.813246           9.232143             4.561346   \n",
       "2           18.789406           8.639053            14.756792   \n",
       "3           21.924528           7.333333            11.867925   \n",
       "4           17.312977           8.170455            14.675573   \n",
       "\n",
       "   mean_arr_delay/time  mean_dep_delay/distance  mean_arr_delay/distance  \\\n",
       "0            16.203540                17.384397                13.644793   \n",
       "1             5.321429                 8.236994                 0.011561   \n",
       "2            10.242604                13.277929                 7.323288   \n",
       "3            18.743961                14.227513                 6.284946   \n",
       "4             3.227273                10.140485                 8.314578   \n",
       "\n",
       "   mean_dep_delay/carrier  mean_arr_delay/carrier  \n",
       "0               12.628894                8.687159  \n",
       "1               12.628894                8.687159  \n",
       "2               12.628894                8.687159  \n",
       "3               12.628894                8.687159  \n",
       "4               12.628894                8.687159  "
      ]
     },
     "execution_count": 6,
     "metadata": {},
     "output_type": "execute_result"
    }
   ],
   "source": [
    "taxi_and_delay.head()"
   ]
  },
  {
   "cell_type": "code",
   "execution_count": 7,
   "id": "211f44c4-0e14-4f80-af02-9802c48e1790",
   "metadata": {},
   "outputs": [],
   "source": [
    "# drop extra column\n",
    "taxi_and_delay = taxi_and_delay.drop(columns=['Unnamed: 0'])"
   ]
  },
  {
   "cell_type": "code",
   "execution_count": 8,
   "id": "56312942-0d6c-4a6c-828c-3a7c60b60758",
   "metadata": {},
   "outputs": [],
   "source": [
    "# merge taxi and delay features onto base training dataset\n",
    "merge_cols = ['order',\n",
    "              'mean_taxi_out/time',\n",
    "              'mean_taxi_in/time',\n",
    "              'mean_dep_delay/time',\n",
    "              'mean_arr_delay/time',\n",
    "              'mean_dep_delay/distance',\n",
    "              'mean_arr_delay/distance',\n",
    "              'mean_dep_delay/carrier',\n",
    "              'mean_arr_delay/carrier']\n",
    "\n",
    "X = pd.merge(X, taxi_and_delay[merge_cols], how='left', on=['order'])"
   ]
  },
  {
   "cell_type": "code",
   "execution_count": 9,
   "id": "5e08b675-a836-4037-b304-568cbcb47145",
   "metadata": {},
   "outputs": [],
   "source": [
    "# merge onto training DataFrame\n",
    "final = pd.merge(X, avg_monthly_pas, how='left', on=['origin_airport_id','month'])"
   ]
  },
  {
   "cell_type": "code",
   "execution_count": 10,
   "id": "6d19f9a1-b8b3-4db3-bc3f-d164b62a9bbf",
   "metadata": {},
   "outputs": [],
   "source": [
    "final = final.dropna()"
   ]
  },
  {
   "cell_type": "code",
   "execution_count": 11,
   "id": "eaceb5a1-5c6d-4f40-ba75-7d64a3f35176",
   "metadata": {},
   "outputs": [
    {
     "data": {
      "text/html": [
       "<div>\n",
       "<style scoped>\n",
       "    .dataframe tbody tr th:only-of-type {\n",
       "        vertical-align: middle;\n",
       "    }\n",
       "\n",
       "    .dataframe tbody tr th {\n",
       "        vertical-align: top;\n",
       "    }\n",
       "\n",
       "    .dataframe thead th {\n",
       "        text-align: right;\n",
       "    }\n",
       "</style>\n",
       "<table border=\"1\" class=\"dataframe\">\n",
       "  <thead>\n",
       "    <tr style=\"text-align: right;\">\n",
       "      <th></th>\n",
       "      <th>mkt_carrier_fl_num</th>\n",
       "      <th>origin_airport_id</th>\n",
       "      <th>dest_airport_id</th>\n",
       "      <th>crs_dep_time</th>\n",
       "      <th>crs_arr_time</th>\n",
       "      <th>crs_elapsed_time</th>\n",
       "      <th>distance</th>\n",
       "      <th>arr_delay</th>\n",
       "      <th>mkt_unique_carrier</th>\n",
       "      <th>tail_num</th>\n",
       "      <th>...</th>\n",
       "      <th>day_of_week</th>\n",
       "      <th>mean_taxi_out/time</th>\n",
       "      <th>mean_taxi_in/time</th>\n",
       "      <th>mean_dep_delay/time</th>\n",
       "      <th>mean_arr_delay/time</th>\n",
       "      <th>mean_dep_delay/distance</th>\n",
       "      <th>mean_arr_delay/distance</th>\n",
       "      <th>mean_dep_delay/carrier</th>\n",
       "      <th>mean_arr_delay/carrier</th>\n",
       "      <th>avg_monthly_pas</th>\n",
       "    </tr>\n",
       "  </thead>\n",
       "  <tbody>\n",
       "    <tr>\n",
       "      <th>0</th>\n",
       "      <td>3501</td>\n",
       "      <td>12953</td>\n",
       "      <td>13930</td>\n",
       "      <td>1300</td>\n",
       "      <td>1444</td>\n",
       "      <td>164.0</td>\n",
       "      <td>733.0</td>\n",
       "      <td>-28.0</td>\n",
       "      <td>UA</td>\n",
       "      <td>N744YX</td>\n",
       "      <td>...</td>\n",
       "      <td>0</td>\n",
       "      <td>17.372642</td>\n",
       "      <td>8.398230</td>\n",
       "      <td>9.557783</td>\n",
       "      <td>16.203540</td>\n",
       "      <td>17.384397</td>\n",
       "      <td>13.644793</td>\n",
       "      <td>12.628894</td>\n",
       "      <td>8.687159</td>\n",
       "      <td>66470.5</td>\n",
       "    </tr>\n",
       "    <tr>\n",
       "      <th>1</th>\n",
       "      <td>3502</td>\n",
       "      <td>11433</td>\n",
       "      <td>12266</td>\n",
       "      <td>630</td>\n",
       "      <td>854</td>\n",
       "      <td>204.0</td>\n",
       "      <td>1075.0</td>\n",
       "      <td>1.0</td>\n",
       "      <td>UA</td>\n",
       "      <td>N640RW</td>\n",
       "      <td>...</td>\n",
       "      <td>0</td>\n",
       "      <td>16.813246</td>\n",
       "      <td>9.232143</td>\n",
       "      <td>4.561346</td>\n",
       "      <td>5.321429</td>\n",
       "      <td>8.236994</td>\n",
       "      <td>0.011561</td>\n",
       "      <td>12.628894</td>\n",
       "      <td>8.687159</td>\n",
       "      <td>108812.5</td>\n",
       "    </tr>\n",
       "    <tr>\n",
       "      <th>2</th>\n",
       "      <td>3503</td>\n",
       "      <td>11618</td>\n",
       "      <td>11433</td>\n",
       "      <td>1500</td>\n",
       "      <td>1709</td>\n",
       "      <td>129.0</td>\n",
       "      <td>488.0</td>\n",
       "      <td>18.0</td>\n",
       "      <td>UA</td>\n",
       "      <td>N641RW</td>\n",
       "      <td>...</td>\n",
       "      <td>0</td>\n",
       "      <td>18.789406</td>\n",
       "      <td>8.639053</td>\n",
       "      <td>14.756792</td>\n",
       "      <td>10.242604</td>\n",
       "      <td>13.277929</td>\n",
       "      <td>7.323288</td>\n",
       "      <td>12.628894</td>\n",
       "      <td>8.687159</td>\n",
       "      <td>94693.5</td>\n",
       "    </tr>\n",
       "    <tr>\n",
       "      <th>3</th>\n",
       "      <td>3504</td>\n",
       "      <td>11618</td>\n",
       "      <td>11278</td>\n",
       "      <td>2041</td>\n",
       "      <td>2159</td>\n",
       "      <td>78.0</td>\n",
       "      <td>199.0</td>\n",
       "      <td>32.0</td>\n",
       "      <td>UA</td>\n",
       "      <td>N722YX</td>\n",
       "      <td>...</td>\n",
       "      <td>0</td>\n",
       "      <td>21.924528</td>\n",
       "      <td>7.333333</td>\n",
       "      <td>11.867925</td>\n",
       "      <td>18.743961</td>\n",
       "      <td>14.227513</td>\n",
       "      <td>6.284946</td>\n",
       "      <td>12.628894</td>\n",
       "      <td>8.687159</td>\n",
       "      <td>94693.5</td>\n",
       "    </tr>\n",
       "    <tr>\n",
       "      <th>4</th>\n",
       "      <td>3505</td>\n",
       "      <td>12266</td>\n",
       "      <td>11298</td>\n",
       "      <td>2140</td>\n",
       "      <td>2257</td>\n",
       "      <td>77.0</td>\n",
       "      <td>224.0</td>\n",
       "      <td>-1.0</td>\n",
       "      <td>UA</td>\n",
       "      <td>N855RW</td>\n",
       "      <td>...</td>\n",
       "      <td>0</td>\n",
       "      <td>17.312977</td>\n",
       "      <td>8.170455</td>\n",
       "      <td>14.675573</td>\n",
       "      <td>3.227273</td>\n",
       "      <td>10.140485</td>\n",
       "      <td>8.314578</td>\n",
       "      <td>12.628894</td>\n",
       "      <td>8.687159</td>\n",
       "      <td>155988.0</td>\n",
       "    </tr>\n",
       "  </tbody>\n",
       "</table>\n",
       "<p>5 rows × 25 columns</p>\n",
       "</div>"
      ],
      "text/plain": [
       "   mkt_carrier_fl_num  origin_airport_id  dest_airport_id  crs_dep_time  \\\n",
       "0                3501              12953            13930          1300   \n",
       "1                3502              11433            12266           630   \n",
       "2                3503              11618            11433          1500   \n",
       "3                3504              11618            11278          2041   \n",
       "4                3505              12266            11298          2140   \n",
       "\n",
       "   crs_arr_time  crs_elapsed_time  distance  arr_delay mkt_unique_carrier  \\\n",
       "0          1444             164.0     733.0      -28.0                 UA   \n",
       "1           854             204.0    1075.0        1.0                 UA   \n",
       "2          1709             129.0     488.0       18.0                 UA   \n",
       "3          2159              78.0     199.0       32.0                 UA   \n",
       "4          2257              77.0     224.0       -1.0                 UA   \n",
       "\n",
       "  tail_num  ... day_of_week  mean_taxi_out/time  mean_taxi_in/time  \\\n",
       "0   N744YX  ...           0           17.372642           8.398230   \n",
       "1   N640RW  ...           0           16.813246           9.232143   \n",
       "2   N641RW  ...           0           18.789406           8.639053   \n",
       "3   N722YX  ...           0           21.924528           7.333333   \n",
       "4   N855RW  ...           0           17.312977           8.170455   \n",
       "\n",
       "   mean_dep_delay/time  mean_arr_delay/time  mean_dep_delay/distance  \\\n",
       "0             9.557783            16.203540                17.384397   \n",
       "1             4.561346             5.321429                 8.236994   \n",
       "2            14.756792            10.242604                13.277929   \n",
       "3            11.867925            18.743961                14.227513   \n",
       "4            14.675573             3.227273                10.140485   \n",
       "\n",
       "   mean_arr_delay/distance  mean_dep_delay/carrier  mean_arr_delay/carrier  \\\n",
       "0                13.644793               12.628894                8.687159   \n",
       "1                 0.011561               12.628894                8.687159   \n",
       "2                 7.323288               12.628894                8.687159   \n",
       "3                 6.284946               12.628894                8.687159   \n",
       "4                 8.314578               12.628894                8.687159   \n",
       "\n",
       "   avg_monthly_pas  \n",
       "0          66470.5  \n",
       "1         108812.5  \n",
       "2          94693.5  \n",
       "3          94693.5  \n",
       "4         155988.0  \n",
       "\n",
       "[5 rows x 25 columns]"
      ]
     },
     "execution_count": 11,
     "metadata": {},
     "output_type": "execute_result"
    }
   ],
   "source": [
    "final = final.drop(['order'], axis=1)\n",
    "final.head()"
   ]
  },
  {
   "cell_type": "code",
   "execution_count": 12,
   "id": "0322c421-34da-45a1-b67c-df7954093f9f",
   "metadata": {},
   "outputs": [
    {
     "data": {
      "text/plain": [
       "(156741, 25)"
      ]
     },
     "execution_count": 12,
     "metadata": {},
     "output_type": "execute_result"
    }
   ],
   "source": [
    "final.shape"
   ]
  },
  {
   "cell_type": "code",
   "execution_count": 13,
   "id": "70f848ec-4610-4ebb-a01c-9ae94052d651",
   "metadata": {},
   "outputs": [],
   "source": [
    "final.to_csv('final_training.csv', index=False)"
   ]
  },
  {
   "cell_type": "markdown",
   "id": "d0596e24-7746-4bd8-8cc5-03f29f6ee334",
   "metadata": {},
   "source": [
    "***"
   ]
  },
  {
   "cell_type": "markdown",
   "id": "46d8cf90-f39c-4f7e-9ce9-8bfc81f02183",
   "metadata": {},
   "source": [
    "## ML Setup"
   ]
  },
  {
   "cell_type": "code",
   "execution_count": 2,
   "id": "15ee543a-7703-4ca3-a2ca-97ec5b7bac45",
   "metadata": {},
   "outputs": [],
   "source": [
    "df = pd.read_csv('final_training.csv')"
   ]
  },
  {
   "cell_type": "code",
   "execution_count": 3,
   "id": "65516ba3-e1ae-4bb9-9f0d-71dff484bd2b",
   "metadata": {},
   "outputs": [],
   "source": [
    "# set X & y\n",
    "X = df.drop(columns=['arr_delay'])\n",
    "y = df['arr_delay']"
   ]
  },
  {
   "cell_type": "code",
   "execution_count": 4,
   "id": "672a5764-1427-4d0c-b247-555996e11420",
   "metadata": {},
   "outputs": [],
   "source": [
    "from sklearn.model_selection import train_test_split\n",
    "X_train, X_test, y_train, y_test = train_test_split(X, y, test_size = 0.30, random_state = 101)"
   ]
  },
  {
   "cell_type": "code",
   "execution_count": 5,
   "id": "89d3109d-467b-433d-8ea2-33f4211f9f75",
   "metadata": {},
   "outputs": [
    {
     "name": "stderr",
     "output_type": "stream",
     "text": [
      "C:\\Users\\nikif\\anaconda3\\lib\\site-packages\\category_encoders\\utils.py:21: FutureWarning: is_categorical is deprecated and will be removed in a future version.  Use is_categorical_dtype instead\n",
      "  elif pd.api.types.is_categorical(cols):\n"
     ]
    }
   ],
   "source": [
    "import category_encoders as ce\n",
    "\n",
    "encoder = ce.OrdinalEncoder(cols=['mkt_unique_carrier', 'tail_num', 'branded_code_share'])\n",
    "\n",
    "X_train = encoder.fit_transform(X_train)\n",
    "\n",
    "X_test = encoder.transform(X_test)"
   ]
  },
  {
   "cell_type": "code",
   "execution_count": 6,
   "id": "29f99e8d-9216-43b7-b7e7-6d68e16fc490",
   "metadata": {},
   "outputs": [
    {
     "data": {
      "text/plain": [
       "(109718, 24)"
      ]
     },
     "execution_count": 6,
     "metadata": {},
     "output_type": "execute_result"
    }
   ],
   "source": [
    "X_train.shape"
   ]
  },
  {
   "cell_type": "code",
   "execution_count": 9,
   "id": "1900b153-bd2e-450a-b847-c242c48823ac",
   "metadata": {},
   "outputs": [],
   "source": [
    "# importing scalers and PCA\n",
    "from sklearn.preprocessing import MinMaxScaler, StandardScaler, RobustScaler\n",
    "from sklearn.decomposition import PCA\n",
    "\n",
    "# instantiating\n",
    "ss = StandardScaler()\n",
    "mm = MinMaxScaler()\n",
    "rs = RobustScaler()\n",
    "pca = PCA(n_components=0.95, svd_solver='full', random_state=101)\n",
    "# pca above will pick components to get to 95% of variance explained\n",
    "\n",
    "# creating scaled train/test for each\n",
    "\n",
    "# standard\n",
    "X_train_ss = ss.fit_transform(X_train)\n",
    "X_test_ss = ss.transform(X_test)\n",
    "\n",
    "# minmax\n",
    "X_train_mm = mm.fit_transform(X_train)\n",
    "X_test_mm = mm.transform(X_test)\n",
    "\n",
    "# robust\n",
    "X_train_rs = rs.fit_transform(X_train)\n",
    "X_test_rs = rs.transform(X_test)\n",
    "\n",
    "# PCA (using MinMax scaled data)\n",
    "X_train_pca = pca.fit_transform(X_train_mm)\n",
    "X_test_pca = pca.transform(X_test_mm)"
   ]
  },
  {
   "cell_type": "code",
   "execution_count": 10,
   "id": "27756547-936b-417f-9e01-4e21095c8773",
   "metadata": {},
   "outputs": [],
   "source": [
    "# importing models to work with\n",
    "from xgboost import XGBRegressor # XGBoost Regression\n",
    "from sklearn.neighbors import KNeighborsRegressor # KNeighbours Regression\n",
    "from sklearn.tree import DecisionTreeRegressor # Decision Tree Regression\n",
    "from sklearn.model_selection import GridSearchCV # GridSearch for optimizing\n",
    "from sklearn import metrics as me # metrics for evaluation"
   ]
  },
  {
   "cell_type": "code",
   "execution_count": 25,
   "id": "94564215-0868-479f-ac5f-16a9d7cd1634",
   "metadata": {},
   "outputs": [],
   "source": [
    "def score_model(model, X_train, y_train, X_test, y_test, scaling='Base'):\n",
    "    '''\n",
    "    function to score given model with given data and scaling label\n",
    "    \n",
    "    dependencies: import numpy as np\n",
    "                  from sklearn import metrics as me\n",
    "    \n",
    "    model = model instantiated with optimal params set\n",
    "    X_train, y_train = training data split used as np.array\n",
    "    X_test, y_test = data split to test as np.array\n",
    "    scaling = scaling/preprocessing used on data as str ex. 'RobustScale' or 'PCA'\n",
    "              default = 'Base' for no scaling/reduction used\n",
    "    '''\n",
    "    # fit model\n",
    "    model.fit(X_train, y_train)\n",
    "\n",
    "    # predict Train set results\n",
    "    y_pred_train = model.predict(X_train)\n",
    "\n",
    "    # predict Test set results\n",
    "    y_pred = model.predict(X_test)\n",
    "\n",
    "    # computing RMSE + R2\n",
    "    rmse_train = np.sqrt(me.mean_squared_error(y_train, y_pred_train))\n",
    "    rmse_test = np.sqrt(me.mean_squared_error(y_test, y_pred))\n",
    "    r2_train = me.r2_score(y_train, y_pred_train)\n",
    "    r2_test = me.r2_score(y_test, y_pred)\n",
    "    print(f\"{scaling} data score:\")\n",
    "    print(\"Train RMSE: %f\" % (rmse_train))\n",
    "    print(\"Train R2: %f\" % (r2_train))\n",
    "    print(\"Test RMSE: %f\" % (rmse_test))\n",
    "    print(\"Test R2: %f\" % (r2_test))"
   ]
  },
  {
   "cell_type": "markdown",
   "id": "4467015f-3523-4db5-be1e-363cfc3f4e37",
   "metadata": {},
   "source": [
    "### XGBoost Regressor"
   ]
  },
  {
   "cell_type": "code",
   "execution_count": 28,
   "id": "8ce304a4-caf9-4fe0-bbf4-49c86294ff96",
   "metadata": {},
   "outputs": [
    {
     "name": "stdout",
     "output_type": "stream",
     "text": [
      "Best parameters for Base: {'colsample_bytree': 0.5, 'learning_rate': 0.03, 'max_depth': 7, 'min_child_weight': 4, 'n_estimators': 500, 'objective': 'reg:squarederror', 'subsample': 0.7}\n"
     ]
    }
   ],
   "source": [
    "# instantiating classifier\n",
    "xgb = XGBRegressor()\n",
    "\n",
    "# create params for GridSearch\n",
    "param_grid = {'objective':['reg:squarederror'],\n",
    "              'learning_rate': [0.03, 0.05, 0.07], \n",
    "              'max_depth': [5, 6, 7],\n",
    "              'min_child_weight': [2, 3, 4],\n",
    "              'subsample': [0.7],\n",
    "              'colsample_bytree': [0.5, 0.7],\n",
    "              'n_estimators': [100, 500, 1000]}\n",
    "\n",
    "\n",
    "\n",
    "# instantiate GridSearch\n",
    "gscv = GridSearchCV(estimator=xgb, param_grid=param_grid, n_jobs=-1)\n",
    "\n",
    "# fit model\n",
    "xgb_base = gscv.fit(X_train, y_train)\n",
    "\n",
    "# get best params\n",
    "print('Best parameters for Base:', xgb_base.best_params_)"
   ]
  },
  {
   "cell_type": "code",
   "execution_count": 37,
   "id": "0e424e72-1268-49bc-8d37-16fe939240d3",
   "metadata": {},
   "outputs": [
    {
     "name": "stdout",
     "output_type": "stream",
     "text": [
      "Train RMSE: 41.779740\n",
      "Train R2: 0.230241\n",
      "Test RMSE: 49.048042\n",
      "Test R2: 0.036613\n"
     ]
    }
   ],
   "source": [
    "# setting optimal params to model\n",
    "xgb1 = XGBRegressor(\n",
    "    colsample_bytree=0.5, \n",
    "    learning_rate=0.03,\n",
    "    max_depth=7,\n",
    "    min_child_weight=4,\n",
    "    n_estimators=500,\n",
    "    objective='reg:squarederror',\n",
    "    subsample=0.7\n",
    ")\n",
    "\n",
    "# fit model\n",
    "xgb1.fit(X_train, y_train)\n",
    "\n",
    "# predict Train set results\n",
    "y_pred_train = xgb1.predict(X_train)\n",
    "\n",
    "# predict Test set results\n",
    "y_pred_base = xgb1.predict(X_test)\n",
    "\n",
    "# computing RMSE + R2\n",
    "rmse_train = np.sqrt(me.mean_squared_error(y_train, y_pred_train))\n",
    "rmse_test = np.sqrt(me.mean_squared_error(y_test, y_pred_base))\n",
    "r2_train = me.r2_score(y_train, y_pred_train)\n",
    "r2_test = me.r2_score(y_test, y_pred_base)\n",
    "print(\"Train RMSE: %f\" % (rmse_train))\n",
    "print(\"Train R2: %f\" % (r2_train))\n",
    "print(\"Test RMSE: %f\" % (rmse_test))\n",
    "print(\"Test R2: %f\" % (r2_test))"
   ]
  },
  {
   "cell_type": "code",
   "execution_count": 11,
   "id": "e7e8b7a1-8984-414f-8a26-9ec3885baea6",
   "metadata": {},
   "outputs": [
    {
     "name": "stdout",
     "output_type": "stream",
     "text": [
      "StandardScale data scores:\n",
      "Train RMSE: 41.837357\n",
      "Train R2: 0.228117\n",
      "Test RMSE: 49.058476\n",
      "Test R2: 0.036203\n"
     ]
    }
   ],
   "source": [
    "# setting optimal params to model\n",
    "xgb1 = XGBRegressor(\n",
    "    colsample_bytree=0.5, \n",
    "    learning_rate=0.03,\n",
    "    max_depth=7,\n",
    "    min_child_weight=4,\n",
    "    n_estimators=500,\n",
    "    objective='reg:squarederror',\n",
    "    subsample=0.7\n",
    ")\n",
    "\n",
    "# fit model\n",
    "xgb1.fit(X_train_ss, y_train)\n",
    "\n",
    "# predict Train set results\n",
    "y_pred_train = xgb1.predict(X_train_ss)\n",
    "\n",
    "# predict Test set results\n",
    "y_pred_base = xgb1.predict(X_test_ss)\n",
    "\n",
    "# computing RMSE + R2\n",
    "rmse_train = np.sqrt(me.mean_squared_error(y_train, y_pred_train))\n",
    "rmse_test = np.sqrt(me.mean_squared_error(y_test, y_pred_base))\n",
    "r2_train = me.r2_score(y_train, y_pred_train)\n",
    "r2_test = me.r2_score(y_test, y_pred_base)\n",
    "print('StandardScale data scores:')\n",
    "print(\"Train RMSE: %f\" % (rmse_train))\n",
    "print(\"Train R2: %f\" % (r2_train))\n",
    "print(\"Test RMSE: %f\" % (rmse_test))\n",
    "print(\"Test R2: %f\" % (r2_test))"
   ]
  },
  {
   "cell_type": "code",
   "execution_count": 13,
   "id": "7512f411-0d69-4aff-81b7-6c4ff0672686",
   "metadata": {},
   "outputs": [
    {
     "name": "stdout",
     "output_type": "stream",
     "text": [
      "MinMaxScale data scores:\n",
      "Train RMSE: 41.771884\n",
      "Train R2: 0.230531\n",
      "Test RMSE: 49.067973\n",
      "Test R2: 0.035830\n"
     ]
    }
   ],
   "source": [
    "# setting optimal params to model\n",
    "xgb1 = XGBRegressor(\n",
    "    colsample_bytree=0.5, \n",
    "    learning_rate=0.03,\n",
    "    max_depth=7,\n",
    "    min_child_weight=4,\n",
    "    n_estimators=500,\n",
    "    objective='reg:squarederror',\n",
    "    subsample=0.7\n",
    ")\n",
    "\n",
    "# fit model\n",
    "xgb1.fit(X_train_mm, y_train)\n",
    "\n",
    "# predict Train set results\n",
    "y_pred_train = xgb1.predict(X_train_mm)\n",
    "\n",
    "# predict Test set results\n",
    "y_pred_base = xgb1.predict(X_test_mm)\n",
    "\n",
    "# computing RMSE + R2\n",
    "rmse_train = np.sqrt(me.mean_squared_error(y_train, y_pred_train))\n",
    "rmse_test = np.sqrt(me.mean_squared_error(y_test, y_pred_base))\n",
    "r2_train = me.r2_score(y_train, y_pred_train)\n",
    "r2_test = me.r2_score(y_test, y_pred_base)\n",
    "print('MinMaxScale data scores:')\n",
    "print(\"Train RMSE: %f\" % (rmse_train))\n",
    "print(\"Train R2: %f\" % (r2_train))\n",
    "print(\"Test RMSE: %f\" % (rmse_test))\n",
    "print(\"Test R2: %f\" % (r2_test))"
   ]
  },
  {
   "cell_type": "code",
   "execution_count": 14,
   "id": "987c8d56-6358-4db5-ab6b-1e111e132727",
   "metadata": {},
   "outputs": [
    {
     "name": "stdout",
     "output_type": "stream",
     "text": [
      "RobustScale data scores:\n",
      "Train RMSE: 41.768656\n",
      "Train R2: 0.230650\n",
      "Test RMSE: 49.056157\n",
      "Test R2: 0.036294\n"
     ]
    }
   ],
   "source": [
    "# setting optimal params to model\n",
    "xgb1 = XGBRegressor(\n",
    "    colsample_bytree=0.5, \n",
    "    learning_rate=0.03,\n",
    "    max_depth=7,\n",
    "    min_child_weight=4,\n",
    "    n_estimators=500,\n",
    "    objective='reg:squarederror',\n",
    "    subsample=0.7\n",
    ")\n",
    "\n",
    "# fit model\n",
    "xgb1.fit(X_train_rs, y_train)\n",
    "\n",
    "# predict Train set results\n",
    "y_pred_train = xgb1.predict(X_train_rs)\n",
    "\n",
    "# predict Test set results\n",
    "y_pred_base = xgb1.predict(X_test_rs)\n",
    "\n",
    "# computing RMSE + R2\n",
    "rmse_train = np.sqrt(me.mean_squared_error(y_train, y_pred_train))\n",
    "rmse_test = np.sqrt(me.mean_squared_error(y_test, y_pred_base))\n",
    "r2_train = me.r2_score(y_train, y_pred_train)\n",
    "r2_test = me.r2_score(y_test, y_pred_base)\n",
    "print('RobustScale data scores:')\n",
    "print(\"Train RMSE: %f\" % (rmse_train))\n",
    "print(\"Train R2: %f\" % (r2_train))\n",
    "print(\"Test RMSE: %f\" % (rmse_test))\n",
    "print(\"Test R2: %f\" % (r2_test))"
   ]
  },
  {
   "cell_type": "code",
   "execution_count": 15,
   "id": "29969200-499a-4329-909a-06b8babe6928",
   "metadata": {},
   "outputs": [
    {
     "name": "stdout",
     "output_type": "stream",
     "text": [
      "PCA data scores:\n",
      "Train RMSE: 43.116130\n",
      "Train R2: 0.180210\n",
      "Test RMSE: 49.415006\n",
      "Test R2: 0.022144\n"
     ]
    }
   ],
   "source": [
    "# setting optimal params to model\n",
    "xgb1 = XGBRegressor(\n",
    "    colsample_bytree=0.5, \n",
    "    learning_rate=0.03,\n",
    "    max_depth=7,\n",
    "    min_child_weight=4,\n",
    "    n_estimators=500,\n",
    "    objective='reg:squarederror',\n",
    "    subsample=0.7\n",
    ")\n",
    "\n",
    "# fit model\n",
    "xgb1.fit(X_train_pca, y_train)\n",
    "\n",
    "# predict Train set results\n",
    "y_pred_train = xgb1.predict(X_train_pca)\n",
    "\n",
    "# predict Test set results\n",
    "y_pred_base = xgb1.predict(X_test_pca)\n",
    "\n",
    "# computing RMSE + R2\n",
    "rmse_train = np.sqrt(me.mean_squared_error(y_train, y_pred_train))\n",
    "rmse_test = np.sqrt(me.mean_squared_error(y_test, y_pred_base))\n",
    "r2_train = me.r2_score(y_train, y_pred_train)\n",
    "r2_test = me.r2_score(y_test, y_pred_base)\n",
    "print('PCA data scores:')\n",
    "print(\"Train RMSE: %f\" % (rmse_train))\n",
    "print(\"Train R2: %f\" % (r2_train))\n",
    "print(\"Test RMSE: %f\" % (rmse_test))\n",
    "print(\"Test R2: %f\" % (r2_test))"
   ]
  },
  {
   "cell_type": "markdown",
   "id": "dd431776-51cc-438b-b874-813c78733ce9",
   "metadata": {},
   "source": [
    "### Decision Tree"
   ]
  },
  {
   "cell_type": "code",
   "execution_count": 40,
   "id": "3e5d99cb-03c8-4330-ae98-65ca4150b152",
   "metadata": {},
   "outputs": [
    {
     "name": "stdout",
     "output_type": "stream",
     "text": [
      "Best parameters for Base: {'criterion': 'squared_error', 'max_depth': 5, 'max_features': 'auto', 'min_samples_split': 4, 'splitter': 'random'}\n",
      "Best parameters for StandardScale: {'criterion': 'squared_error', 'max_depth': 5, 'max_features': 'auto', 'min_samples_split': 4, 'splitter': 'random'}\n",
      "Best parameters for MinMaxScale: {'criterion': 'squared_error', 'max_depth': 5, 'max_features': 'auto', 'min_samples_split': 4, 'splitter': 'random'}\n",
      "Best parameters for RobustScale: {'criterion': 'squared_error', 'max_depth': 5, 'max_features': 'auto', 'min_samples_split': 4, 'splitter': 'random'}\n"
     ]
    }
   ],
   "source": [
    "# Create Decision Tree classifer object\n",
    "dtree = DecisionTreeRegressor()\n",
    "\n",
    "# create params for GridSearch\n",
    "param_grid = {'criterion':['squared_error'],\n",
    "              'max_depth': [None, 2, 3, 5, 7], \n",
    "              'min_samples_split': [2, 3, 4, 5],\n",
    "              'max_features':  ['auto', 'sqrt', 'log2'],\n",
    "              'splitter': ['best','random']}\n",
    "\n",
    "\n",
    "\n",
    "# instantiate GridSearch\n",
    "gscv1 = GridSearchCV(estimator=dtree, param_grid=param_grid, n_jobs=-1)\n",
    "\n",
    "# fit model\n",
    "tree_base = gscv1.fit(X_train, y_train)\n",
    "tree_ss = gscv1.fit(X_train_ss, y_train)\n",
    "tree_mm = gscv1.fit(X_train_mm, y_train)\n",
    "tree_rs = gscv1.fit(X_train_rs, y_train)\n",
    "\n",
    "# get best params\n",
    "print('Best parameters for Base:', tree_base.best_params_)\n",
    "print('Best parameters for StandardScale:', tree_ss.best_params_)\n",
    "print('Best parameters for MinMaxScale:', tree_mm.best_params_)\n",
    "print('Best parameters for RobustScale:', tree_rs.best_params_)"
   ]
  },
  {
   "cell_type": "code",
   "execution_count": 42,
   "id": "e1d9fdba-144a-4c8d-bc83-94a9297ad8b1",
   "metadata": {},
   "outputs": [
    {
     "name": "stdout",
     "output_type": "stream",
     "text": [
      "Base data scores:\n",
      "Train RMSE: 47.273290\n",
      "Train R2: 0.014504\n",
      "Test RMSE: 49.657232\n",
      "Test R2: 0.012533\n"
     ]
    }
   ],
   "source": [
    "# setting optimal params to model\n",
    "dtree1 = DecisionTreeRegressor(\n",
    "    criterion= 'squared_error', \n",
    "    max_depth= 5, \n",
    "    max_features='auto', \n",
    "    min_samples_split= 4, \n",
    "    splitter='random'\n",
    ")\n",
    "# Base data\n",
    "# fit model\n",
    "dtree1.fit(X_train, y_train)\n",
    "\n",
    "# predict Train set results\n",
    "y_pred_train = dtree1.predict(X_train)\n",
    "\n",
    "# predict Test set results\n",
    "y_pred_base = dtree1.predict(X_test)\n",
    "\n",
    "# computing RMSE + R2\n",
    "rmse_train = np.sqrt(me.mean_squared_error(y_train, y_pred_train))\n",
    "rmse_test = np.sqrt(me.mean_squared_error(y_test, y_pred_base))\n",
    "r2_train = me.r2_score(y_train, y_pred_train)\n",
    "r2_test = me.r2_score(y_test, y_pred_base)\n",
    "print('Base data scores:')\n",
    "print(\"Train RMSE: %f\" % (rmse_train))\n",
    "print(\"Train R2: %f\" % (r2_train))\n",
    "print(\"Test RMSE: %f\" % (rmse_test))\n",
    "print(\"Test R2: %f\" % (r2_test))"
   ]
  },
  {
   "cell_type": "code",
   "execution_count": 46,
   "id": "bbfedd20-48d6-4ae6-a337-f3208d0eeb65",
   "metadata": {},
   "outputs": [
    {
     "name": "stdout",
     "output_type": "stream",
     "text": [
      "StandardScale data scores:\n",
      "Train RMSE: 47.245917\n",
      "Train R2: 0.015645\n",
      "Test RMSE: 49.635784\n",
      "Test R2: 0.013386\n"
     ]
    }
   ],
   "source": [
    "# StandardScale data\n",
    "# fit model\n",
    "dtree1.fit(X_train_ss, y_train)\n",
    "\n",
    "# predict Train set results\n",
    "y_pred_train = dtree1.predict(X_train_ss)\n",
    "\n",
    "# predict Test set results\n",
    "y_pred_base = dtree1.predict(X_test_ss)\n",
    "\n",
    "# computing RMSE + R2\n",
    "rmse_train = np.sqrt(me.mean_squared_error(y_train, y_pred_train))\n",
    "rmse_test = np.sqrt(me.mean_squared_error(y_test, y_pred_base))\n",
    "r2_train = me.r2_score(y_train, y_pred_train)\n",
    "r2_test = me.r2_score(y_test, y_pred_base)\n",
    "print('StandardScale data scores:')\n",
    "print(\"Train RMSE: %f\" % (rmse_train))\n",
    "print(\"Train R2: %f\" % (r2_train))\n",
    "print(\"Test RMSE: %f\" % (rmse_test))\n",
    "print(\"Test R2: %f\" % (r2_test))"
   ]
  },
  {
   "cell_type": "code",
   "execution_count": 47,
   "id": "16d716e8-1819-4062-8452-1d54ce4fcdbe",
   "metadata": {},
   "outputs": [
    {
     "name": "stdout",
     "output_type": "stream",
     "text": [
      "MinMaxScale data scores:\n",
      "Train RMSE: 47.138246\n",
      "Train R2: 0.020127\n",
      "Test RMSE: 49.695846\n",
      "Test R2: 0.010997\n"
     ]
    }
   ],
   "source": [
    "# MinMaxScale data\n",
    "# fit model\n",
    "dtree1.fit(X_train_mm, y_train)\n",
    "\n",
    "# predict Train set results\n",
    "y_pred_train = dtree1.predict(X_train_mm)\n",
    "\n",
    "# predict Test set results\n",
    "y_pred_base = dtree1.predict(X_test_mm)\n",
    "\n",
    "# computing RMSE + R2\n",
    "rmse_train = np.sqrt(me.mean_squared_error(y_train, y_pred_train))\n",
    "rmse_test = np.sqrt(me.mean_squared_error(y_test, y_pred_base))\n",
    "r2_train = me.r2_score(y_train, y_pred_train)\n",
    "r2_test = me.r2_score(y_test, y_pred_base)\n",
    "print('MinMaxScale data scores:')\n",
    "print(\"Train RMSE: %f\" % (rmse_train))\n",
    "print(\"Train R2: %f\" % (r2_train))\n",
    "print(\"Test RMSE: %f\" % (rmse_test))\n",
    "print(\"Test R2: %f\" % (r2_test))"
   ]
  },
  {
   "cell_type": "code",
   "execution_count": 48,
   "id": "4cd5c642-526d-4146-8239-3ef2860620e1",
   "metadata": {},
   "outputs": [
    {
     "name": "stdout",
     "output_type": "stream",
     "text": [
      "RobustScale data scores:\n",
      "Train RMSE: 47.251834\n",
      "Train R2: 0.015399\n",
      "Test RMSE: 49.603000\n",
      "Test R2: 0.014689\n"
     ]
    }
   ],
   "source": [
    "# RobustScale data\n",
    "# fit model\n",
    "dtree1.fit(X_train_rs, y_train)\n",
    "\n",
    "# predict Train set results\n",
    "y_pred_train = dtree1.predict(X_train_rs)\n",
    "\n",
    "# predict Test set results\n",
    "y_pred_base = dtree1.predict(X_test_rs)\n",
    "\n",
    "# computing RMSE + R2\n",
    "rmse_train = np.sqrt(me.mean_squared_error(y_train, y_pred_train))\n",
    "rmse_test = np.sqrt(me.mean_squared_error(y_test, y_pred_base))\n",
    "r2_train = me.r2_score(y_train, y_pred_train)\n",
    "r2_test = me.r2_score(y_test, y_pred_base)\n",
    "print('RobustScale data scores:')\n",
    "print(\"Train RMSE: %f\" % (rmse_train))\n",
    "print(\"Train R2: %f\" % (r2_train))\n",
    "print(\"Test RMSE: %f\" % (rmse_test))\n",
    "print(\"Test R2: %f\" % (r2_test))"
   ]
  },
  {
   "cell_type": "code",
   "execution_count": 17,
   "id": "0fdd78d0-a9b8-461f-8902-ded27949af9c",
   "metadata": {},
   "outputs": [
    {
     "name": "stdout",
     "output_type": "stream",
     "text": [
      "PCA data scores:\n",
      "Train RMSE: 47.392818\n",
      "Train R2: 0.009514\n",
      "Test RMSE: 49.789242\n",
      "Test R2: 0.007276\n"
     ]
    }
   ],
   "source": [
    "# PCA data\n",
    "# setting optimal params to model\n",
    "dtree1 = DecisionTreeRegressor(\n",
    "    criterion= 'squared_error', \n",
    "    max_depth= 5, \n",
    "    max_features='auto', \n",
    "    min_samples_split= 4, \n",
    "    splitter='random'\n",
    ")\n",
    "\n",
    "# fit model\n",
    "dtree1.fit(X_train_pca, y_train)\n",
    "\n",
    "# predict Train set results\n",
    "y_pred_train = dtree1.predict(X_train_pca)\n",
    "\n",
    "# predict Test set results\n",
    "y_pred_base = dtree1.predict(X_test_pca)\n",
    "\n",
    "# computing RMSE + R2\n",
    "rmse_train = np.sqrt(me.mean_squared_error(y_train, y_pred_train))\n",
    "rmse_test = np.sqrt(me.mean_squared_error(y_test, y_pred_base))\n",
    "r2_train = me.r2_score(y_train, y_pred_train)\n",
    "r2_test = me.r2_score(y_test, y_pred_base)\n",
    "print('PCA data scores:')\n",
    "print(\"Train RMSE: %f\" % (rmse_train))\n",
    "print(\"Train R2: %f\" % (r2_train))\n",
    "print(\"Test RMSE: %f\" % (rmse_test))\n",
    "print(\"Test R2: %f\" % (r2_test))"
   ]
  },
  {
   "cell_type": "markdown",
   "id": "b39258fc-105c-44a3-9389-9c97246ecb01",
   "metadata": {},
   "source": [
    "### KNN Regression"
   ]
  },
  {
   "cell_type": "code",
   "execution_count": 18,
   "id": "71977636-a342-4968-b721-bc59acaba1f2",
   "metadata": {},
   "outputs": [],
   "source": [
    "# Create KNRegressor classifer object\n",
    "knr = KNeighborsRegressor()"
   ]
  },
  {
   "cell_type": "code",
   "execution_count": 25,
   "id": "380d1bc2-627f-48b0-8a3c-7532edfa9f65",
   "metadata": {},
   "outputs": [
    {
     "name": "stdout",
     "output_type": "stream",
     "text": [
      "StandardScale data scores:\n",
      "Train RMSE: 41.648881\n",
      "Train R2: 0.235056\n",
      "Test RMSE: 52.970414\n",
      "Test R2: -0.123632\n"
     ]
    }
   ],
   "source": [
    "# fit model\n",
    "knr_base = knr.fit(X_train_ss, y_train)\n",
    "\n",
    "# predict Train set results\n",
    "y_pred_train = knr.predict(X_train_ss)\n",
    "\n",
    "# predict Test set results\n",
    "y_pred_base = knr.predict(X_test_ss)\n",
    "\n",
    "# computing RMSE + R2\n",
    "rmse_train = np.sqrt(me.mean_squared_error(y_train, y_pred_train))\n",
    "rmse_test = np.sqrt(me.mean_squared_error(y_test, y_pred_base))\n",
    "r2_train = me.r2_score(y_train, y_pred_train)\n",
    "r2_test = me.r2_score(y_test, y_pred_base)\n",
    "print('StandardScale data scores:')\n",
    "print(\"Train RMSE: %f\" % (rmse_train))\n",
    "print(\"Train R2: %f\" % (r2_train))\n",
    "print(\"Test RMSE: %f\" % (rmse_test))\n",
    "print(\"Test R2: %f\" % (r2_test))"
   ]
  },
  {
   "cell_type": "code",
   "execution_count": 26,
   "id": "7eedb91c-1fd3-4f33-9fa0-11d590ca8f0c",
   "metadata": {},
   "outputs": [
    {
     "name": "stdout",
     "output_type": "stream",
     "text": [
      "RobustScale data scores:\n",
      "Train RMSE: 41.827172\n",
      "Train R2: 0.228493\n",
      "Test RMSE: 53.286869\n",
      "Test R2: -0.137098\n"
     ]
    }
   ],
   "source": [
    "# fit model\n",
    "knr_base = knr.fit(X_train_rs, y_train)\n",
    "\n",
    "# predict Train set results\n",
    "y_pred_train = knr.predict(X_train_rs)\n",
    "\n",
    "# predict Test set results\n",
    "y_pred_base = knr.predict(X_test_rs)\n",
    "\n",
    "# computing RMSE + R2\n",
    "rmse_train = np.sqrt(me.mean_squared_error(y_train, y_pred_train))\n",
    "rmse_test = np.sqrt(me.mean_squared_error(y_test, y_pred_base))\n",
    "r2_train = me.r2_score(y_train, y_pred_train)\n",
    "r2_test = me.r2_score(y_test, y_pred_base)\n",
    "print('RobustScale data scores:')\n",
    "print(\"Train RMSE: %f\" % (rmse_train))\n",
    "print(\"Train R2: %f\" % (r2_train))\n",
    "print(\"Test RMSE: %f\" % (rmse_test))\n",
    "print(\"Test R2: %f\" % (r2_test))"
   ]
  },
  {
   "cell_type": "code",
   "execution_count": 27,
   "id": "f1b38bc8-4f54-4864-a65d-504889e7f3bf",
   "metadata": {},
   "outputs": [
    {
     "name": "stdout",
     "output_type": "stream",
     "text": [
      "MinMaxScale data scores:\n",
      "Train RMSE: 40.771489\n",
      "Train R2: 0.266946\n",
      "Test RMSE: 52.198470\n",
      "Test R2: -0.091121\n"
     ]
    }
   ],
   "source": [
    "# fit model\n",
    "knr_base = knr.fit(X_train_mm, y_train)\n",
    "\n",
    "# predict Train set results\n",
    "y_pred_train = knr.predict(X_train_mm)\n",
    "\n",
    "# predict Test set results\n",
    "y_pred_base = knr.predict(X_test_mm)\n",
    "\n",
    "# computing RMSE + R2\n",
    "rmse_train = np.sqrt(me.mean_squared_error(y_train, y_pred_train))\n",
    "rmse_test = np.sqrt(me.mean_squared_error(y_test, y_pred_base))\n",
    "r2_train = me.r2_score(y_train, y_pred_train)\n",
    "r2_test = me.r2_score(y_test, y_pred_base)\n",
    "print('MinMaxScale data scores:')\n",
    "print(\"Train RMSE: %f\" % (rmse_train))\n",
    "print(\"Train R2: %f\" % (r2_train))\n",
    "print(\"Test RMSE: %f\" % (rmse_test))\n",
    "print(\"Test R2: %f\" % (r2_test))"
   ]
  },
  {
   "cell_type": "code",
   "execution_count": 19,
   "id": "f38690d8-577c-41a1-8f8f-7e4ab4896881",
   "metadata": {},
   "outputs": [
    {
     "name": "stdout",
     "output_type": "stream",
     "text": [
      "PCA data scores:\n",
      "Train RMSE: 40.757392\n",
      "Train R2: 0.267452\n",
      "Test RMSE: 52.247074\n",
      "Test R2: -0.093154\n"
     ]
    }
   ],
   "source": [
    "# fit model\n",
    "knr_base = knr.fit(X_train_pca, y_train)\n",
    "\n",
    "# predict Train set results\n",
    "y_pred_train = knr.predict(X_train_pca)\n",
    "\n",
    "# predict Test set results\n",
    "y_pred_base = knr.predict(X_test_pca)\n",
    "\n",
    "# computing RMSE + R2\n",
    "rmse_train = np.sqrt(me.mean_squared_error(y_train, y_pred_train))\n",
    "rmse_test = np.sqrt(me.mean_squared_error(y_test, y_pred_base))\n",
    "r2_train = me.r2_score(y_train, y_pred_train)\n",
    "r2_test = me.r2_score(y_test, y_pred_base)\n",
    "print('PCA data scores:')\n",
    "print(\"Train RMSE: %f\" % (rmse_train))\n",
    "print(\"Train R2: %f\" % (r2_train))\n",
    "print(\"Test RMSE: %f\" % (rmse_test))\n",
    "print(\"Test R2: %f\" % (r2_test))"
   ]
  },
  {
   "cell_type": "markdown",
   "id": "67e7219c-1e1d-41dd-8805-634b6f4b3600",
   "metadata": {},
   "source": [
    "### Comparing results"
   ]
  },
  {
   "cell_type": "markdown",
   "id": "6a18bb6f-d887-4186-9adc-0970d0e89869",
   "metadata": {},
   "source": [
    "##### Obtaining top two results from models:"
   ]
  },
  {
   "cell_type": "code",
   "execution_count": 22,
   "id": "21d1eab4-bbdd-4c68-9674-52f6c17ab6ff",
   "metadata": {},
   "outputs": [],
   "source": [
    "# compiling lists\n",
    "\n",
    "models = ['KNRegressor_minmax',\n",
    "          'KNRegressor_pca',\n",
    "          'DecisionTree_standard',\n",
    "          'DecisionTree_robust',\n",
    "          'XGBoost',\n",
    "          'XGBoost_robust']\n",
    "\n",
    "train_r2 = [0.266946,\n",
    "            0.267452,\n",
    "            0.015645,\n",
    "            0.015399,\n",
    "            0.230241,\n",
    "            0.230650]\n",
    "\n",
    "train_RMSE = [40.771489,\n",
    "              40.757392,\n",
    "              47.245917,\n",
    "              47.251834,\n",
    "              41.779740,\n",
    "              41.768656]\n",
    "\n",
    "test_r2 = [-0.091121,\n",
    "           -0.093154,\n",
    "           0.013386,\n",
    "           0.014689,\n",
    "           0.036613,\n",
    "           0.036294]\n",
    "\n",
    "test_RMSE = [52.198470,\n",
    "             52.247074,\n",
    "             49.635784,\n",
    "             49.603000,\n",
    "             49.048042,\n",
    "             49.056157]\n",
    "\n",
    "# zipping into dictionary\n",
    "\n",
    "results_dict = {k: (v1, v2, v3, v4) for k, v1, v2, v3, v4 in zip(models, train_r2, train_RMSE, test_r2, test_RMSE)}"
   ]
  },
  {
   "cell_type": "code",
   "execution_count": 23,
   "id": "992ce15c-8431-4e28-aa17-650e585dc580",
   "metadata": {},
   "outputs": [
    {
     "data": {
      "text/html": [
       "<div>\n",
       "<style scoped>\n",
       "    .dataframe tbody tr th:only-of-type {\n",
       "        vertical-align: middle;\n",
       "    }\n",
       "\n",
       "    .dataframe tbody tr th {\n",
       "        vertical-align: top;\n",
       "    }\n",
       "\n",
       "    .dataframe thead th {\n",
       "        text-align: right;\n",
       "    }\n",
       "</style>\n",
       "<table border=\"1\" class=\"dataframe\">\n",
       "  <thead>\n",
       "    <tr style=\"text-align: right;\">\n",
       "      <th></th>\n",
       "      <th>Train r2</th>\n",
       "      <th>Train RMSE</th>\n",
       "      <th>Test r2</th>\n",
       "      <th>Test RMSE</th>\n",
       "    </tr>\n",
       "  </thead>\n",
       "  <tbody>\n",
       "    <tr>\n",
       "      <th>KNRegressor_minmax</th>\n",
       "      <td>0.266946</td>\n",
       "      <td>40.771489</td>\n",
       "      <td>-0.091121</td>\n",
       "      <td>52.198470</td>\n",
       "    </tr>\n",
       "    <tr>\n",
       "      <th>KNRegressor_pca</th>\n",
       "      <td>0.267452</td>\n",
       "      <td>40.757392</td>\n",
       "      <td>-0.093154</td>\n",
       "      <td>52.247074</td>\n",
       "    </tr>\n",
       "    <tr>\n",
       "      <th>DecisionTree_standard</th>\n",
       "      <td>0.015645</td>\n",
       "      <td>47.245917</td>\n",
       "      <td>0.013386</td>\n",
       "      <td>49.635784</td>\n",
       "    </tr>\n",
       "    <tr>\n",
       "      <th>DecisionTree_robust</th>\n",
       "      <td>0.015399</td>\n",
       "      <td>47.251834</td>\n",
       "      <td>0.014689</td>\n",
       "      <td>49.603000</td>\n",
       "    </tr>\n",
       "    <tr>\n",
       "      <th>XGBoost</th>\n",
       "      <td>0.230241</td>\n",
       "      <td>41.779740</td>\n",
       "      <td>0.036613</td>\n",
       "      <td>49.048042</td>\n",
       "    </tr>\n",
       "    <tr>\n",
       "      <th>XGBoost_robust</th>\n",
       "      <td>0.230650</td>\n",
       "      <td>41.768656</td>\n",
       "      <td>0.036294</td>\n",
       "      <td>49.056157</td>\n",
       "    </tr>\n",
       "  </tbody>\n",
       "</table>\n",
       "</div>"
      ],
      "text/plain": [
       "                       Train r2  Train RMSE   Test r2  Test RMSE\n",
       "KNRegressor_minmax     0.266946   40.771489 -0.091121  52.198470\n",
       "KNRegressor_pca        0.267452   40.757392 -0.093154  52.247074\n",
       "DecisionTree_standard  0.015645   47.245917  0.013386  49.635784\n",
       "DecisionTree_robust    0.015399   47.251834  0.014689  49.603000\n",
       "XGBoost                0.230241   41.779740  0.036613  49.048042\n",
       "XGBoost_robust         0.230650   41.768656  0.036294  49.056157"
      ]
     },
     "execution_count": 23,
     "metadata": {},
     "output_type": "execute_result"
    }
   ],
   "source": [
    "# creating df\n",
    "results = pd.DataFrame.from_dict(results_dict, orient='index',\n",
    "                       columns=['Train r2', 'Train RMSE', 'Test r2', 'Test RMSE'])\n",
    "\n",
    "# checking\n",
    "results"
   ]
  },
  {
   "cell_type": "code",
   "execution_count": 24,
   "id": "dc873a0b-05a8-45e2-bb25-292aa587f7e1",
   "metadata": {},
   "outputs": [],
   "source": [
    "# saving to csv\n",
    "results.to_csv('results.csv')"
   ]
  },
  {
   "cell_type": "code",
   "execution_count": null,
   "id": "ea691194-c30d-44ee-b3dc-79a7798fdd9d",
   "metadata": {},
   "outputs": [],
   "source": []
  }
 ],
 "metadata": {
  "kernelspec": {
   "display_name": "Python 3 (ipykernel)",
   "language": "python",
   "name": "python3"
  },
  "language_info": {
   "codemirror_mode": {
    "name": "ipython",
    "version": 3
   },
   "file_extension": ".py",
   "mimetype": "text/x-python",
   "name": "python",
   "nbconvert_exporter": "python",
   "pygments_lexer": "ipython3",
   "version": "3.9.7"
  }
 },
 "nbformat": 4,
 "nbformat_minor": 5
}
