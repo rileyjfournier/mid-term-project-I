{
 "cells": [
  {
   "cell_type": "markdown",
   "id": "3ab20da2-7836-4875-8e4e-aab5ae553d19",
   "metadata": {},
   "source": [
    "## Feature Selection\n",
    "\n",
    "**Primary Goals:** Remove/reduce features based on several reduction/cleaning techniques and prepare data for use with regression models."
   ]
  },
  {
   "cell_type": "code",
   "execution_count": 3,
   "id": "5010e9cd-534d-43a3-a8eb-0cf8dfdb20ff",
   "metadata": {},
   "outputs": [],
   "source": [
    "import pandas as pd\n",
    "import numpy as np\n",
    "import matplotlib.pyplot as plt\n",
    "import seaborn as sns\n",
    "from sklearn.feature_selection import SelectKBest\n",
    "from sklearn.feature_selection import f_regression"
   ]
  },
  {
   "cell_type": "code",
   "execution_count": 5,
   "id": "63991819-8ffe-49a0-86e0-70989e65798e",
   "metadata": {},
   "outputs": [],
   "source": [
    "test_df = pd.read_csv('DB/test_sample.csv', index_col='Unnamed: 0')"
   ]
  },
  {
   "cell_type": "code",
   "execution_count": 6,
   "id": "67434279-e6b6-4520-8b9d-e98406f68d0b",
   "metadata": {},
   "outputs": [
    {
     "name": "stdout",
     "output_type": "stream",
     "text": [
      "<class 'pandas.core.frame.DataFrame'>\n",
      "Int64Index: 197560 entries, 0 to 197559\n",
      "Data columns (total 20 columns):\n",
      " #   Column              Non-Null Count   Dtype \n",
      "---  ------              --------------   ----- \n",
      " 0   fl_date             197560 non-null  object\n",
      " 1   mkt_unique_carrier  197560 non-null  object\n",
      " 2   branded_code_share  197560 non-null  object\n",
      " 3   mkt_carrier         197560 non-null  object\n",
      " 4   mkt_carrier_fl_num  197560 non-null  int64 \n",
      " 5   op_unique_carrier   197560 non-null  object\n",
      " 6   tail_num            197074 non-null  object\n",
      " 7   op_carrier_fl_num   197560 non-null  int64 \n",
      " 8   origin_airport_id   197560 non-null  int64 \n",
      " 9   origin              197560 non-null  object\n",
      " 10  origin_city_name    197560 non-null  object\n",
      " 11  dest_airport_id     197560 non-null  int64 \n",
      " 12  dest                197560 non-null  object\n",
      " 13  dest_city_name      197560 non-null  object\n",
      " 14  crs_dep_time        197560 non-null  int64 \n",
      " 15  crs_arr_time        197560 non-null  int64 \n",
      " 16  dup                 197560 non-null  object\n",
      " 17  crs_elapsed_time    197560 non-null  int64 \n",
      " 18  flights             197560 non-null  int64 \n",
      " 19  distance            197560 non-null  int64 \n",
      "dtypes: int64(9), object(11)\n",
      "memory usage: 31.7+ MB\n"
     ]
    }
   ],
   "source": [
    "test_df.info()"
   ]
  },
  {
   "cell_type": "code",
   "execution_count": 7,
   "id": "b4efc8d4-cc36-4451-8ad9-3bcf17f5a4bb",
   "metadata": {},
   "outputs": [],
   "source": [
    "test_df = test_df.dropna()"
   ]
  },
  {
   "cell_type": "code",
   "execution_count": 8,
   "id": "2c4109c4-4304-4b04-b6a1-6a2e4a5334e5",
   "metadata": {},
   "outputs": [
    {
     "name": "stdout",
     "output_type": "stream",
     "text": [
      "<class 'pandas.core.frame.DataFrame'>\n",
      "Int64Index: 197074 entries, 0 to 197559\n",
      "Data columns (total 20 columns):\n",
      " #   Column              Non-Null Count   Dtype \n",
      "---  ------              --------------   ----- \n",
      " 0   fl_date             197074 non-null  object\n",
      " 1   mkt_unique_carrier  197074 non-null  object\n",
      " 2   branded_code_share  197074 non-null  object\n",
      " 3   mkt_carrier         197074 non-null  object\n",
      " 4   mkt_carrier_fl_num  197074 non-null  int64 \n",
      " 5   op_unique_carrier   197074 non-null  object\n",
      " 6   tail_num            197074 non-null  object\n",
      " 7   op_carrier_fl_num   197074 non-null  int64 \n",
      " 8   origin_airport_id   197074 non-null  int64 \n",
      " 9   origin              197074 non-null  object\n",
      " 10  origin_city_name    197074 non-null  object\n",
      " 11  dest_airport_id     197074 non-null  int64 \n",
      " 12  dest                197074 non-null  object\n",
      " 13  dest_city_name      197074 non-null  object\n",
      " 14  crs_dep_time        197074 non-null  int64 \n",
      " 15  crs_arr_time        197074 non-null  int64 \n",
      " 16  dup                 197074 non-null  object\n",
      " 17  crs_elapsed_time    197074 non-null  int64 \n",
      " 18  flights             197074 non-null  int64 \n",
      " 19  distance            197074 non-null  int64 \n",
      "dtypes: int64(9), object(11)\n",
      "memory usage: 31.6+ MB\n"
     ]
    }
   ],
   "source": [
    "test_df.info()"
   ]
  },
  {
   "cell_type": "code",
   "execution_count": 11,
   "id": "1a079989-a2c5-4aa0-af05-a6470a2cc11e",
   "metadata": {},
   "outputs": [],
   "source": [
    "flights_df = pd.read_csv('DB/flights_data.csv', index_col='Unnamed: 0')"
   ]
  },
  {
   "cell_type": "code",
   "execution_count": 12,
   "id": "031e8797-8922-4b43-a771-e7b3bb3bcefc",
   "metadata": {},
   "outputs": [
    {
     "data": {
      "text/plain": [
       "Index(['fl_date', 'mkt_unique_carrier', 'branded_code_share', 'mkt_carrier',\n",
       "       'mkt_carrier_fl_num', 'op_unique_carrier', 'tail_num',\n",
       "       'op_carrier_fl_num', 'origin_airport_id', 'origin', 'origin_city_name',\n",
       "       'dest_airport_id', 'dest', 'dest_city_name', 'crs_dep_time', 'dep_time',\n",
       "       'dep_delay', 'taxi_out', 'wheels_off', 'wheels_on', 'taxi_in',\n",
       "       'crs_arr_time', 'arr_time', 'arr_delay', 'cancelled',\n",
       "       'cancellation_code', 'diverted', 'dup', 'crs_elapsed_time',\n",
       "       'actual_elapsed_time', 'air_time', 'flights', 'distance',\n",
       "       'carrier_delay', 'weather_delay', 'nas_delay', 'security_delay',\n",
       "       'late_aircraft_delay', 'first_dep_time', 'total_add_gtime',\n",
       "       'longest_add_gtime', 'no_name'],\n",
       "      dtype='object')"
      ]
     },
     "execution_count": 12,
     "metadata": {},
     "output_type": "execute_result"
    }
   ],
   "source": [
    "flights_df.columns"
   ]
  },
  {
   "cell_type": "code",
   "execution_count": 15,
   "id": "6d62dc08-6077-459f-acc6-e7752af03803",
   "metadata": {},
   "outputs": [],
   "source": [
    "feature_cols = list(test_df.columns)\n",
    "feature_cols.append('arr_delay')"
   ]
  },
  {
   "cell_type": "code",
   "execution_count": 16,
   "id": "94609690-6538-4ccc-8a90-c2ae7b8126bc",
   "metadata": {},
   "outputs": [],
   "source": [
    "feature_df = flights_df[feature_cols]\n",
    "feature_df = feature_df.dropna()"
   ]
  },
  {
   "cell_type": "code",
   "execution_count": 17,
   "id": "9c3f7164-05d9-4fd5-a0c4-e368f9a2e3ed",
   "metadata": {},
   "outputs": [
    {
     "name": "stdout",
     "output_type": "stream",
     "text": [
      "<class 'pandas.core.frame.DataFrame'>\n",
      "Int64Index: 162002 entries, 0 to 165071\n",
      "Data columns (total 21 columns):\n",
      " #   Column              Non-Null Count   Dtype  \n",
      "---  ------              --------------   -----  \n",
      " 0   fl_date             162002 non-null  object \n",
      " 1   mkt_unique_carrier  162002 non-null  object \n",
      " 2   branded_code_share  162002 non-null  object \n",
      " 3   mkt_carrier         162002 non-null  object \n",
      " 4   mkt_carrier_fl_num  162002 non-null  int64  \n",
      " 5   op_unique_carrier   162002 non-null  object \n",
      " 6   tail_num            162002 non-null  object \n",
      " 7   op_carrier_fl_num   162002 non-null  int64  \n",
      " 8   origin_airport_id   162002 non-null  int64  \n",
      " 9   origin              162002 non-null  object \n",
      " 10  origin_city_name    162002 non-null  object \n",
      " 11  dest_airport_id     162002 non-null  int64  \n",
      " 12  dest                162002 non-null  object \n",
      " 13  dest_city_name      162002 non-null  object \n",
      " 14  crs_dep_time        162002 non-null  int64  \n",
      " 15  crs_arr_time        162002 non-null  int64  \n",
      " 16  dup                 162002 non-null  object \n",
      " 17  crs_elapsed_time    162002 non-null  float64\n",
      " 18  flights             162002 non-null  float64\n",
      " 19  distance            162002 non-null  float64\n",
      " 20  arr_delay           162002 non-null  float64\n",
      "dtypes: float64(4), int64(6), object(11)\n",
      "memory usage: 27.2+ MB\n"
     ]
    }
   ],
   "source": [
    "feature_df.info()"
   ]
  },
  {
   "cell_type": "code",
   "execution_count": 18,
   "id": "76c06d89-4918-418f-84b8-97ab52687532",
   "metadata": {},
   "outputs": [
    {
     "data": {
      "text/html": [
       "<div>\n",
       "<style scoped>\n",
       "    .dataframe tbody tr th:only-of-type {\n",
       "        vertical-align: middle;\n",
       "    }\n",
       "\n",
       "    .dataframe tbody tr th {\n",
       "        vertical-align: top;\n",
       "    }\n",
       "\n",
       "    .dataframe thead th {\n",
       "        text-align: right;\n",
       "    }\n",
       "</style>\n",
       "<table border=\"1\" class=\"dataframe\">\n",
       "  <thead>\n",
       "    <tr style=\"text-align: right;\">\n",
       "      <th></th>\n",
       "      <th>fl_date</th>\n",
       "      <th>mkt_unique_carrier</th>\n",
       "      <th>branded_code_share</th>\n",
       "      <th>mkt_carrier</th>\n",
       "      <th>mkt_carrier_fl_num</th>\n",
       "      <th>op_unique_carrier</th>\n",
       "      <th>tail_num</th>\n",
       "      <th>op_carrier_fl_num</th>\n",
       "      <th>origin_airport_id</th>\n",
       "      <th>origin</th>\n",
       "      <th>...</th>\n",
       "      <th>dest_airport_id</th>\n",
       "      <th>dest</th>\n",
       "      <th>dest_city_name</th>\n",
       "      <th>crs_dep_time</th>\n",
       "      <th>crs_arr_time</th>\n",
       "      <th>dup</th>\n",
       "      <th>crs_elapsed_time</th>\n",
       "      <th>flights</th>\n",
       "      <th>distance</th>\n",
       "      <th>arr_delay</th>\n",
       "    </tr>\n",
       "  </thead>\n",
       "  <tbody>\n",
       "    <tr>\n",
       "      <th>0</th>\n",
       "      <td>2018-01-01</td>\n",
       "      <td>UA</td>\n",
       "      <td>UA_CODESHARE</td>\n",
       "      <td>UA</td>\n",
       "      <td>3501</td>\n",
       "      <td>YX</td>\n",
       "      <td>N744YX</td>\n",
       "      <td>3501</td>\n",
       "      <td>12953</td>\n",
       "      <td>LGA</td>\n",
       "      <td>...</td>\n",
       "      <td>13930</td>\n",
       "      <td>ORD</td>\n",
       "      <td>Chicago, IL</td>\n",
       "      <td>1300</td>\n",
       "      <td>1444</td>\n",
       "      <td>N</td>\n",
       "      <td>164.0</td>\n",
       "      <td>1.0</td>\n",
       "      <td>733.0</td>\n",
       "      <td>-28.0</td>\n",
       "    </tr>\n",
       "    <tr>\n",
       "      <th>1</th>\n",
       "      <td>2018-01-01</td>\n",
       "      <td>UA</td>\n",
       "      <td>UA_CODESHARE</td>\n",
       "      <td>UA</td>\n",
       "      <td>3502</td>\n",
       "      <td>YX</td>\n",
       "      <td>N640RW</td>\n",
       "      <td>3502</td>\n",
       "      <td>11433</td>\n",
       "      <td>DTW</td>\n",
       "      <td>...</td>\n",
       "      <td>12266</td>\n",
       "      <td>IAH</td>\n",
       "      <td>Houston, TX</td>\n",
       "      <td>630</td>\n",
       "      <td>854</td>\n",
       "      <td>N</td>\n",
       "      <td>204.0</td>\n",
       "      <td>1.0</td>\n",
       "      <td>1075.0</td>\n",
       "      <td>1.0</td>\n",
       "    </tr>\n",
       "    <tr>\n",
       "      <th>2</th>\n",
       "      <td>2018-01-01</td>\n",
       "      <td>UA</td>\n",
       "      <td>UA_CODESHARE</td>\n",
       "      <td>UA</td>\n",
       "      <td>3503</td>\n",
       "      <td>YX</td>\n",
       "      <td>N641RW</td>\n",
       "      <td>3503</td>\n",
       "      <td>11618</td>\n",
       "      <td>EWR</td>\n",
       "      <td>...</td>\n",
       "      <td>11433</td>\n",
       "      <td>DTW</td>\n",
       "      <td>Detroit, MI</td>\n",
       "      <td>1500</td>\n",
       "      <td>1709</td>\n",
       "      <td>N</td>\n",
       "      <td>129.0</td>\n",
       "      <td>1.0</td>\n",
       "      <td>488.0</td>\n",
       "      <td>18.0</td>\n",
       "    </tr>\n",
       "    <tr>\n",
       "      <th>3</th>\n",
       "      <td>2018-01-01</td>\n",
       "      <td>UA</td>\n",
       "      <td>UA_CODESHARE</td>\n",
       "      <td>UA</td>\n",
       "      <td>3504</td>\n",
       "      <td>YX</td>\n",
       "      <td>N722YX</td>\n",
       "      <td>3504</td>\n",
       "      <td>11618</td>\n",
       "      <td>EWR</td>\n",
       "      <td>...</td>\n",
       "      <td>11278</td>\n",
       "      <td>DCA</td>\n",
       "      <td>Washington, DC</td>\n",
       "      <td>2041</td>\n",
       "      <td>2159</td>\n",
       "      <td>N</td>\n",
       "      <td>78.0</td>\n",
       "      <td>1.0</td>\n",
       "      <td>199.0</td>\n",
       "      <td>32.0</td>\n",
       "    </tr>\n",
       "    <tr>\n",
       "      <th>4</th>\n",
       "      <td>2018-01-01</td>\n",
       "      <td>UA</td>\n",
       "      <td>UA_CODESHARE</td>\n",
       "      <td>UA</td>\n",
       "      <td>3505</td>\n",
       "      <td>YX</td>\n",
       "      <td>N855RW</td>\n",
       "      <td>3505</td>\n",
       "      <td>12266</td>\n",
       "      <td>IAH</td>\n",
       "      <td>...</td>\n",
       "      <td>11298</td>\n",
       "      <td>DFW</td>\n",
       "      <td>Dallas/Fort Worth, TX</td>\n",
       "      <td>2140</td>\n",
       "      <td>2257</td>\n",
       "      <td>N</td>\n",
       "      <td>77.0</td>\n",
       "      <td>1.0</td>\n",
       "      <td>224.0</td>\n",
       "      <td>-1.0</td>\n",
       "    </tr>\n",
       "  </tbody>\n",
       "</table>\n",
       "<p>5 rows × 21 columns</p>\n",
       "</div>"
      ],
      "text/plain": [
       "      fl_date mkt_unique_carrier branded_code_share mkt_carrier  \\\n",
       "0  2018-01-01                 UA       UA_CODESHARE          UA   \n",
       "1  2018-01-01                 UA       UA_CODESHARE          UA   \n",
       "2  2018-01-01                 UA       UA_CODESHARE          UA   \n",
       "3  2018-01-01                 UA       UA_CODESHARE          UA   \n",
       "4  2018-01-01                 UA       UA_CODESHARE          UA   \n",
       "\n",
       "   mkt_carrier_fl_num op_unique_carrier tail_num  op_carrier_fl_num  \\\n",
       "0                3501                YX   N744YX               3501   \n",
       "1                3502                YX   N640RW               3502   \n",
       "2                3503                YX   N641RW               3503   \n",
       "3                3504                YX   N722YX               3504   \n",
       "4                3505                YX   N855RW               3505   \n",
       "\n",
       "   origin_airport_id origin  ... dest_airport_id  dest         dest_city_name  \\\n",
       "0              12953    LGA  ...           13930   ORD            Chicago, IL   \n",
       "1              11433    DTW  ...           12266   IAH            Houston, TX   \n",
       "2              11618    EWR  ...           11433   DTW            Detroit, MI   \n",
       "3              11618    EWR  ...           11278   DCA         Washington, DC   \n",
       "4              12266    IAH  ...           11298   DFW  Dallas/Fort Worth, TX   \n",
       "\n",
       "  crs_dep_time  crs_arr_time  dup crs_elapsed_time  flights  distance  \\\n",
       "0         1300          1444    N            164.0      1.0     733.0   \n",
       "1          630           854    N            204.0      1.0    1075.0   \n",
       "2         1500          1709    N            129.0      1.0     488.0   \n",
       "3         2041          2159    N             78.0      1.0     199.0   \n",
       "4         2140          2257    N             77.0      1.0     224.0   \n",
       "\n",
       "   arr_delay  \n",
       "0      -28.0  \n",
       "1        1.0  \n",
       "2       18.0  \n",
       "3       32.0  \n",
       "4       -1.0  \n",
       "\n",
       "[5 rows x 21 columns]"
      ]
     },
     "execution_count": 18,
     "metadata": {},
     "output_type": "execute_result"
    }
   ],
   "source": [
    "feature_df.head()"
   ]
  },
  {
   "cell_type": "code",
   "execution_count": 44,
   "id": "ae83d536-6234-4c6d-b082-ccdb4774c465",
   "metadata": {},
   "outputs": [
    {
     "data": {
      "text/html": [
       "<div>\n",
       "<style scoped>\n",
       "    .dataframe tbody tr th:only-of-type {\n",
       "        vertical-align: middle;\n",
       "    }\n",
       "\n",
       "    .dataframe tbody tr th {\n",
       "        vertical-align: top;\n",
       "    }\n",
       "\n",
       "    .dataframe thead th {\n",
       "        text-align: right;\n",
       "    }\n",
       "</style>\n",
       "<table border=\"1\" class=\"dataframe\">\n",
       "  <thead>\n",
       "    <tr style=\"text-align: right;\">\n",
       "      <th></th>\n",
       "      <th>fl_date</th>\n",
       "      <th>mkt_unique_carrier</th>\n",
       "      <th>branded_code_share</th>\n",
       "      <th>mkt_carrier_fl_num</th>\n",
       "      <th>tail_num</th>\n",
       "      <th>origin_airport_id</th>\n",
       "      <th>dest_airport_id</th>\n",
       "      <th>crs_dep_time</th>\n",
       "      <th>crs_arr_time</th>\n",
       "      <th>crs_elapsed_time</th>\n",
       "      <th>distance</th>\n",
       "      <th>arr_delay</th>\n",
       "    </tr>\n",
       "  </thead>\n",
       "  <tbody>\n",
       "    <tr>\n",
       "      <th>0</th>\n",
       "      <td>2018-01-01</td>\n",
       "      <td>UA</td>\n",
       "      <td>UA_CODESHARE</td>\n",
       "      <td>3501</td>\n",
       "      <td>N744YX</td>\n",
       "      <td>12953</td>\n",
       "      <td>13930</td>\n",
       "      <td>1300</td>\n",
       "      <td>1444</td>\n",
       "      <td>164.0</td>\n",
       "      <td>733.0</td>\n",
       "      <td>-28.0</td>\n",
       "    </tr>\n",
       "    <tr>\n",
       "      <th>1</th>\n",
       "      <td>2018-01-01</td>\n",
       "      <td>UA</td>\n",
       "      <td>UA_CODESHARE</td>\n",
       "      <td>3502</td>\n",
       "      <td>N640RW</td>\n",
       "      <td>11433</td>\n",
       "      <td>12266</td>\n",
       "      <td>630</td>\n",
       "      <td>854</td>\n",
       "      <td>204.0</td>\n",
       "      <td>1075.0</td>\n",
       "      <td>1.0</td>\n",
       "    </tr>\n",
       "    <tr>\n",
       "      <th>2</th>\n",
       "      <td>2018-01-01</td>\n",
       "      <td>UA</td>\n",
       "      <td>UA_CODESHARE</td>\n",
       "      <td>3503</td>\n",
       "      <td>N641RW</td>\n",
       "      <td>11618</td>\n",
       "      <td>11433</td>\n",
       "      <td>1500</td>\n",
       "      <td>1709</td>\n",
       "      <td>129.0</td>\n",
       "      <td>488.0</td>\n",
       "      <td>18.0</td>\n",
       "    </tr>\n",
       "    <tr>\n",
       "      <th>3</th>\n",
       "      <td>2018-01-01</td>\n",
       "      <td>UA</td>\n",
       "      <td>UA_CODESHARE</td>\n",
       "      <td>3504</td>\n",
       "      <td>N722YX</td>\n",
       "      <td>11618</td>\n",
       "      <td>11278</td>\n",
       "      <td>2041</td>\n",
       "      <td>2159</td>\n",
       "      <td>78.0</td>\n",
       "      <td>199.0</td>\n",
       "      <td>32.0</td>\n",
       "    </tr>\n",
       "    <tr>\n",
       "      <th>4</th>\n",
       "      <td>2018-01-01</td>\n",
       "      <td>UA</td>\n",
       "      <td>UA_CODESHARE</td>\n",
       "      <td>3505</td>\n",
       "      <td>N855RW</td>\n",
       "      <td>12266</td>\n",
       "      <td>11298</td>\n",
       "      <td>2140</td>\n",
       "      <td>2257</td>\n",
       "      <td>77.0</td>\n",
       "      <td>224.0</td>\n",
       "      <td>-1.0</td>\n",
       "    </tr>\n",
       "  </tbody>\n",
       "</table>\n",
       "</div>"
      ],
      "text/plain": [
       "      fl_date mkt_unique_carrier branded_code_share  mkt_carrier_fl_num  \\\n",
       "0  2018-01-01                 UA       UA_CODESHARE                3501   \n",
       "1  2018-01-01                 UA       UA_CODESHARE                3502   \n",
       "2  2018-01-01                 UA       UA_CODESHARE                3503   \n",
       "3  2018-01-01                 UA       UA_CODESHARE                3504   \n",
       "4  2018-01-01                 UA       UA_CODESHARE                3505   \n",
       "\n",
       "  tail_num  origin_airport_id  dest_airport_id  crs_dep_time  crs_arr_time  \\\n",
       "0   N744YX              12953            13930          1300          1444   \n",
       "1   N640RW              11433            12266           630           854   \n",
       "2   N641RW              11618            11433          1500          1709   \n",
       "3   N722YX              11618            11278          2041          2159   \n",
       "4   N855RW              12266            11298          2140          2257   \n",
       "\n",
       "   crs_elapsed_time  distance  arr_delay  \n",
       "0             164.0     733.0      -28.0  \n",
       "1             204.0    1075.0        1.0  \n",
       "2             129.0     488.0       18.0  \n",
       "3              78.0     199.0       32.0  \n",
       "4              77.0     224.0       -1.0  "
      ]
     },
     "execution_count": 44,
     "metadata": {},
     "output_type": "execute_result"
    }
   ],
   "source": [
    "# removing columns with duplicated data\n",
    "to_drop = ['mkt_carrier', # redundant with mkt_unique_carrier\n",
    "           'op_unique_carrier', # redundant with mkt_unique_carrier\n",
    "           'op_carrier_fl_num', # duplicate of other column\n",
    "           'origin', # duplicate of other column\n",
    "           'origin_city_name', # duplicate of other column\n",
    "           'dest', # duplicate of other column\n",
    "           'dest_city_name', # duplicate of other column\n",
    "           'dup', # all same value (N)\n",
    "           'flights'] # all same value (1.0)\n",
    "\n",
    "# dropping columns\n",
    "filtered_df = feature_df.drop(to_drop, axis=1)\n",
    "# checking\n",
    "filtered_df.head()"
   ]
  },
  {
   "cell_type": "code",
   "execution_count": 30,
   "id": "6ea87142-34d5-4761-8265-016a9c4ef49c",
   "metadata": {},
   "outputs": [
    {
     "data": {
      "text/plain": [
       "Index(['fl_date', 'mkt_unique_carrier', 'branded_code_share',\n",
       "       'mkt_carrier_fl_num', 'tail_num', 'origin_airport_id',\n",
       "       'dest_airport_id', 'crs_dep_time', 'crs_arr_time', 'crs_elapsed_time',\n",
       "       'distance', 'arr_delay'],\n",
       "      dtype='object')"
      ]
     },
     "execution_count": 30,
     "metadata": {},
     "output_type": "execute_result"
    }
   ],
   "source": [
    "filtered_df.columns"
   ]
  },
  {
   "cell_type": "code",
   "execution_count": 31,
   "id": "1756fdf6-318c-4746-af0a-31547b57a65a",
   "metadata": {},
   "outputs": [
    {
     "name": "stdout",
     "output_type": "stream",
     "text": [
      "<class 'pandas.core.frame.DataFrame'>\n",
      "Int64Index: 162002 entries, 0 to 165071\n",
      "Data columns (total 12 columns):\n",
      " #   Column              Non-Null Count   Dtype  \n",
      "---  ------              --------------   -----  \n",
      " 0   fl_date             162002 non-null  object \n",
      " 1   mkt_unique_carrier  162002 non-null  object \n",
      " 2   branded_code_share  162002 non-null  object \n",
      " 3   mkt_carrier_fl_num  162002 non-null  int64  \n",
      " 4   tail_num            162002 non-null  object \n",
      " 5   origin_airport_id   162002 non-null  int64  \n",
      " 6   dest_airport_id     162002 non-null  int64  \n",
      " 7   crs_dep_time        162002 non-null  int64  \n",
      " 8   crs_arr_time        162002 non-null  int64  \n",
      " 9   crs_elapsed_time    162002 non-null  float64\n",
      " 10  distance            162002 non-null  float64\n",
      " 11  arr_delay           162002 non-null  float64\n",
      "dtypes: float64(3), int64(5), object(4)\n",
      "memory usage: 16.1+ MB\n"
     ]
    }
   ],
   "source": [
    "# checking types\n",
    "filtered_df.info()"
   ]
  },
  {
   "cell_type": "code",
   "execution_count": 45,
   "id": "38cec95c-65cc-4f22-b812-0f866b162bf9",
   "metadata": {},
   "outputs": [
    {
     "name": "stdout",
     "output_type": "stream",
     "text": [
      "<class 'pandas.core.frame.DataFrame'>\n",
      "Int64Index: 162002 entries, 0 to 165071\n",
      "Data columns (total 12 columns):\n",
      " #   Column              Non-Null Count   Dtype         \n",
      "---  ------              --------------   -----         \n",
      " 0   fl_date             162002 non-null  datetime64[ns]\n",
      " 1   mkt_unique_carrier  162002 non-null  object        \n",
      " 2   branded_code_share  162002 non-null  object        \n",
      " 3   mkt_carrier_fl_num  162002 non-null  int64         \n",
      " 4   tail_num            162002 non-null  object        \n",
      " 5   origin_airport_id   162002 non-null  int64         \n",
      " 6   dest_airport_id     162002 non-null  int64         \n",
      " 7   crs_dep_time        162002 non-null  int64         \n",
      " 8   crs_arr_time        162002 non-null  int64         \n",
      " 9   crs_elapsed_time    162002 non-null  float64       \n",
      " 10  distance            162002 non-null  float64       \n",
      " 11  arr_delay           162002 non-null  float64       \n",
      "dtypes: datetime64[ns](1), float64(3), int64(5), object(3)\n",
      "memory usage: 16.1+ MB\n"
     ]
    }
   ],
   "source": [
    "# converting fl_date from string to datetime\n",
    "filtered_df['fl_date'] = pd.to_datetime(filtered_df['fl_date'])\n",
    "# checking type\n",
    "filtered_df.info()"
   ]
  },
  {
   "cell_type": "code",
   "execution_count": 46,
   "id": "e819a8f7-d47a-494b-9038-ca7a1c39aefb",
   "metadata": {},
   "outputs": [
    {
     "name": "stderr",
     "output_type": "stream",
     "text": [
      "C:\\Users\\nikif\\AppData\\Local\\Temp/ipykernel_13880/3104091562.py:4: FutureWarning: Series.dt.weekofyear and Series.dt.week have been deprecated.  Please use Series.dt.isocalendar().week instead.\n",
      "  filtered_df['fl_week'] = filtered_df['fl_date'].dt.week\n"
     ]
    }
   ],
   "source": [
    "# splitting datetime into year/month/day and creating day-of-week column\n",
    "filtered_df['fl_year'] = filtered_df['fl_date'].dt.year\n",
    "filtered_df['fl_month'] = filtered_df['fl_date'].dt.month\n",
    "filtered_df['fl_week'] = filtered_df['fl_date'].dt.week\n",
    "filtered_df['fl_day'] = filtered_df['fl_date'].dt.day\n",
    "filtered_df['day_of_week'] = filtered_df['fl_date'].dt.dayofweek\n",
    "# dropping original date column\n",
    "filtered_df = filtered_df.drop(['fl_date'], axis=1)"
   ]
  },
  {
   "cell_type": "code",
   "execution_count": 47,
   "id": "e64b9692-c9ef-49b5-9bd0-9c79f6663d6c",
   "metadata": {},
   "outputs": [
    {
     "data": {
      "text/html": [
       "<div>\n",
       "<style scoped>\n",
       "    .dataframe tbody tr th:only-of-type {\n",
       "        vertical-align: middle;\n",
       "    }\n",
       "\n",
       "    .dataframe tbody tr th {\n",
       "        vertical-align: top;\n",
       "    }\n",
       "\n",
       "    .dataframe thead th {\n",
       "        text-align: right;\n",
       "    }\n",
       "</style>\n",
       "<table border=\"1\" class=\"dataframe\">\n",
       "  <thead>\n",
       "    <tr style=\"text-align: right;\">\n",
       "      <th></th>\n",
       "      <th>mkt_unique_carrier</th>\n",
       "      <th>branded_code_share</th>\n",
       "      <th>mkt_carrier_fl_num</th>\n",
       "      <th>tail_num</th>\n",
       "      <th>origin_airport_id</th>\n",
       "      <th>dest_airport_id</th>\n",
       "      <th>crs_dep_time</th>\n",
       "      <th>crs_arr_time</th>\n",
       "      <th>crs_elapsed_time</th>\n",
       "      <th>distance</th>\n",
       "      <th>arr_delay</th>\n",
       "      <th>fl_year</th>\n",
       "      <th>fl_month</th>\n",
       "      <th>fl_week</th>\n",
       "      <th>fl_day</th>\n",
       "      <th>day_of_week</th>\n",
       "    </tr>\n",
       "  </thead>\n",
       "  <tbody>\n",
       "    <tr>\n",
       "      <th>0</th>\n",
       "      <td>UA</td>\n",
       "      <td>UA_CODESHARE</td>\n",
       "      <td>3501</td>\n",
       "      <td>N744YX</td>\n",
       "      <td>12953</td>\n",
       "      <td>13930</td>\n",
       "      <td>1300</td>\n",
       "      <td>1444</td>\n",
       "      <td>164.0</td>\n",
       "      <td>733.0</td>\n",
       "      <td>-28.0</td>\n",
       "      <td>2018</td>\n",
       "      <td>1</td>\n",
       "      <td>1</td>\n",
       "      <td>1</td>\n",
       "      <td>0</td>\n",
       "    </tr>\n",
       "    <tr>\n",
       "      <th>1</th>\n",
       "      <td>UA</td>\n",
       "      <td>UA_CODESHARE</td>\n",
       "      <td>3502</td>\n",
       "      <td>N640RW</td>\n",
       "      <td>11433</td>\n",
       "      <td>12266</td>\n",
       "      <td>630</td>\n",
       "      <td>854</td>\n",
       "      <td>204.0</td>\n",
       "      <td>1075.0</td>\n",
       "      <td>1.0</td>\n",
       "      <td>2018</td>\n",
       "      <td>1</td>\n",
       "      <td>1</td>\n",
       "      <td>1</td>\n",
       "      <td>0</td>\n",
       "    </tr>\n",
       "    <tr>\n",
       "      <th>2</th>\n",
       "      <td>UA</td>\n",
       "      <td>UA_CODESHARE</td>\n",
       "      <td>3503</td>\n",
       "      <td>N641RW</td>\n",
       "      <td>11618</td>\n",
       "      <td>11433</td>\n",
       "      <td>1500</td>\n",
       "      <td>1709</td>\n",
       "      <td>129.0</td>\n",
       "      <td>488.0</td>\n",
       "      <td>18.0</td>\n",
       "      <td>2018</td>\n",
       "      <td>1</td>\n",
       "      <td>1</td>\n",
       "      <td>1</td>\n",
       "      <td>0</td>\n",
       "    </tr>\n",
       "    <tr>\n",
       "      <th>3</th>\n",
       "      <td>UA</td>\n",
       "      <td>UA_CODESHARE</td>\n",
       "      <td>3504</td>\n",
       "      <td>N722YX</td>\n",
       "      <td>11618</td>\n",
       "      <td>11278</td>\n",
       "      <td>2041</td>\n",
       "      <td>2159</td>\n",
       "      <td>78.0</td>\n",
       "      <td>199.0</td>\n",
       "      <td>32.0</td>\n",
       "      <td>2018</td>\n",
       "      <td>1</td>\n",
       "      <td>1</td>\n",
       "      <td>1</td>\n",
       "      <td>0</td>\n",
       "    </tr>\n",
       "    <tr>\n",
       "      <th>4</th>\n",
       "      <td>UA</td>\n",
       "      <td>UA_CODESHARE</td>\n",
       "      <td>3505</td>\n",
       "      <td>N855RW</td>\n",
       "      <td>12266</td>\n",
       "      <td>11298</td>\n",
       "      <td>2140</td>\n",
       "      <td>2257</td>\n",
       "      <td>77.0</td>\n",
       "      <td>224.0</td>\n",
       "      <td>-1.0</td>\n",
       "      <td>2018</td>\n",
       "      <td>1</td>\n",
       "      <td>1</td>\n",
       "      <td>1</td>\n",
       "      <td>0</td>\n",
       "    </tr>\n",
       "  </tbody>\n",
       "</table>\n",
       "</div>"
      ],
      "text/plain": [
       "  mkt_unique_carrier branded_code_share  mkt_carrier_fl_num tail_num  \\\n",
       "0                 UA       UA_CODESHARE                3501   N744YX   \n",
       "1                 UA       UA_CODESHARE                3502   N640RW   \n",
       "2                 UA       UA_CODESHARE                3503   N641RW   \n",
       "3                 UA       UA_CODESHARE                3504   N722YX   \n",
       "4                 UA       UA_CODESHARE                3505   N855RW   \n",
       "\n",
       "   origin_airport_id  dest_airport_id  crs_dep_time  crs_arr_time  \\\n",
       "0              12953            13930          1300          1444   \n",
       "1              11433            12266           630           854   \n",
       "2              11618            11433          1500          1709   \n",
       "3              11618            11278          2041          2159   \n",
       "4              12266            11298          2140          2257   \n",
       "\n",
       "   crs_elapsed_time  distance  arr_delay  fl_year  fl_month  fl_week  fl_day  \\\n",
       "0             164.0     733.0      -28.0     2018         1        1       1   \n",
       "1             204.0    1075.0        1.0     2018         1        1       1   \n",
       "2             129.0     488.0       18.0     2018         1        1       1   \n",
       "3              78.0     199.0       32.0     2018         1        1       1   \n",
       "4              77.0     224.0       -1.0     2018         1        1       1   \n",
       "\n",
       "   day_of_week  \n",
       "0            0  \n",
       "1            0  \n",
       "2            0  \n",
       "3            0  \n",
       "4            0  "
      ]
     },
     "execution_count": 47,
     "metadata": {},
     "output_type": "execute_result"
    }
   ],
   "source": [
    "# viewing changes\n",
    "filtered_df.head()"
   ]
  },
  {
   "cell_type": "code",
   "execution_count": 48,
   "id": "4b370db8-119f-480b-8a5d-c1e52276d73e",
   "metadata": {},
   "outputs": [],
   "source": [
    "X = filtered_df.drop(['arr_delay'], axis=1)\n",
    "y = filtered_df['arr_delay']"
   ]
  },
  {
   "cell_type": "code",
   "execution_count": 49,
   "id": "ad0f5984-c4e7-49f1-b318-7fb153e0ed41",
   "metadata": {},
   "outputs": [],
   "source": [
    "from sklearn.model_selection import train_test_split\n",
    "X_train, X_test, y_train, y_test = train_test_split(X, y, test_size = 0.30, random_state = 101)"
   ]
  },
  {
   "cell_type": "code",
   "execution_count": 50,
   "id": "74811f8a-6769-458a-a928-3d54ff8596c4",
   "metadata": {},
   "outputs": [
    {
     "name": "stdout",
     "output_type": "stream",
     "text": [
      "<class 'pandas.core.frame.DataFrame'>\n",
      "Int64Index: 113401 entries, 42491 to 139208\n",
      "Data columns (total 15 columns):\n",
      " #   Column              Non-Null Count   Dtype  \n",
      "---  ------              --------------   -----  \n",
      " 0   mkt_unique_carrier  113401 non-null  object \n",
      " 1   branded_code_share  113401 non-null  object \n",
      " 2   mkt_carrier_fl_num  113401 non-null  int64  \n",
      " 3   tail_num            113401 non-null  object \n",
      " 4   origin_airport_id   113401 non-null  int64  \n",
      " 5   dest_airport_id     113401 non-null  int64  \n",
      " 6   crs_dep_time        113401 non-null  int64  \n",
      " 7   crs_arr_time        113401 non-null  int64  \n",
      " 8   crs_elapsed_time    113401 non-null  float64\n",
      " 9   distance            113401 non-null  float64\n",
      " 10  fl_year             113401 non-null  int64  \n",
      " 11  fl_month            113401 non-null  int64  \n",
      " 12  fl_week             113401 non-null  int64  \n",
      " 13  fl_day              113401 non-null  int64  \n",
      " 14  day_of_week         113401 non-null  int64  \n",
      "dtypes: float64(2), int64(10), object(3)\n",
      "memory usage: 13.8+ MB\n"
     ]
    }
   ],
   "source": [
    "# checking for non-numeric features\n",
    "X_train.info()"
   ]
  },
  {
   "cell_type": "code",
   "execution_count": 51,
   "id": "1b2c5c8b-4854-41e3-8fab-3cfe10e5274e",
   "metadata": {},
   "outputs": [
    {
     "data": {
      "text/plain": [
       "Index(['mkt_unique_carrier', 'branded_code_share', 'mkt_carrier_fl_num',\n",
       "       'tail_num', 'origin_airport_id', 'dest_airport_id', 'crs_dep_time',\n",
       "       'crs_arr_time', 'crs_elapsed_time', 'distance', 'fl_year', 'fl_month',\n",
       "       'fl_week', 'fl_day', 'day_of_week'],\n",
       "      dtype='object')"
      ]
     },
     "execution_count": 51,
     "metadata": {},
     "output_type": "execute_result"
    }
   ],
   "source": [
    "X_train.columns"
   ]
  },
  {
   "cell_type": "code",
   "execution_count": 52,
   "id": "24cc1dff-6469-41a0-b2d4-60c48b01fe2d",
   "metadata": {},
   "outputs": [
    {
     "name": "stderr",
     "output_type": "stream",
     "text": [
      "C:\\Users\\nikif\\anaconda3\\lib\\site-packages\\category_encoders\\utils.py:21: FutureWarning: is_categorical is deprecated and will be removed in a future version.  Use is_categorical_dtype instead\n",
      "  elif pd.api.types.is_categorical(cols):\n"
     ]
    }
   ],
   "source": [
    "# importing encoder\n",
    "import category_encoders as ce\n",
    "\n",
    "# instantiating\n",
    "encoder = ce.OrdinalEncoder(cols=['mkt_unique_carrier', 'tail_num', 'branded_code_share'])\n",
    "\n",
    "# fitting/transforming\n",
    "X_train = encoder.fit_transform(X_train)\n",
    "\n",
    "X_test = encoder.transform(X_test)"
   ]
  },
  {
   "cell_type": "code",
   "execution_count": 53,
   "id": "1ba8a396-a0dc-4d80-92d3-93668197af53",
   "metadata": {},
   "outputs": [
    {
     "data": {
      "text/plain": [
       "(113401, 15)"
      ]
     },
     "execution_count": 53,
     "metadata": {},
     "output_type": "execute_result"
    }
   ],
   "source": [
    "X_train.shape"
   ]
  },
  {
   "cell_type": "code",
   "execution_count": 54,
   "id": "ebbb3ff8-316a-4f70-a36c-fef1d7cf3f82",
   "metadata": {},
   "outputs": [
    {
     "data": {
      "text/plain": [
       "Index(['mkt_unique_carrier', 'branded_code_share', 'mkt_carrier_fl_num',\n",
       "       'tail_num', 'origin_airport_id', 'dest_airport_id', 'crs_dep_time',\n",
       "       'crs_arr_time', 'crs_elapsed_time', 'distance', 'fl_year', 'fl_month',\n",
       "       'fl_week', 'fl_day', 'day_of_week'],\n",
       "      dtype='object')"
      ]
     },
     "execution_count": 54,
     "metadata": {},
     "output_type": "execute_result"
    }
   ],
   "source": [
    "X_train.columns"
   ]
  },
  {
   "cell_type": "code",
   "execution_count": 56,
   "id": "9dacbde4-e087-4c15-a518-5abac61759f9",
   "metadata": {},
   "outputs": [
    {
     "data": {
      "text/plain": [
       "64      95\n",
       "832     85\n",
       "65      82\n",
       "61      80\n",
       "788     79\n",
       "        ..\n",
       "6746     1\n",
       "6819     1\n",
       "6885     1\n",
       "6988     1\n",
       "6579     1\n",
       "Name: mkt_carrier_fl_num, Length: 6805, dtype: int64"
      ]
     },
     "execution_count": 56,
     "metadata": {},
     "output_type": "execute_result"
    }
   ],
   "source": [
    "X['mkt_carrier_fl_num'].value_counts()"
   ]
  },
  {
   "cell_type": "code",
   "execution_count": 57,
   "id": "e7ac37b9-daef-4647-aa33-b6d25228c993",
   "metadata": {},
   "outputs": [
    {
     "data": {
      "text/plain": [
       "0     733.0\n",
       "1    1075.0\n",
       "2     488.0\n",
       "3     199.0\n",
       "4     224.0\n",
       "Name: distance, dtype: float64"
      ]
     },
     "execution_count": 57,
     "metadata": {},
     "output_type": "execute_result"
    }
   ],
   "source": [
    "X.distance.head()"
   ]
  },
  {
   "cell_type": "code",
   "execution_count": null,
   "id": "10114ae1-c6a0-414b-8cec-ebae477c065c",
   "metadata": {},
   "outputs": [],
   "source": []
  }
 ],
 "metadata": {
  "kernelspec": {
   "display_name": "Python 3 (ipykernel)",
   "language": "python",
   "name": "python3"
  },
  "language_info": {
   "codemirror_mode": {
    "name": "ipython",
    "version": 3
   },
   "file_extension": ".py",
   "mimetype": "text/x-python",
   "name": "python",
   "nbconvert_exporter": "python",
   "pygments_lexer": "ipython3",
   "version": "3.9.7"
  }
 },
 "nbformat": 4,
 "nbformat_minor": 5
}
