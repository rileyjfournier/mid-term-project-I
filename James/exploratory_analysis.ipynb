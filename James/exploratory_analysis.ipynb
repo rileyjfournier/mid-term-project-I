{
 "cells": [
  {
   "cell_type": "markdown",
   "metadata": {},
   "source": [
    "## Exploratory Data Analysis\n",
    "\n",
    "Use this notebook to get familiar with the datasets we have. There is 10 questions we need to answer during the EDA.\n",
    "\n",
    "\n",
    "We shouldn't limit our EDA to these 10 questions. Let's be creative :)."
   ]
  },
  {
   "cell_type": "markdown",
   "metadata": {
    "jupyter": {
     "source_hidden": true
    },
    "tags": []
   },
   "source": [
    "# Data Description\n",
    "We can find the **all** information about specific attributes in this file.\n",
    "\n",
    "### Table **flights**\n",
    "\n",
    "Variables:\n",
    "\n",
    "- **fl_date**: Flight Date (yyyy-mm-dd)\n",
    "- **mkt_unique_carrier**: Unique Marketing Carrier Code. When the same code has been used by multiple carriers, a numeric suffix is used for earlier users, for example, PA, PA(1), PA(2). Use this field for analysis across a range of years.\n",
    "- **branded_code_share**: Reporting Carrier Operated or Branded Code Share Partners\n",
    "- **mkt_carrier**: Code assigned by IATA and commonly used to identify a carrier. As the same code may have been assigned to different carriers over time, the code is not always unique. For analysis, use the Unique Carrier Code.\n",
    "- **mkt_carrier_fl_num**: Flight Number\n",
    "- **op_unique_carrier**: Unique Scheduled Operating Carrier Code. When the same code has been used by multiple carriers, a numeric suffix is used for earlier users,for example, PA, PA(1), PA(2). Use this field for analysis across a range of years.\n",
    "- **tail_num**: Tail Number\n",
    "- **op_carrier_fl_num**: Flight Number\n",
    "- **origin_airport_id**: Origin Airport, Airport ID. An identification number assigned by US DOT to identify a unique airport. Use this field for airport analysis across a range of years because an airport can change its airport code and airport codes can be reused.\n",
    "- **origin**: Origin Airport\n",
    "- **origin_city_name**: Origin Airport, City Name\n",
    "- **dest_airport_id**: Destination Airport, Airport ID. An identification number assigned by US DOT to identify a unique airport. Use this field for airport analysis across a range of years because an airport can change its airport code and airport codes can be reused.\n",
    "- **dest**: Destination Airport\n",
    "- **dest_city_name**: Destination Airport, City Name\n",
    "- **crs_dep_time**: CRS Departure Time (local time: hhmm)\n",
    "- **dep_time**: Actual Departure Time (local time: hhmm)\n",
    "- **dep_delay**: Difference in minutes between scheduled and actual departure time. Early departures show negative numbers.\t\n",
    "- **taxi_out**: Taxi Out Time, in Minutes\n",
    "- **wheels_off**: Wheels Off Time (local time: hhmm)\n",
    "- **wheels_on**: Wheels On Time (local time: hhmm)\n",
    "- **taxi_in**: \tTaxi In Time, in Minutes\n",
    "- **crs_arr_time**: CRS Arrival Time (local time: hhmm)\n",
    "- **arr_time**: Actual Arrival Time (local time: hhmm)\n",
    "- **arr_delay**: Difference in minutes between scheduled and actual arrival time. Early arrivals show negative numbers.\n",
    "- **cancelled**: Cancelled Flight Indicator (1=Yes)\n",
    "- **cancellation_code**: Specifies The Reason For Cancellation\n",
    "- **diverted**: Diverted Flight Indicator (1=Yes)\n",
    "- **dup**: Duplicate flag marked Y if the flight is swapped based on Form-3A data\n",
    "- **crs_elapsed_time**: CRS Elapsed Time of Flight, in Minutes\n",
    "- **actual_elapsed_time**: Elapsed Time of Flight, in Minutes\n",
    "- **air_time**: Flight Time, in Minutes\n",
    "- **flights**: Number of Flights\n",
    "- **distance**: Distance between airports (miles)\n",
    "- **carrier_delay**: Carrier Delay, in Minutes\n",
    "- **weather_delay**: Weather Delay, in Minutes\n",
    "- **nas_delay**: National Air System Delay, in Minutes\n",
    "- **security_delay**: Security Delay, in Minutes\n",
    "- **late_aircraft_delay**: Late Aircraft Delay, in Minutes\n",
    "- **first_dep_time**: First Gate Departure Time at Origin Airport\n",
    "- **total_add_gtime**: Total Ground Time Away from Gate for Gate Return or Cancelled Flight\n",
    "- **longest_add_gtime**: Longest Time Away from Gate for Gate Return or Cancelled Flight\n",
    "\n",
    "\n",
    "### Table **passengers**\n",
    "\n",
    "Variables:\n",
    "\n",
    "- **departures_scheduled**: Departures Scheduled\n",
    "- **departures_performed**: Departures Performed\n",
    "- **payload**: Available Payload (pounds)\n",
    "- **seats**: Available Seats\n",
    "- **passengers**: Non-Stop Segment Passengers Transported\n",
    "- **freight**: Non-Stop Segment Freight Transported (pounds)\n",
    "- **mail**: Non-Stop Segment Mail Transported (pounds)\n",
    "- **distance**: Distance between airports (miles)\n",
    "- **ramp_to_ramp**: Ramp to Ramp Time (minutes)\n",
    "- **air_time**: Airborne Time (minutes)\n",
    "- **unique_carrier**: Unique Carrier Code. When the same code has been used by multiple carriers, a numeric suffix is used for earlier users, for example, PA, PA(1), PA(2). Use this field for analysis across a range of years.\n",
    "- **airline_id**: An identification number assigned by US DOT to identify a unique airline (carrier). A unique airline (carrier) is defined as one holding and reporting under the same DOT certificate regardless of its Code, Name, or holding company/corporation.\n",
    "- **unique_carrier_name**: Unique Carrier Name. When the same name has been used by multiple carriers, a numeric suffix is used for earlier users, for example, Air Caribbean, Air Caribbean (1).\n",
    "- **region**: Carrier's Operation Region. Carriers Report Data by Operation Region\n",
    "- **carrier**: Code assigned by IATA and commonly used to identify a carrier. As the same code may have been assigned to different carriers over time, the code is not always unique. For analysis, use the Unique Carrier Code.\n",
    "- **carrier_name**: Carrier Name\n",
    "- **carrier_group**: Carrier Group Code\n",
    "- **carrier_group_new**: Carrier Group New\n",
    "- **origin_airport_id**: Origin Airport, Airport ID. An identification number assigned by US DOT to identify a unique airport. Use this field for airport analysis across a range of years because an airport can change its airport code and airport codes can be reused.\n",
    "- **origin_city_market_id**: Origin Airport, City Market ID. City Market ID is an identification number assigned by US DOT to identify a city market. Use this field to consolidate airports serving the same city market.\t\n",
    "- **origin**: Origin Airport\n",
    "- **origin_city_name**: Origin City\n",
    "- **origin_country**: Origin Country Code\n",
    "- **origin_country_name**: Origin Country\n",
    "- **dest_airport_id**: Destination Airport, Airport ID. An identification number assigned by US DOT to identify a unique airport. Use this field for airport analysis across a range of years because an airport can change its airport code and airport codes can be reused.\n",
    "- **dest_city_market_id**: Destination Airport, City Market ID. City Market ID is an identification number assigned by US DOT to identify a city market. Use this field to consolidate airports serving the same city market.\n",
    "- **dest**: Destination Airport\n",
    "- **dest_city_name**: Destination City\n",
    "- **dest_country**: Destination Country Code\n",
    "- **dest_country_name**: Destination Country\n",
    "- **aircraft_group**: Aircraft Group\n",
    "- **aircraft_type**: Aircraft Type\n",
    "- **aircraft_config**: Aircraft Configuration\n",
    "- **month**: Month\n",
    "- **year**: Year\n",
    "- **distance_group**: Distance Intervals, every 500 Miles, for Flight Segment\n",
    "- **class**: Service Class\n",
    "\n",
    "\n",
    "### Table **fuel_comsumption**\n",
    "\n",
    "Variables:\n",
    "\n",
    "- **month**: Month\n",
    "- **airline_id**: An identification number assigned by US DOT to identify a unique airline (carrier). A unique airline (carrier) is defined as one holding and reporting under the same DOT certificate regardless of its Code, Name, or holding company/corporation.\n",
    "- **unique_carrier**: Unique Carrier Code. When the same code has been used by multiple carriers, a numeric suffix is used for earlier users, for example, PA, PA(1), PA(2). Use this field for analysis across a range of years.\n",
    "- **carrier**: Code assigned by IATA and commonly used to identify a carrier. As the same code may have been assigned to different carriers over time, the code is not always unique. For analysis, use the Unique Carrier Code.\n",
    "- **carrier_name**: Carrier Name\n",
    "- **carrier_group_new**: Carrier Group New\n",
    "- **sdomt_gallons**: Total Scheduled Domestic, Fuel Consumption (Gallons)\n",
    "- **satl_gallons**: Scheduled Service International Atlantic - Fuel Consumption (Gallons)\n",
    "- **spac_gallons**: Scheduled Service International Pacific - Fuel Consumption (Gallons)\n",
    "- **slat_gallons**: Scheduled Service International Latin America - Fuel Consumption (Gallons)\n",
    "- **sint_gallons**: Scheduled Service International Subtotal - Fuel Consumption (Gallons)\n",
    "- **ts_gallons**: Total Scheduled Service - Fuel Consumption (Gallons)\n",
    "- **tdomt_gallons**: Total Domestic - Fuel Consumption (Gallons)\n",
    "- **tint_gallons**: Total International - Fuel Consumption (Gallons)\n",
    "- **total_gallons**: Grand Total - Fuel Consumption (Gallons)\n",
    "- **sdomt_cost**: Total Scheduled Domestic, Fuel Cost (Dollars)\n",
    "- **satl_cost**: Scheduled Service International Atlantic - Fuel Cost (Dollars)\n",
    "- **spac_cost**: Scheduled Service International Pacific - Fuel Cost (Dollars)\n",
    "- **slat_cost**: Scheduled Service International Latin America - Fuel Cost (Dollars)\n",
    "- **sint_cost**: Scheduled Service International Subtotal - Fuel Cost (Dollars)\n",
    "- **ts_cost**: Total Scheduled Service - Fuel Cost (Dollars)\n",
    "- **tdomt_cost**: Total Domestic - Fuel Cost (Dollars)\n",
    "- **tint_cost**: Total International - Fuel Cost (Dollars)\n",
    "- **total_cost**: Grand Total - Fuel Cost (Dollars)\n",
    "- **year**: year\n",
    "\n",
    "\n",
    "### Table **flights_test**\n",
    "\n",
    "This table consists of subset of columns from table flights. It represents flights from January 2020 which will be used for evaluation. Therefore, we are missing some features that we are not suppossed to know before the flight lands.\n",
    "\n",
    "Variables:\n",
    "\n",
    "- **fl_date**: Flight Date (yyyy-mm-dd)\n",
    "- **mkt_unique_carrier**: Unique Marketing Carrier Code. When the same code has been used by multiple carriers, a numeric suffix is used for earlier users, for example, PA, PA(1), PA(2). Use this field for analysis across a range of years.\n",
    "- **branded_code_share**: Reporting Carrier Operated or Branded Code Share Partners\n",
    "- **mkt_carrier**: Code assigned by IATA and commonly used to identify a carrier. As the same code may have been assigned to different carriers over time, the code is not always unique. For analysis, use the Unique Carrier Code.\n",
    "- **mkt_carrier_fl_num**: Flight Number\n",
    "- **op_unique_carrier**: Unique Scheduled Operating Carrier Code. When the same code has been used by multiple carriers, a numeric suffix is used for earlier users,for example, PA, PA(1), PA(2). Use this field for analysis across a range of years.\n",
    "- **tail_num**: Tail Number\n",
    "- **op_carrier_fl_num**: Flight Number\n",
    "- **origin_airport_id**: Origin Airport, Airport ID. An identification number assigned by US DOT to identify a unique airport. Use this field for airport analysis across a range of years because an airport can change its airport code and airport codes can be reused.\n",
    "- **origin**: Origin Airport\n",
    "- **origin_city_name**: Origin Airport, City Name\n",
    "- **dest_airport_id**: Destination Airport, Airport ID. An identification number assigned by US DOT to identify a unique airport. Use this field for airport analysis across a range of years because an airport can change its airport code and airport codes can be reused.\n",
    "- **dest**: Destination Airport\n",
    "- **dest_city_name**: Destination Airport, City Name\n",
    "- **crs_dep_time**: CRS Departure Time (local time: hhmm)\n",
    "- **crs_arr_time**: CRS Arrival Time (local time: hhmm)\n",
    "- **dup**: Duplicate flag marked Y if the flight is swapped based on Form-3A data\n",
    "- **crs_elapsed_time**: CRS Elapsed Time of Flight, in Minutes\n",
    "- **flights**: Number of Flights\n",
    "- **distance**: Distance between airports (miles)\n"
   ]
  },
  {
   "cell_type": "code",
   "execution_count": 5,
   "metadata": {},
   "outputs": [],
   "source": [
    "import pandas as pd\n",
    "import numpy as np\n",
    "import matplotlib.pyplot as plt"
   ]
  },
  {
   "cell_type": "code",
   "execution_count": 2,
   "metadata": {},
   "outputs": [
    {
     "data": {
      "text/html": [
       "<div>\n",
       "<style scoped>\n",
       "    .dataframe tbody tr th:only-of-type {\n",
       "        vertical-align: middle;\n",
       "    }\n",
       "\n",
       "    .dataframe tbody tr th {\n",
       "        vertical-align: top;\n",
       "    }\n",
       "\n",
       "    .dataframe thead th {\n",
       "        text-align: right;\n",
       "    }\n",
       "</style>\n",
       "<table border=\"1\" class=\"dataframe\">\n",
       "  <thead>\n",
       "    <tr style=\"text-align: right;\">\n",
       "      <th></th>\n",
       "      <th>Unnamed: 0</th>\n",
       "      <th>fl_date</th>\n",
       "      <th>mkt_unique_carrier</th>\n",
       "      <th>branded_code_share</th>\n",
       "      <th>mkt_carrier</th>\n",
       "      <th>mkt_carrier_fl_num</th>\n",
       "      <th>op_unique_carrier</th>\n",
       "      <th>tail_num</th>\n",
       "      <th>op_carrier_fl_num</th>\n",
       "      <th>origin_airport_id</th>\n",
       "      <th>...</th>\n",
       "      <th>distance</th>\n",
       "      <th>carrier_delay</th>\n",
       "      <th>weather_delay</th>\n",
       "      <th>nas_delay</th>\n",
       "      <th>security_delay</th>\n",
       "      <th>late_aircraft_delay</th>\n",
       "      <th>first_dep_time</th>\n",
       "      <th>total_add_gtime</th>\n",
       "      <th>longest_add_gtime</th>\n",
       "      <th>no_name</th>\n",
       "    </tr>\n",
       "  </thead>\n",
       "  <tbody>\n",
       "    <tr>\n",
       "      <th>0</th>\n",
       "      <td>0</td>\n",
       "      <td>2018-01-01</td>\n",
       "      <td>UA</td>\n",
       "      <td>UA_CODESHARE</td>\n",
       "      <td>UA</td>\n",
       "      <td>3501</td>\n",
       "      <td>YX</td>\n",
       "      <td>N744YX</td>\n",
       "      <td>3501</td>\n",
       "      <td>12953</td>\n",
       "      <td>...</td>\n",
       "      <td>733.0</td>\n",
       "      <td>NaN</td>\n",
       "      <td>NaN</td>\n",
       "      <td>NaN</td>\n",
       "      <td>NaN</td>\n",
       "      <td>NaN</td>\n",
       "      <td>NaN</td>\n",
       "      <td>NaN</td>\n",
       "      <td>NaN</td>\n",
       "      <td>NaN</td>\n",
       "    </tr>\n",
       "    <tr>\n",
       "      <th>1</th>\n",
       "      <td>1</td>\n",
       "      <td>2018-01-01</td>\n",
       "      <td>UA</td>\n",
       "      <td>UA_CODESHARE</td>\n",
       "      <td>UA</td>\n",
       "      <td>3502</td>\n",
       "      <td>YX</td>\n",
       "      <td>N640RW</td>\n",
       "      <td>3502</td>\n",
       "      <td>11433</td>\n",
       "      <td>...</td>\n",
       "      <td>1075.0</td>\n",
       "      <td>NaN</td>\n",
       "      <td>NaN</td>\n",
       "      <td>NaN</td>\n",
       "      <td>NaN</td>\n",
       "      <td>NaN</td>\n",
       "      <td>NaN</td>\n",
       "      <td>NaN</td>\n",
       "      <td>NaN</td>\n",
       "      <td>NaN</td>\n",
       "    </tr>\n",
       "    <tr>\n",
       "      <th>2</th>\n",
       "      <td>2</td>\n",
       "      <td>2018-01-01</td>\n",
       "      <td>UA</td>\n",
       "      <td>UA_CODESHARE</td>\n",
       "      <td>UA</td>\n",
       "      <td>3503</td>\n",
       "      <td>YX</td>\n",
       "      <td>N641RW</td>\n",
       "      <td>3503</td>\n",
       "      <td>11618</td>\n",
       "      <td>...</td>\n",
       "      <td>488.0</td>\n",
       "      <td>0.0</td>\n",
       "      <td>0.0</td>\n",
       "      <td>0.0</td>\n",
       "      <td>0.0</td>\n",
       "      <td>18.0</td>\n",
       "      <td>NaN</td>\n",
       "      <td>NaN</td>\n",
       "      <td>NaN</td>\n",
       "      <td>NaN</td>\n",
       "    </tr>\n",
       "    <tr>\n",
       "      <th>3</th>\n",
       "      <td>3</td>\n",
       "      <td>2018-01-01</td>\n",
       "      <td>UA</td>\n",
       "      <td>UA_CODESHARE</td>\n",
       "      <td>UA</td>\n",
       "      <td>3504</td>\n",
       "      <td>YX</td>\n",
       "      <td>N722YX</td>\n",
       "      <td>3504</td>\n",
       "      <td>11618</td>\n",
       "      <td>...</td>\n",
       "      <td>199.0</td>\n",
       "      <td>12.0</td>\n",
       "      <td>0.0</td>\n",
       "      <td>20.0</td>\n",
       "      <td>0.0</td>\n",
       "      <td>0.0</td>\n",
       "      <td>NaN</td>\n",
       "      <td>NaN</td>\n",
       "      <td>NaN</td>\n",
       "      <td>NaN</td>\n",
       "    </tr>\n",
       "    <tr>\n",
       "      <th>4</th>\n",
       "      <td>4</td>\n",
       "      <td>2018-01-01</td>\n",
       "      <td>UA</td>\n",
       "      <td>UA_CODESHARE</td>\n",
       "      <td>UA</td>\n",
       "      <td>3505</td>\n",
       "      <td>YX</td>\n",
       "      <td>N855RW</td>\n",
       "      <td>3505</td>\n",
       "      <td>12266</td>\n",
       "      <td>...</td>\n",
       "      <td>224.0</td>\n",
       "      <td>NaN</td>\n",
       "      <td>NaN</td>\n",
       "      <td>NaN</td>\n",
       "      <td>NaN</td>\n",
       "      <td>NaN</td>\n",
       "      <td>NaN</td>\n",
       "      <td>NaN</td>\n",
       "      <td>NaN</td>\n",
       "      <td>NaN</td>\n",
       "    </tr>\n",
       "  </tbody>\n",
       "</table>\n",
       "<p>5 rows × 43 columns</p>\n",
       "</div>"
      ],
      "text/plain": [
       "   Unnamed: 0     fl_date mkt_unique_carrier branded_code_share mkt_carrier  \\\n",
       "0           0  2018-01-01                 UA       UA_CODESHARE          UA   \n",
       "1           1  2018-01-01                 UA       UA_CODESHARE          UA   \n",
       "2           2  2018-01-01                 UA       UA_CODESHARE          UA   \n",
       "3           3  2018-01-01                 UA       UA_CODESHARE          UA   \n",
       "4           4  2018-01-01                 UA       UA_CODESHARE          UA   \n",
       "\n",
       "   mkt_carrier_fl_num op_unique_carrier tail_num  op_carrier_fl_num  \\\n",
       "0                3501                YX   N744YX               3501   \n",
       "1                3502                YX   N640RW               3502   \n",
       "2                3503                YX   N641RW               3503   \n",
       "3                3504                YX   N722YX               3504   \n",
       "4                3505                YX   N855RW               3505   \n",
       "\n",
       "   origin_airport_id  ... distance carrier_delay  weather_delay nas_delay  \\\n",
       "0              12953  ...    733.0           NaN            NaN       NaN   \n",
       "1              11433  ...   1075.0           NaN            NaN       NaN   \n",
       "2              11618  ...    488.0           0.0            0.0       0.0   \n",
       "3              11618  ...    199.0          12.0            0.0      20.0   \n",
       "4              12266  ...    224.0           NaN            NaN       NaN   \n",
       "\n",
       "  security_delay  late_aircraft_delay  first_dep_time  total_add_gtime  \\\n",
       "0            NaN                  NaN             NaN              NaN   \n",
       "1            NaN                  NaN             NaN              NaN   \n",
       "2            0.0                 18.0             NaN              NaN   \n",
       "3            0.0                  0.0             NaN              NaN   \n",
       "4            NaN                  NaN             NaN              NaN   \n",
       "\n",
       "   longest_add_gtime  no_name  \n",
       "0                NaN      NaN  \n",
       "1                NaN      NaN  \n",
       "2                NaN      NaN  \n",
       "3                NaN      NaN  \n",
       "4                NaN      NaN  \n",
       "\n",
       "[5 rows x 43 columns]"
      ]
     },
     "execution_count": 2,
     "metadata": {},
     "output_type": "execute_result"
    }
   ],
   "source": [
    "flights = pd.read_csv('midterm.csv')\n",
    "flights.head()"
   ]
  },
  {
   "cell_type": "code",
   "execution_count": 3,
   "metadata": {},
   "outputs": [
    {
     "name": "stdout",
     "output_type": "stream",
     "text": [
      "<class 'pandas.core.frame.DataFrame'>\n",
      "RangeIndex: 165072 entries, 0 to 165071\n",
      "Data columns (total 43 columns):\n",
      " #   Column               Non-Null Count   Dtype  \n",
      "---  ------               --------------   -----  \n",
      " 0   Unnamed: 0           165072 non-null  int64  \n",
      " 1   fl_date              165072 non-null  object \n",
      " 2   mkt_unique_carrier   165072 non-null  object \n",
      " 3   branded_code_share   165072 non-null  object \n",
      " 4   mkt_carrier          165072 non-null  object \n",
      " 5   mkt_carrier_fl_num   165072 non-null  int64  \n",
      " 6   op_unique_carrier    165072 non-null  object \n",
      " 7   tail_num             164593 non-null  object \n",
      " 8   op_carrier_fl_num    165072 non-null  int64  \n",
      " 9   origin_airport_id    165072 non-null  int64  \n",
      " 10  origin               165072 non-null  object \n",
      " 11  origin_city_name     165072 non-null  object \n",
      " 12  dest_airport_id      165072 non-null  int64  \n",
      " 13  dest                 165072 non-null  object \n",
      " 14  dest_city_name       165072 non-null  object \n",
      " 15  crs_dep_time         165072 non-null  int64  \n",
      " 16  dep_time             162619 non-null  float64\n",
      " 17  dep_delay            162544 non-null  float64\n",
      " 18  taxi_out             162480 non-null  float64\n",
      " 19  wheels_off           162480 non-null  float64\n",
      " 20  wheels_on            162379 non-null  float64\n",
      " 21  taxi_in              162379 non-null  float64\n",
      " 22  crs_arr_time         165072 non-null  int64  \n",
      " 23  arr_time             162415 non-null  float64\n",
      " 24  arr_delay            162002 non-null  float64\n",
      " 25  cancelled            165072 non-null  float64\n",
      " 26  cancellation_code    2583 non-null    object \n",
      " 27  diverted             165072 non-null  float64\n",
      " 28  dup                  165072 non-null  object \n",
      " 29  crs_elapsed_time     165072 non-null  float64\n",
      " 30  actual_elapsed_time  162029 non-null  float64\n",
      " 31  air_time             161993 non-null  float64\n",
      " 32  flights              165072 non-null  float64\n",
      " 33  distance             165072 non-null  float64\n",
      " 34  carrier_delay        30885 non-null   float64\n",
      " 35  weather_delay        30885 non-null   float64\n",
      " 36  nas_delay            30885 non-null   float64\n",
      " 37  security_delay       30885 non-null   float64\n",
      " 38  late_aircraft_delay  30885 non-null   float64\n",
      " 39  first_dep_time       1111 non-null    float64\n",
      " 40  total_add_gtime      1111 non-null    float64\n",
      " 41  longest_add_gtime    1111 non-null    float64\n",
      " 42  no_name              0 non-null       float64\n",
      "dtypes: float64(24), int64(7), object(12)\n",
      "memory usage: 54.2+ MB\n"
     ]
    }
   ],
   "source": [
    "# viewing info\n",
    "flights.info()"
   ]
  },
  {
   "cell_type": "code",
   "execution_count": 8,
   "metadata": {},
   "outputs": [
    {
     "data": {
      "text/plain": [
       "count    162002.000000\n",
       "mean          5.189689\n",
       "std          48.634558\n",
       "min         -90.000000\n",
       "25%         -15.000000\n",
       "50%          -6.000000\n",
       "75%           7.000000\n",
       "max        1596.000000\n",
       "Name: arr_delay, dtype: float64"
      ]
     },
     "execution_count": 8,
     "metadata": {},
     "output_type": "execute_result"
    }
   ],
   "source": [
    "# viewing descriptives of target\n",
    "flights['arr_delay'].describe()"
   ]
  },
  {
   "cell_type": "code",
   "execution_count": 7,
   "metadata": {},
   "outputs": [
    {
     "data": {
      "image/png": "[encoded data removed]",
      "text/plain": [
       "<Figure size 432x288 with 1 Axes>"
      ]
     },
     "metadata": {
      "needs_background": "light"
     },
     "output_type": "display_data"
    }
   ],
   "source": [
    "# checking distribution of target variable (arrival delay)\n",
    "hist = flights.hist(column='arr_delay')"
   ]
  },
  {
   "cell_type": "code",
   "execution_count": 23,
   "metadata": {},
   "outputs": [
    {
     "data": {
      "text/plain": [
       "162002"
      ]
     },
     "execution_count": 23,
     "metadata": {},
     "output_type": "execute_result"
    }
   ],
   "source": [
    "# total arrivals\n",
    "arrivals = flights['arr_delay'].count()\n",
    "arrivals"
   ]
  },
  {
   "cell_type": "code",
   "execution_count": 20,
   "metadata": {},
   "outputs": [
    {
     "data": {
      "text/plain": [
       "56293"
      ]
     },
     "execution_count": 20,
     "metadata": {},
     "output_type": "execute_result"
    }
   ],
   "source": [
    "# checking proportion of flights delayed\n",
    "delay = flights['arr_delay'][flights['arr_delay'] > 0].count()\n",
    "delay"
   ]
  },
  {
   "cell_type": "code",
   "execution_count": 21,
   "metadata": {},
   "outputs": [
    {
     "data": {
      "text/plain": [
       "102603"
      ]
     },
     "execution_count": 21,
     "metadata": {},
     "output_type": "execute_result"
    }
   ],
   "source": [
    "# checking early flights\n",
    "early = flights['arr_delay'][flights['arr_delay'] < 0].count()\n",
    "early"
   ]
  },
  {
   "cell_type": "code",
   "execution_count": 22,
   "metadata": {},
   "outputs": [
    {
     "data": {
      "text/plain": [
       "3106"
      ]
     },
     "execution_count": 22,
     "metadata": {},
     "output_type": "execute_result"
    }
   ],
   "source": [
    "# on time\n",
    "on_time = flights['arr_delay'][flights['arr_delay'] == 0].count()\n",
    "on_time"
   ]
  },
  {
   "cell_type": "code",
   "execution_count": 27,
   "metadata": {},
   "outputs": [
    {
     "name": "stdout",
     "output_type": "stream",
     "text": [
      "Delayed:  34.75 %\n",
      "Early:  63.33 %\n",
      "On Time:  1.92 %\n"
     ]
    }
   ],
   "source": [
    "# percentages of overall\n",
    "print('Delayed: ', round(delay/arrivals * 100, 2), '%')\n",
    "print('Early: ', round(early/arrivals * 100, 2), '%')\n",
    "print('On Time: ', round(on_time/arrivals * 100, 2), '%')"
   ]
  },
  {
   "cell_type": "code",
   "execution_count": null,
   "metadata": {},
   "outputs": [],
   "source": []
  },
  {
   "cell_type": "code",
   "execution_count": null,
   "metadata": {},
   "outputs": [],
   "source": []
  },
  {
   "cell_type": "code",
   "execution_count": null,
   "metadata": {},
   "outputs": [],
   "source": []
  },
  {
   "cell_type": "code",
   "execution_count": null,
   "metadata": {},
   "outputs": [],
   "source": []
  },
  {
   "cell_type": "code",
   "execution_count": null,
   "metadata": {},
   "outputs": [],
   "source": []
  },
  {
   "cell_type": "markdown",
   "metadata": {
    "tags": []
   },
   "source": [
    "#### **Task 1**: Test the hypothesis that the delay is from Normal distribution. and that **mean** of the delay is 0. Be careful about the outliers."
   ]
  },
  {
   "cell_type": "code",
   "execution_count": 29,
   "metadata": {},
   "outputs": [
    {
     "name": "stdout",
     "output_type": "stream",
     "text": [
      "stat=0.496, p=0.000\n",
      "Probably not Gaussian\n"
     ]
    }
   ],
   "source": [
    "# testing for normal (Gaussian) distribution with scipy.stats\n",
    "# outliers not yet removed\n",
    "from scipy.stats import shapiro\n",
    "data = flights['arr_delay'].dropna()\n",
    "stat, p = shapiro(data)\n",
    "print('stat=%.3f, p=%.3f' % (stat, p))\n",
    "if p > 0.05:\n",
    "\tprint('Probably Gaussian')\n",
    "else:\n",
    "\tprint('Probably not Gaussian')"
   ]
  },
  {
   "cell_type": "markdown",
   "metadata": {},
   "source": [
    "#### Removing outliers\n",
    "\n",
    "Outliers are being classified by the Q1/Q3 -/+ 1.5*IQR strategy:\n",
    "- IQR = 22\n",
    "- Q1 = -15\n",
    "- Q3 = 7\n",
    "- Upper Bound = 39\n",
    "- Lower Bound = -37"
   ]
  },
  {
   "cell_type": "code",
   "execution_count": 34,
   "metadata": {},
   "outputs": [
    {
     "name": "stdout",
     "output_type": "stream",
     "text": [
      "stat=0.964, p=0.000\n",
      "Probably not Gaussian\n"
     ]
    }
   ],
   "source": [
    "# removing outliers\n",
    "# filters\n",
    "f1 = (flights['arr_delay'] >= -37)\n",
    "f2 = (flights['arr_delay'] <= 39)\n",
    "a = flights['arr_delay'][f1 & f2].dropna()\n",
    "\n",
    "# running again\n",
    "from scipy.stats import shapiro\n",
    "data = a\n",
    "stat, p = shapiro(data)\n",
    "print('stat=%.3f, p=%.3f' % (stat, p))\n",
    "if p > 0.05:\n",
    "\tprint('Probably Gaussian')\n",
    "else:\n",
    "\tprint('Probably not Gaussian')"
   ]
  },
  {
   "cell_type": "code",
   "execution_count": 38,
   "metadata": {},
   "outputs": [
    {
     "name": "stdout",
     "output_type": "stream",
     "text": [
      "False Mean = -5.606518485824431\n"
     ]
    }
   ],
   "source": [
    "# validating mean = 0\n",
    "if a.mean() == 0:\n",
    "    print(True)\n",
    "else:\n",
    "    print(False, 'Mean =', a.mean())"
   ]
  },
  {
   "cell_type": "markdown",
   "metadata": {},
   "source": [
    "#### **Task 2**: Is average/median monthly delay different during the year? If yes, which are months with the biggest delays and what could be the reason?"
   ]
  },
  {
   "cell_type": "code",
   "execution_count": 46,
   "metadata": {},
   "outputs": [
    {
     "data": {
      "text/plain": [
       "dtype('O')"
      ]
     },
     "execution_count": 46,
     "metadata": {},
     "output_type": "execute_result"
    }
   ],
   "source": [
    "# checking dtype of flight dates column\n",
    "flights['fl_date'].dtype"
   ]
  },
  {
   "cell_type": "code",
   "execution_count": 47,
   "metadata": {},
   "outputs": [
    {
     "data": {
      "text/plain": [
       "dtype('<M8[ns]')"
      ]
     },
     "execution_count": 47,
     "metadata": {},
     "output_type": "execute_result"
    }
   ],
   "source": [
    "# converting to datetime obj\n",
    "flights['fl_date'] = pd.to_datetime(flights['fl_date'], format='%Y-%m-%d')\n",
    "\n",
    "# checking type\n",
    "flights['fl_date'].dtype"
   ]
  },
  {
   "cell_type": "code",
   "execution_count": 49,
   "metadata": {},
   "outputs": [
    {
     "data": {
      "text/plain": [
       "fl_date\n",
       "September    2.043949\n",
       "October      2.279444\n",
       "January      2.722188\n",
       "April        3.381966\n",
       "November     3.479309\n",
       "March        3.901231\n",
       "December     4.021218\n",
       "February     5.976374\n",
       "May          6.636105\n",
       "June         8.794033\n",
       "August       9.218190\n",
       "July         9.492960\n",
       "Name: arr_delay, dtype: float64"
      ]
     },
     "execution_count": 49,
     "metadata": {},
     "output_type": "execute_result"
    }
   ],
   "source": [
    "# grouping delays by monthly average\n",
    "flights.groupby(flights['fl_date'].dt.strftime('%B'))['arr_delay'].mean().sort_values()"
   ]
  },
  {
   "cell_type": "markdown",
   "metadata": {},
   "source": [
    "#### Why is average delay distributed this way across the higher scoring months?\n",
    "\n",
    "- **May/June/July/August:** These account for the largest average delays, most likely due to the American school year running from Sept. through May, making the summer months (encompassed here) the largest travel time for students/families. North American summer season is also big for international tourism.\n",
    "\n",
    "- **December:** Middle of the pack in terms of delays. These could be due to the holidays, and also the weather in many states during this time of year (snow/storms).\n",
    "\n",
    "- **February/March/April:** Have grouped these months together as Spring Break for American colleges take place in late Feb/March and early April which could attract a spike in flight volumes and therefore a higher prevalence of delays."
   ]
  },
  {
   "cell_type": "markdown",
   "metadata": {
    "tags": []
   },
   "source": [
    "#### **Task 3**: Does the weather affect the delay? \n",
    "Use the API to pull the weather information for flights. There is no need to get weather for ALL flights. We can choose the right representative sample. Let's focus on four weather types:\n",
    "- sunny\n",
    "- cloudy\n",
    "- rainy\n",
    "- snow.\n",
    "Test the hypothesis that these 4 delays are from the same distribution. If they are not, which ones are significantly different?"
   ]
  },
  {
   "cell_type": "code",
   "execution_count": null,
   "metadata": {},
   "outputs": [],
   "source": []
  },
  {
   "cell_type": "code",
   "execution_count": null,
   "metadata": {},
   "outputs": [],
   "source": []
  },
  {
   "cell_type": "markdown",
   "metadata": {},
   "source": [
    "#### **Task 4**: How taxi times changing during the day? Does higher traffic lead to bigger taxi times?"
   ]
  },
  {
   "cell_type": "code",
   "execution_count": null,
   "metadata": {},
   "outputs": [],
   "source": []
  },
  {
   "cell_type": "code",
   "execution_count": null,
   "metadata": {},
   "outputs": [],
   "source": []
  },
  {
   "cell_type": "markdown",
   "metadata": {},
   "source": [
    "#### **Task 5**: What is the average percentage of delays that is already created before departure? (aka are arrival delays caused by departure delays?) Are airlines able to lower the delay during the flights?"
   ]
  },
  {
   "cell_type": "code",
   "execution_count": null,
   "metadata": {},
   "outputs": [],
   "source": []
  },
  {
   "cell_type": "code",
   "execution_count": null,
   "metadata": {},
   "outputs": [],
   "source": []
  },
  {
   "cell_type": "markdown",
   "metadata": {},
   "source": [
    "#### **Task 6**: How many states cover 50% of US air traffic? "
   ]
  },
  {
   "cell_type": "code",
   "execution_count": null,
   "metadata": {},
   "outputs": [],
   "source": []
  },
  {
   "cell_type": "code",
   "execution_count": null,
   "metadata": {},
   "outputs": [],
   "source": []
  },
  {
   "cell_type": "markdown",
   "metadata": {},
   "source": [
    "#### **Task 7**: Test the hypothesis whether planes fly faster when there is the departure delay? "
   ]
  },
  {
   "cell_type": "code",
   "execution_count": null,
   "metadata": {},
   "outputs": [],
   "source": []
  },
  {
   "cell_type": "code",
   "execution_count": null,
   "metadata": {},
   "outputs": [],
   "source": []
  },
  {
   "cell_type": "markdown",
   "metadata": {},
   "source": [
    "#### **Task 8**: When (which hour) do most 'LONG', 'SHORT', 'MEDIUM' haul flights take off?"
   ]
  },
  {
   "cell_type": "code",
   "execution_count": null,
   "metadata": {},
   "outputs": [],
   "source": []
  },
  {
   "cell_type": "code",
   "execution_count": null,
   "metadata": {},
   "outputs": [],
   "source": []
  },
  {
   "cell_type": "markdown",
   "metadata": {},
   "source": [
    "#### **Task 9**: Find the top 10 the bussiest airports. Does the biggest number of flights mean that the biggest number of passengers went through the particular airport? How much traffic do these 10 airports cover?"
   ]
  },
  {
   "cell_type": "code",
   "execution_count": null,
   "metadata": {},
   "outputs": [],
   "source": []
  },
  {
   "cell_type": "code",
   "execution_count": null,
   "metadata": {},
   "outputs": [],
   "source": []
  },
  {
   "cell_type": "markdown",
   "metadata": {},
   "source": [
    "#### **Task 10**: Do bigger delays lead to bigger fuel comsumption per passenger? \n",
    "We need to do four things to answer this as accurate as possible:\n",
    "- Find out average monthly delay per air carrier (monthly delay is sum of all delays in 1 month)\n",
    "- Find out distance covered monthly by different air carriers\n",
    "- Find out number of passengers that were carried by different air carriers\n",
    "- Find out total fuel comsumption per air carrier.\n",
    "\n",
    "Use this information to get the average fuel comsumption per passenger per km. Is this higher for the airlines with bigger average delays?"
   ]
  },
  {
   "cell_type": "code",
   "execution_count": null,
   "metadata": {},
   "outputs": [],
   "source": []
  },
  {
   "cell_type": "code",
   "execution_count": null,
   "metadata": {},
   "outputs": [],
   "source": []
  }
 ],
 "metadata": {
  "kernelspec": {
   "display_name": "Python 3 (ipykernel)",
   "language": "python",
   "name": "python3"
  },
  "language_info": {
   "codemirror_mode": {
    "name": "ipython",
    "version": 3
   },
   "file_extension": ".py",
   "mimetype": "text/x-python",
   "name": "python",
   "nbconvert_exporter": "python",
   "pygments_lexer": "ipython3",
   "version": "3.9.7"
  },
  "toc": {
   "base_numbering": 1,
   "nav_menu": {},
   "number_sections": true,
   "sideBar": true,
   "skip_h1_title": false,
   "title_cell": "Table of Contents",
   "title_sidebar": "Contents",
   "toc_cell": false,
   "toc_position": {},
   "toc_section_display": true,
   "toc_window_display": false
  },
  "varInspector": {
   "cols": {
    "lenName": 16,
    "lenType": 16,
    "lenVar": 40
   },
   "kernels_config": {
    "python": {
     "delete_cmd_postfix": "",
     "delete_cmd_prefix": "del ",
     "library": "var_list.py",
     "varRefreshCmd": "print(var_dic_list())"
    },
    "r": {
     "delete_cmd_postfix": ") ",
     "delete_cmd_prefix": "rm(",
     "library": "var_list.r",
     "varRefreshCmd": "cat(var_dic_list()) "
    }
   },
   "types_to_exclude": [
    "module",
    "function",
    "builtin_function_or_method",
    "instance",
    "_Feature"
   ],
   "window_display": false
  }
 },
 "nbformat": 4,
 "nbformat_minor": 4
}
